{
 "cells": [
  {
   "cell_type": "markdown",
   "metadata": {},
   "source": [
    "# Import Libs"
   ]
  },
  {
   "cell_type": "code",
   "execution_count": 6,
   "metadata": {},
   "outputs": [],
   "source": [
    "import pandas as pd\n",
    "import numpy as np\n",
    "import datetime as dt\n",
    "\n",
    "from sklearn.linear_model import LinearRegression\n",
    "from sklearn.metrics import mean_squared_error\n",
    "from sklearn.preprocessing import OneHotEncoder,StandardScaler\n",
    "from sklearn.compose import ColumnTransformer\n",
    "from sklearn.pipeline import Pipeline\n",
    "from sklearn.neighbors import NearestNeighbors\n",
    "\n",
    "\n",
    "import warnings\n",
    "warnings.filterwarnings(\"ignore\")"
   ]
  },
  {
   "cell_type": "code",
   "execution_count": 7,
   "metadata": {},
   "outputs": [],
   "source": [
    "orders = pd.read_csv('./S_Data/orders.csv')\n",
    "products = pd.read_csv('./S_Data/products.csv')\n",
    "product_categories = pd.read_csv('./S_Data/product_category_name_translation.csv')\n",
    "order_items = pd.read_csv('./S_Data/order_items.csv')"
   ]
  },
  {
   "cell_type": "markdown",
   "metadata": {},
   "source": [
    "<img src=\"https://github.com/senolcemhan98/templates/blob/main/OlistTables.png?raw=true\" />"
   ]
  },
  {
   "cell_type": "markdown",
   "metadata": {},
   "source": [
    "# Strategy \n",
    "\n",
    "- build ML and TS model for regular products\n",
    "- for new products have a look the nearest neighbor in the same category to match and assign the nearest neighbor's demand for new product"
   ]
  },
  {
   "cell_type": "code",
   "execution_count": 8,
   "metadata": {},
   "outputs": [],
   "source": [
    "merged_data = order_items.merge(orders, on = 'order_id', how='left')\n",
    "# Get the maximum date in the dataset\n",
    "merged_data['order_purchase_timestamp'] = pd.to_datetime(merged_data['order_purchase_timestamp'])\n",
    "max_date = merged_data['order_purchase_timestamp'].max()\n",
    "\n",
    "# Calculate the date 7 days ago from the maximum date\n",
    "seven_days_ago = max_date - pd.Timedelta(days=7)\n",
    "\n",
    "# Filter the DataFrame to include only the sales data from the last 7 days\n",
    "last_7_days = merged_data[merged_data['order_purchase_timestamp'] >= seven_days_ago]\n",
    "\n",
    "other_days = merged_data[merged_data['order_purchase_timestamp'] < seven_days_ago]\n",
    "\n",
    "# new products which has no seen in before 7 days\n",
    "new_product_list = list(set(last_7_days['product_id'].unique())-set(other_days['product_id'].unique()))\n",
    "\n",
    "new_product_data = merged_data[merged_data['product_id'].isin(new_product_list)]\n",
    "regular_product_data = merged_data[merged_data['product_id'].isin(new_product_list) == False]"
   ]
  },
  {
   "cell_type": "code",
   "execution_count": 9,
   "metadata": {},
   "outputs": [],
   "source": [
    "# Split into train and test\n",
    "train_data = regular_product_data[regular_product_data['order_purchase_timestamp'] < seven_days_ago]\n",
    "test_data = regular_product_data[regular_product_data['order_purchase_timestamp'] >= seven_days_ago]\n",
    "\n",
    "# Aggregate data to daily level\n",
    "train_data_daily = train_data.groupby(['product_id', train_data['order_purchase_timestamp'].dt.date]).agg({'order_item_id': 'count'}).reset_index()\n",
    "train_data_daily.columns = ['product_id', 'date', 'demand']\n",
    "\n",
    "test_data_daily = test_data.groupby(['product_id', test_data['order_purchase_timestamp'].dt.date]).agg({'order_item_id': 'count'}).reset_index()\n",
    "test_data_daily.columns = ['product_id', 'date', 'demand']\n",
    "\n",
    "# Preparing the data for model training\n",
    "X_train = train_data_daily[['product_id', 'date']]\n",
    "y_train = train_data_daily['demand']\n",
    "\n",
    "X_test = test_data_daily[['product_id', 'date']]\n",
    "y_test = test_data_daily['demand']\n",
    "\n",
    "# Feature Engineering: converting date to ordinal for simplicity\n",
    "X_train['date'] = pd.to_datetime(X_train['date']).map(pd.Timestamp.toordinal)\n",
    "X_test['date'] = pd.to_datetime(X_test['date']).map(pd.Timestamp.toordinal)\n"
   ]
  },
  {
   "cell_type": "markdown",
   "metadata": {},
   "source": [
    "# ML Method"
   ]
  },
  {
   "cell_type": "code",
   "execution_count": 10,
   "metadata": {},
   "outputs": [
    {
     "name": "stdout",
     "output_type": "stream",
     "text": [
      "Mean Squared Error: 0.457379222080865\n"
     ]
    },
    {
     "data": {
      "text/html": [
       "<div>\n",
       "<style scoped>\n",
       "    .dataframe tbody tr th:only-of-type {\n",
       "        vertical-align: middle;\n",
       "    }\n",
       "\n",
       "    .dataframe tbody tr th {\n",
       "        vertical-align: top;\n",
       "    }\n",
       "\n",
       "    .dataframe thead th {\n",
       "        text-align: right;\n",
       "    }\n",
       "</style>\n",
       "<table border=\"1\" class=\"dataframe\">\n",
       "  <thead>\n",
       "    <tr style=\"text-align: right;\">\n",
       "      <th></th>\n",
       "      <th>product_id</th>\n",
       "      <th>date</th>\n",
       "      <th>predicted_demand</th>\n",
       "    </tr>\n",
       "  </thead>\n",
       "  <tbody>\n",
       "    <tr>\n",
       "      <th>0</th>\n",
       "      <td>01a5038835acf17f141c7247956b72d6</td>\n",
       "      <td>2018-08-28</td>\n",
       "      <td>0.997780</td>\n",
       "    </tr>\n",
       "    <tr>\n",
       "      <th>1</th>\n",
       "      <td>02b750ee6f6f12a23c311b775ee4427a</td>\n",
       "      <td>2018-08-28</td>\n",
       "      <td>0.987067</td>\n",
       "    </tr>\n",
       "    <tr>\n",
       "      <th>2</th>\n",
       "      <td>060c17562f97e5bb60bc0dfa4dd5b3f2</td>\n",
       "      <td>2018-08-27</td>\n",
       "      <td>1.276978</td>\n",
       "    </tr>\n",
       "    <tr>\n",
       "      <th>3</th>\n",
       "      <td>06601c3059e35a3bf65e72f2fd2ac626</td>\n",
       "      <td>2018-08-29</td>\n",
       "      <td>1.337344</td>\n",
       "    </tr>\n",
       "    <tr>\n",
       "      <th>4</th>\n",
       "      <td>06bf70b6e1d67d96308235ef350edc61</td>\n",
       "      <td>2018-08-27</td>\n",
       "      <td>1.045959</td>\n",
       "    </tr>\n",
       "  </tbody>\n",
       "</table>\n",
       "</div>"
      ],
      "text/plain": [
       "                         product_id       date  predicted_demand\n",
       "0  01a5038835acf17f141c7247956b72d6 2018-08-28          0.997780\n",
       "1  02b750ee6f6f12a23c311b775ee4427a 2018-08-28          0.987067\n",
       "2  060c17562f97e5bb60bc0dfa4dd5b3f2 2018-08-27          1.276978\n",
       "3  06601c3059e35a3bf65e72f2fd2ac626 2018-08-29          1.337344\n",
       "4  06bf70b6e1d67d96308235ef350edc61 2018-08-27          1.045959"
      ]
     },
     "execution_count": 10,
     "metadata": {},
     "output_type": "execute_result"
    }
   ],
   "source": [
    "# Define column transformer to handle categorical product_id\n",
    "preprocessor = ColumnTransformer(\n",
    "    transformers=[\n",
    "        ('product_id', OneHotEncoder(), ['product_id']),\n",
    "        ('date', 'passthrough', ['date'])\n",
    "    ]\n",
    ")\n",
    "\n",
    "# Create pipeline\n",
    "model = Pipeline(steps=[\n",
    "    ('preprocessor', preprocessor),\n",
    "    ('regressor', LinearRegression())\n",
    "])\n",
    "\n",
    "# Fit the model\n",
    "model.fit(X_train, y_train)\n",
    "\n",
    "# Make predictions\n",
    "predictions = model.predict(X_test)\n",
    "\n",
    "# Calculate the mean squared error for evaluation\n",
    "mse = mean_squared_error(y_test, predictions)\n",
    "print(f'Mean Squared Error: {mse}')\n",
    "\n",
    "# Adding product_id to predictions for further analysis\n",
    "predictions_df = X_test.copy()\n",
    "predictions_df['predicted_demand'] = predictions\n",
    "\n",
    "# Convert 'date' from ordinal back to datetime for display purposes\n",
    "predictions_df['date'] = predictions_df['date'].apply(dt.datetime.fromordinal)\n",
    "\n",
    "\n",
    "predictions_df.head()"
   ]
  },
  {
   "cell_type": "code",
   "execution_count": 11,
   "metadata": {},
   "outputs": [
    {
     "data": {
      "text/html": [
       "<div>\n",
       "<style scoped>\n",
       "    .dataframe tbody tr th:only-of-type {\n",
       "        vertical-align: middle;\n",
       "    }\n",
       "\n",
       "    .dataframe tbody tr th {\n",
       "        vertical-align: top;\n",
       "    }\n",
       "\n",
       "    .dataframe thead th {\n",
       "        text-align: right;\n",
       "    }\n",
       "</style>\n",
       "<table border=\"1\" class=\"dataframe\">\n",
       "  <thead>\n",
       "    <tr style=\"text-align: right;\">\n",
       "      <th></th>\n",
       "      <th>product_id</th>\n",
       "      <th>date</th>\n",
       "      <th>predicted_demand</th>\n",
       "      <th>demand</th>\n",
       "    </tr>\n",
       "  </thead>\n",
       "  <tbody>\n",
       "    <tr>\n",
       "      <th>15</th>\n",
       "      <td>2b4472df15512a2825ae86fd9ae79335</td>\n",
       "      <td>2018-08-29</td>\n",
       "      <td>1.003350</td>\n",
       "      <td>2</td>\n",
       "    </tr>\n",
       "    <tr>\n",
       "      <th>23</th>\n",
       "      <td>4a545fda8038a360bd93a5f1ac419a4e</td>\n",
       "      <td>2018-08-27</td>\n",
       "      <td>1.003552</td>\n",
       "      <td>3</td>\n",
       "    </tr>\n",
       "    <tr>\n",
       "      <th>26</th>\n",
       "      <td>59536eeb13a52ef81966f81b91fb481e</td>\n",
       "      <td>2018-08-28</td>\n",
       "      <td>1.972566</td>\n",
       "      <td>3</td>\n",
       "    </tr>\n",
       "    <tr>\n",
       "      <th>34</th>\n",
       "      <td>73326828aa5efe1ba096223de496f596</td>\n",
       "      <td>2018-08-28</td>\n",
       "      <td>2.445821</td>\n",
       "      <td>2</td>\n",
       "    </tr>\n",
       "    <tr>\n",
       "      <th>40</th>\n",
       "      <td>8d4dac6177fb8134f26fb4c5cc6c0aff</td>\n",
       "      <td>2018-08-29</td>\n",
       "      <td>1.283599</td>\n",
       "      <td>5</td>\n",
       "    </tr>\n",
       "  </tbody>\n",
       "</table>\n",
       "</div>"
      ],
      "text/plain": [
       "                          product_id        date  predicted_demand  demand\n",
       "15  2b4472df15512a2825ae86fd9ae79335  2018-08-29          1.003350       2\n",
       "23  4a545fda8038a360bd93a5f1ac419a4e  2018-08-27          1.003552       3\n",
       "26  59536eeb13a52ef81966f81b91fb481e  2018-08-28          1.972566       3\n",
       "34  73326828aa5efe1ba096223de496f596  2018-08-28          2.445821       2\n",
       "40  8d4dac6177fb8134f26fb4c5cc6c0aff  2018-08-29          1.283599       5"
      ]
     },
     "execution_count": 11,
     "metadata": {},
     "output_type": "execute_result"
    }
   ],
   "source": [
    "predictions_df['date'] = predictions_df['date'].dt.date.astype('O')\n",
    "pred_test_data  = predictions_df.merge(test_data_daily,on=['product_id','date'],how='left')\n",
    "pred_test_data[pred_test_data['demand']>=2].head()"
   ]
  },
  {
   "cell_type": "code",
   "execution_count": 12,
   "metadata": {},
   "outputs": [
    {
     "data": {
      "text/html": [
       "<div>\n",
       "<style scoped>\n",
       "    .dataframe tbody tr th:only-of-type {\n",
       "        vertical-align: middle;\n",
       "    }\n",
       "\n",
       "    .dataframe tbody tr th {\n",
       "        vertical-align: top;\n",
       "    }\n",
       "\n",
       "    .dataframe thead th {\n",
       "        text-align: right;\n",
       "    }\n",
       "</style>\n",
       "<table border=\"1\" class=\"dataframe\">\n",
       "  <thead>\n",
       "    <tr style=\"text-align: right;\">\n",
       "      <th></th>\n",
       "      <th>product_id</th>\n",
       "      <th>date</th>\n",
       "      <th>demand</th>\n",
       "    </tr>\n",
       "  </thead>\n",
       "  <tbody>\n",
       "    <tr>\n",
       "      <th>52616</th>\n",
       "      <td>8d4dac6177fb8134f26fb4c5cc6c0aff</td>\n",
       "      <td>2018-07-03</td>\n",
       "      <td>1</td>\n",
       "    </tr>\n",
       "    <tr>\n",
       "      <th>52615</th>\n",
       "      <td>8d4dac6177fb8134f26fb4c5cc6c0aff</td>\n",
       "      <td>2018-06-19</td>\n",
       "      <td>1</td>\n",
       "    </tr>\n",
       "    <tr>\n",
       "      <th>52614</th>\n",
       "      <td>8d4dac6177fb8134f26fb4c5cc6c0aff</td>\n",
       "      <td>2018-06-18</td>\n",
       "      <td>2</td>\n",
       "    </tr>\n",
       "    <tr>\n",
       "      <th>52613</th>\n",
       "      <td>8d4dac6177fb8134f26fb4c5cc6c0aff</td>\n",
       "      <td>2018-06-08</td>\n",
       "      <td>2</td>\n",
       "    </tr>\n",
       "    <tr>\n",
       "      <th>52612</th>\n",
       "      <td>8d4dac6177fb8134f26fb4c5cc6c0aff</td>\n",
       "      <td>2018-05-20</td>\n",
       "      <td>1</td>\n",
       "    </tr>\n",
       "    <tr>\n",
       "      <th>52611</th>\n",
       "      <td>8d4dac6177fb8134f26fb4c5cc6c0aff</td>\n",
       "      <td>2018-05-18</td>\n",
       "      <td>1</td>\n",
       "    </tr>\n",
       "    <tr>\n",
       "      <th>52610</th>\n",
       "      <td>8d4dac6177fb8134f26fb4c5cc6c0aff</td>\n",
       "      <td>2018-05-08</td>\n",
       "      <td>1</td>\n",
       "    </tr>\n",
       "  </tbody>\n",
       "</table>\n",
       "</div>"
      ],
      "text/plain": [
       "                             product_id        date  demand\n",
       "52616  8d4dac6177fb8134f26fb4c5cc6c0aff  2018-07-03       1\n",
       "52615  8d4dac6177fb8134f26fb4c5cc6c0aff  2018-06-19       1\n",
       "52614  8d4dac6177fb8134f26fb4c5cc6c0aff  2018-06-18       2\n",
       "52613  8d4dac6177fb8134f26fb4c5cc6c0aff  2018-06-08       2\n",
       "52612  8d4dac6177fb8134f26fb4c5cc6c0aff  2018-05-20       1\n",
       "52611  8d4dac6177fb8134f26fb4c5cc6c0aff  2018-05-18       1\n",
       "52610  8d4dac6177fb8134f26fb4c5cc6c0aff  2018-05-08       1"
      ]
     },
     "execution_count": 12,
     "metadata": {},
     "output_type": "execute_result"
    }
   ],
   "source": [
    "# I want to check the product which is product_id = 8d4dac6177fb8134f26fb4c5cc6c0aff if the daily demand generally around 5?\n",
    "train_data_daily[train_data_daily['product_id']=='8d4dac6177fb8134f26fb4c5cc6c0aff'].sort_values('date',ascending=False)\n",
    "#looks like an anomaly "
   ]
  },
  {
   "cell_type": "markdown",
   "metadata": {},
   "source": [
    "for New products\n",
    "- my idea of here to match the new products with nearest neighbor product in same category. and assume like they're similar product and have similar demand. \n",
    "<br>\n",
    "<hr>\n",
    "Note: if new product category has no sales history. My approach won't work :( \n",
    "<hr>"
   ]
  },
  {
   "cell_type": "code",
   "execution_count": 13,
   "metadata": {},
   "outputs": [
    {
     "name": "stdout",
     "output_type": "stream",
     "text": [
      "no sales history for - construcao_ferramentas_jardim  \n",
      "no sales history for - artigos_de_festas  \n",
      "no sales history for - portateis_cozinha_e_preparadores_de_alimentos  \n",
      "no sales history for - malas_acessorios  \n",
      "no sales history for - ferramentas_jardim  \n",
      "no sales history for - papelaria  \n"
     ]
    },
    {
     "data": {
      "text/html": [
       "<div>\n",
       "<style scoped>\n",
       "    .dataframe tbody tr th:only-of-type {\n",
       "        vertical-align: middle;\n",
       "    }\n",
       "\n",
       "    .dataframe tbody tr th {\n",
       "        vertical-align: top;\n",
       "    }\n",
       "\n",
       "    .dataframe thead th {\n",
       "        text-align: right;\n",
       "    }\n",
       "</style>\n",
       "<table border=\"1\" class=\"dataframe\">\n",
       "  <thead>\n",
       "    <tr style=\"text-align: right;\">\n",
       "      <th></th>\n",
       "      <th>product_id</th>\n",
       "      <th>product_category_name</th>\n",
       "      <th>product_name_lenght</th>\n",
       "      <th>product_description_lenght</th>\n",
       "      <th>product_photos_qty</th>\n",
       "      <th>product_weight_g</th>\n",
       "      <th>product_length_cm</th>\n",
       "      <th>product_height_cm</th>\n",
       "      <th>product_width_cm</th>\n",
       "      <th>nearest_neighbor_id</th>\n",
       "      <th>distance_to_nearest</th>\n",
       "    </tr>\n",
       "  </thead>\n",
       "  <tbody>\n",
       "    <tr>\n",
       "      <th>0</th>\n",
       "      <td>6f4ed02e363461e27168f72bc33ffb80</td>\n",
       "      <td>cama_mesa_banho</td>\n",
       "      <td>59.0</td>\n",
       "      <td>344.0</td>\n",
       "      <td>3.0</td>\n",
       "      <td>12000.0</td>\n",
       "      <td>60.0</td>\n",
       "      <td>23.0</td>\n",
       "      <td>54.0</td>\n",
       "      <td>981f6a96c09b7d28e5c5f2fbb282fcde</td>\n",
       "      <td>19.228282</td>\n",
       "    </tr>\n",
       "    <tr>\n",
       "      <th>1</th>\n",
       "      <td>0896208dd8490b3dbb75344a92ab4106</td>\n",
       "      <td>cama_mesa_banho</td>\n",
       "      <td>56.0</td>\n",
       "      <td>1023.0</td>\n",
       "      <td>1.0</td>\n",
       "      <td>1350.0</td>\n",
       "      <td>36.0</td>\n",
       "      <td>20.0</td>\n",
       "      <td>36.0</td>\n",
       "      <td>b74d57e3377dd78aace6d070fc48cc88</td>\n",
       "      <td>1.390915</td>\n",
       "    </tr>\n",
       "    <tr>\n",
       "      <th>2</th>\n",
       "      <td>04008f5a086abe248a3c76bc2fa4f4e1</td>\n",
       "      <td>cama_mesa_banho</td>\n",
       "      <td>41.0</td>\n",
       "      <td>2201.0</td>\n",
       "      <td>1.0</td>\n",
       "      <td>1250.0</td>\n",
       "      <td>48.0</td>\n",
       "      <td>14.0</td>\n",
       "      <td>68.0</td>\n",
       "      <td>981f6a96c09b7d28e5c5f2fbb282fcde</td>\n",
       "      <td>3.691373</td>\n",
       "    </tr>\n",
       "    <tr>\n",
       "      <th>3</th>\n",
       "      <td>49d23d4887468040921b413a6d4f3ec7</td>\n",
       "      <td>cama_mesa_banho</td>\n",
       "      <td>52.0</td>\n",
       "      <td>1072.0</td>\n",
       "      <td>1.0</td>\n",
       "      <td>1350.0</td>\n",
       "      <td>39.0</td>\n",
       "      <td>7.0</td>\n",
       "      <td>31.0</td>\n",
       "      <td>01a5038835acf17f141c7247956b72d6</td>\n",
       "      <td>0.512560</td>\n",
       "    </tr>\n",
       "    <tr>\n",
       "      <th>4</th>\n",
       "      <td>e84d1a4a08db13e8dea6d400a1c6a3f0</td>\n",
       "      <td>alimentos</td>\n",
       "      <td>34.0</td>\n",
       "      <td>926.0</td>\n",
       "      <td>2.0</td>\n",
       "      <td>700.0</td>\n",
       "      <td>24.0</td>\n",
       "      <td>15.0</td>\n",
       "      <td>24.0</td>\n",
       "      <td>73326828aa5efe1ba096223de496f596</td>\n",
       "      <td>6.007798</td>\n",
       "    </tr>\n",
       "    <tr>\n",
       "      <th>5</th>\n",
       "      <td>896496916bfd78848143a60e492dbcf8</td>\n",
       "      <td>alimentos</td>\n",
       "      <td>35.0</td>\n",
       "      <td>567.0</td>\n",
       "      <td>4.0</td>\n",
       "      <td>225.0</td>\n",
       "      <td>21.0</td>\n",
       "      <td>9.0</td>\n",
       "      <td>14.0</td>\n",
       "      <td>ab1106e227a745836a0dc83b374e2575</td>\n",
       "      <td>1.325341</td>\n",
       "    </tr>\n",
       "    <tr>\n",
       "      <th>6</th>\n",
       "      <td>7001d71d1ad858e07e5a341649412e76</td>\n",
       "      <td>utilidades_domesticas</td>\n",
       "      <td>52.0</td>\n",
       "      <td>933.0</td>\n",
       "      <td>2.0</td>\n",
       "      <td>550.0</td>\n",
       "      <td>30.0</td>\n",
       "      <td>16.0</td>\n",
       "      <td>25.0</td>\n",
       "      <td>f8e4c6a9bf1c1277191c445474b61778</td>\n",
       "      <td>0.383655</td>\n",
       "    </tr>\n",
       "    <tr>\n",
       "      <th>7</th>\n",
       "      <td>fafa1432833bfab02d8039194021bfc9</td>\n",
       "      <td>utilidades_domesticas</td>\n",
       "      <td>57.0</td>\n",
       "      <td>326.0</td>\n",
       "      <td>1.0</td>\n",
       "      <td>800.0</td>\n",
       "      <td>16.0</td>\n",
       "      <td>2.0</td>\n",
       "      <td>11.0</td>\n",
       "      <td>59536eeb13a52ef81966f81b91fb481e</td>\n",
       "      <td>1.316567</td>\n",
       "    </tr>\n",
       "    <tr>\n",
       "      <th>8</th>\n",
       "      <td>3207053643b68f43eed19750c0ad8157</td>\n",
       "      <td>utilidades_domesticas</td>\n",
       "      <td>46.0</td>\n",
       "      <td>1900.0</td>\n",
       "      <td>2.0</td>\n",
       "      <td>500.0</td>\n",
       "      <td>33.0</td>\n",
       "      <td>12.0</td>\n",
       "      <td>18.0</td>\n",
       "      <td>f8e4c6a9bf1c1277191c445474b61778</td>\n",
       "      <td>1.131843</td>\n",
       "    </tr>\n",
       "    <tr>\n",
       "      <th>9</th>\n",
       "      <td>d6897f1dfdc99bbbdfda785158793d45</td>\n",
       "      <td>utilidades_domesticas</td>\n",
       "      <td>60.0</td>\n",
       "      <td>1064.0</td>\n",
       "      <td>1.0</td>\n",
       "      <td>390.0</td>\n",
       "      <td>24.0</td>\n",
       "      <td>20.0</td>\n",
       "      <td>24.0</td>\n",
       "      <td>e31c5933157c3e4134a0f536f7bcc14e</td>\n",
       "      <td>0.487976</td>\n",
       "    </tr>\n",
       "    <tr>\n",
       "      <th>10</th>\n",
       "      <td>4e52d603138fe095d25d2c44eb9f7c42</td>\n",
       "      <td>utilidades_domesticas</td>\n",
       "      <td>55.0</td>\n",
       "      <td>655.0</td>\n",
       "      <td>2.0</td>\n",
       "      <td>950.0</td>\n",
       "      <td>41.0</td>\n",
       "      <td>7.0</td>\n",
       "      <td>22.0</td>\n",
       "      <td>83caf799100f6f9418e0eb2950b757af</td>\n",
       "      <td>0.804488</td>\n",
       "    </tr>\n",
       "    <tr>\n",
       "      <th>11</th>\n",
       "      <td>8cf22b2cc9465d64474a09853b62f5b2</td>\n",
       "      <td>utilidades_domesticas</td>\n",
       "      <td>44.0</td>\n",
       "      <td>150.0</td>\n",
       "      <td>2.0</td>\n",
       "      <td>3250.0</td>\n",
       "      <td>50.0</td>\n",
       "      <td>10.0</td>\n",
       "      <td>60.0</td>\n",
       "      <td>83caf799100f6f9418e0eb2950b757af</td>\n",
       "      <td>3.190513</td>\n",
       "    </tr>\n",
       "    <tr>\n",
       "      <th>12</th>\n",
       "      <td>e84512060d6d75aeeadbe0ccc70e076b</td>\n",
       "      <td>utilidades_domesticas</td>\n",
       "      <td>46.0</td>\n",
       "      <td>158.0</td>\n",
       "      <td>3.0</td>\n",
       "      <td>600.0</td>\n",
       "      <td>26.0</td>\n",
       "      <td>16.0</td>\n",
       "      <td>15.0</td>\n",
       "      <td>5691dd4a53d260fffdfff8bb0b24d626</td>\n",
       "      <td>0.691626</td>\n",
       "    </tr>\n",
       "    <tr>\n",
       "      <th>13</th>\n",
       "      <td>d68be217281ba1c20f23f94781f29ba4</td>\n",
       "      <td>utilidades_domesticas</td>\n",
       "      <td>28.0</td>\n",
       "      <td>631.0</td>\n",
       "      <td>3.0</td>\n",
       "      <td>300.0</td>\n",
       "      <td>40.0</td>\n",
       "      <td>5.0</td>\n",
       "      <td>30.0</td>\n",
       "      <td>83caf799100f6f9418e0eb2950b757af</td>\n",
       "      <td>0.176180</td>\n",
       "    </tr>\n",
       "    <tr>\n",
       "      <th>14</th>\n",
       "      <td>99c803fd17abc7a255efe370d53744e3</td>\n",
       "      <td>consoles_games</td>\n",
       "      <td>58.0</td>\n",
       "      <td>71.0</td>\n",
       "      <td>1.0</td>\n",
       "      <td>900.0</td>\n",
       "      <td>17.0</td>\n",
       "      <td>16.0</td>\n",
       "      <td>13.0</td>\n",
       "      <td>2bd9b51a9ab079e095aca987845d3266</td>\n",
       "      <td>600.174141</td>\n",
       "    </tr>\n",
       "    <tr>\n",
       "      <th>15</th>\n",
       "      <td>65bebe0ebbe0c371c9ad29d76801482c</td>\n",
       "      <td>esporte_lazer</td>\n",
       "      <td>53.0</td>\n",
       "      <td>689.0</td>\n",
       "      <td>2.0</td>\n",
       "      <td>217.0</td>\n",
       "      <td>18.0</td>\n",
       "      <td>13.0</td>\n",
       "      <td>15.0</td>\n",
       "      <td>995e25d9b46dee183004994645768d95</td>\n",
       "      <td>0.820061</td>\n",
       "    </tr>\n",
       "    <tr>\n",
       "      <th>16</th>\n",
       "      <td>9a8706b8c060b16e5f0d2925f20bc35b</td>\n",
       "      <td>esporte_lazer</td>\n",
       "      <td>33.0</td>\n",
       "      <td>73.0</td>\n",
       "      <td>3.0</td>\n",
       "      <td>100.0</td>\n",
       "      <td>25.0</td>\n",
       "      <td>25.0</td>\n",
       "      <td>25.0</td>\n",
       "      <td>4a545fda8038a360bd93a5f1ac419a4e</td>\n",
       "      <td>1.542394</td>\n",
       "    </tr>\n",
       "    <tr>\n",
       "      <th>17</th>\n",
       "      <td>e237317be46690f8352f2a4f9daaf6d5</td>\n",
       "      <td>esporte_lazer</td>\n",
       "      <td>53.0</td>\n",
       "      <td>1421.0</td>\n",
       "      <td>1.0</td>\n",
       "      <td>1095.0</td>\n",
       "      <td>23.0</td>\n",
       "      <td>20.0</td>\n",
       "      <td>20.0</td>\n",
       "      <td>e1e0040c906cc890d032092141a9b6de</td>\n",
       "      <td>0.751729</td>\n",
       "    </tr>\n",
       "    <tr>\n",
       "      <th>18</th>\n",
       "      <td>fb9840b7c9aa168ac9555999557fdf26</td>\n",
       "      <td>esporte_lazer</td>\n",
       "      <td>28.0</td>\n",
       "      <td>452.0</td>\n",
       "      <td>1.0</td>\n",
       "      <td>400.0</td>\n",
       "      <td>18.0</td>\n",
       "      <td>18.0</td>\n",
       "      <td>17.0</td>\n",
       "      <td>e1e0040c906cc890d032092141a9b6de</td>\n",
       "      <td>0.186308</td>\n",
       "    </tr>\n",
       "    <tr>\n",
       "      <th>19</th>\n",
       "      <td>114d1f71a8c0da5baa0894d00b9debb6</td>\n",
       "      <td>esporte_lazer</td>\n",
       "      <td>35.0</td>\n",
       "      <td>421.0</td>\n",
       "      <td>1.0</td>\n",
       "      <td>150.0</td>\n",
       "      <td>45.0</td>\n",
       "      <td>10.0</td>\n",
       "      <td>11.0</td>\n",
       "      <td>0c96091f6f20b1d2c946a933370782a4</td>\n",
       "      <td>2.076315</td>\n",
       "    </tr>\n",
       "    <tr>\n",
       "      <th>20</th>\n",
       "      <td>d9a5a5120d4d357871acd5408cb10e18</td>\n",
       "      <td>fashion_bolsas_e_acessorios</td>\n",
       "      <td>40.0</td>\n",
       "      <td>817.0</td>\n",
       "      <td>1.0</td>\n",
       "      <td>100.0</td>\n",
       "      <td>16.0</td>\n",
       "      <td>5.0</td>\n",
       "      <td>16.0</td>\n",
       "      <td>5a168adb8f812ea06dbbfaaa3bae7986</td>\n",
       "      <td>100.244701</td>\n",
       "    </tr>\n",
       "    <tr>\n",
       "      <th>21</th>\n",
       "      <td>9e1260b3b3b06ad0be8cbbd26e4ec9fc</td>\n",
       "      <td>beleza_saude</td>\n",
       "      <td>46.0</td>\n",
       "      <td>1581.0</td>\n",
       "      <td>1.0</td>\n",
       "      <td>400.0</td>\n",
       "      <td>24.0</td>\n",
       "      <td>17.0</td>\n",
       "      <td>17.0</td>\n",
       "      <td>719d571299707561c34ba04ab867b32a</td>\n",
       "      <td>0.966238</td>\n",
       "    </tr>\n",
       "    <tr>\n",
       "      <th>22</th>\n",
       "      <td>8c061c83aadff7ca00360142d8c19c2d</td>\n",
       "      <td>beleza_saude</td>\n",
       "      <td>45.0</td>\n",
       "      <td>1130.0</td>\n",
       "      <td>1.0</td>\n",
       "      <td>125.0</td>\n",
       "      <td>17.0</td>\n",
       "      <td>11.0</td>\n",
       "      <td>12.0</td>\n",
       "      <td>24bc2932a12c983f8e76d828b65cf39b</td>\n",
       "      <td>0.664714</td>\n",
       "    </tr>\n",
       "    <tr>\n",
       "      <th>23</th>\n",
       "      <td>9799f204443f39b914cb108eb13ef6e2</td>\n",
       "      <td>beleza_saude</td>\n",
       "      <td>58.0</td>\n",
       "      <td>2951.0</td>\n",
       "      <td>2.0</td>\n",
       "      <td>150.0</td>\n",
       "      <td>16.0</td>\n",
       "      <td>6.0</td>\n",
       "      <td>11.0</td>\n",
       "      <td>cc8a6ff2506f53b738737ef6b4dccd17</td>\n",
       "      <td>0.411090</td>\n",
       "    </tr>\n",
       "    <tr>\n",
       "      <th>24</th>\n",
       "      <td>d3f00f350c591d6d9f98c6282c1ca080</td>\n",
       "      <td>beleza_saude</td>\n",
       "      <td>23.0</td>\n",
       "      <td>960.0</td>\n",
       "      <td>1.0</td>\n",
       "      <td>225.0</td>\n",
       "      <td>20.0</td>\n",
       "      <td>18.0</td>\n",
       "      <td>18.0</td>\n",
       "      <td>719d571299707561c34ba04ab867b32a</td>\n",
       "      <td>0.699990</td>\n",
       "    </tr>\n",
       "    <tr>\n",
       "      <th>25</th>\n",
       "      <td>e0bf01f7bf9a2581d5b670edf6252aaa</td>\n",
       "      <td>beleza_saude</td>\n",
       "      <td>55.0</td>\n",
       "      <td>1423.0</td>\n",
       "      <td>5.0</td>\n",
       "      <td>333.0</td>\n",
       "      <td>32.0</td>\n",
       "      <td>22.0</td>\n",
       "      <td>26.0</td>\n",
       "      <td>bdcf6a834e8faa30dac3886c7a58e92e</td>\n",
       "      <td>3.498352</td>\n",
       "    </tr>\n",
       "    <tr>\n",
       "      <th>26</th>\n",
       "      <td>3f0602cdcad0ac24d72b038103a3783e</td>\n",
       "      <td>automotivo</td>\n",
       "      <td>57.0</td>\n",
       "      <td>589.0</td>\n",
       "      <td>3.0</td>\n",
       "      <td>250.0</td>\n",
       "      <td>16.0</td>\n",
       "      <td>2.0</td>\n",
       "      <td>11.0</td>\n",
       "      <td>bcf3aa04becb30e6279242e23dc516f8</td>\n",
       "      <td>0.498536</td>\n",
       "    </tr>\n",
       "    <tr>\n",
       "      <th>27</th>\n",
       "      <td>b3d072a13181cceaf88c1a8de7c6e73a</td>\n",
       "      <td>automotivo</td>\n",
       "      <td>56.0</td>\n",
       "      <td>1326.0</td>\n",
       "      <td>2.0</td>\n",
       "      <td>650.0</td>\n",
       "      <td>16.0</td>\n",
       "      <td>28.0</td>\n",
       "      <td>16.0</td>\n",
       "      <td>dce7d5964fd84b401af7d9369a9df643</td>\n",
       "      <td>8.994339</td>\n",
       "    </tr>\n",
       "    <tr>\n",
       "      <th>28</th>\n",
       "      <td>e332952ba1987271652c62433c823a91</td>\n",
       "      <td>automotivo</td>\n",
       "      <td>59.0</td>\n",
       "      <td>569.0</td>\n",
       "      <td>3.0</td>\n",
       "      <td>250.0</td>\n",
       "      <td>16.0</td>\n",
       "      <td>15.0</td>\n",
       "      <td>16.0</td>\n",
       "      <td>dce7d5964fd84b401af7d9369a9df643</td>\n",
       "      <td>9.146980</td>\n",
       "    </tr>\n",
       "    <tr>\n",
       "      <th>29</th>\n",
       "      <td>3adde396ccd202b8fe21807c2b624f4c</td>\n",
       "      <td>moveis_decoracao</td>\n",
       "      <td>58.0</td>\n",
       "      <td>271.0</td>\n",
       "      <td>1.0</td>\n",
       "      <td>8400.0</td>\n",
       "      <td>50.0</td>\n",
       "      <td>20.0</td>\n",
       "      <td>36.0</td>\n",
       "      <td>15de022edf1005363381e66bed514528</td>\n",
       "      <td>8300.097228</td>\n",
       "    </tr>\n",
       "    <tr>\n",
       "      <th>30</th>\n",
       "      <td>2fc1d23fa789d26055ab613cdb6173f3</td>\n",
       "      <td>informatica_acessorios</td>\n",
       "      <td>49.0</td>\n",
       "      <td>1281.0</td>\n",
       "      <td>3.0</td>\n",
       "      <td>450.0</td>\n",
       "      <td>20.0</td>\n",
       "      <td>5.0</td>\n",
       "      <td>12.0</td>\n",
       "      <td>d04857e7b4b708ee8b8b9921163edba3</td>\n",
       "      <td>1.962758</td>\n",
       "    </tr>\n",
       "    <tr>\n",
       "      <th>31</th>\n",
       "      <td>9865c67a74684715521d1e70226cce0b</td>\n",
       "      <td>relogios_presentes</td>\n",
       "      <td>52.0</td>\n",
       "      <td>629.0</td>\n",
       "      <td>1.0</td>\n",
       "      <td>290.0</td>\n",
       "      <td>19.0</td>\n",
       "      <td>13.0</td>\n",
       "      <td>13.0</td>\n",
       "      <td>5403528d987ad26e8d7cb25940411987</td>\n",
       "      <td>11.454007</td>\n",
       "    </tr>\n",
       "    <tr>\n",
       "      <th>32</th>\n",
       "      <td>44c3393093cceb78aa4174c28ec0ee40</td>\n",
       "      <td>telefonia</td>\n",
       "      <td>32.0</td>\n",
       "      <td>385.0</td>\n",
       "      <td>1.0</td>\n",
       "      <td>75.0</td>\n",
       "      <td>19.0</td>\n",
       "      <td>3.0</td>\n",
       "      <td>11.0</td>\n",
       "      <td>afce90df29b9a0c1bfe5e1033f1197b1</td>\n",
       "      <td>0.000000</td>\n",
       "    </tr>\n",
       "    <tr>\n",
       "      <th>33</th>\n",
       "      <td>fd9becacfcf0cebb9756687af69c716a</td>\n",
       "      <td>brinquedos</td>\n",
       "      <td>32.0</td>\n",
       "      <td>194.0</td>\n",
       "      <td>1.0</td>\n",
       "      <td>400.0</td>\n",
       "      <td>28.0</td>\n",
       "      <td>18.0</td>\n",
       "      <td>28.0</td>\n",
       "      <td>f50df9b142a624bf4c4d8495489a207e</td>\n",
       "      <td>2.543973</td>\n",
       "    </tr>\n",
       "  </tbody>\n",
       "</table>\n",
       "</div>"
      ],
      "text/plain": [
       "                          product_id        product_category_name  \\\n",
       "0   6f4ed02e363461e27168f72bc33ffb80              cama_mesa_banho   \n",
       "1   0896208dd8490b3dbb75344a92ab4106              cama_mesa_banho   \n",
       "2   04008f5a086abe248a3c76bc2fa4f4e1              cama_mesa_banho   \n",
       "3   49d23d4887468040921b413a6d4f3ec7              cama_mesa_banho   \n",
       "4   e84d1a4a08db13e8dea6d400a1c6a3f0                    alimentos   \n",
       "5   896496916bfd78848143a60e492dbcf8                    alimentos   \n",
       "6   7001d71d1ad858e07e5a341649412e76        utilidades_domesticas   \n",
       "7   fafa1432833bfab02d8039194021bfc9        utilidades_domesticas   \n",
       "8   3207053643b68f43eed19750c0ad8157        utilidades_domesticas   \n",
       "9   d6897f1dfdc99bbbdfda785158793d45        utilidades_domesticas   \n",
       "10  4e52d603138fe095d25d2c44eb9f7c42        utilidades_domesticas   \n",
       "11  8cf22b2cc9465d64474a09853b62f5b2        utilidades_domesticas   \n",
       "12  e84512060d6d75aeeadbe0ccc70e076b        utilidades_domesticas   \n",
       "13  d68be217281ba1c20f23f94781f29ba4        utilidades_domesticas   \n",
       "14  99c803fd17abc7a255efe370d53744e3               consoles_games   \n",
       "15  65bebe0ebbe0c371c9ad29d76801482c                esporte_lazer   \n",
       "16  9a8706b8c060b16e5f0d2925f20bc35b                esporte_lazer   \n",
       "17  e237317be46690f8352f2a4f9daaf6d5                esporte_lazer   \n",
       "18  fb9840b7c9aa168ac9555999557fdf26                esporte_lazer   \n",
       "19  114d1f71a8c0da5baa0894d00b9debb6                esporte_lazer   \n",
       "20  d9a5a5120d4d357871acd5408cb10e18  fashion_bolsas_e_acessorios   \n",
       "21  9e1260b3b3b06ad0be8cbbd26e4ec9fc                 beleza_saude   \n",
       "22  8c061c83aadff7ca00360142d8c19c2d                 beleza_saude   \n",
       "23  9799f204443f39b914cb108eb13ef6e2                 beleza_saude   \n",
       "24  d3f00f350c591d6d9f98c6282c1ca080                 beleza_saude   \n",
       "25  e0bf01f7bf9a2581d5b670edf6252aaa                 beleza_saude   \n",
       "26  3f0602cdcad0ac24d72b038103a3783e                   automotivo   \n",
       "27  b3d072a13181cceaf88c1a8de7c6e73a                   automotivo   \n",
       "28  e332952ba1987271652c62433c823a91                   automotivo   \n",
       "29  3adde396ccd202b8fe21807c2b624f4c             moveis_decoracao   \n",
       "30  2fc1d23fa789d26055ab613cdb6173f3       informatica_acessorios   \n",
       "31  9865c67a74684715521d1e70226cce0b           relogios_presentes   \n",
       "32  44c3393093cceb78aa4174c28ec0ee40                    telefonia   \n",
       "33  fd9becacfcf0cebb9756687af69c716a                   brinquedos   \n",
       "\n",
       "    product_name_lenght  product_description_lenght  product_photos_qty  \\\n",
       "0                  59.0                       344.0                 3.0   \n",
       "1                  56.0                      1023.0                 1.0   \n",
       "2                  41.0                      2201.0                 1.0   \n",
       "3                  52.0                      1072.0                 1.0   \n",
       "4                  34.0                       926.0                 2.0   \n",
       "5                  35.0                       567.0                 4.0   \n",
       "6                  52.0                       933.0                 2.0   \n",
       "7                  57.0                       326.0                 1.0   \n",
       "8                  46.0                      1900.0                 2.0   \n",
       "9                  60.0                      1064.0                 1.0   \n",
       "10                 55.0                       655.0                 2.0   \n",
       "11                 44.0                       150.0                 2.0   \n",
       "12                 46.0                       158.0                 3.0   \n",
       "13                 28.0                       631.0                 3.0   \n",
       "14                 58.0                        71.0                 1.0   \n",
       "15                 53.0                       689.0                 2.0   \n",
       "16                 33.0                        73.0                 3.0   \n",
       "17                 53.0                      1421.0                 1.0   \n",
       "18                 28.0                       452.0                 1.0   \n",
       "19                 35.0                       421.0                 1.0   \n",
       "20                 40.0                       817.0                 1.0   \n",
       "21                 46.0                      1581.0                 1.0   \n",
       "22                 45.0                      1130.0                 1.0   \n",
       "23                 58.0                      2951.0                 2.0   \n",
       "24                 23.0                       960.0                 1.0   \n",
       "25                 55.0                      1423.0                 5.0   \n",
       "26                 57.0                       589.0                 3.0   \n",
       "27                 56.0                      1326.0                 2.0   \n",
       "28                 59.0                       569.0                 3.0   \n",
       "29                 58.0                       271.0                 1.0   \n",
       "30                 49.0                      1281.0                 3.0   \n",
       "31                 52.0                       629.0                 1.0   \n",
       "32                 32.0                       385.0                 1.0   \n",
       "33                 32.0                       194.0                 1.0   \n",
       "\n",
       "    product_weight_g  product_length_cm  product_height_cm  product_width_cm  \\\n",
       "0            12000.0               60.0               23.0              54.0   \n",
       "1             1350.0               36.0               20.0              36.0   \n",
       "2             1250.0               48.0               14.0              68.0   \n",
       "3             1350.0               39.0                7.0              31.0   \n",
       "4              700.0               24.0               15.0              24.0   \n",
       "5              225.0               21.0                9.0              14.0   \n",
       "6              550.0               30.0               16.0              25.0   \n",
       "7              800.0               16.0                2.0              11.0   \n",
       "8              500.0               33.0               12.0              18.0   \n",
       "9              390.0               24.0               20.0              24.0   \n",
       "10             950.0               41.0                7.0              22.0   \n",
       "11            3250.0               50.0               10.0              60.0   \n",
       "12             600.0               26.0               16.0              15.0   \n",
       "13             300.0               40.0                5.0              30.0   \n",
       "14             900.0               17.0               16.0              13.0   \n",
       "15             217.0               18.0               13.0              15.0   \n",
       "16             100.0               25.0               25.0              25.0   \n",
       "17            1095.0               23.0               20.0              20.0   \n",
       "18             400.0               18.0               18.0              17.0   \n",
       "19             150.0               45.0               10.0              11.0   \n",
       "20             100.0               16.0                5.0              16.0   \n",
       "21             400.0               24.0               17.0              17.0   \n",
       "22             125.0               17.0               11.0              12.0   \n",
       "23             150.0               16.0                6.0              11.0   \n",
       "24             225.0               20.0               18.0              18.0   \n",
       "25             333.0               32.0               22.0              26.0   \n",
       "26             250.0               16.0                2.0              11.0   \n",
       "27             650.0               16.0               28.0              16.0   \n",
       "28             250.0               16.0               15.0              16.0   \n",
       "29            8400.0               50.0               20.0              36.0   \n",
       "30             450.0               20.0                5.0              12.0   \n",
       "31             290.0               19.0               13.0              13.0   \n",
       "32              75.0               19.0                3.0              11.0   \n",
       "33             400.0               28.0               18.0              28.0   \n",
       "\n",
       "                 nearest_neighbor_id  distance_to_nearest  \n",
       "0   981f6a96c09b7d28e5c5f2fbb282fcde            19.228282  \n",
       "1   b74d57e3377dd78aace6d070fc48cc88             1.390915  \n",
       "2   981f6a96c09b7d28e5c5f2fbb282fcde             3.691373  \n",
       "3   01a5038835acf17f141c7247956b72d6             0.512560  \n",
       "4   73326828aa5efe1ba096223de496f596             6.007798  \n",
       "5   ab1106e227a745836a0dc83b374e2575             1.325341  \n",
       "6   f8e4c6a9bf1c1277191c445474b61778             0.383655  \n",
       "7   59536eeb13a52ef81966f81b91fb481e             1.316567  \n",
       "8   f8e4c6a9bf1c1277191c445474b61778             1.131843  \n",
       "9   e31c5933157c3e4134a0f536f7bcc14e             0.487976  \n",
       "10  83caf799100f6f9418e0eb2950b757af             0.804488  \n",
       "11  83caf799100f6f9418e0eb2950b757af             3.190513  \n",
       "12  5691dd4a53d260fffdfff8bb0b24d626             0.691626  \n",
       "13  83caf799100f6f9418e0eb2950b757af             0.176180  \n",
       "14  2bd9b51a9ab079e095aca987845d3266           600.174141  \n",
       "15  995e25d9b46dee183004994645768d95             0.820061  \n",
       "16  4a545fda8038a360bd93a5f1ac419a4e             1.542394  \n",
       "17  e1e0040c906cc890d032092141a9b6de             0.751729  \n",
       "18  e1e0040c906cc890d032092141a9b6de             0.186308  \n",
       "19  0c96091f6f20b1d2c946a933370782a4             2.076315  \n",
       "20  5a168adb8f812ea06dbbfaaa3bae7986           100.244701  \n",
       "21  719d571299707561c34ba04ab867b32a             0.966238  \n",
       "22  24bc2932a12c983f8e76d828b65cf39b             0.664714  \n",
       "23  cc8a6ff2506f53b738737ef6b4dccd17             0.411090  \n",
       "24  719d571299707561c34ba04ab867b32a             0.699990  \n",
       "25  bdcf6a834e8faa30dac3886c7a58e92e             3.498352  \n",
       "26  bcf3aa04becb30e6279242e23dc516f8             0.498536  \n",
       "27  dce7d5964fd84b401af7d9369a9df643             8.994339  \n",
       "28  dce7d5964fd84b401af7d9369a9df643             9.146980  \n",
       "29  15de022edf1005363381e66bed514528          8300.097228  \n",
       "30  d04857e7b4b708ee8b8b9921163edba3             1.962758  \n",
       "31  5403528d987ad26e8d7cb25940411987            11.454007  \n",
       "32  afce90df29b9a0c1bfe5e1033f1197b1             0.000000  \n",
       "33  f50df9b142a624bf4c4d8495489a207e             2.543973  "
      ]
     },
     "execution_count": 13,
     "metadata": {},
     "output_type": "execute_result"
    }
   ],
   "source": [
    "new_products = products[products['product_id'].isin(new_product_data['product_id'].unique())]\n",
    "regular_products = products[(products['product_id'].isin(new_product_data['product_id'].unique())==False) & (products['product_id'].isin(predictions_df['product_id'].unique()))]\n",
    "# regular_products : if has sales and not a new prod\n",
    "\n",
    "# Columns to consider for nearest neighbor matching\n",
    "numerical_columns = [\"product_weight_g\", \"product_length_cm\", \"product_height_cm\", \"product_width_cm\"]\n",
    "\n",
    "# Initialize a list to store results\n",
    "results = []\n",
    "\n",
    "# Iterate through each unique category\n",
    "for category in new_products['product_category_name'].unique():\n",
    "    # print(category)\n",
    "    # Filter existing products and new products by category\n",
    "    category_existing = regular_products[regular_products['product_category_name'] == category]\n",
    "    category_new = new_products[new_products['product_category_name'] == category]\n",
    "\n",
    "    # Extract the numerical columns\n",
    "    X = category_existing[numerical_columns]\n",
    "    new_X = category_new[numerical_columns]\n",
    "\n",
    "    try:\n",
    "        # Normalize the data\n",
    "        scaler = StandardScaler()\n",
    "        X_scaled = scaler.fit_transform(X)\n",
    "        new_X_scaled = scaler.transform(new_X)\n",
    "    \n",
    "\n",
    "        # Fit the Nearest Neighbors model\n",
    "        nbrs = NearestNeighbors(n_neighbors=1, algorithm='auto').fit(X_scaled)\n",
    "        distances, indices = nbrs.kneighbors(new_X_scaled)\n",
    "\n",
    "        # Prepare results for the current category\n",
    "        category_new['nearest_neighbor_id'] = category_existing.iloc[indices.flatten()]['product_id'].values\n",
    "        category_new['distance_to_nearest'] = distances.flatten()\n",
    "        results.append(category_new)\n",
    "\n",
    "    except:\n",
    "        print(f'no sales history for - {category}  ')\n",
    "\n",
    "# Combine results for all categories\n",
    "matched_products = pd.concat(results, ignore_index=True)\n",
    "\n",
    "matched_products"
   ]
  },
  {
   "cell_type": "code",
   "execution_count": 14,
   "metadata": {},
   "outputs": [],
   "source": [
    "pred_new_prods = matched_products.merge(predictions_df, left_on='nearest_neighbor_id',right_on='product_id',how='left')"
   ]
  },
  {
   "cell_type": "code",
   "execution_count": 15,
   "metadata": {},
   "outputs": [
    {
     "data": {
      "text/html": [
       "<div>\n",
       "<style scoped>\n",
       "    .dataframe tbody tr th:only-of-type {\n",
       "        vertical-align: middle;\n",
       "    }\n",
       "\n",
       "    .dataframe tbody tr th {\n",
       "        vertical-align: top;\n",
       "    }\n",
       "\n",
       "    .dataframe thead th {\n",
       "        text-align: right;\n",
       "    }\n",
       "</style>\n",
       "<table border=\"1\" class=\"dataframe\">\n",
       "  <thead>\n",
       "    <tr style=\"text-align: right;\">\n",
       "      <th></th>\n",
       "      <th>product_id_x</th>\n",
       "      <th>date</th>\n",
       "      <th>predicted_demand</th>\n",
       "    </tr>\n",
       "  </thead>\n",
       "  <tbody>\n",
       "    <tr>\n",
       "      <th>0</th>\n",
       "      <td>6f4ed02e363461e27168f72bc33ffb80</td>\n",
       "      <td>2018-08-27</td>\n",
       "      <td>1.007688</td>\n",
       "    </tr>\n",
       "    <tr>\n",
       "      <th>1</th>\n",
       "      <td>0896208dd8490b3dbb75344a92ab4106</td>\n",
       "      <td>2018-08-27</td>\n",
       "      <td>1.046196</td>\n",
       "    </tr>\n",
       "    <tr>\n",
       "      <th>2</th>\n",
       "      <td>04008f5a086abe248a3c76bc2fa4f4e1</td>\n",
       "      <td>2018-08-27</td>\n",
       "      <td>1.007688</td>\n",
       "    </tr>\n",
       "    <tr>\n",
       "      <th>3</th>\n",
       "      <td>49d23d4887468040921b413a6d4f3ec7</td>\n",
       "      <td>2018-08-28</td>\n",
       "      <td>0.997780</td>\n",
       "    </tr>\n",
       "    <tr>\n",
       "      <th>4</th>\n",
       "      <td>e84d1a4a08db13e8dea6d400a1c6a3f0</td>\n",
       "      <td>2018-08-27</td>\n",
       "      <td>2.445829</td>\n",
       "    </tr>\n",
       "    <tr>\n",
       "      <th>5</th>\n",
       "      <td>e84d1a4a08db13e8dea6d400a1c6a3f0</td>\n",
       "      <td>2018-08-28</td>\n",
       "      <td>2.445821</td>\n",
       "    </tr>\n",
       "    <tr>\n",
       "      <th>6</th>\n",
       "      <td>896496916bfd78848143a60e492dbcf8</td>\n",
       "      <td>2018-08-27</td>\n",
       "      <td>1.382020</td>\n",
       "    </tr>\n",
       "    <tr>\n",
       "      <th>7</th>\n",
       "      <td>7001d71d1ad858e07e5a341649412e76</td>\n",
       "      <td>2018-08-27</td>\n",
       "      <td>1.003199</td>\n",
       "    </tr>\n",
       "    <tr>\n",
       "      <th>8</th>\n",
       "      <td>fafa1432833bfab02d8039194021bfc9</td>\n",
       "      <td>2018-08-28</td>\n",
       "      <td>1.972566</td>\n",
       "    </tr>\n",
       "    <tr>\n",
       "      <th>9</th>\n",
       "      <td>3207053643b68f43eed19750c0ad8157</td>\n",
       "      <td>2018-08-27</td>\n",
       "      <td>1.003199</td>\n",
       "    </tr>\n",
       "    <tr>\n",
       "      <th>10</th>\n",
       "      <td>d6897f1dfdc99bbbdfda785158793d45</td>\n",
       "      <td>2018-08-27</td>\n",
       "      <td>1.003545</td>\n",
       "    </tr>\n",
       "    <tr>\n",
       "      <th>11</th>\n",
       "      <td>4e52d603138fe095d25d2c44eb9f7c42</td>\n",
       "      <td>2018-08-27</td>\n",
       "      <td>3.911432</td>\n",
       "    </tr>\n",
       "    <tr>\n",
       "      <th>12</th>\n",
       "      <td>8cf22b2cc9465d64474a09853b62f5b2</td>\n",
       "      <td>2018-08-27</td>\n",
       "      <td>3.911432</td>\n",
       "    </tr>\n",
       "    <tr>\n",
       "      <th>13</th>\n",
       "      <td>e84512060d6d75aeeadbe0ccc70e076b</td>\n",
       "      <td>2018-08-27</td>\n",
       "      <td>1.002875</td>\n",
       "    </tr>\n",
       "    <tr>\n",
       "      <th>14</th>\n",
       "      <td>d68be217281ba1c20f23f94781f29ba4</td>\n",
       "      <td>2018-08-27</td>\n",
       "      <td>3.911432</td>\n",
       "    </tr>\n",
       "    <tr>\n",
       "      <th>15</th>\n",
       "      <td>99c803fd17abc7a255efe370d53744e3</td>\n",
       "      <td>2018-08-27</td>\n",
       "      <td>2.035261</td>\n",
       "    </tr>\n",
       "    <tr>\n",
       "      <th>16</th>\n",
       "      <td>65bebe0ebbe0c371c9ad29d76801482c</td>\n",
       "      <td>2018-08-27</td>\n",
       "      <td>1.108040</td>\n",
       "    </tr>\n",
       "    <tr>\n",
       "      <th>17</th>\n",
       "      <td>9a8706b8c060b16e5f0d2925f20bc35b</td>\n",
       "      <td>2018-08-27</td>\n",
       "      <td>1.003552</td>\n",
       "    </tr>\n",
       "    <tr>\n",
       "      <th>18</th>\n",
       "      <td>e237317be46690f8352f2a4f9daaf6d5</td>\n",
       "      <td>2018-08-28</td>\n",
       "      <td>1.123481</td>\n",
       "    </tr>\n",
       "    <tr>\n",
       "      <th>19</th>\n",
       "      <td>fb9840b7c9aa168ac9555999557fdf26</td>\n",
       "      <td>2018-08-28</td>\n",
       "      <td>1.123481</td>\n",
       "    </tr>\n",
       "    <tr>\n",
       "      <th>20</th>\n",
       "      <td>114d1f71a8c0da5baa0894d00b9debb6</td>\n",
       "      <td>2018-08-28</td>\n",
       "      <td>0.999004</td>\n",
       "    </tr>\n",
       "    <tr>\n",
       "      <th>21</th>\n",
       "      <td>d9a5a5120d4d357871acd5408cb10e18</td>\n",
       "      <td>2018-08-28</td>\n",
       "      <td>0.998636</td>\n",
       "    </tr>\n",
       "    <tr>\n",
       "      <th>22</th>\n",
       "      <td>9e1260b3b3b06ad0be8cbbd26e4ec9fc</td>\n",
       "      <td>2018-08-28</td>\n",
       "      <td>1.235785</td>\n",
       "    </tr>\n",
       "    <tr>\n",
       "      <th>23</th>\n",
       "      <td>8c061c83aadff7ca00360142d8c19c2d</td>\n",
       "      <td>2018-08-29</td>\n",
       "      <td>1.141007</td>\n",
       "    </tr>\n",
       "    <tr>\n",
       "      <th>24</th>\n",
       "      <td>9799f204443f39b914cb108eb13ef6e2</td>\n",
       "      <td>2018-08-27</td>\n",
       "      <td>1.003026</td>\n",
       "    </tr>\n",
       "    <tr>\n",
       "      <th>25</th>\n",
       "      <td>d3f00f350c591d6d9f98c6282c1ca080</td>\n",
       "      <td>2018-08-28</td>\n",
       "      <td>1.235785</td>\n",
       "    </tr>\n",
       "    <tr>\n",
       "      <th>26</th>\n",
       "      <td>e0bf01f7bf9a2581d5b670edf6252aaa</td>\n",
       "      <td>2018-08-29</td>\n",
       "      <td>1.416193</td>\n",
       "    </tr>\n",
       "    <tr>\n",
       "      <th>27</th>\n",
       "      <td>3f0602cdcad0ac24d72b038103a3783e</td>\n",
       "      <td>2018-08-27</td>\n",
       "      <td>1.008866</td>\n",
       "    </tr>\n",
       "    <tr>\n",
       "      <th>28</th>\n",
       "      <td>b3d072a13181cceaf88c1a8de7c6e73a</td>\n",
       "      <td>2018-08-27</td>\n",
       "      <td>1.003213</td>\n",
       "    </tr>\n",
       "    <tr>\n",
       "      <th>29</th>\n",
       "      <td>e332952ba1987271652c62433c823a91</td>\n",
       "      <td>2018-08-27</td>\n",
       "      <td>1.003213</td>\n",
       "    </tr>\n",
       "    <tr>\n",
       "      <th>30</th>\n",
       "      <td>3adde396ccd202b8fe21807c2b624f4c</td>\n",
       "      <td>2018-08-28</td>\n",
       "      <td>1.004554</td>\n",
       "    </tr>\n",
       "    <tr>\n",
       "      <th>31</th>\n",
       "      <td>2fc1d23fa789d26055ab613cdb6173f3</td>\n",
       "      <td>2018-08-29</td>\n",
       "      <td>1.291271</td>\n",
       "    </tr>\n",
       "    <tr>\n",
       "      <th>32</th>\n",
       "      <td>9865c67a74684715521d1e70226cce0b</td>\n",
       "      <td>2018-08-27</td>\n",
       "      <td>1.037697</td>\n",
       "    </tr>\n",
       "    <tr>\n",
       "      <th>33</th>\n",
       "      <td>44c3393093cceb78aa4174c28ec0ee40</td>\n",
       "      <td>2018-08-28</td>\n",
       "      <td>0.997587</td>\n",
       "    </tr>\n",
       "    <tr>\n",
       "      <th>34</th>\n",
       "      <td>fd9becacfcf0cebb9756687af69c716a</td>\n",
       "      <td>2018-08-27</td>\n",
       "      <td>1.009030</td>\n",
       "    </tr>\n",
       "  </tbody>\n",
       "</table>\n",
       "</div>"
      ],
      "text/plain": [
       "                        product_id_x        date  predicted_demand\n",
       "0   6f4ed02e363461e27168f72bc33ffb80  2018-08-27          1.007688\n",
       "1   0896208dd8490b3dbb75344a92ab4106  2018-08-27          1.046196\n",
       "2   04008f5a086abe248a3c76bc2fa4f4e1  2018-08-27          1.007688\n",
       "3   49d23d4887468040921b413a6d4f3ec7  2018-08-28          0.997780\n",
       "4   e84d1a4a08db13e8dea6d400a1c6a3f0  2018-08-27          2.445829\n",
       "5   e84d1a4a08db13e8dea6d400a1c6a3f0  2018-08-28          2.445821\n",
       "6   896496916bfd78848143a60e492dbcf8  2018-08-27          1.382020\n",
       "7   7001d71d1ad858e07e5a341649412e76  2018-08-27          1.003199\n",
       "8   fafa1432833bfab02d8039194021bfc9  2018-08-28          1.972566\n",
       "9   3207053643b68f43eed19750c0ad8157  2018-08-27          1.003199\n",
       "10  d6897f1dfdc99bbbdfda785158793d45  2018-08-27          1.003545\n",
       "11  4e52d603138fe095d25d2c44eb9f7c42  2018-08-27          3.911432\n",
       "12  8cf22b2cc9465d64474a09853b62f5b2  2018-08-27          3.911432\n",
       "13  e84512060d6d75aeeadbe0ccc70e076b  2018-08-27          1.002875\n",
       "14  d68be217281ba1c20f23f94781f29ba4  2018-08-27          3.911432\n",
       "15  99c803fd17abc7a255efe370d53744e3  2018-08-27          2.035261\n",
       "16  65bebe0ebbe0c371c9ad29d76801482c  2018-08-27          1.108040\n",
       "17  9a8706b8c060b16e5f0d2925f20bc35b  2018-08-27          1.003552\n",
       "18  e237317be46690f8352f2a4f9daaf6d5  2018-08-28          1.123481\n",
       "19  fb9840b7c9aa168ac9555999557fdf26  2018-08-28          1.123481\n",
       "20  114d1f71a8c0da5baa0894d00b9debb6  2018-08-28          0.999004\n",
       "21  d9a5a5120d4d357871acd5408cb10e18  2018-08-28          0.998636\n",
       "22  9e1260b3b3b06ad0be8cbbd26e4ec9fc  2018-08-28          1.235785\n",
       "23  8c061c83aadff7ca00360142d8c19c2d  2018-08-29          1.141007\n",
       "24  9799f204443f39b914cb108eb13ef6e2  2018-08-27          1.003026\n",
       "25  d3f00f350c591d6d9f98c6282c1ca080  2018-08-28          1.235785\n",
       "26  e0bf01f7bf9a2581d5b670edf6252aaa  2018-08-29          1.416193\n",
       "27  3f0602cdcad0ac24d72b038103a3783e  2018-08-27          1.008866\n",
       "28  b3d072a13181cceaf88c1a8de7c6e73a  2018-08-27          1.003213\n",
       "29  e332952ba1987271652c62433c823a91  2018-08-27          1.003213\n",
       "30  3adde396ccd202b8fe21807c2b624f4c  2018-08-28          1.004554\n",
       "31  2fc1d23fa789d26055ab613cdb6173f3  2018-08-29          1.291271\n",
       "32  9865c67a74684715521d1e70226cce0b  2018-08-27          1.037697\n",
       "33  44c3393093cceb78aa4174c28ec0ee40  2018-08-28          0.997587\n",
       "34  fd9becacfcf0cebb9756687af69c716a  2018-08-27          1.009030"
      ]
     },
     "execution_count": 15,
     "metadata": {},
     "output_type": "execute_result"
    }
   ],
   "source": [
    "pred_new_prods[['product_id_x', 'date',\t'predicted_demand']]"
   ]
  },
  {
   "cell_type": "markdown",
   "metadata": {},
   "source": [
    "# Sarimax Model"
   ]
  },
  {
   "cell_type": "code",
   "execution_count": 70,
   "metadata": {},
   "outputs": [
    {
     "data": {
      "text/html": [
       "<div>\n",
       "<style scoped>\n",
       "    .dataframe tbody tr th:only-of-type {\n",
       "        vertical-align: middle;\n",
       "    }\n",
       "\n",
       "    .dataframe tbody tr th {\n",
       "        vertical-align: top;\n",
       "    }\n",
       "\n",
       "    .dataframe thead th {\n",
       "        text-align: right;\n",
       "    }\n",
       "</style>\n",
       "<table border=\"1\" class=\"dataframe\">\n",
       "  <thead>\n",
       "    <tr style=\"text-align: right;\">\n",
       "      <th></th>\n",
       "      <th>product_id</th>\n",
       "      <th>order_purchase_timestamp</th>\n",
       "      <th>demand</th>\n",
       "    </tr>\n",
       "  </thead>\n",
       "  <tbody>\n",
       "    <tr>\n",
       "      <th>0</th>\n",
       "      <td>00066f42aeeb9f3007548bb9d3f33c38</td>\n",
       "      <td>2018-05-20</td>\n",
       "      <td>1</td>\n",
       "    </tr>\n",
       "    <tr>\n",
       "      <th>1</th>\n",
       "      <td>00088930e925c41fd95ebfe695fd2655</td>\n",
       "      <td>2017-12-12</td>\n",
       "      <td>1</td>\n",
       "    </tr>\n",
       "    <tr>\n",
       "      <th>2</th>\n",
       "      <td>0009406fd7479715e4bef61dd91f2462</td>\n",
       "      <td>2017-12-21</td>\n",
       "      <td>1</td>\n",
       "    </tr>\n",
       "    <tr>\n",
       "      <th>3</th>\n",
       "      <td>000b8f95fcb9e0096488278317764d19</td>\n",
       "      <td>2018-08-01</td>\n",
       "      <td>1</td>\n",
       "    </tr>\n",
       "    <tr>\n",
       "      <th>4</th>\n",
       "      <td>000b8f95fcb9e0096488278317764d19</td>\n",
       "      <td>2018-08-10</td>\n",
       "      <td>1</td>\n",
       "    </tr>\n",
       "    <tr>\n",
       "      <th>...</th>\n",
       "      <td>...</td>\n",
       "      <td>...</td>\n",
       "      <td>...</td>\n",
       "    </tr>\n",
       "    <tr>\n",
       "      <th>94586</th>\n",
       "      <td>fffdb2d0ec8d6a61f0a0a0db3f25b441</td>\n",
       "      <td>2018-04-19</td>\n",
       "      <td>1</td>\n",
       "    </tr>\n",
       "    <tr>\n",
       "      <th>94587</th>\n",
       "      <td>fffdb2d0ec8d6a61f0a0a0db3f25b441</td>\n",
       "      <td>2018-05-01</td>\n",
       "      <td>1</td>\n",
       "    </tr>\n",
       "    <tr>\n",
       "      <th>94588</th>\n",
       "      <td>fffdb2d0ec8d6a61f0a0a0db3f25b441</td>\n",
       "      <td>2018-08-07</td>\n",
       "      <td>1</td>\n",
       "    </tr>\n",
       "    <tr>\n",
       "      <th>94589</th>\n",
       "      <td>fffdb2d0ec8d6a61f0a0a0db3f25b441</td>\n",
       "      <td>2018-08-10</td>\n",
       "      <td>1</td>\n",
       "    </tr>\n",
       "    <tr>\n",
       "      <th>94590</th>\n",
       "      <td>fffe9eeff12fcbd74a2f2b007dde0c58</td>\n",
       "      <td>2018-05-16</td>\n",
       "      <td>1</td>\n",
       "    </tr>\n",
       "  </tbody>\n",
       "</table>\n",
       "<p>94591 rows × 3 columns</p>\n",
       "</div>"
      ],
      "text/plain": [
       "                             product_id order_purchase_timestamp  demand\n",
       "0      00066f42aeeb9f3007548bb9d3f33c38               2018-05-20       1\n",
       "1      00088930e925c41fd95ebfe695fd2655               2017-12-12       1\n",
       "2      0009406fd7479715e4bef61dd91f2462               2017-12-21       1\n",
       "3      000b8f95fcb9e0096488278317764d19               2018-08-01       1\n",
       "4      000b8f95fcb9e0096488278317764d19               2018-08-10       1\n",
       "...                                 ...                      ...     ...\n",
       "94586  fffdb2d0ec8d6a61f0a0a0db3f25b441               2018-04-19       1\n",
       "94587  fffdb2d0ec8d6a61f0a0a0db3f25b441               2018-05-01       1\n",
       "94588  fffdb2d0ec8d6a61f0a0a0db3f25b441               2018-08-07       1\n",
       "94589  fffdb2d0ec8d6a61f0a0a0db3f25b441               2018-08-10       1\n",
       "94590  fffe9eeff12fcbd74a2f2b007dde0c58               2018-05-16       1\n",
       "\n",
       "[94591 rows x 3 columns]"
      ]
     },
     "execution_count": 70,
     "metadata": {},
     "output_type": "execute_result"
    }
   ],
   "source": [
    "import pandas as pd\n",
    "from prophet import Prophet\n",
    "\n",
    "# Step 1: Load data\n",
    "orders = pd.read_csv('./S_Data/orders.csv')\n",
    "order_items = pd.read_csv('./S_Data/order_items.csv')\n",
    "\n",
    "# Step 2: Merge relevant columns\n",
    "merged_df = pd.merge(orders[['order_id', 'order_purchase_timestamp']], order_items[['order_id', 'product_id']], on='order_id')\n",
    "\n",
    "# Convert purchase timestamp to datetime\n",
    "merged_df['order_purchase_timestamp'] = pd.to_datetime(merged_df['order_purchase_timestamp'])\n",
    "\n",
    "# Step 3: Aggregate data by product_id and date\n",
    "daily_demand = merged_df.groupby(['product_id', pd.Grouper(key='order_purchase_timestamp', freq='D')]).size().reset_index(name='demand')\n",
    "\n",
    "# Step 4: Train a time series model for each product_id\n",
    "product_ids = daily_demand['product_id'].unique()\n",
    "forecast_data = pd.DataFrame()\n",
    "daily_demand"
   ]
  },
  {
   "cell_type": "code",
   "execution_count": 72,
   "metadata": {},
   "outputs": [
    {
     "name": "stdout",
     "output_type": "stream",
     "text": [
      "Not enough data for product_id: 00066f42aeeb9f3007548bb9d3f33c38. Forecasting as 1.\n",
      "Not enough data for product_id: 00088930e925c41fd95ebfe695fd2655. Forecasting as 1.\n",
      "Not enough data for product_id: 0009406fd7479715e4bef61dd91f2462. Forecasting as 1.\n",
      "Not enough data for product_id: 000d9be29b5207b54e86aa1b1ac54872. Forecasting as 1.\n",
      "Not enough data for product_id: 0011c512eb256aa0dbbb544d8dffcf6e. Forecasting as 1.\n",
      "Not enough data for product_id: 00126f27c813603687e6ce486d909d01. Forecasting as 1.\n"
     ]
    },
    {
     "name": "stderr",
     "output_type": "stream",
     "text": [
      "02:56:06 - cmdstanpy - INFO - Chain [1] start processing\n",
      "02:56:06 - cmdstanpy - INFO - Chain [1] done processing\n"
     ]
    },
    {
     "name": "stdout",
     "output_type": "stream",
     "text": [
      "Not enough data for product_id: 001b237c0e9bb435f2e54071129237e9. Forecasting as 1.\n"
     ]
    },
    {
     "name": "stderr",
     "output_type": "stream",
     "text": [
      "02:56:06 - cmdstanpy - INFO - Chain [1] start processing\n",
      "02:56:06 - cmdstanpy - INFO - Chain [1] done processing\n"
     ]
    },
    {
     "name": "stdout",
     "output_type": "stream",
     "text": [
      "Not enough data for product_id: 001c5d71ac6ad696d22315953758fa04. Forecasting as 1.\n"
     ]
    },
    {
     "name": "stderr",
     "output_type": "stream",
     "text": [
      "02:56:07 - cmdstanpy - INFO - Chain [1] start processing\n",
      "02:56:07 - cmdstanpy - INFO - Chain [1] done processing\n"
     ]
    },
    {
     "name": "stdout",
     "output_type": "stream",
     "text": [
      "Not enough data for product_id: 0021a87d4997a48b6cef1665602be0f5. Forecasting as 1.\n"
     ]
    },
    {
     "name": "stderr",
     "output_type": "stream",
     "text": [
      "02:56:08 - cmdstanpy - INFO - Chain [1] start processing\n",
      "02:56:08 - cmdstanpy - INFO - Chain [1] done processing\n"
     ]
    },
    {
     "name": "stdout",
     "output_type": "stream",
     "text": [
      "Not enough data for product_id: 002552c0663708129c0019cc97552d7d. Forecasting as 1.\n",
      "Not enough data for product_id: 002959d7a0b0990fe2d69988affcbc80. Forecasting as 1.\n",
      "Not enough data for product_id: 002af88741ba70c7b5cf4e4a0ad7ef85. Forecasting as 1.\n",
      "Not enough data for product_id: 002c6dab60557c48cfd6c2222ef7fd76. Forecasting as 1.\n",
      "Not enough data for product_id: 002d4ea7c04739c130bb74d7e7cd1694. Forecasting as 1.\n",
      "Not enough data for product_id: 002ec297b1b00fb9dde7ee6ac24b6771. Forecasting as 1.\n",
      "Not enough data for product_id: 0030026a6ddb3b2d1d4bc225b4b4c4da. Forecasting as 1.\n",
      "Not enough data for product_id: 0036bb031e69d915cd384d1b3838b5d3. Forecasting as 1.\n",
      "Not enough data for product_id: 003938452c98ff9ab28e9e7b4bfe97ab. Forecasting as 1.\n",
      "Not enough data for product_id: 003962cb74a8b43cf1034fed541a76f0. Forecasting as 1.\n",
      "Not enough data for product_id: 003a31970fea14fffe92ac856b8a9b97. Forecasting as 1.\n",
      "Not enough data for product_id: 003c0b8f6580c850bd2e32044d2ac307. Forecasting as 1.\n",
      "Not enough data for product_id: 004154251837f6ac124ad4374b3a8148. Forecasting as 1.\n",
      "Not enough data for product_id: 0042f1a9a7e0edd1400c6cd0fda065f8. Forecasting as 1.\n",
      "Not enough data for product_id: 0043c62d00db47eff6a6bc4cf6bfaeda. Forecasting as 1.\n",
      "Not enough data for product_id: 0043d1a25ef08fb6f41b8fa6f91742ab. Forecasting as 1.\n",
      "Not enough data for product_id: 0044d70d4e53450c0fbb8255446a797b. Forecasting as 1.\n",
      "Not enough data for product_id: 004552d98c5d3653af8b4dbe8def0048. Forecasting as 1.\n"
     ]
    },
    {
     "name": "stderr",
     "output_type": "stream",
     "text": [
      "02:56:13 - cmdstanpy - INFO - Chain [1] start processing\n",
      "02:56:13 - cmdstanpy - INFO - Chain [1] done processing\n"
     ]
    },
    {
     "name": "stdout",
     "output_type": "stream",
     "text": [
      "Not enough data for product_id: 004ffcbfa5aac82212a95bc972ea8a85. Forecasting as 1.\n"
     ]
    },
    {
     "name": "stderr",
     "output_type": "stream",
     "text": [
      "02:56:14 - cmdstanpy - INFO - Chain [1] start processing\n",
      "02:56:14 - cmdstanpy - INFO - Chain [1] done processing\n"
     ]
    },
    {
     "name": "stdout",
     "output_type": "stream",
     "text": [
      "Not enough data for product_id: 005c6b24cc96dca3e2c01e824401030e. Forecasting as 1.\n",
      "Not enough data for product_id: 0060b415594c5e1200324ef1a18493c4. Forecasting as 1.\n",
      "Not enough data for product_id: 006508eabcc19ae52ed87323124ad0e9. Forecasting as 1.\n",
      "Not enough data for product_id: 006619bbed68b000c8ba3f8725d5409e. Forecasting as 1.\n",
      "Not enough data for product_id: 0067f97995b0c3a86739734dc87ee6b6. Forecasting as 1.\n",
      "Not enough data for product_id: 006c67546bfe73c33b83f6bd1ad58c36. Forecasting as 1.\n",
      "Not enough data for product_id: 00716e5593e8eea55dbe7a29b72a70bc. Forecasting as 1.\n",
      "Not enough data for product_id: 00738f5a17ec4450e88915357b085c1e. Forecasting as 1.\n",
      "Not enough data for product_id: 0081787b18cce4acc2d1adec4520d7ba. Forecasting as 1.\n",
      "Not enough data for product_id: 0082684bb4a60a862baaf7a60a5845ed. Forecasting as 1.\n",
      "Not enough data for product_id: 0085dddda27567189f1dfd1eda7c286e. Forecasting as 1.\n",
      "Not enough data for product_id: 008686d56f4c85b987a4c24a286834c1. Forecasting as 1.\n"
     ]
    },
    {
     "name": "stderr",
     "output_type": "stream",
     "text": [
      "02:56:18 - cmdstanpy - INFO - Chain [1] start processing\n",
      "02:56:18 - cmdstanpy - INFO - Chain [1] done processing\n"
     ]
    },
    {
     "name": "stdout",
     "output_type": "stream",
     "text": [
      "Not enough data for product_id: 008b0ec3de3638637099f97add750136. Forecasting as 1.\n",
      "Not enough data for product_id: 008b51e6be49ee039854b5e35c331b02. Forecasting as 1.\n"
     ]
    },
    {
     "name": "stderr",
     "output_type": "stream",
     "text": [
      "02:56:19 - cmdstanpy - INFO - Chain [1] start processing\n",
      "02:56:19 - cmdstanpy - INFO - Chain [1] done processing\n"
     ]
    },
    {
     "name": "stdout",
     "output_type": "stream",
     "text": [
      "Not enough data for product_id: 00929aaa7751a77220db9caa1ae6d3ab. Forecasting as 1.\n",
      "Not enough data for product_id: 009c09f439988bc06a93d6b8186dce73. Forecasting as 1.\n",
      "Not enough data for product_id: 009df2b0bc078648fc4f5898de8cabff. Forecasting as 1.\n",
      "Not enough data for product_id: 00a0db09dc7c94d512ec51900141ed69. Forecasting as 1.\n",
      "Not enough data for product_id: 00a8c742ae1da97e9064205459977e6c. Forecasting as 1.\n",
      "Not enough data for product_id: 00a985c524adbb97a4211e4ce17aabec. Forecasting as 1.\n",
      "Not enough data for product_id: 00aa70fd749f3b9ce8ca4bc914a9e7b1. Forecasting as 1.\n"
     ]
    },
    {
     "name": "stderr",
     "output_type": "stream",
     "text": [
      "02:56:22 - cmdstanpy - INFO - Chain [1] start processing\n",
      "02:56:22 - cmdstanpy - INFO - Chain [1] done processing\n"
     ]
    },
    {
     "name": "stdout",
     "output_type": "stream",
     "text": [
      "Not enough data for product_id: 00b264091d1c8df03976c3f3b176b35c. Forecasting as 1.\n",
      "Not enough data for product_id: 00b4155166f994ba9da3cf001eb80505. Forecasting as 1.\n",
      "Not enough data for product_id: 00b782074a5ec523bf31951b4935d572. Forecasting as 1.\n"
     ]
    },
    {
     "name": "stderr",
     "output_type": "stream",
     "text": [
      "02:56:24 - cmdstanpy - INFO - Chain [1] start processing\n",
      "02:56:24 - cmdstanpy - INFO - Chain [1] done processing\n",
      "02:56:24 - cmdstanpy - INFO - Chain [1] start processing\n",
      "02:56:24 - cmdstanpy - INFO - Chain [1] done processing\n"
     ]
    },
    {
     "name": "stdout",
     "output_type": "stream",
     "text": [
      "Not enough data for product_id: 00bb62ea3729537a687c3fddcd123662. Forecasting as 1.\n",
      "Not enough data for product_id: 00bc6e6d4ceb98ec7ed058b0a243a8b9. Forecasting as 1.\n",
      "Not enough data for product_id: 00c1e6d55fe174bfbb179257255e49bb. Forecasting as 1.\n",
      "Not enough data for product_id: 00c407e056c74eb8040a1233ca6da16f. Forecasting as 1.\n",
      "Not enough data for product_id: 00c744ca2f3b0e76ce227b146095d3f9. Forecasting as 1.\n",
      "Not enough data for product_id: 00c794371af4dc7c5b6ba3ef913556bb. Forecasting as 1.\n",
      "Not enough data for product_id: 00cc15e0cef551848c797ab75ba904b1. Forecasting as 1.\n",
      "Not enough data for product_id: 00cf06147ed4880ec5fbba2adbb20e1d. Forecasting as 1.\n",
      "Not enough data for product_id: 00d2fa6f2a87633084c8e0400d41a65a. Forecasting as 1.\n",
      "Not enough data for product_id: 00d363b8c14bb9a6c73febc4c42acf47. Forecasting as 1.\n",
      "Not enough data for product_id: 00d51a45854ebce28acda79f414388ee. Forecasting as 1.\n",
      "Not enough data for product_id: 00d62b338366db4c4aec8547ea8f928e. Forecasting as 1.\n",
      "Not enough data for product_id: 00d62d0388b0786d730a1aaed91c0ae0. Forecasting as 1.\n",
      "Not enough data for product_id: 00d93a09990b319a7c946ed7a8c67656. Forecasting as 1.\n",
      "Not enough data for product_id: 00dc8a1b2de45a7fca5921544e5f351d. Forecasting as 1.\n",
      "Not enough data for product_id: 00ddaddbe03b7103d80daee96892363f. Forecasting as 1.\n",
      "Not enough data for product_id: 00de606a5dda99c2499f94ef18282977. Forecasting as 1.\n"
     ]
    },
    {
     "name": "stderr",
     "output_type": "stream",
     "text": [
      "02:56:29 - cmdstanpy - INFO - Chain [1] start processing\n",
      "02:56:29 - cmdstanpy - INFO - Chain [1] done processing\n"
     ]
    },
    {
     "name": "stdout",
     "output_type": "stream",
     "text": [
      "Not enough data for product_id: 00df6fc5f33cc3f7ceec4ec6337d9cd7. Forecasting as 1.\n",
      "Not enough data for product_id: 00e040fed5fb843e28740181ddca3521. Forecasting as 1.\n",
      "Not enough data for product_id: 00e2784f846618842151d40ec730ece0. Forecasting as 1.\n",
      "Not enough data for product_id: 00e41fb1706dc56cc3bbdd2c1d6df362. Forecasting as 1.\n",
      "Not enough data for product_id: 00e437f5e55fc5a62e4ef2f84f41b5fb. Forecasting as 1.\n",
      "Not enough data for product_id: 00e4ded51458037ecda216453eb79d3c. Forecasting as 1.\n",
      "Not enough data for product_id: 00e62bcf9337ca4c5d5b4c5c8188f8d2. Forecasting as 1.\n",
      "Not enough data for product_id: 00e928700d549c4173b1bf631ca30abf. Forecasting as 1.\n",
      "Not enough data for product_id: 00efb9a8ce0cf3b2f37892ab003edc10. Forecasting as 1.\n",
      "Not enough data for product_id: 00f2fa1c4397392f20e5627e3220accd. Forecasting as 1.\n",
      "Not enough data for product_id: 00fd6afd95fe066db8433832180a5369. Forecasting as 1.\n",
      "Not enough data for product_id: 00ffe57f0110d73fd84d162252b2c784. Forecasting as 1.\n",
      "Not enough data for product_id: 0103208eb1ea5a1a7359c0251a65e37a. Forecasting as 1.\n",
      "Not enough data for product_id: 0103863bf3441460142ec23c74388e4c. Forecasting as 1.\n",
      "Not enough data for product_id: 01084e8138d03dc691daa19aa6c12471. Forecasting as 1.\n",
      "Not enough data for product_id: 010951987d78f9d52fbf50a43b690ba1. Forecasting as 1.\n",
      "Not enough data for product_id: 010f24a605e8431fc68562e597f80d63. Forecasting as 1.\n",
      "Not enough data for product_id: 0110986ff84d644fee920efb18577292. Forecasting as 1.\n",
      "Not enough data for product_id: 0112c32bab2fb9a2147b92cdd5f1d3e7. Forecasting as 1.\n",
      "Not enough data for product_id: 0116f3b947377cccf0135f8071b54d74. Forecasting as 1.\n",
      "Not enough data for product_id: 01175f0c6182b4410c669417d7e8268f. Forecasting as 1.\n",
      "Not enough data for product_id: 011bb8a6af5178b33871a83c4f297d32. Forecasting as 1.\n",
      "Not enough data for product_id: 011c2759ca1a29c74ecd8bfa48d0ac14. Forecasting as 1.\n"
     ]
    },
    {
     "name": "stderr",
     "output_type": "stream",
     "text": [
      "02:56:39 - cmdstanpy - INFO - Chain [1] start processing\n",
      "02:56:42 - cmdstanpy - INFO - Chain [1] done processing\n"
     ]
    },
    {
     "name": "stdout",
     "output_type": "stream",
     "text": [
      "Not enough data for product_id: 0124d1581f26143e988b8e1a4b7adab7. Forecasting as 1.\n"
     ]
    },
    {
     "name": "stderr",
     "output_type": "stream",
     "text": [
      "02:56:43 - cmdstanpy - INFO - Chain [1] start processing\n",
      "02:56:43 - cmdstanpy - INFO - Chain [1] done processing\n"
     ]
    },
    {
     "name": "stdout",
     "output_type": "stream",
     "text": [
      "Not enough data for product_id: 012dd0e1c1f14325ee35f06748329355. Forecasting as 1.\n",
      "Not enough data for product_id: 013298e0648d412de0d65690045493bc. Forecasting as 1.\n",
      "Not enough data for product_id: 0134eb6b933b7ebc0f9e24ae5abefaa0. Forecasting as 1.\n",
      "Not enough data for product_id: 0135900191d4383219257d6fde585ccf. Forecasting as 1.\n",
      "Not enough data for product_id: 0138b665025e0b24bfa6206d97b0f117. Forecasting as 1.\n",
      "Not enough data for product_id: 013b5dd7d319685753e2c12292975615. Forecasting as 1.\n",
      "Not enough data for product_id: 013c4b7963865454407e0c79047636c3. Forecasting as 1.\n",
      "Not enough data for product_id: 013cc658e88b36989b48b2bd5f7add59. Forecasting as 1.\n"
     ]
    },
    {
     "name": "stderr",
     "output_type": "stream",
     "text": [
      "02:56:45 - cmdstanpy - INFO - Chain [1] start processing\n",
      "02:56:45 - cmdstanpy - INFO - Chain [1] done processing\n",
      "02:56:46 - cmdstanpy - INFO - Chain [1] start processing\n",
      "02:56:46 - cmdstanpy - INFO - Chain [1] done processing\n"
     ]
    },
    {
     "name": "stdout",
     "output_type": "stream",
     "text": [
      "Not enough data for product_id: 013fef6ee8c8f3ff998e8f0a950a0495. Forecasting as 1.\n",
      "Not enough data for product_id: 0141015d2469c1c5f9d7d377d1cdb44a. Forecasting as 1.\n",
      "Not enough data for product_id: 0141f5b2fc5389a8b247ae23b58482ef. Forecasting as 1.\n",
      "Not enough data for product_id: 0142fd5bd2e0923cf2dbc73d471dda34. Forecasting as 1.\n",
      "Not enough data for product_id: 014d94f219fbff1166b9cf700eee36b2. Forecasting as 1.\n",
      "Not enough data for product_id: 014fcf6bd5cd4c7ee29fb3bb618c445e. Forecasting as 1.\n",
      "Not enough data for product_id: 01503fbd89d42654631476b292b8bc8c. Forecasting as 1.\n"
     ]
    },
    {
     "name": "stderr",
     "output_type": "stream",
     "text": [
      "02:56:48 - cmdstanpy - INFO - Chain [1] start processing\n",
      "02:56:48 - cmdstanpy - INFO - Chain [1] done processing\n"
     ]
    },
    {
     "name": "stdout",
     "output_type": "stream",
     "text": [
      "Not enough data for product_id: 015dfd6612249811b2e147c1f3be048f. Forecasting as 1.\n",
      "Not enough data for product_id: 015ec57b45a4c3efc70288eb133d623a. Forecasting as 1.\n",
      "Not enough data for product_id: 015f06d7b83e5a6f7d1765fb5d8bdfa6. Forecasting as 1.\n",
      "Not enough data for product_id: 01604238fbc11ce379e537a76b26bc94. Forecasting as 1.\n",
      "Not enough data for product_id: 0160814e8c847c018da9cf3e01c271be. Forecasting as 1.\n",
      "Not enough data for product_id: 0167ff78aa8cd40d5432d3daae646c7a. Forecasting as 1.\n",
      "Not enough data for product_id: 016809bbae76f284266dcffcbb12480b. Forecasting as 1.\n",
      "Not enough data for product_id: 016becd5c493d3b3872aaa7294accf52. Forecasting as 1.\n",
      "Not enough data for product_id: 016f3b29107ed03252e477b08445cec4. Forecasting as 1.\n",
      "Not enough data for product_id: 017457b0013d01d5a5a4a020ed1f14b9. Forecasting as 1.\n",
      "Not enough data for product_id: 0174eb125f49a617bd9c6277e5aa76a9. Forecasting as 1.\n",
      "Not enough data for product_id: 0176300ac9900e260f35fbddd71c6d92. Forecasting as 1.\n"
     ]
    },
    {
     "name": "stderr",
     "output_type": "stream",
     "text": [
      "02:56:54 - cmdstanpy - INFO - Chain [1] start processing\n",
      "02:56:55 - cmdstanpy - INFO - Chain [1] done processing\n"
     ]
    },
    {
     "name": "stdout",
     "output_type": "stream",
     "text": [
      "Not enough data for product_id: 017e3ffa31fcd2f8061fa66a9e486381. Forecasting as 1.\n",
      "Not enough data for product_id: 017e8dcb2e1a468d46e6e80fd694c5ec. Forecasting as 1.\n",
      "Not enough data for product_id: 0182796b487918d688ba48cf3a0d1bf4. Forecasting as 1.\n",
      "Not enough data for product_id: 0182db9fc95fd36e324e8a4c40c0819a. Forecasting as 1.\n",
      "Not enough data for product_id: 01849445c151d94a1f0cfff03c9ed154. Forecasting as 1.\n",
      "Not enough data for product_id: 0185e6719ca5c224fc53853997fa3f68. Forecasting as 1.\n",
      "Not enough data for product_id: 0185f302dc17abf603edfe7929a0120a. Forecasting as 1.\n",
      "Not enough data for product_id: 01886ce599b5837b3e1966cdafacd080. Forecasting as 1.\n",
      "Not enough data for product_id: 018ca97302e4293050cc41413194bb19. Forecasting as 1.\n",
      "Not enough data for product_id: 018e4943e4cc9ed099f6fc1a7b65b07d. Forecasting as 1.\n",
      "Not enough data for product_id: 019003324f0a201dd2c8962beaf94b6d. Forecasting as 1.\n",
      "Not enough data for product_id: 01948c8dbac93beb665f136bccd530d8. Forecasting as 1.\n",
      "Not enough data for product_id: 0198a991deae439205851e71a7b0bdf7. Forecasting as 1.\n",
      "Not enough data for product_id: 019d8b8866a5555ac955b45ffd35e039. Forecasting as 1.\n",
      "Not enough data for product_id: 01a0f7d0d081d619be810e512be45f97. Forecasting as 1.\n",
      "Not enough data for product_id: 01a52711e989a817ab8100ddcf8d2940. Forecasting as 1.\n",
      "Not enough data for product_id: 01a630ec9b9f9387e5a91c1f83bd209b. Forecasting as 1.\n",
      "Not enough data for product_id: 01a88bd2633c52bcc66348307cb3ae15. Forecasting as 1.\n",
      "Not enough data for product_id: 01a900ffd5609ad754c38f9dcbce8c6d. Forecasting as 1.\n",
      "Not enough data for product_id: 01a9707790aab6855a6438b92c4c396b. Forecasting as 1.\n",
      "Not enough data for product_id: 01a977e282d5884149e79181506c0941. Forecasting as 1.\n",
      "Not enough data for product_id: 01aa9c122bda45bcbf7edd32fbc36d23. Forecasting as 1.\n",
      "Not enough data for product_id: 01aace6e8152ecaf9eb47678521069c6. Forecasting as 1.\n",
      "Not enough data for product_id: 01af6a4592d74b6d41ceeede0bd8b417. Forecasting as 1.\n",
      "Not enough data for product_id: 01b0238705b6ae8e35c6fea837e6ae4a. Forecasting as 1.\n",
      "Not enough data for product_id: 01b154ceb5457897eb28b9e549f28219. Forecasting as 1.\n",
      "Not enough data for product_id: 01b25153516d822621a92f9ce0b03e17. Forecasting as 1.\n",
      "Not enough data for product_id: 01b660ebc1a0c293ccf9b117fa6dd8bb. Forecasting as 1.\n",
      "Not enough data for product_id: 01b8234bc0c131e61acb47932d0bc25f. Forecasting as 1.\n",
      "Not enough data for product_id: 01b864cf36d60d972e2e29d8c5084d64. Forecasting as 1.\n",
      "Not enough data for product_id: 01bacce2c74317ed2524bcaabae2e9d4. Forecasting as 1.\n"
     ]
    },
    {
     "name": "stderr",
     "output_type": "stream",
     "text": [
      "02:57:04 - cmdstanpy - INFO - Chain [1] start processing\n",
      "02:57:05 - cmdstanpy - INFO - Chain [1] done processing\n"
     ]
    },
    {
     "name": "stdout",
     "output_type": "stream",
     "text": [
      "Not enough data for product_id: 01c2e91674406ebaca6a1bbf7f61c3f0. Forecasting as 1.\n",
      "Not enough data for product_id: 01c3486b189d16ad1b35270d5881e5a4. Forecasting as 1.\n",
      "Not enough data for product_id: 01c666c82f414c762ad21bffa56e8b49. Forecasting as 1.\n",
      "Not enough data for product_id: 01c69d0fbb0d9d8f42ac171ac1238233. Forecasting as 1.\n"
     ]
    },
    {
     "name": "stderr",
     "output_type": "stream",
     "text": [
      "02:57:06 - cmdstanpy - INFO - Chain [1] start processing\n",
      "02:57:06 - cmdstanpy - INFO - Chain [1] done processing\n"
     ]
    },
    {
     "name": "stdout",
     "output_type": "stream",
     "text": [
      "Not enough data for product_id: 01caf54032309b518a584331b8a673f6. Forecasting as 1.\n",
      "Not enough data for product_id: 01cb96c64e8e35f29826a58963f6ecc5. Forecasting as 1.\n",
      "Not enough data for product_id: 01cdc6fbdb39fc792bb4c40164ce2331. Forecasting as 1.\n",
      "Not enough data for product_id: 01cf8c7364048b4b6ed0fe400667054d. Forecasting as 1.\n",
      "Not enough data for product_id: 01d40fca05c4227b987ee069be837b49. Forecasting as 1.\n"
     ]
    },
    {
     "name": "stderr",
     "output_type": "stream",
     "text": [
      "02:57:09 - cmdstanpy - INFO - Chain [1] start processing\n",
      "02:57:09 - cmdstanpy - INFO - Chain [1] done processing\n"
     ]
    },
    {
     "name": "stdout",
     "output_type": "stream",
     "text": [
      "Not enough data for product_id: 01e20e6604216c8adb31d463214ba00c. Forecasting as 1.\n",
      "Not enough data for product_id: 01e25be2c25019945382e057a8292e72. Forecasting as 1.\n",
      "Not enough data for product_id: 01e66dc5bf4d5a186d856506a4f0fea2. Forecasting as 1.\n",
      "Not enough data for product_id: 01ea398598302b06869909ac5bfa5bcf. Forecasting as 1.\n",
      "Not enough data for product_id: 01ea47d0dff23faa8d07ba3f353d2af0. Forecasting as 1.\n",
      "Not enough data for product_id: 01ebdb7ca76a3c581c0d5229ed80be7c. Forecasting as 1.\n",
      "Not enough data for product_id: 01ece5f98b5fe510881404f92229a49f. Forecasting as 1.\n",
      "Not enough data for product_id: 01ecf875ab885ebcae3dd2b1ccc4715f. Forecasting as 1.\n",
      "Not enough data for product_id: 01f76c07f91a533acd46cc6ab989be23. Forecasting as 1.\n",
      "Not enough data for product_id: 01fd8a430d3bea327b7c71e651391001. Forecasting as 1.\n",
      "Not enough data for product_id: 02032c15ca85744c99aa99583e824a90. Forecasting as 1.\n",
      "Not enough data for product_id: 02034d6c9c4814a08a3a0f5a6ad84332. Forecasting as 1.\n",
      "Not enough data for product_id: 02090f97a28b3d10d19a09f045f6df34. Forecasting as 1.\n"
     ]
    },
    {
     "name": "stderr",
     "output_type": "stream",
     "text": [
      "02:57:16 - cmdstanpy - INFO - Chain [1] start processing\n",
      "02:57:16 - cmdstanpy - INFO - Chain [1] done processing\n"
     ]
    },
    {
     "name": "stdout",
     "output_type": "stream",
     "text": [
      "Not enough data for product_id: 0210b75f6f4de09dfc17a66803290f8a. Forecasting as 1.\n",
      "Not enough data for product_id: 021426c19c264227de3c34e3f5e2f4ee. Forecasting as 1.\n",
      "Not enough data for product_id: 0214e4741dab5812bb31a61af1dc3de5. Forecasting as 1.\n",
      "Not enough data for product_id: 021c41b063949bf529b79289c58e0a8b. Forecasting as 1.\n",
      "Not enough data for product_id: 021d39ee869e87d5288f4e731df4a90e. Forecasting as 1.\n",
      "Not enough data for product_id: 021f04378f9692f8747f926f38bb8281. Forecasting as 1.\n",
      "Not enough data for product_id: 022649cdc8ef07dddfa3de3409647e00. Forecasting as 1.\n",
      "Not enough data for product_id: 022b0ef3922883f810bdff4d58e93115. Forecasting as 1.\n",
      "Not enough data for product_id: 022ff42cced44a2b2cca57061cabb526. Forecasting as 1.\n",
      "Not enough data for product_id: 0233382eae30811d6dfffbbfb5de36d8. Forecasting as 1.\n",
      "Not enough data for product_id: 02335f37af17baf50a91273e4bdc8ef4. Forecasting as 1.\n"
     ]
    },
    {
     "name": "stderr",
     "output_type": "stream",
     "text": [
      "02:57:21 - cmdstanpy - INFO - Chain [1] start processing\n",
      "02:57:21 - cmdstanpy - INFO - Chain [1] done processing\n"
     ]
    },
    {
     "name": "stdout",
     "output_type": "stream",
     "text": [
      "Not enough data for product_id: 023473d9db1c319f2bcd010e043b2ba2. Forecasting as 1.\n",
      "Not enough data for product_id: 02357c69f595e004b50ba115b3f88d63. Forecasting as 1.\n",
      "Not enough data for product_id: 023a60ac6b3484afe23d788ce2444df0. Forecasting as 1.\n",
      "Not enough data for product_id: 023d0e2e8457861c3badfb5fa7bcd58a. Forecasting as 1.\n",
      "Not enough data for product_id: 0241aa4ed831b73fd4940ffd9cec20dc. Forecasting as 1.\n",
      "Not enough data for product_id: 024553ca83fc6e9ec93f5a9c823d1834. Forecasting as 1.\n",
      "Not enough data for product_id: 0254806b6c237bd1f21cae60ea8d1533. Forecasting as 1.\n",
      "Not enough data for product_id: 0254d6e0da36c6f28720f89cde66819a. Forecasting as 1.\n",
      "Not enough data for product_id: 0257013d9462b3b6e9892bdd10ebe14d. Forecasting as 1.\n",
      "Not enough data for product_id: 0259a8068ce1198d4370abb0d3c2e576. Forecasting as 1.\n",
      "Not enough data for product_id: 0259ef48d9c5f59c3b31147c52db801d. Forecasting as 1.\n",
      "Not enough data for product_id: 025dd9fac2544d8e7e3451ec87bc6511. Forecasting as 1.\n",
      "Not enough data for product_id: 02623b0e4e6b951aefb23575de1f3886. Forecasting as 1.\n",
      "Not enough data for product_id: 026311ea0b72ef8c80ebf91efd36b499. Forecasting as 1.\n",
      "Not enough data for product_id: 0268130c8c3e3cac87b5ec4931348c73. Forecasting as 1.\n",
      "Not enough data for product_id: 0269bdfd3a4f3d384753cbadc1d742be. Forecasting as 1.\n"
     ]
    },
    {
     "name": "stderr",
     "output_type": "stream",
     "text": [
      "02:57:28 - cmdstanpy - INFO - Chain [1] start processing\n",
      "02:57:28 - cmdstanpy - INFO - Chain [1] done processing\n"
     ]
    },
    {
     "name": "stdout",
     "output_type": "stream",
     "text": [
      "Not enough data for product_id: 026d610705e01d905582241e68aefefe. Forecasting as 1.\n",
      "Not enough data for product_id: 026ddfe4a1a29002815e6da024d6128e. Forecasting as 1.\n",
      "Not enough data for product_id: 026f43af35e7951067097527d5c31bcc. Forecasting as 1.\n",
      "Not enough data for product_id: 02706657691ad03bacea6d0d0d69d13d. Forecasting as 1.\n",
      "Not enough data for product_id: 0271c9f7fe6a29e563ddb672cdcc2968. Forecasting as 1.\n",
      "Not enough data for product_id: 027293c3b6d9e221268d9d6a5ffe5d0b. Forecasting as 1.\n",
      "Not enough data for product_id: 027325f946f1b3d8f94c3496e9a59a10. Forecasting as 1.\n"
     ]
    },
    {
     "name": "stderr",
     "output_type": "stream",
     "text": [
      "02:57:31 - cmdstanpy - INFO - Chain [1] start processing\n",
      "02:57:31 - cmdstanpy - INFO - Chain [1] done processing\n",
      "02:57:31 - cmdstanpy - INFO - Chain [1] start processing\n",
      "02:57:31 - cmdstanpy - INFO - Chain [1] done processing\n"
     ]
    },
    {
     "name": "stdout",
     "output_type": "stream",
     "text": [
      "Not enough data for product_id: 027e1564c58eb02f39089b2b1f28d5e0. Forecasting as 1.\n",
      "Not enough data for product_id: 0281221c8b9fdc713111952393cba4f3. Forecasting as 1.\n",
      "Not enough data for product_id: 02834e5af210b8a2593eb81eecf40707. Forecasting as 1.\n",
      "Not enough data for product_id: 0285a1295a18a4d37c11fa446d4c1345. Forecasting as 1.\n",
      "Not enough data for product_id: 0288532d075e4bf58e044c92e68c94cd. Forecasting as 1.\n",
      "Not enough data for product_id: 0288f8dd74b931b4ec7a468fdd6ed040. Forecasting as 1.\n",
      "Not enough data for product_id: 028b0b0277744a9eaa2c4f57c24dcb68. Forecasting as 1.\n",
      "Not enough data for product_id: 028da1c319c010397ad1ea42db816d23. Forecasting as 1.\n",
      "Not enough data for product_id: 0290cc426311fb177fe19e513a7dc349. Forecasting as 1.\n",
      "Not enough data for product_id: 0292b46c30348496b1be04eeb440bdb5. Forecasting as 1.\n",
      "Not enough data for product_id: 02934e6f6fe473ea19f3e42b9deb9b59. Forecasting as 1.\n",
      "Not enough data for product_id: 0294e314a033317e28ecc40aee9025e8. Forecasting as 1.\n",
      "Not enough data for product_id: 02965440ee186dd4f7f6e8f962a75c60. Forecasting as 1.\n"
     ]
    },
    {
     "name": "stderr",
     "output_type": "stream",
     "text": [
      "02:57:36 - cmdstanpy - INFO - Chain [1] start processing\n",
      "02:57:36 - cmdstanpy - INFO - Chain [1] done processing\n",
      "02:57:37 - cmdstanpy - INFO - Chain [1] start processing\n",
      "02:57:38 - cmdstanpy - INFO - Chain [1] done processing\n",
      "02:57:38 - cmdstanpy - INFO - Chain [1] start processing\n",
      "02:57:38 - cmdstanpy - INFO - Chain [1] done processing\n"
     ]
    },
    {
     "name": "stdout",
     "output_type": "stream",
     "text": [
      "Not enough data for product_id: 02a1edfc6f788c8329299c7244acf2e8. Forecasting as 1.\n",
      "Not enough data for product_id: 02a56644dd5dbe6884a047f4d9ea52ea. Forecasting as 1.\n",
      "Not enough data for product_id: 02a60f0074f36110106a16d15267aad5. Forecasting as 1.\n",
      "Not enough data for product_id: 02a93c4e95263ca545e9f46ca2b59833. Forecasting as 1.\n",
      "Not enough data for product_id: 02a99f266fc960423c1186ecbd627804. Forecasting as 1.\n",
      "Not enough data for product_id: 02aa16706915b09bedf8409296478283. Forecasting as 1.\n",
      "Not enough data for product_id: 02ad328219e45e7d138101bc3c8aa6c6. Forecasting as 1.\n",
      "Not enough data for product_id: 02ad78835ec3f72e750d1dfa6a7e11b3. Forecasting as 1.\n",
      "Not enough data for product_id: 02b824e9f1158bc1005e058c4ea78e8d. Forecasting as 1.\n",
      "Not enough data for product_id: 02c575cb5b29a173624c93f01786440b. Forecasting as 1.\n",
      "Not enough data for product_id: 02c9b70f3d2ddf38f1120e09d4f9cd45. Forecasting as 1.\n",
      "Not enough data for product_id: 02ca198b1084a6d8ed9e152d84243bfb. Forecasting as 1.\n",
      "Not enough data for product_id: 02ca56d6ca8d517a067869b6b6543ded. Forecasting as 1.\n",
      "Not enough data for product_id: 02cd69fa0c8bfb37ca444168927c1e85. Forecasting as 1.\n",
      "Not enough data for product_id: 02ce0c74e59d6cf6bc9026601414a9c4. Forecasting as 1.\n"
     ]
    },
    {
     "name": "stderr",
     "output_type": "stream",
     "text": [
      "02:57:45 - cmdstanpy - INFO - Chain [1] start processing\n",
      "02:57:45 - cmdstanpy - INFO - Chain [1] done processing\n"
     ]
    },
    {
     "name": "stdout",
     "output_type": "stream",
     "text": [
      "Not enough data for product_id: 02d5d374678728b3af7bd59ee012abb4. Forecasting as 1.\n",
      "Not enough data for product_id: 02d7f60ee640c8218aab6a668bbd2c56. Forecasting as 1.\n",
      "Not enough data for product_id: 02db1469fdcd31a4fb670da6caec8bf6. Forecasting as 1.\n",
      "Not enough data for product_id: 02dc711c164ca9c218d316491801ced9. Forecasting as 1.\n",
      "Not enough data for product_id: 02e27630510d16a95a473d9b35959d3e. Forecasting as 1.\n"
     ]
    },
    {
     "name": "stderr",
     "output_type": "stream",
     "text": [
      "02:57:47 - cmdstanpy - INFO - Chain [1] start processing\n",
      "02:57:47 - cmdstanpy - INFO - Chain [1] done processing\n"
     ]
    },
    {
     "name": "stdout",
     "output_type": "stream",
     "text": [
      "Not enough data for product_id: 02f331648b37d96cbaf60e96f9c0cd92. Forecasting as 1.\n",
      "Not enough data for product_id: 02f381f455650d4c7b90c96dc50a6206. Forecasting as 1.\n",
      "Not enough data for product_id: 02f3b0fb0ec2472bd4b9058a860ce6e3. Forecasting as 1.\n",
      "Not enough data for product_id: 02f875bbe513c98bf25188a84b42dd39. Forecasting as 1.\n"
     ]
    },
    {
     "name": "stderr",
     "output_type": "stream",
     "text": [
      "02:57:49 - cmdstanpy - INFO - Chain [1] start processing\n",
      "02:57:50 - cmdstanpy - INFO - Chain [1] done processing\n",
      "02:57:50 - cmdstanpy - INFO - Chain [1] start processing\n",
      "02:57:50 - cmdstanpy - INFO - Chain [1] done processing\n"
     ]
    },
    {
     "name": "stdout",
     "output_type": "stream",
     "text": [
      "Not enough data for product_id: 02fcaaaba3a4b4882987a3639d968572. Forecasting as 1.\n",
      "Not enough data for product_id: 0302c3fcf5e2d9526e243db50d30d5e3. Forecasting as 1.\n",
      "Not enough data for product_id: 030729544fc3eb6a40981f877e836450. Forecasting as 1.\n",
      "Not enough data for product_id: 0312536dd9e1c1b732d2b8ff5c3181d6. Forecasting as 1.\n",
      "Not enough data for product_id: 0314706dab9f01188f5cab6878b8f9b4. Forecasting as 1.\n"
     ]
    },
    {
     "name": "stderr",
     "output_type": "stream",
     "text": [
      "02:57:53 - cmdstanpy - INFO - Chain [1] start processing\n",
      "02:57:53 - cmdstanpy - INFO - Chain [1] done processing\n"
     ]
    },
    {
     "name": "stdout",
     "output_type": "stream",
     "text": [
      "Not enough data for product_id: 03233a6dca60544336766af227f78f09. Forecasting as 1.\n",
      "Not enough data for product_id: 032c32a02f67b0fad495803ca810689e. Forecasting as 1.\n",
      "Not enough data for product_id: 032e8352e7d34cc2558d4ae22132866c. Forecasting as 1.\n",
      "Not enough data for product_id: 0333795efd58e3c33c5850b92721c3e4. Forecasting as 1.\n"
     ]
    },
    {
     "name": "stderr",
     "output_type": "stream",
     "text": [
      "02:57:55 - cmdstanpy - INFO - Chain [1] start processing\n",
      "02:57:57 - cmdstanpy - INFO - Chain [1] done processing\n"
     ]
    },
    {
     "name": "stdout",
     "output_type": "stream",
     "text": [
      "Not enough data for product_id: 033ccb3016d3b24bc724629b8df41f94. Forecasting as 1.\n",
      "Not enough data for product_id: 033e5e4f49acb5621c782ac8a37aa90b. Forecasting as 1.\n",
      "Not enough data for product_id: 033fe931444d66d788d53aca5b7b22d5. Forecasting as 1.\n",
      "Not enough data for product_id: 0343ce4ce35af74dd177bfc133eabb45. Forecasting as 1.\n",
      "Not enough data for product_id: 034abfb9b758233fd393bd361d4ec599. Forecasting as 1.\n",
      "Not enough data for product_id: 0350ac874c8937571b129554110ec3b6. Forecasting as 1.\n"
     ]
    },
    {
     "name": "stderr",
     "output_type": "stream",
     "text": [
      "02:58:00 - cmdstanpy - INFO - Chain [1] start processing\n",
      "02:58:00 - cmdstanpy - INFO - Chain [1] done processing\n"
     ]
    },
    {
     "name": "stdout",
     "output_type": "stream",
     "text": [
      "Not enough data for product_id: 0352f26fa462bd615275f3e91857926d. Forecasting as 1.\n"
     ]
    },
    {
     "name": "stderr",
     "output_type": "stream",
     "text": [
      "02:58:01 - cmdstanpy - INFO - Chain [1] start processing\n",
      "02:58:01 - cmdstanpy - INFO - Chain [1] done processing\n"
     ]
    },
    {
     "name": "stdout",
     "output_type": "stream",
     "text": [
      "Not enough data for product_id: 0356344ba89a9deb1e8a6bef7a7c78b5. Forecasting as 1.\n",
      "Not enough data for product_id: 035a4019c8009b57768aa3c1e1ad63a3. Forecasting as 1.\n",
      "Not enough data for product_id: 035df2b15f358d231e00af9e62488cf4. Forecasting as 1.\n",
      "Not enough data for product_id: 03613e666b3919a3e807eac45a8f2731. Forecasting as 1.\n"
     ]
    },
    {
     "name": "stderr",
     "output_type": "stream",
     "text": [
      "02:58:03 - cmdstanpy - INFO - Chain [1] start processing\n",
      "02:58:03 - cmdstanpy - INFO - Chain [1] done processing\n",
      "02:58:04 - cmdstanpy - INFO - Chain [1] start processing\n",
      "02:58:04 - cmdstanpy - INFO - Chain [1] done processing\n"
     ]
    },
    {
     "name": "stdout",
     "output_type": "stream",
     "text": [
      "Not enough data for product_id: 0367635ea4efa4eb15a29f1e05887851. Forecasting as 1.\n",
      "Not enough data for product_id: 0368744ea61d6163219e3bcbbbac3680. Forecasting as 1.\n",
      "Not enough data for product_id: 0369a47f7ad96df46ad8ed76767de8bd. Forecasting as 1.\n",
      "Not enough data for product_id: 036bcd084feae22f3a997f5080ec30df. Forecasting as 1.\n",
      "Not enough data for product_id: 036c967e979f490c3890acef838d9f44. Forecasting as 1.\n",
      "Not enough data for product_id: 036ecb2f1816e95d3fa658207266ecf5. Forecasting as 1.\n",
      "Not enough data for product_id: 03706dca83513062fe74967a71b5fc78. Forecasting as 1.\n",
      "Not enough data for product_id: 037aab5faf8d9120659b7c8ea3cf4c12. Forecasting as 1.\n",
      "Not enough data for product_id: 037c68f178aefdd7a880a951dedc04d1. Forecasting as 1.\n",
      "Not enough data for product_id: 037f82112a937df3f1486fa81eb1f127. Forecasting as 1.\n"
     ]
    },
    {
     "name": "stderr",
     "output_type": "stream",
     "text": [
      "02:58:08 - cmdstanpy - INFO - Chain [1] start processing\n",
      "02:58:10 - cmdstanpy - INFO - Chain [1] done processing\n"
     ]
    },
    {
     "name": "stdout",
     "output_type": "stream",
     "text": [
      "Not enough data for product_id: 038467f26869173dd87434ae02199a40. Forecasting as 1.\n",
      "Not enough data for product_id: 0388b93e2992639ef7de7b35b2ba91b2. Forecasting as 1.\n",
      "Not enough data for product_id: 03894c9a40bf32b84a349ef0ddfccc1d. Forecasting as 1.\n",
      "Not enough data for product_id: 038c0dd7c1e48a1588f8919a0c305727. Forecasting as 1.\n",
      "Not enough data for product_id: 03940e741e919e2c258e177d875f8423. Forecasting as 1.\n",
      "Not enough data for product_id: 03973c594aba6474ba73ab090dcdc4e2. Forecasting as 1.\n",
      "Not enough data for product_id: 03973c875a4653e663aede2c46a957f6. Forecasting as 1.\n",
      "Not enough data for product_id: 039e946aff78252a2e83b8fa1adf837d. Forecasting as 1.\n"
     ]
    },
    {
     "name": "stderr",
     "output_type": "stream",
     "text": [
      "02:58:14 - cmdstanpy - INFO - Chain [1] start processing\n",
      "02:58:14 - cmdstanpy - INFO - Chain [1] done processing\n"
     ]
    },
    {
     "name": "stdout",
     "output_type": "stream",
     "text": [
      "Not enough data for product_id: 03a22dc9d5b99f07ca366f91aa7f7e4b. Forecasting as 1.\n",
      "Not enough data for product_id: 03a8d0921d804ba08d3da40064a4e281. Forecasting as 1.\n"
     ]
    },
    {
     "name": "stderr",
     "output_type": "stream",
     "text": [
      "02:58:15 - cmdstanpy - INFO - Chain [1] start processing\n",
      "02:58:15 - cmdstanpy - INFO - Chain [1] done processing\n"
     ]
    },
    {
     "name": "stdout",
     "output_type": "stream",
     "text": [
      "Not enough data for product_id: 03ac940e93916395ea0483161cc84d5c. Forecasting as 1.\n",
      "Not enough data for product_id: 03b10f5e3ef07cfc27a025adca3fd0be. Forecasting as 1.\n",
      "Not enough data for product_id: 03ba2b6c24374d16022585b6b1b385e1. Forecasting as 1.\n"
     ]
    },
    {
     "name": "stderr",
     "output_type": "stream",
     "text": [
      "02:58:18 - cmdstanpy - INFO - Chain [1] start processing\n",
      "02:58:18 - cmdstanpy - INFO - Chain [1] done processing\n",
      "02:58:19 - cmdstanpy - INFO - Chain [1] start processing\n",
      "02:58:19 - cmdstanpy - INFO - Chain [1] done processing\n"
     ]
    },
    {
     "name": "stdout",
     "output_type": "stream",
     "text": [
      "Not enough data for product_id: 03c14a3d479e334e87ee5baf2563811d. Forecasting as 1.\n",
      "Not enough data for product_id: 03c1fa561b6e1d70f9fa22ab1f08c762. Forecasting as 1.\n",
      "Not enough data for product_id: 03c526c6224e8b74620b3b1ff4d0f3ad. Forecasting as 1.\n",
      "Not enough data for product_id: 03ccf3bdaa33497fa04d1e2f746a4555. Forecasting as 1.\n",
      "Not enough data for product_id: 03d03978afe1dc3c70e611629e8d8fe8. Forecasting as 1.\n",
      "Not enough data for product_id: 03d10117bf5dbd1e4f194566be73de5a. Forecasting as 1.\n",
      "Not enough data for product_id: 03d19e503abb1698d26d630c0017b11e. Forecasting as 1.\n",
      "Not enough data for product_id: 03d463c3dea9d1650ce0683b7c964b03. Forecasting as 1.\n",
      "Not enough data for product_id: 03d4805d42e229c0fb34e5eb7fee281f. Forecasting as 1.\n",
      "Not enough data for product_id: 03d5bcd7db52bee20887c5034650185d. Forecasting as 1.\n",
      "Not enough data for product_id: 03d817e5e392e78674ed0bd8195f9159. Forecasting as 1.\n",
      "Not enough data for product_id: 03da3203e7fba42baf48e3d87cd4b75b. Forecasting as 1.\n",
      "Not enough data for product_id: 03dc797f6faaa324fb633c518ff3f326. Forecasting as 1.\n",
      "Not enough data for product_id: 03df27817e9494be978b56cc083a0beb. Forecasting as 1.\n"
     ]
    },
    {
     "name": "stderr",
     "output_type": "stream",
     "text": [
      "02:58:25 - cmdstanpy - INFO - Chain [1] start processing\n",
      "02:58:25 - cmdstanpy - INFO - Chain [1] done processing\n",
      "02:58:26 - cmdstanpy - INFO - Chain [1] start processing\n",
      "02:58:26 - cmdstanpy - INFO - Chain [1] done processing\n"
     ]
    },
    {
     "name": "stdout",
     "output_type": "stream",
     "text": [
      "Not enough data for product_id: 03e606af3a694d55bf9abce7f5b07c42. Forecasting as 1.\n",
      "Not enough data for product_id: 03e7d29d9988a30815f1f20b6549881f. Forecasting as 1.\n"
     ]
    },
    {
     "name": "stderr",
     "output_type": "stream",
     "text": [
      "02:58:27 - cmdstanpy - INFO - Chain [1] start processing\n",
      "02:58:36 - cmdstanpy - INFO - Chain [1] done processing\n"
     ]
    },
    {
     "name": "stdout",
     "output_type": "stream",
     "text": [
      "Not enough data for product_id: 03f02ee5e8fd233d41dcfe8ad911cf7e. Forecasting as 1.\n",
      "Not enough data for product_id: 03feb64db1d0ea0aaad178536a2d0640. Forecasting as 1.\n",
      "Not enough data for product_id: 03ff4bf1cbb9b00aca270dac77757582. Forecasting as 1.\n",
      "Not enough data for product_id: 040088789b98987ea1df150fd7fabfd7. Forecasting as 1.\n",
      "Not enough data for product_id: 04008f5a086abe248a3c76bc2fa4f4e1. Forecasting as 1.\n",
      "Not enough data for product_id: 04014f5d30de9dbe77b421f63985b5ef. Forecasting as 1.\n",
      "Not enough data for product_id: 040b8534cb74ddaae70c21541f449630. Forecasting as 1.\n"
     ]
    },
    {
     "name": "stderr",
     "output_type": "stream",
     "text": [
      "02:58:40 - cmdstanpy - INFO - Chain [1] start processing\n",
      "02:58:43 - cmdstanpy - INFO - Chain [1] done processing\n"
     ]
    },
    {
     "name": "stdout",
     "output_type": "stream",
     "text": [
      "Not enough data for product_id: 04120fb9b3f90600e5ae1f2a2cde53e3. Forecasting as 1.\n"
     ]
    },
    {
     "name": "stderr",
     "output_type": "stream",
     "text": [
      "02:58:44 - cmdstanpy - INFO - Chain [1] start processing\n",
      "02:58:46 - cmdstanpy - INFO - Chain [1] done processing\n"
     ]
    },
    {
     "name": "stdout",
     "output_type": "stream",
     "text": [
      "Not enough data for product_id: 04162d7f092b675a184e76e91fd521d4. Forecasting as 1.\n",
      "Not enough data for product_id: 041644fcb6426ab2a7c992fac010771a. Forecasting as 1.\n",
      "Not enough data for product_id: 0418d6ca9336c4a7ef9667aac0be1976. Forecasting as 1.\n",
      "Not enough data for product_id: 0419e76e19f81672eb13b6a8bd19a5cb. Forecasting as 1.\n",
      "Not enough data for product_id: 041b5d4393ea83147e2a07e55cd5359c. Forecasting as 1.\n",
      "Not enough data for product_id: 041bf61cdb6e9b519aa70a4eed0bd4ce. Forecasting as 1.\n",
      "Not enough data for product_id: 042426e17752f5d722a5b80940edc915. Forecasting as 1.\n",
      "Not enough data for product_id: 042535091ac9e946489c2155a0392c47. Forecasting as 1.\n",
      "Not enough data for product_id: 04262a7ed71aa34edfde0f8429598505. Forecasting as 1.\n",
      "Not enough data for product_id: 04329467c8ed269551b5d85dd137eeef. Forecasting as 1.\n",
      "Not enough data for product_id: 043424c9047266b778d9f440c63dc349. Forecasting as 1.\n"
     ]
    },
    {
     "name": "stderr",
     "output_type": "stream",
     "text": [
      "02:58:52 - cmdstanpy - INFO - Chain [1] start processing\n",
      "02:58:52 - cmdstanpy - INFO - Chain [1] done processing\n"
     ]
    },
    {
     "name": "stdout",
     "output_type": "stream",
     "text": [
      "Not enough data for product_id: 043d7f9943fc2e97d21728cff9c608f2. Forecasting as 1.\n",
      "Not enough data for product_id: 043f9194337f5d8cd7092f581e0bc394. Forecasting as 1.\n"
     ]
    },
    {
     "name": "stderr",
     "output_type": "stream",
     "text": [
      "02:58:53 - cmdstanpy - INFO - Chain [1] start processing\n",
      "02:58:54 - cmdstanpy - INFO - Chain [1] done processing\n"
     ]
    },
    {
     "name": "stdout",
     "output_type": "stream",
     "text": [
      "Not enough data for product_id: 044814613492fc3e12bda239e12d6b68. Forecasting as 1.\n",
      "Not enough data for product_id: 0449db5eede617c5fd413071d582f038. Forecasting as 1.\n",
      "Not enough data for product_id: 0449efdb5b6a5d301b098972abd1749e. Forecasting as 1.\n",
      "Not enough data for product_id: 044de1dc695094f06e9eca6c19921f20. Forecasting as 1.\n"
     ]
    },
    {
     "name": "stderr",
     "output_type": "stream",
     "text": [
      "02:58:56 - cmdstanpy - INFO - Chain [1] start processing\n",
      "02:58:56 - cmdstanpy - INFO - Chain [1] done processing\n"
     ]
    },
    {
     "name": "stdout",
     "output_type": "stream",
     "text": [
      "Not enough data for product_id: 044f125d78e0a631b0479182a37aab8c. Forecasting as 1.\n",
      "Not enough data for product_id: 0453f63a85b66c3950381599dbbfb2ec. Forecasting as 1.\n",
      "Not enough data for product_id: 04565ebccdd3c4acc43789823458d6a8. Forecasting as 1.\n",
      "Not enough data for product_id: 04574f4bc055655311e798b4e277b9af. Forecasting as 1.\n",
      "Not enough data for product_id: 045bb60690dbae4f06160b45556463a1. Forecasting as 1.\n",
      "Not enough data for product_id: 045e41f597e72ebfe5e9de50788fbf03. Forecasting as 1.\n"
     ]
    },
    {
     "name": "stderr",
     "output_type": "stream",
     "text": [
      "02:59:00 - cmdstanpy - INFO - Chain [1] start processing\n",
      "02:59:00 - cmdstanpy - INFO - Chain [1] done processing\n"
     ]
    },
    {
     "name": "stdout",
     "output_type": "stream",
     "text": [
      "Not enough data for product_id: 046bb8477448980cb3355e0702e77a0e. Forecasting as 1.\n"
     ]
    },
    {
     "name": "stderr",
     "output_type": "stream",
     "text": [
      "02:59:02 - cmdstanpy - INFO - Chain [1] start processing\n",
      "02:59:04 - cmdstanpy - INFO - Chain [1] done processing\n"
     ]
    },
    {
     "name": "stdout",
     "output_type": "stream",
     "text": [
      "Not enough data for product_id: 047c0b8057bd86c48c41d3b582d80c90. Forecasting as 1.\n",
      "Not enough data for product_id: 04808b9886b62b9c06b4c433e420dfbf. Forecasting as 1.\n",
      "Not enough data for product_id: 04867a0efbf0779b221235559860b9b8. Forecasting as 1.\n",
      "Not enough data for product_id: 04869307f7e7dc5b07f1d83406ade1e5. Forecasting as 1.\n",
      "Not enough data for product_id: 048b4eb037d1114ddc13a9653b5f2381. Forecasting as 1.\n",
      "Not enough data for product_id: 048bb098a0e194ddc3d0287b954bc9d8. Forecasting as 1.\n",
      "Not enough data for product_id: 048c45eaa9b885243959f59ddf2b21f4. Forecasting as 1.\n",
      "Not enough data for product_id: 048dc5e495c6f5e54f22fa6cd23c3e5f. Forecasting as 1.\n",
      "Not enough data for product_id: 04913106077ff97c89fa5e6b289fa25c. Forecasting as 1.\n",
      "Not enough data for product_id: 04939dcb29e2a26106610d8e1ef03b98. Forecasting as 1.\n",
      "Not enough data for product_id: 049469901143a0f4ead566611fda0544. Forecasting as 1.\n"
     ]
    },
    {
     "name": "stderr",
     "output_type": "stream",
     "text": [
      "02:59:10 - cmdstanpy - INFO - Chain [1] start processing\n",
      "02:59:10 - cmdstanpy - INFO - Chain [1] done processing\n"
     ]
    },
    {
     "name": "stdout",
     "output_type": "stream",
     "text": [
      "Not enough data for product_id: 049b55359c60ea6403938b9e408f40b8. Forecasting as 1.\n",
      "Not enough data for product_id: 049e64366e5301baa9060eef6b10f217. Forecasting as 1.\n",
      "Not enough data for product_id: 04a2ef44f3ea03a72be6f1f99ee0bfe6. Forecasting as 1.\n"
     ]
    },
    {
     "name": "stderr",
     "output_type": "stream",
     "text": [
      "02:59:12 - cmdstanpy - INFO - Chain [1] start processing\n",
      "02:59:15 - cmdstanpy - INFO - Chain [1] done processing\n"
     ]
    },
    {
     "name": "stdout",
     "output_type": "stream",
     "text": [
      "Not enough data for product_id: 04a58e66cae7d954a87cb7fbb67b204c. Forecasting as 1.\n",
      "Not enough data for product_id: 04abe952a7292c9914a0ddade6371114. Forecasting as 1.\n",
      "Not enough data for product_id: 04b2173a311a1fe1a8c90a59c0a0f474. Forecasting as 1.\n",
      "Not enough data for product_id: 04bbe69bca409d1d1fdd812267c89302. Forecasting as 1.\n",
      "Not enough data for product_id: 04bd5aedb2f07b8078ef7dcbfb79db00. Forecasting as 1.\n",
      "Not enough data for product_id: 04be6baed9b1c67197a4b2dd2f5b637c. Forecasting as 1.\n"
     ]
    },
    {
     "name": "stderr",
     "output_type": "stream",
     "text": [
      "02:59:18 - cmdstanpy - INFO - Chain [1] start processing\n",
      "02:59:18 - cmdstanpy - INFO - Chain [1] done processing\n"
     ]
    },
    {
     "name": "stdout",
     "output_type": "stream",
     "text": [
      "Not enough data for product_id: 04c31b0da644f1782603183f8fba274c. Forecasting as 1.\n",
      "Not enough data for product_id: 04c4182bda52366f3c4b8817ddbcd98e. Forecasting as 1.\n",
      "Not enough data for product_id: 04c4239553c71aafb3b2b5f74f165210. Forecasting as 1.\n"
     ]
    },
    {
     "name": "stderr",
     "output_type": "stream",
     "text": [
      "02:59:20 - cmdstanpy - INFO - Chain [1] start processing\n",
      "02:59:20 - cmdstanpy - INFO - Chain [1] done processing\n"
     ]
    },
    {
     "name": "stdout",
     "output_type": "stream",
     "text": [
      "Not enough data for product_id: 04cb9679db724268544436f40166c3ed. Forecasting as 1.\n",
      "Not enough data for product_id: 04d1e516df784ab0cc7cb3b74a0933d2. Forecasting as 1.\n",
      "Not enough data for product_id: 04d5a0ec1f6db00db01676199151df4c. Forecasting as 1.\n"
     ]
    },
    {
     "name": "stderr",
     "output_type": "stream",
     "text": [
      "02:59:23 - cmdstanpy - INFO - Chain [1] start processing\n",
      "02:59:23 - cmdstanpy - INFO - Chain [1] done processing\n"
     ]
    },
    {
     "name": "stdout",
     "output_type": "stream",
     "text": [
      "Not enough data for product_id: 04d752c2cda8f0972a8ab10ac9abdf12. Forecasting as 1.\n",
      "Not enough data for product_id: 04d7da0499dd7cdfba6ef58c85e70324. Forecasting as 1.\n"
     ]
    },
    {
     "name": "stderr",
     "output_type": "stream",
     "text": [
      "02:59:24 - cmdstanpy - INFO - Chain [1] start processing\n",
      "02:59:24 - cmdstanpy - INFO - Chain [1] done processing\n"
     ]
    },
    {
     "name": "stdout",
     "output_type": "stream",
     "text": [
      "Not enough data for product_id: 04ddfb2cdbf048af94dc37e1bb0d3b04. Forecasting as 1.\n",
      "Not enough data for product_id: 04de91d60b1cc9be205fb4a63c87bece. Forecasting as 1.\n",
      "Not enough data for product_id: 04e1e16bdb6952a60aa9c37334dc8eb3. Forecasting as 1.\n",
      "Not enough data for product_id: 04e4e5d3a78ebbd1a943769293829c68. Forecasting as 1.\n",
      "Not enough data for product_id: 04e8d74439cda81827c2cff9f165f4c5. Forecasting as 1.\n",
      "Not enough data for product_id: 04e9efe8ce063de2e031eb806396f456. Forecasting as 1.\n",
      "Not enough data for product_id: 04ea859686940874c6f624314a14070a. Forecasting as 1.\n",
      "Not enough data for product_id: 04f6c1fd057cc96a63e1f9579ddb942b. Forecasting as 1.\n",
      "Not enough data for product_id: 04f8b8f9921310178d65bcba23fbe639. Forecasting as 1.\n",
      "Not enough data for product_id: 04f92f94955d380b722ed941f2e6e51c. Forecasting as 1.\n",
      "Not enough data for product_id: 04f982a576e5d149919df37e292fa79e. Forecasting as 1.\n",
      "Not enough data for product_id: 04f9876e5833ccf6df7934aaebd19faf. Forecasting as 1.\n",
      "Not enough data for product_id: 04f9ba792a88dcfa0a4ecadb4d0ad913. Forecasting as 1.\n",
      "Not enough data for product_id: 04fa587378a8e74c3b0acc00efecc93e. Forecasting as 1.\n",
      "Not enough data for product_id: 04fd8d64a2539d188bef33bb288410bb. Forecasting as 1.\n",
      "Not enough data for product_id: 050245daefa14dcfc8048e9c6a586d2c. Forecasting as 1.\n"
     ]
    },
    {
     "name": "stderr",
     "output_type": "stream",
     "text": [
      "02:59:31 - cmdstanpy - INFO - Chain [1] start processing\n",
      "02:59:31 - cmdstanpy - INFO - Chain [1] done processing\n"
     ]
    },
    {
     "name": "stdout",
     "output_type": "stream",
     "text": [
      "Not enough data for product_id: 0504d5c0f9b71510b2b0bee952e380fa. Forecasting as 1.\n",
      "Not enough data for product_id: 050ab8e1f87a468de0eed97451da3efd. Forecasting as 1.\n",
      "Not enough data for product_id: 050d890ccc1c0874e166c9af9c6dd821. Forecasting as 1.\n",
      "Not enough data for product_id: 05177c02b7f7e985fb4a90d1465f0fba. Forecasting as 1.\n",
      "Not enough data for product_id: 051b9ff13dd55c0a6655a15ff296f80d. Forecasting as 1.\n",
      "Not enough data for product_id: 051e6f6764c9b60143dffafd0c5d1a25. Forecasting as 1.\n"
     ]
    },
    {
     "name": "stderr",
     "output_type": "stream",
     "text": [
      "02:59:35 - cmdstanpy - INFO - Chain [1] start processing\n",
      "02:59:40 - cmdstanpy - INFO - Chain [1] done processing\n"
     ]
    },
    {
     "name": "stdout",
     "output_type": "stream",
     "text": [
      "Not enough data for product_id: 05237facc08e138d9cec4742f145cc00. Forecasting as 1.\n"
     ]
    },
    {
     "name": "stderr",
     "output_type": "stream",
     "text": [
      "02:59:41 - cmdstanpy - INFO - Chain [1] start processing\n",
      "02:59:41 - cmdstanpy - INFO - Chain [1] done processing\n"
     ]
    },
    {
     "name": "stdout",
     "output_type": "stream",
     "text": [
      "Not enough data for product_id: 052516c377ebbc53a39f053af1db08b4. Forecasting as 1.\n",
      "Not enough data for product_id: 0526bcd59b4bbb167f8a4e93d56c0a07. Forecasting as 1.\n",
      "Not enough data for product_id: 052dd43729ce1a56b5e083888ad5916f. Forecasting as 1.\n",
      "Not enough data for product_id: 052e139cd94698e09bb2502cdc7b9287. Forecasting as 1.\n",
      "Not enough data for product_id: 052fa8abc4bd8f9e32329a610fc878e2. Forecasting as 1.\n",
      "Not enough data for product_id: 05317e90a20f490f4749cd92d33e0fbb. Forecasting as 1.\n",
      "Not enough data for product_id: 0533c5ec3a042521493cfb6e12d6befd. Forecasting as 1.\n",
      "Not enough data for product_id: 0534940d69bf94dc61c0e722b4168235. Forecasting as 1.\n",
      "Not enough data for product_id: 0538b3ea14af3cc3ee6bdaf940367cee. Forecasting as 1.\n",
      "Not enough data for product_id: 053bc43c110771a8ade43dd4462c3fa0. Forecasting as 1.\n",
      "Not enough data for product_id: 053c1c7045cfb67d04d8c5a8dc9fc054. Forecasting as 1.\n",
      "Not enough data for product_id: 0540951fb114c6a30e6a43562983ce9f. Forecasting as 1.\n",
      "Not enough data for product_id: 05431e0dd637e910dd67d7ad823e8437. Forecasting as 1.\n",
      "Not enough data for product_id: 0543393758e5da8203fc69c4e6707c75. Forecasting as 1.\n"
     ]
    },
    {
     "name": "stderr",
     "output_type": "stream",
     "text": [
      "02:59:49 - cmdstanpy - INFO - Chain [1] start processing\n",
      "02:59:50 - cmdstanpy - INFO - Chain [1] done processing\n"
     ]
    },
    {
     "name": "stdout",
     "output_type": "stream",
     "text": [
      "Not enough data for product_id: 0546131238f7e9d6b5c24dbb5d8e3133. Forecasting as 1.\n",
      "Not enough data for product_id: 0547b998c6f8893fab4ba02d5636c10f. Forecasting as 1.\n",
      "Not enough data for product_id: 054b1ab366729788a3717961085aec01. Forecasting as 1.\n",
      "Not enough data for product_id: 054f9a8859dc532322504741c66d799f. Forecasting as 1.\n",
      "Not enough data for product_id: 05542c6ab7bce0a01a5f7210380e72b3. Forecasting as 1.\n",
      "Not enough data for product_id: 0554911df28fda9fd668ce5ba5949695. Forecasting as 1.\n"
     ]
    },
    {
     "name": "stderr",
     "output_type": "stream",
     "text": [
      "02:59:52 - cmdstanpy - INFO - Chain [1] start processing\n",
      "02:59:53 - cmdstanpy - INFO - Chain [1] done processing\n"
     ]
    },
    {
     "name": "stdout",
     "output_type": "stream",
     "text": [
      "Not enough data for product_id: 05555b7712bfdb1c0809b44166e33a25. Forecasting as 1.\n",
      "Not enough data for product_id: 055b53c58f373d53438cefb346ffcbbf. Forecasting as 1.\n",
      "Not enough data for product_id: 055e4f6156ba6c0daab61cd40d5530fe. Forecasting as 1.\n"
     ]
    },
    {
     "name": "stderr",
     "output_type": "stream",
     "text": [
      "02:59:56 - cmdstanpy - INFO - Chain [1] start processing\n",
      "02:59:56 - cmdstanpy - INFO - Chain [1] done processing\n"
     ]
    },
    {
     "name": "stdout",
     "output_type": "stream",
     "text": [
      "Not enough data for product_id: 0561435e3af107a3bd2104466ad5985a. Forecasting as 1.\n",
      "Not enough data for product_id: 0563d4cc419141eab2e5b438046e844e. Forecasting as 1.\n",
      "Not enough data for product_id: 05649d71cdf7d7ec2bbd7a717179de0f. Forecasting as 1.\n",
      "Not enough data for product_id: 0568858419b609bd068bec047de0a1c8. Forecasting as 1.\n",
      "Not enough data for product_id: 05696da7eee323669666f62228d00f78. Forecasting as 1.\n"
     ]
    },
    {
     "name": "stderr",
     "output_type": "stream",
     "text": [
      "02:59:58 - cmdstanpy - INFO - Chain [1] start processing\n",
      "02:59:59 - cmdstanpy - INFO - Chain [1] done processing\n"
     ]
    },
    {
     "name": "stdout",
     "output_type": "stream",
     "text": [
      "Not enough data for product_id: 056d07eb7d9c446e3780a3a7f102190d. Forecasting as 1.\n",
      "Not enough data for product_id: 056fc939c78534a5fb6a762ef17d912e. Forecasting as 1.\n",
      "Not enough data for product_id: 0573b564a90d2d9f9c460eb963da8c33. Forecasting as 1.\n",
      "Not enough data for product_id: 057df564fda79ad8fa5e1928dfbe3e8c. Forecasting as 1.\n",
      "Not enough data for product_id: 0581c05e8e3c0d17ea0ef8904419ec00. Forecasting as 1.\n",
      "Not enough data for product_id: 0583170ba3f70162729f40600f8a4abf. Forecasting as 1.\n",
      "Not enough data for product_id: 05869034bc6aeae6869a573000cdcc43. Forecasting as 1.\n",
      "Not enough data for product_id: 058755c380722a806fc5440093c2c5bf. Forecasting as 1.\n",
      "Not enough data for product_id: 05890763390aff71105dd223c0b9b225. Forecasting as 1.\n",
      "Not enough data for product_id: 058f0416fd2fad8fb4cd0443ade6a42b. Forecasting as 1.\n"
     ]
    },
    {
     "name": "stderr",
     "output_type": "stream",
     "text": [
      "03:00:06 - cmdstanpy - INFO - Chain [1] start processing\n",
      "03:00:06 - cmdstanpy - INFO - Chain [1] done processing\n"
     ]
    },
    {
     "name": "stdout",
     "output_type": "stream",
     "text": [
      "Not enough data for product_id: 059d3cf4de5bc9099cdb4c10ee7e84d5. Forecasting as 1.\n",
      "Not enough data for product_id: 059dce566827cd3b3274f2b986d5c0db. Forecasting as 1.\n",
      "Not enough data for product_id: 059edbecfc72eba55fbd079a25c4ab6b. Forecasting as 1.\n",
      "Not enough data for product_id: 059ee207a4d5628c8aefe497c3d088f3. Forecasting as 1.\n",
      "Not enough data for product_id: 059fd0cc43081303f7c0d7770ab53d52. Forecasting as 1.\n",
      "Not enough data for product_id: 05a360982be454c7e715c0fec4f67243. Forecasting as 1.\n",
      "Not enough data for product_id: 05a4cea3c80d33b04145946e6c5e0fa9. Forecasting as 1.\n",
      "Not enough data for product_id: 05a6b99c0460f22f5f8101493c0e3c0e. Forecasting as 1.\n",
      "Not enough data for product_id: 05a75cd320865bee3f3b69014ba5bddc. Forecasting as 1.\n"
     ]
    },
    {
     "name": "stderr",
     "output_type": "stream",
     "text": [
      "03:00:10 - cmdstanpy - INFO - Chain [1] start processing\n",
      "03:00:10 - cmdstanpy - INFO - Chain [1] done processing\n"
     ]
    },
    {
     "name": "stdout",
     "output_type": "stream",
     "text": [
      "Not enough data for product_id: 05ad2310de31ddb8bc7f976b6fe02db7. Forecasting as 1.\n",
      "Not enough data for product_id: 05aed8abae327b8ffd61bc5255566bcb. Forecasting as 1.\n",
      "Not enough data for product_id: 05b0567fb831a93123b9d6866b022490. Forecasting as 1.\n",
      "Not enough data for product_id: 05b0feccfab2debfdb5744e42bdb6f71. Forecasting as 1.\n",
      "Not enough data for product_id: 05b1d0c869d183ecb8459207a33066f5. Forecasting as 1.\n",
      "Not enough data for product_id: 05b316ac6e25ef5776b4841f5696bfb8. Forecasting as 1.\n",
      "Not enough data for product_id: 05b4647d7e40f280dc06e3d69deaba21. Forecasting as 1.\n",
      "Not enough data for product_id: 05b4834511e1cdb34899d52589ac9271. Forecasting as 1.\n",
      "Not enough data for product_id: 05b515fdc76e888aada3c6d66c201dff. Forecasting as 1.\n",
      "Not enough data for product_id: 05b9a00b36b50edaea8de91b8c19fc22. Forecasting as 1.\n",
      "Not enough data for product_id: 05bb531648459f3fb15bda0cdbf21322. Forecasting as 1.\n",
      "Not enough data for product_id: 05bee157001350b29b1e48395f6736a5. Forecasting as 1.\n",
      "Not enough data for product_id: 05c11568c221bcac5790a8720019d141. Forecasting as 1.\n",
      "Not enough data for product_id: 05c24fd82c39e05337fcc418f0a61e54. Forecasting as 1.\n"
     ]
    },
    {
     "name": "stderr",
     "output_type": "stream",
     "text": [
      "03:00:16 - cmdstanpy - INFO - Chain [1] start processing\n",
      "03:00:19 - cmdstanpy - INFO - Chain [1] done processing\n"
     ]
    },
    {
     "name": "stdout",
     "output_type": "stream",
     "text": [
      "Not enough data for product_id: 05c6133a109016f9fc73aea25cb1f5c0. Forecasting as 1.\n",
      "Not enough data for product_id: 05c693a8085dad009cebdcf2830ab738. Forecasting as 1.\n",
      "Not enough data for product_id: 05c723fd782f0208b09b7c86f5220a5b. Forecasting as 1.\n",
      "Not enough data for product_id: 05cd024f2c54923c3396db4156fdaa44. Forecasting as 1.\n",
      "Not enough data for product_id: 05cf9ac595f28386ee763c98cbc2bad0. Forecasting as 1.\n",
      "Not enough data for product_id: 05d0558798a718f6f4658acd8b0e65e1. Forecasting as 1.\n",
      "Not enough data for product_id: 05d26098907b7bd26c0f92feefd10eae. Forecasting as 1.\n",
      "Not enough data for product_id: 05d3d52aea100aa2f887fd940991f040. Forecasting as 1.\n",
      "Not enough data for product_id: 05d43e31ef4408f944a3de2d18b0f755. Forecasting as 1.\n",
      "Not enough data for product_id: 05d59e1191b873b988a6db5663923260. Forecasting as 1.\n",
      "Not enough data for product_id: 05d7b955682862c7ee7db5c1a7d728ce. Forecasting as 1.\n",
      "Not enough data for product_id: 05d7deab2f99410d5fa21a75deaa1fad. Forecasting as 1.\n",
      "Not enough data for product_id: 05d7e1ea3fb7a5e3bf83bb9801603418. Forecasting as 1.\n"
     ]
    },
    {
     "name": "stderr",
     "output_type": "stream",
     "text": [
      "03:00:25 - cmdstanpy - INFO - Chain [1] start processing\n",
      "03:00:27 - cmdstanpy - INFO - Chain [1] done processing\n"
     ]
    },
    {
     "name": "stdout",
     "output_type": "stream",
     "text": [
      "Not enough data for product_id: 05e75e2ebb007f6cadbc9925311b014b. Forecasting as 1.\n",
      "Not enough data for product_id: 05e896ddcd2490d4185badce5f9b45e4. Forecasting as 1.\n",
      "Not enough data for product_id: 05eabe04aa341d8960d07f9b398d7a3f. Forecasting as 1.\n",
      "Not enough data for product_id: 05ed196725fbeca4876c2181780d89bb. Forecasting as 1.\n",
      "Not enough data for product_id: 05eee88d9d208fa34d4246aae4025381. Forecasting as 1.\n",
      "Not enough data for product_id: 05f65453e3770efa763d5b2884842fe2. Forecasting as 1.\n",
      "Not enough data for product_id: 05f8865da7fa719bf5e94039cfe17c4d. Forecasting as 1.\n",
      "Not enough data for product_id: 05f97ad4ce078ed1de8882e1824eb07f. Forecasting as 1.\n"
     ]
    },
    {
     "name": "stderr",
     "output_type": "stream",
     "text": [
      "03:00:32 - cmdstanpy - INFO - Chain [1] start processing\n",
      "03:00:36 - cmdstanpy - INFO - Chain [1] done processing\n"
     ]
    },
    {
     "name": "stdout",
     "output_type": "stream",
     "text": [
      "Not enough data for product_id: 05fa32a505166cc577354e48a194659d. Forecasting as 1.\n",
      "Not enough data for product_id: 05fa60020215fd65f8f8b9dd441f864b. Forecasting as 1.\n",
      "Not enough data for product_id: 05fb095572e53e2a567a685765101704. Forecasting as 1.\n",
      "Not enough data for product_id: 05fb84a7689847058e6b9e9dbd7a6c06. Forecasting as 1.\n"
     ]
    },
    {
     "name": "stderr",
     "output_type": "stream",
     "text": [
      "03:00:38 - cmdstanpy - INFO - Chain [1] start processing\n",
      "03:00:38 - cmdstanpy - INFO - Chain [1] done processing\n"
     ]
    },
    {
     "name": "stdout",
     "output_type": "stream",
     "text": [
      "Not enough data for product_id: 05fd551a225783b6a2b14d1e3d1a6372. Forecasting as 1.\n"
     ]
    },
    {
     "name": "stderr",
     "output_type": "stream",
     "text": [
      "03:00:38 - cmdstanpy - INFO - Chain [1] start processing\n",
      "03:00:42 - cmdstanpy - INFO - Chain [1] done processing\n"
     ]
    },
    {
     "name": "stdout",
     "output_type": "stream",
     "text": [
      "Not enough data for product_id: 06016387c52742ed3e0a128e0ffb6b47. Forecasting as 1.\n",
      "Not enough data for product_id: 0602bc6086443c4e9b9e5ba88119ce08. Forecasting as 1.\n"
     ]
    },
    {
     "name": "stderr",
     "output_type": "stream",
     "text": [
      "03:00:43 - cmdstanpy - INFO - Chain [1] start processing\n",
      "03:00:43 - cmdstanpy - INFO - Chain [1] done processing\n",
      "03:00:44 - cmdstanpy - INFO - Chain [1] start processing\n",
      "03:00:44 - cmdstanpy - INFO - Chain [1] done processing\n",
      "03:00:44 - cmdstanpy - INFO - Chain [1] start processing\n",
      "03:00:44 - cmdstanpy - INFO - Chain [1] done processing\n"
     ]
    },
    {
     "name": "stdout",
     "output_type": "stream",
     "text": [
      "Not enough data for product_id: 0606451146029c2f85c958b9cce49735. Forecasting as 1.\n",
      "Not enough data for product_id: 060b5b8d4937e08d87e86d0bf339aaeb. Forecasting as 1.\n"
     ]
    },
    {
     "name": "stderr",
     "output_type": "stream",
     "text": [
      "03:00:46 - cmdstanpy - INFO - Chain [1] start processing\n",
      "03:00:46 - cmdstanpy - INFO - Chain [1] done processing\n"
     ]
    },
    {
     "name": "stdout",
     "output_type": "stream",
     "text": [
      "Not enough data for product_id: 060c584206d08377a1408fd7afc08b0f. Forecasting as 1.\n"
     ]
    },
    {
     "name": "stderr",
     "output_type": "stream",
     "text": [
      "03:00:47 - cmdstanpy - INFO - Chain [1] start processing\n",
      "03:00:47 - cmdstanpy - INFO - Chain [1] done processing\n"
     ]
    },
    {
     "name": "stdout",
     "output_type": "stream",
     "text": [
      "Not enough data for product_id: 060ea530ba6184d49f7b1cc031c4c97e. Forecasting as 1.\n",
      "Not enough data for product_id: 060ed45e8d50384910a47c9224931f56. Forecasting as 1.\n"
     ]
    },
    {
     "name": "stderr",
     "output_type": "stream",
     "text": [
      "03:00:49 - cmdstanpy - INFO - Chain [1] start processing\n",
      "03:00:49 - cmdstanpy - INFO - Chain [1] done processing\n"
     ]
    },
    {
     "name": "stdout",
     "output_type": "stream",
     "text": [
      "Not enough data for product_id: 0617fc134ca8e00687023ad84d2358cc. Forecasting as 1.\n",
      "Not enough data for product_id: 061885af8dbda5739d592a153655e574. Forecasting as 1.\n",
      "Not enough data for product_id: 061b1614b0e2a54bb06f23af8308b55d. Forecasting as 1.\n",
      "Not enough data for product_id: 061b4ab52739c3c14397c29df80c597a. Forecasting as 1.\n",
      "Not enough data for product_id: 061fa9845070ffff2d23e8e10bdf8edc. Forecasting as 1.\n",
      "Not enough data for product_id: 062597771ee91356ea34084f28c03a4b. Forecasting as 1.\n",
      "Not enough data for product_id: 062907032db5e0c065bab136233a9544. Forecasting as 1.\n",
      "Not enough data for product_id: 062c203528884afcf5ab3bcd04593f51. Forecasting as 1.\n",
      "Not enough data for product_id: 062d69b626c072fa369799d0018c95d7. Forecasting as 1.\n",
      "Not enough data for product_id: 062e425d963f3eac04709162c3ce6782. Forecasting as 1.\n",
      "Not enough data for product_id: 0630f740d3f05c50f85d7dd7cffc60a3. Forecasting as 1.\n",
      "Not enough data for product_id: 06324724a73c341e0826729d63a8d5bc. Forecasting as 1.\n",
      "Not enough data for product_id: 063595b8c2acd495d650be922916fbff. Forecasting as 1.\n",
      "Not enough data for product_id: 06398d4e8885390c99322d5e4aedcc16. Forecasting as 1.\n",
      "Not enough data for product_id: 063d6951f9aa6a9c2122a9492480d9ef. Forecasting as 1.\n"
     ]
    },
    {
     "name": "stderr",
     "output_type": "stream",
     "text": [
      "03:00:58 - cmdstanpy - INFO - Chain [1] start processing\n",
      "03:00:58 - cmdstanpy - INFO - Chain [1] done processing\n",
      "03:00:58 - cmdstanpy - INFO - Chain [1] start processing\n",
      "03:00:58 - cmdstanpy - INFO - Chain [1] done processing\n"
     ]
    },
    {
     "name": "stdout",
     "output_type": "stream",
     "text": [
      "Not enough data for product_id: 0645b477d9a79945e55ec6be1605b5a0. Forecasting as 1.\n",
      "Not enough data for product_id: 064767e05dd710b14c4bf5f2d50c89b8. Forecasting as 1.\n",
      "Not enough data for product_id: 064a939bcd597315cfda6c98ede1b4c3. Forecasting as 1.\n",
      "Not enough data for product_id: 064c975d37d3c646bd94d94c6e16f37e. Forecasting as 1.\n"
     ]
    },
    {
     "name": "stderr",
     "output_type": "stream",
     "text": [
      "03:01:02 - cmdstanpy - INFO - Chain [1] start processing\n",
      "03:01:03 - cmdstanpy - INFO - Chain [1] done processing\n"
     ]
    },
    {
     "name": "stdout",
     "output_type": "stream",
     "text": [
      "Not enough data for product_id: 064f1ab0fbfe1fffb87fbf1acb5d4af7. Forecasting as 1.\n"
     ]
    },
    {
     "name": "stderr",
     "output_type": "stream",
     "text": [
      "03:01:03 - cmdstanpy - INFO - Chain [1] start processing\n",
      "03:01:04 - cmdstanpy - INFO - Chain [1] done processing\n"
     ]
    },
    {
     "name": "stdout",
     "output_type": "stream",
     "text": [
      "Not enough data for product_id: 0657f64d203d600602279807d6cb1dd8. Forecasting as 1.\n",
      "Not enough data for product_id: 065855099f5c20755e412cd48702d996. Forecasting as 1.\n",
      "Not enough data for product_id: 065bb8f275e61de958ffcaf0eebb1791. Forecasting as 1.\n",
      "Not enough data for product_id: 065ced48dd97c1b3322fab19e5844542. Forecasting as 1.\n",
      "Not enough data for product_id: 06600341855ab457458de92175df8bf9. Forecasting as 1.\n"
     ]
    },
    {
     "name": "stderr",
     "output_type": "stream",
     "text": [
      "03:01:06 - cmdstanpy - INFO - Chain [1] start processing\n",
      "03:01:07 - cmdstanpy - INFO - Chain [1] done processing\n"
     ]
    },
    {
     "name": "stdout",
     "output_type": "stream",
     "text": [
      "Not enough data for product_id: 0660211440ed1391f5375fbaa39443b7. Forecasting as 1.\n",
      "Not enough data for product_id: 06605f576f31279bada4552051c88fa8. Forecasting as 1.\n",
      "Not enough data for product_id: 066313d5479246299d9c2a117f55d0a3. Forecasting as 1.\n",
      "Not enough data for product_id: 0667b4afff64a57f01669f9af9ce685e. Forecasting as 1.\n",
      "Not enough data for product_id: 0668cf65b55579eb49c9f2d167c71dad. Forecasting as 1.\n",
      "Not enough data for product_id: 066bbc3a1363adc4d73e093aefd9363a. Forecasting as 1.\n",
      "Not enough data for product_id: 066cc58255ee9ccb3e6da9d3edd02a7e. Forecasting as 1.\n",
      "Not enough data for product_id: 06731ce59716357095ed1a25850320b8. Forecasting as 1.\n",
      "Not enough data for product_id: 0673601d65d060a5c4b5652cc18e3db8. Forecasting as 1.\n",
      "Not enough data for product_id: 0678913581818c6056713a9b02f5ceef. Forecasting as 1.\n",
      "Not enough data for product_id: 067a7177d086c25f597516184a07f05a. Forecasting as 1.\n",
      "Not enough data for product_id: 067c68a19be5d218b092cf260bfbd9cb. Forecasting as 1.\n",
      "Not enough data for product_id: 067e1aaf685cc3da73e97a0abf22561c. Forecasting as 1.\n",
      "Not enough data for product_id: 067e6da1c75010f933e68b76efb2273f. Forecasting as 1.\n",
      "Not enough data for product_id: 067f55bc1dd1107c9be607b643d433b3. Forecasting as 1.\n",
      "Not enough data for product_id: 06820914dffb81de2d15a50e693259ba. Forecasting as 1.\n",
      "Not enough data for product_id: 0687ef6a91e16db4955fecac89ad73cd. Forecasting as 1.\n",
      "Not enough data for product_id: 068831628652b27ae554b8a66ca6adcf. Forecasting as 1.\n",
      "Not enough data for product_id: 068b5d27e848424be23fec630a415021. Forecasting as 1.\n",
      "Not enough data for product_id: 068ee5d8c45732d9731fde32b47594df. Forecasting as 1.\n",
      "Not enough data for product_id: 06944e4b10483df8e37fe55990a0ba15. Forecasting as 1.\n"
     ]
    },
    {
     "name": "stderr",
     "output_type": "stream",
     "text": [
      "03:01:16 - cmdstanpy - INFO - Chain [1] start processing\n",
      "03:01:16 - cmdstanpy - INFO - Chain [1] done processing\n"
     ]
    },
    {
     "name": "stdout",
     "output_type": "stream",
     "text": [
      "Not enough data for product_id: 0698b5407c0c472d66ff54f57f144812. Forecasting as 1.\n",
      "Not enough data for product_id: 069b1293b22c9d000af947225ce14791. Forecasting as 1.\n",
      "Not enough data for product_id: 06a2ab007679c70b21a1123749c09719. Forecasting as 1.\n",
      "Not enough data for product_id: 06a63a471d8a08878526b37a1baa66a5. Forecasting as 1.\n",
      "Not enough data for product_id: 06a69e6ca81fc5f8b7b2887f974c6687. Forecasting as 1.\n",
      "Not enough data for product_id: 06a83883ffd4aef6c74413f718761d94. Forecasting as 1.\n",
      "Not enough data for product_id: 06aad8525aef9517e71a080aa973de58. Forecasting as 1.\n",
      "Not enough data for product_id: 06acd3480e6a1afb023ad0eb8cdeecca. Forecasting as 1.\n",
      "Not enough data for product_id: 06ae026e430189633c2fbd0288c86257. Forecasting as 1.\n",
      "Not enough data for product_id: 06b4fb6f7d3ef030f7906bb13dde0728. Forecasting as 1.\n",
      "Not enough data for product_id: 06b55f15e3505bd276acabbb4d3633f5. Forecasting as 1.\n",
      "Not enough data for product_id: 06b68710c4befc588c863ea38c7e4145. Forecasting as 1.\n",
      "Not enough data for product_id: 06b6d4805b3659e45575c03e57cef6fb. Forecasting as 1.\n",
      "Not enough data for product_id: 06bc992f73d96cb1ada2073554130d45. Forecasting as 1.\n",
      "Not enough data for product_id: 06be2efbc5799c9e578d3f6dd205b569. Forecasting as 1.\n"
     ]
    },
    {
     "name": "stderr",
     "output_type": "stream",
     "text": [
      "03:01:25 - cmdstanpy - INFO - Chain [1] start processing\n",
      "03:01:25 - cmdstanpy - INFO - Chain [1] done processing\n",
      "03:01:26 - cmdstanpy - INFO - Chain [1] start processing\n",
      "03:02:03 - cmdstanpy - INFO - Chain [1] done processing\n"
     ]
    },
    {
     "name": "stdout",
     "output_type": "stream",
     "text": [
      "Not enough data for product_id: 06c42344256e5a78e6bf38e92b1f1563. Forecasting as 1.\n"
     ]
    },
    {
     "name": "stderr",
     "output_type": "stream",
     "text": [
      "03:02:03 - cmdstanpy - INFO - Chain [1] start processing\n",
      "03:02:03 - cmdstanpy - INFO - Chain [1] done processing\n"
     ]
    },
    {
     "name": "stdout",
     "output_type": "stream",
     "text": [
      "Not enough data for product_id: 06c76e2e852ec1ce0e14ca8f221f361f. Forecasting as 1.\n",
      "Not enough data for product_id: 06cdc7832ac572e307bdacf9ba9f66a9. Forecasting as 1.\n",
      "Not enough data for product_id: 06d156ad29691bb65b80a6bf398db4fc. Forecasting as 1.\n",
      "Not enough data for product_id: 06d7bbea1c245835d64a183587a3775c. Forecasting as 1.\n",
      "Not enough data for product_id: 06db40df51cce7cf21aaf53f8f8be312. Forecasting as 1.\n",
      "Not enough data for product_id: 06ddfdf210c7e0259854ee543215088d. Forecasting as 1.\n",
      "Not enough data for product_id: 06ecc3d4006ad6eb293a1b93ec3c7183. Forecasting as 1.\n"
     ]
    },
    {
     "name": "stderr",
     "output_type": "stream",
     "text": [
      "03:02:10 - cmdstanpy - INFO - Chain [1] start processing\n",
      "03:02:10 - cmdstanpy - INFO - Chain [1] done processing\n"
     ]
    },
    {
     "name": "stdout",
     "output_type": "stream",
     "text": [
      "Not enough data for product_id: 06ef35250cfb02d1c3d193890b63dc8f. Forecasting as 1.\n",
      "Not enough data for product_id: 06ef4c984af8c13ff17e30f46d97b489. Forecasting as 1.\n"
     ]
    },
    {
     "name": "stderr",
     "output_type": "stream",
     "text": [
      "03:02:12 - cmdstanpy - INFO - Chain [1] start processing\n",
      "03:02:12 - cmdstanpy - INFO - Chain [1] done processing\n",
      "03:02:13 - cmdstanpy - INFO - Chain [1] start processing\n",
      "03:02:13 - cmdstanpy - INFO - Chain [1] done processing\n",
      "03:02:14 - cmdstanpy - INFO - Chain [1] start processing\n",
      "03:02:14 - cmdstanpy - INFO - Chain [1] done processing\n"
     ]
    },
    {
     "name": "stdout",
     "output_type": "stream",
     "text": [
      "Not enough data for product_id: 06f4fde9ce07b3d2bfab78494343c5da. Forecasting as 1.\n"
     ]
    },
    {
     "name": "stderr",
     "output_type": "stream",
     "text": [
      "03:02:16 - cmdstanpy - INFO - Chain [1] start processing\n",
      "03:02:16 - cmdstanpy - INFO - Chain [1] done processing\n"
     ]
    },
    {
     "name": "stdout",
     "output_type": "stream",
     "text": [
      "Not enough data for product_id: 06f85533c1d65036e055ed561d0b1a2e. Forecasting as 1.\n",
      "Not enough data for product_id: 06f89d2b2a8b4994e56366402feacba9. Forecasting as 1.\n",
      "Not enough data for product_id: 06fe3302412088c32997cf915fced4da. Forecasting as 1.\n"
     ]
    },
    {
     "name": "stderr",
     "output_type": "stream",
     "text": [
      "03:02:18 - cmdstanpy - INFO - Chain [1] start processing\n",
      "03:02:18 - cmdstanpy - INFO - Chain [1] done processing\n"
     ]
    },
    {
     "name": "stdout",
     "output_type": "stream",
     "text": [
      "Not enough data for product_id: 0707319aaf1dd0612c0004f6cff320f0. Forecasting as 1.\n",
      "Not enough data for product_id: 0708f901aa249af77d79c3d14328b3fd. Forecasting as 1.\n",
      "Not enough data for product_id: 070d4b13c8ef5cc3d81259789b3bd973. Forecasting as 1.\n",
      "Not enough data for product_id: 07145f317bd27c212bbc49377b3940dd. Forecasting as 1.\n",
      "Not enough data for product_id: 071930404657f7cd416f75bd063a9d4b. Forecasting as 1.\n",
      "Not enough data for product_id: 071b6fda0410cc12642f1083210f6703. Forecasting as 1.\n"
     ]
    },
    {
     "name": "stderr",
     "output_type": "stream",
     "text": [
      "03:02:21 - cmdstanpy - INFO - Chain [1] start processing\n",
      "03:02:25 - cmdstanpy - INFO - Chain [1] done processing\n"
     ]
    },
    {
     "name": "stdout",
     "output_type": "stream",
     "text": [
      "Not enough data for product_id: 071feff570bbf61f1721e181435ebf0f. Forecasting as 1.\n",
      "Not enough data for product_id: 07212eaf1754d46acd245fe7346b8d41. Forecasting as 1.\n"
     ]
    },
    {
     "name": "stderr",
     "output_type": "stream",
     "text": [
      "03:02:26 - cmdstanpy - INFO - Chain [1] start processing\n",
      "03:02:29 - cmdstanpy - INFO - Chain [1] done processing\n"
     ]
    },
    {
     "name": "stdout",
     "output_type": "stream",
     "text": [
      "Not enough data for product_id: 072346978ec57ef87579ba2cea7c7030. Forecasting as 1.\n",
      "Not enough data for product_id: 072beb18e7e338f786c4984843463ea9. Forecasting as 1.\n",
      "Not enough data for product_id: 07313d7b1ca6dbf3885412a763b626c5. Forecasting as 1.\n",
      "Not enough data for product_id: 073a5dfc26cb33ef440b2e0aa29343a8. Forecasting as 1.\n",
      "Not enough data for product_id: 073af5ae737ac55290eb733f67317242. Forecasting as 1.\n",
      "Not enough data for product_id: 073b807aaf20e2382efc8ddc07bf7a5b. Forecasting as 1.\n",
      "Not enough data for product_id: 073ec95c6cd3b2db5d9dc430dcb524a6. Forecasting as 1.\n",
      "Not enough data for product_id: 073f139ce5bceceb73c9f287e2540eb3. Forecasting as 1.\n",
      "Not enough data for product_id: 074112f674682b5e218463ce1732945b. Forecasting as 1.\n",
      "Not enough data for product_id: 07451cd3b4079198af66b134853aee75. Forecasting as 1.\n",
      "Not enough data for product_id: 0745c4686dc8b30d30a5546c781d1e96. Forecasting as 1.\n",
      "Not enough data for product_id: 0748257f14bc904fad9f67fffa335483. Forecasting as 1.\n",
      "Not enough data for product_id: 0748ca850e6e0ac086799ba43d270d3b. Forecasting as 1.\n",
      "Not enough data for product_id: 074e1b1543a03e2e546cee9b388cdf25. Forecasting as 1.\n",
      "Not enough data for product_id: 074fbdce1ed974986a2d2c9660b9eefb. Forecasting as 1.\n",
      "Not enough data for product_id: 075b253cd6c59b821c1dab51c1ae56b9. Forecasting as 1.\n",
      "Not enough data for product_id: 076743539f8476d5c8a1e4e7b62ffc26. Forecasting as 1.\n",
      "Not enough data for product_id: 07675856c4bfe13a38ddb23da5c3b176. Forecasting as 1.\n",
      "Not enough data for product_id: 0768657d39e02ff11e1a30708e010588. Forecasting as 1.\n",
      "Not enough data for product_id: 0768c4dc73c777a620b38c1da390ae8e. Forecasting as 1.\n"
     ]
    },
    {
     "name": "stderr",
     "output_type": "stream",
     "text": [
      "03:02:40 - cmdstanpy - INFO - Chain [1] start processing\n",
      "03:02:40 - cmdstanpy - INFO - Chain [1] done processing\n",
      "03:02:40 - cmdstanpy - INFO - Chain [1] start processing\n",
      "03:02:43 - cmdstanpy - INFO - Chain [1] done processing\n",
      "03:02:44 - cmdstanpy - INFO - Chain [1] start processing\n",
      "03:02:44 - cmdstanpy - INFO - Chain [1] done processing\n"
     ]
    },
    {
     "name": "stdout",
     "output_type": "stream",
     "text": [
      "Not enough data for product_id: 077319a417872fe55c94c3883610b874. Forecasting as 1.\n",
      "Not enough data for product_id: 07755a0056db849613241c6d91eaf45f. Forecasting as 1.\n"
     ]
    },
    {
     "name": "stderr",
     "output_type": "stream",
     "text": [
      "03:02:45 - cmdstanpy - INFO - Chain [1] start processing\n",
      "03:02:45 - cmdstanpy - INFO - Chain [1] done processing\n",
      "03:02:46 - cmdstanpy - INFO - Chain [1] start processing\n",
      "03:02:46 - cmdstanpy - INFO - Chain [1] done processing\n"
     ]
    },
    {
     "name": "stdout",
     "output_type": "stream",
     "text": [
      "Not enough data for product_id: 07778ad3984dfbcc6b9dfd8b8595ba7b. Forecasting as 1.\n",
      "Not enough data for product_id: 07797d4315ce5c1570e0a484472e04b5. Forecasting as 1.\n",
      "Not enough data for product_id: 077ff5297832d1a1c3d5be55b8152fa8. Forecasting as 1.\n"
     ]
    },
    {
     "name": "stderr",
     "output_type": "stream",
     "text": [
      "03:02:49 - cmdstanpy - INFO - Chain [1] start processing\n",
      "03:02:49 - cmdstanpy - INFO - Chain [1] done processing\n"
     ]
    },
    {
     "name": "stdout",
     "output_type": "stream",
     "text": [
      "Not enough data for product_id: 078482c5821678267aeb55b8edcdcb29. Forecasting as 1.\n",
      "Not enough data for product_id: 07883aa96515a898e1b9ddf0537a1b56. Forecasting as 1.\n",
      "Not enough data for product_id: 078b7149a32b479d3cbf1649fea0172c. Forecasting as 1.\n",
      "Not enough data for product_id: 078be1a14d008274672847d880f0bfd5. Forecasting as 1.\n",
      "Not enough data for product_id: 078cd7c7e05802e62f12b568aa50ed9a. Forecasting as 1.\n",
      "Not enough data for product_id: 078cec63541a67851b9057468288f722. Forecasting as 1.\n"
     ]
    },
    {
     "name": "stderr",
     "output_type": "stream",
     "text": [
      "03:02:52 - cmdstanpy - INFO - Chain [1] start processing\n",
      "03:02:52 - cmdstanpy - INFO - Chain [1] done processing\n",
      "03:02:53 - cmdstanpy - INFO - Chain [1] start processing\n",
      "03:02:53 - cmdstanpy - INFO - Chain [1] done processing\n"
     ]
    },
    {
     "name": "stdout",
     "output_type": "stream",
     "text": [
      "Not enough data for product_id: 0795fbcdc1ae9c0d7106b8018ad341a8. Forecasting as 1.\n",
      "Not enough data for product_id: 0797e47ffb3917b66fa62245a283bd9e. Forecasting as 1.\n",
      "Not enough data for product_id: 0799c9e16e4079d23e53f91ccdf0d8bf. Forecasting as 1.\n",
      "Not enough data for product_id: 079b4f19f1705ffc39bdceabfa7fe7ad. Forecasting as 1.\n",
      "Not enough data for product_id: 079f8274f5cca61e595fc11c5fd3aa2f. Forecasting as 1.\n"
     ]
    },
    {
     "name": "stderr",
     "output_type": "stream",
     "text": [
      "03:02:56 - cmdstanpy - INFO - Chain [1] start processing\n",
      "03:02:58 - cmdstanpy - INFO - Chain [1] done processing\n"
     ]
    },
    {
     "name": "stdout",
     "output_type": "stream",
     "text": [
      "Not enough data for product_id: 07a5b461cd248343de7826334c5a03aa. Forecasting as 1.\n",
      "Not enough data for product_id: 07a5fb04bc32fff7f9bb683e5dac80ab. Forecasting as 1.\n"
     ]
    },
    {
     "name": "stderr",
     "output_type": "stream",
     "text": [
      "03:03:00 - cmdstanpy - INFO - Chain [1] start processing\n",
      "03:03:03 - cmdstanpy - INFO - Chain [1] done processing\n"
     ]
    },
    {
     "name": "stdout",
     "output_type": "stream",
     "text": [
      "Not enough data for product_id: 07a6e4e1f838d9d39277d13c9b411dc4. Forecasting as 1.\n"
     ]
    },
    {
     "name": "stderr",
     "output_type": "stream",
     "text": [
      "03:03:04 - cmdstanpy - INFO - Chain [1] start processing\n",
      "03:03:04 - cmdstanpy - INFO - Chain [1] done processing\n"
     ]
    },
    {
     "name": "stdout",
     "output_type": "stream",
     "text": [
      "Not enough data for product_id: 07abca077ba83f4feab7d89db0b74df1. Forecasting as 1.\n",
      "Not enough data for product_id: 07acd9ac393e5b30aded00de63d80e14. Forecasting as 1.\n",
      "Not enough data for product_id: 07ae32b18ffbde7c6c928721e8b956fb. Forecasting as 1.\n"
     ]
    },
    {
     "name": "stderr",
     "output_type": "stream",
     "text": [
      "03:03:06 - cmdstanpy - INFO - Chain [1] start processing\n",
      "03:03:09 - cmdstanpy - INFO - Chain [1] done processing\n"
     ]
    },
    {
     "name": "stdout",
     "output_type": "stream",
     "text": [
      "Not enough data for product_id: 07b6a3b7bd0e9c54119f7c679edccca4. Forecasting as 1.\n"
     ]
    },
    {
     "name": "stderr",
     "output_type": "stream",
     "text": [
      "03:03:10 - cmdstanpy - INFO - Chain [1] start processing\n",
      "03:03:10 - cmdstanpy - INFO - Chain [1] done processing\n"
     ]
    },
    {
     "name": "stdout",
     "output_type": "stream",
     "text": [
      "Not enough data for product_id: 07bb371fdfa423305dd7e7d94cf36565. Forecasting as 1.\n",
      "Not enough data for product_id: 07bec813a5d182362436950e43ae1a8f. Forecasting as 1.\n"
     ]
    },
    {
     "name": "stderr",
     "output_type": "stream",
     "text": [
      "03:03:12 - cmdstanpy - INFO - Chain [1] start processing\n",
      "03:03:12 - cmdstanpy - INFO - Chain [1] done processing\n"
     ]
    },
    {
     "name": "stdout",
     "output_type": "stream",
     "text": [
      "Not enough data for product_id: 07c892834f576948885b91255a310002. Forecasting as 1.\n",
      "Not enough data for product_id: 07d145a7ffd47e821d4e7cbd3697a102. Forecasting as 1.\n"
     ]
    },
    {
     "name": "stderr",
     "output_type": "stream",
     "text": [
      "03:03:13 - cmdstanpy - INFO - Chain [1] start processing\n",
      "03:03:16 - cmdstanpy - INFO - Chain [1] done processing\n"
     ]
    },
    {
     "name": "stdout",
     "output_type": "stream",
     "text": [
      "Not enough data for product_id: 07dc749f37490643099305c4df823727. Forecasting as 1.\n",
      "Not enough data for product_id: 07e00c385280d659de8eb0254b75ecdd. Forecasting as 1.\n",
      "Not enough data for product_id: 07f01b6fcacc1b187a71e5074199db2d. Forecasting as 1.\n",
      "Not enough data for product_id: 07f2e8872fd2d0e17780989da6c06362. Forecasting as 1.\n",
      "Not enough data for product_id: 07f7c5fe95aa4a3b8ea56a5119546939. Forecasting as 1.\n",
      "Not enough data for product_id: 07faa4b332434d6455398852452e2783. Forecasting as 1.\n",
      "Not enough data for product_id: 07fd41c7a725529fe1213508557e0f4b. Forecasting as 1.\n",
      "Not enough data for product_id: 08065cf579a61fed0a11f26426a30d6c. Forecasting as 1.\n",
      "Not enough data for product_id: 080fb1adebef0352c017a153f2075443. Forecasting as 1.\n",
      "Not enough data for product_id: 0812f763c5cf426afacf3538963ac829. Forecasting as 1.\n",
      "Not enough data for product_id: 08138db6d5813afad8e1f1d01393145a. Forecasting as 1.\n"
     ]
    },
    {
     "name": "stderr",
     "output_type": "stream",
     "text": [
      "03:03:24 - cmdstanpy - INFO - Chain [1] start processing\n",
      "03:03:26 - cmdstanpy - INFO - Chain [1] done processing\n"
     ]
    },
    {
     "name": "stdout",
     "output_type": "stream",
     "text": [
      "Not enough data for product_id: 081c9dacbe5aed5910bef759117070a5. Forecasting as 1.\n",
      "Not enough data for product_id: 081dc33e4b9964d2ffe752a977a29998. Forecasting as 1.\n",
      "Not enough data for product_id: 081ecfd29d91be2327fbd9c03d2f33de. Forecasting as 1.\n",
      "Not enough data for product_id: 08208bc1d6a06c114cb662f3b2c95e05. Forecasting as 1.\n"
     ]
    },
    {
     "name": "stderr",
     "output_type": "stream",
     "text": [
      "03:03:28 - cmdstanpy - INFO - Chain [1] start processing\n",
      "03:03:28 - cmdstanpy - INFO - Chain [1] done processing\n"
     ]
    },
    {
     "name": "stdout",
     "output_type": "stream",
     "text": [
      "Not enough data for product_id: 082175ee534338e4fd967076a6f848e5. Forecasting as 1.\n",
      "Not enough data for product_id: 08279c494018541f71443c07d77560f8. Forecasting as 1.\n",
      "Not enough data for product_id: 0829c25b4a3efca7651f07cd4b8e05bc. Forecasting as 1.\n",
      "Not enough data for product_id: 082c3f21a0fc7a07cd303552d8b6ddae. Forecasting as 1.\n"
     ]
    },
    {
     "name": "stderr",
     "output_type": "stream",
     "text": [
      "03:03:30 - cmdstanpy - INFO - Chain [1] start processing\n",
      "03:03:31 - cmdstanpy - INFO - Chain [1] done processing\n"
     ]
    },
    {
     "name": "stdout",
     "output_type": "stream",
     "text": [
      "Not enough data for product_id: 0836db91ee8fd88d685b5a57bed9ede0. Forecasting as 1.\n",
      "Not enough data for product_id: 08370229eb4e5ce898bf2348a356b7b2. Forecasting as 1.\n",
      "Not enough data for product_id: 083d6108def7421be9778dd0ecd11fa6. Forecasting as 1.\n",
      "Not enough data for product_id: 083e8ca099c4307911ac90d162896350. Forecasting as 1.\n",
      "Not enough data for product_id: 083ea24cbab9f8f572fc21a8f63fb282. Forecasting as 1.\n"
     ]
    },
    {
     "name": "stderr",
     "output_type": "stream",
     "text": [
      "03:03:34 - cmdstanpy - INFO - Chain [1] start processing\n",
      "03:03:34 - cmdstanpy - INFO - Chain [1] done processing\n",
      "03:03:34 - cmdstanpy - INFO - Chain [1] start processing\n",
      "03:03:35 - cmdstanpy - INFO - Chain [1] done processing\n"
     ]
    },
    {
     "name": "stdout",
     "output_type": "stream",
     "text": [
      "Not enough data for product_id: 084217a15ddf5366ce6bd914570ae8fb. Forecasting as 1.\n",
      "Not enough data for product_id: 084b2ab1a0a79a9757008062ddf8b042. Forecasting as 1.\n",
      "Not enough data for product_id: 084e67a8fc02c8ac030154244701f1c5. Forecasting as 1.\n",
      "Not enough data for product_id: 08545faed0310009ebba7ba4537c2727. Forecasting as 1.\n",
      "Not enough data for product_id: 085481a1b9ec9eaa346ae0a39bd3c340. Forecasting as 1.\n",
      "Not enough data for product_id: 0856c40d9a18fc6aa8bb4be6a092f95b. Forecasting as 1.\n"
     ]
    },
    {
     "name": "stderr",
     "output_type": "stream",
     "text": [
      "03:03:40 - cmdstanpy - INFO - Chain [1] start processing\n",
      "03:03:40 - cmdstanpy - INFO - Chain [1] done processing\n"
     ]
    },
    {
     "name": "stdout",
     "output_type": "stream",
     "text": [
      "Not enough data for product_id: 085860688be9891f26e36a6ebc27cf6d. Forecasting as 1.\n",
      "Not enough data for product_id: 0858dd15ff82c48e17418361856c094c. Forecasting as 1.\n",
      "Not enough data for product_id: 085f9fe187c082982f23152f97f4e0c0. Forecasting as 1.\n"
     ]
    },
    {
     "name": "stderr",
     "output_type": "stream",
     "text": [
      "03:03:42 - cmdstanpy - INFO - Chain [1] start processing\n",
      "03:03:42 - cmdstanpy - INFO - Chain [1] done processing\n"
     ]
    },
    {
     "name": "stdout",
     "output_type": "stream",
     "text": [
      "Not enough data for product_id: 08662925c8120f25e41279a5527a005e. Forecasting as 1.\n",
      "Not enough data for product_id: 08667ce2730ce3fb20f04fe7bff92c0b. Forecasting as 1.\n",
      "Not enough data for product_id: 086963be71b4f60fd2b27465c5a1fe7d. Forecasting as 1.\n",
      "Not enough data for product_id: 086d5564c102e81c6f215639d9d1e09e. Forecasting as 1.\n",
      "Not enough data for product_id: 086f97beca2bb06567d542af191fa7a9. Forecasting as 1.\n",
      "Not enough data for product_id: 0872c05ce884daf60d1459165ba1c4da. Forecasting as 1.\n",
      "Not enough data for product_id: 08732e5164f3bd37bb941e5ae9710e6e. Forecasting as 1.\n",
      "Not enough data for product_id: 0874407d58fad5ce1eecc2f372fc8dbd. Forecasting as 1.\n",
      "Not enough data for product_id: 0878701fe7102eb1ba7f0f00229b7944. Forecasting as 1.\n"
     ]
    },
    {
     "name": "stderr",
     "output_type": "stream",
     "text": [
      "03:03:46 - cmdstanpy - INFO - Chain [1] start processing\n",
      "03:03:46 - cmdstanpy - INFO - Chain [1] done processing\n"
     ]
    },
    {
     "name": "stdout",
     "output_type": "stream",
     "text": [
      "Not enough data for product_id: 0880a2d2c259afd46c7cca654697cdcd. Forecasting as 1.\n",
      "Not enough data for product_id: 088124974c3274514e06de4c312fcd3d. Forecasting as 1.\n",
      "Not enough data for product_id: 08820f7bf5d0df4247c9f790f94f376c. Forecasting as 1.\n",
      "Not enough data for product_id: 0884a967f6a45838a8fa6cec1c74cf2f. Forecasting as 1.\n",
      "Not enough data for product_id: 0887a4b7b87c4f53d81db7c95de4a6c3. Forecasting as 1.\n",
      "Not enough data for product_id: 08958eb11767450566d8328f3f1b63b0. Forecasting as 1.\n",
      "Not enough data for product_id: 0896208dd8490b3dbb75344a92ab4106. Forecasting as 1.\n",
      "Not enough data for product_id: 089a01980b4c58c4183de3b75bd42363. Forecasting as 1.\n",
      "Not enough data for product_id: 089ac5f8835b1cacc1481b4c7cbdb503. Forecasting as 1.\n",
      "Not enough data for product_id: 089b1d17658cb1e2c7a4f9f77856020e. Forecasting as 1.\n",
      "Not enough data for product_id: 089fba163d4210200710ea1103a736d4. Forecasting as 1.\n",
      "Not enough data for product_id: 08a1cab088839a625f5e2b0c85abcff5. Forecasting as 1.\n",
      "Not enough data for product_id: 08a58baf17f52ea9cfb3dffdfda0595b. Forecasting as 1.\n"
     ]
    },
    {
     "name": "stderr",
     "output_type": "stream",
     "text": [
      "03:03:55 - cmdstanpy - INFO - Chain [1] start processing\n",
      "03:03:55 - cmdstanpy - INFO - Chain [1] done processing\n"
     ]
    },
    {
     "name": "stdout",
     "output_type": "stream",
     "text": [
      "Not enough data for product_id: 08a59a7c557b1b8d49e5029a337d83fd. Forecasting as 1.\n",
      "Not enough data for product_id: 08a5cbbd7adc85e1074b03fceaca34ee. Forecasting as 1.\n",
      "Not enough data for product_id: 08a69b44d48364041d3bc2c74c8600aa. Forecasting as 1.\n",
      "Not enough data for product_id: 08ac23cd333352eff43b210f6ebaaff4. Forecasting as 1.\n",
      "Not enough data for product_id: 08adf4f96646dd795d6f472ff1a1ece4. Forecasting as 1.\n",
      "Not enough data for product_id: 08ba023e3ad57b10b6d5378ce3f22f9a. Forecasting as 1.\n",
      "Not enough data for product_id: 08ba0b9a5d17ce718c503eee72338e98. Forecasting as 1.\n",
      "Not enough data for product_id: 08c1754fd6455e4c70a6521f4ed66819. Forecasting as 1.\n",
      "Not enough data for product_id: 08c3e65af1719834cab72d27dc6b506b. Forecasting as 1.\n",
      "Not enough data for product_id: 08c5c3d471845327e913b52aded0caf3. Forecasting as 1.\n"
     ]
    },
    {
     "name": "stderr",
     "output_type": "stream",
     "text": [
      "03:04:01 - cmdstanpy - INFO - Chain [1] start processing\n",
      "03:04:01 - cmdstanpy - INFO - Chain [1] done processing\n",
      "03:04:01 - cmdstanpy - INFO - Chain [1] start processing\n",
      "03:04:01 - cmdstanpy - INFO - Chain [1] done processing\n"
     ]
    },
    {
     "name": "stdout",
     "output_type": "stream",
     "text": [
      "Not enough data for product_id: 08ca55f13fdc7712bc93387c2f66e3a4. Forecasting as 1.\n",
      "Not enough data for product_id: 08d207a2357381d924df9b7cffbf2d22. Forecasting as 1.\n",
      "Not enough data for product_id: 08dc49f9b802f2e81c55f4b810bbf1f5. Forecasting as 1.\n",
      "Not enough data for product_id: 08e2111445e8c886145ce42fbe261085. Forecasting as 1.\n",
      "Not enough data for product_id: 08e2ebd22ce2347ede845d0f3b64270c. Forecasting as 1.\n"
     ]
    },
    {
     "name": "stderr",
     "output_type": "stream",
     "text": [
      "03:04:05 - cmdstanpy - INFO - Chain [1] start processing\n",
      "03:04:06 - cmdstanpy - INFO - Chain [1] done processing\n"
     ]
    },
    {
     "name": "stdout",
     "output_type": "stream",
     "text": [
      "Not enough data for product_id: 08eada1514424f37cd0704a5f45c1e07. Forecasting as 1.\n",
      "Not enough data for product_id: 08edd1ffee7a3c812f5de54409d678fd. Forecasting as 1.\n",
      "Not enough data for product_id: 08eee942c0bcf714dba09fc14206a0c9. Forecasting as 1.\n"
     ]
    },
    {
     "name": "stderr",
     "output_type": "stream",
     "text": [
      "03:04:08 - cmdstanpy - INFO - Chain [1] start processing\n",
      "03:04:11 - cmdstanpy - INFO - Chain [1] done processing\n"
     ]
    },
    {
     "name": "stdout",
     "output_type": "stream",
     "text": [
      "Not enough data for product_id: 08f457ff8eec8dfffecc0489179e7db5. Forecasting as 1.\n",
      "Not enough data for product_id: 08f69c9f1af250a8046c21b78a1ef52a. Forecasting as 1.\n",
      "Not enough data for product_id: 08f7d5ada29287296d46f79ec4d397d5. Forecasting as 1.\n",
      "Not enough data for product_id: 09003e51b4ca5793bfcdc42026abd63a. Forecasting as 1.\n"
     ]
    },
    {
     "name": "stderr",
     "output_type": "stream",
     "text": [
      "03:04:14 - cmdstanpy - INFO - Chain [1] start processing\n",
      "03:04:14 - cmdstanpy - INFO - Chain [1] done processing\n"
     ]
    },
    {
     "name": "stdout",
     "output_type": "stream",
     "text": [
      "Not enough data for product_id: 09014e6cd3dd8882e42dcf4dd4f5e305. Forecasting as 1.\n",
      "Not enough data for product_id: 0901b25598b3ca109f48e16a52e2df1f. Forecasting as 1.\n",
      "Not enough data for product_id: 0906585a53ae0d9e9d848e83b8f2ea88. Forecasting as 1.\n",
      "Not enough data for product_id: 0906a34d45f9f37ebc1f2aa5ad4582c4. Forecasting as 1.\n",
      "Not enough data for product_id: 090820212dfd8022d676e480bed6a61d. Forecasting as 1.\n"
     ]
    },
    {
     "name": "stderr",
     "output_type": "stream",
     "text": [
      "03:04:18 - cmdstanpy - INFO - Chain [1] start processing\n",
      "03:04:18 - cmdstanpy - INFO - Chain [1] done processing\n"
     ]
    },
    {
     "name": "stdout",
     "output_type": "stream",
     "text": [
      "Not enough data for product_id: 091107484dd7172f5dcfed173e4a960e. Forecasting as 1.\n",
      "Not enough data for product_id: 0915ff4c13dc62982f2a0a3ae788945c. Forecasting as 1.\n",
      "Not enough data for product_id: 0918fd47e51e716ae8b6d2512866988d. Forecasting as 1.\n",
      "Not enough data for product_id: 0921c85f1ae48534995bff5348e3d9d7. Forecasting as 1.\n",
      "Not enough data for product_id: 09258106f546b38b0f817fc3aadf650b. Forecasting as 1.\n",
      "Not enough data for product_id: 0926524e4f3783f1b0e35c09d5fe13cd. Forecasting as 1.\n",
      "Not enough data for product_id: 09337f4d317bae01dfa96e6d368eafc4. Forecasting as 1.\n",
      "Not enough data for product_id: 0935f6cccc192ab670cdaa08c2b574d4. Forecasting as 1.\n",
      "Not enough data for product_id: 093cd981b714bcdff182b427d87fc8fc. Forecasting as 1.\n",
      "Not enough data for product_id: 093f7389fa2eccda5e86add8da4aa19e. Forecasting as 1.\n",
      "Not enough data for product_id: 094102aa6f9acae48f92eec22c02180a. Forecasting as 1.\n",
      "Not enough data for product_id: 09461131e28a1b16536fe028eeea4c4a. Forecasting as 1.\n",
      "Not enough data for product_id: 094615cac200c0dc4620ae28485f81f5. Forecasting as 1.\n",
      "Not enough data for product_id: 09472f584cfc3f5c6aa0cc9fd52a6f34. Forecasting as 1.\n"
     ]
    },
    {
     "name": "stderr",
     "output_type": "stream",
     "text": [
      "03:04:27 - cmdstanpy - INFO - Chain [1] start processing\n",
      "03:04:27 - cmdstanpy - INFO - Chain [1] done processing\n"
     ]
    },
    {
     "name": "stdout",
     "output_type": "stream",
     "text": [
      "Not enough data for product_id: 094d192d5b25e0bae4c3e2f970a53439. Forecasting as 1.\n",
      "Not enough data for product_id: 094db48c531e5ce423c4b908ea96535c. Forecasting as 1.\n",
      "Not enough data for product_id: 094efc8b088034585ebda1a32da7181d. Forecasting as 1.\n",
      "Not enough data for product_id: 094fbff68f8c7fd768277bcfa984b4e1. Forecasting as 1.\n",
      "Not enough data for product_id: 0954694623ffa5b84e7071c717efc3ca. Forecasting as 1.\n",
      "Not enough data for product_id: 0958d661bb9ffd798d3586f713585938. Forecasting as 1.\n",
      "Not enough data for product_id: 095fc85516c1210e6dbed95ed8041ee0. Forecasting as 1.\n",
      "Not enough data for product_id: 0963fc9330f54245d1aa396893591037. Forecasting as 1.\n",
      "Not enough data for product_id: 096793eddadb8067748a5a0ff98ac8fb. Forecasting as 1.\n",
      "Not enough data for product_id: 09690382191f134e947200ccfe32f7c0. Forecasting as 1.\n",
      "Not enough data for product_id: 096ac2e8796def270994c7bd237491d3. Forecasting as 1.\n",
      "Not enough data for product_id: 096b3aa9d2c93af82434f196a713ad74. Forecasting as 1.\n",
      "Not enough data for product_id: 09738baf9be60e4c294fa5d0bfcc690d. Forecasting as 1.\n"
     ]
    },
    {
     "name": "stderr",
     "output_type": "stream",
     "text": [
      "03:04:36 - cmdstanpy - INFO - Chain [1] start processing\n",
      "03:04:40 - cmdstanpy - INFO - Chain [1] done processing\n"
     ]
    },
    {
     "name": "stdout",
     "output_type": "stream",
     "text": [
      "Not enough data for product_id: 097d5a4bed2be012b4e46e6f5ae0694b. Forecasting as 1.\n"
     ]
    },
    {
     "name": "stderr",
     "output_type": "stream",
     "text": [
      "03:04:41 - cmdstanpy - INFO - Chain [1] start processing\n",
      "03:04:41 - cmdstanpy - INFO - Chain [1] done processing\n"
     ]
    },
    {
     "name": "stdout",
     "output_type": "stream",
     "text": [
      "Not enough data for product_id: 0984eaa8480e41aded35bd7b5131a1c1. Forecasting as 1.\n",
      "Not enough data for product_id: 0988b623cb8fe96a92474a96b0573503. Forecasting as 1.\n",
      "Not enough data for product_id: 098d2dad07d012b54e469c5ba2cedbe7. Forecasting as 1.\n",
      "Not enough data for product_id: 0992e0d1ee0fefb9a73e3b1bb829f396. Forecasting as 1.\n",
      "Not enough data for product_id: 099e24c2e32a0cd384859e0ea1a59cfb. Forecasting as 1.\n",
      "Not enough data for product_id: 09a1f8a0ac3f2a9d3eed87339b7fd9d2. Forecasting as 1.\n",
      "Not enough data for product_id: 09a37f198e0277139a41558113e4ca9b. Forecasting as 1.\n",
      "Not enough data for product_id: 09a45646f91581af2d515ba02bc0ed94. Forecasting as 1.\n",
      "Not enough data for product_id: 09a9117d69aeb6275e4f3187bd2eb45c. Forecasting as 1.\n",
      "Not enough data for product_id: 09ae0abe65d1a5ad1cecdd9db6aa70d7. Forecasting as 1.\n",
      "Not enough data for product_id: 09ae715b435241d687067cb868b056a7. Forecasting as 1.\n",
      "Not enough data for product_id: 09b069a1846b0e666a398952c8ba1605. Forecasting as 1.\n"
     ]
    },
    {
     "name": "stderr",
     "output_type": "stream",
     "text": [
      "03:04:48 - cmdstanpy - INFO - Chain [1] start processing\n",
      "03:04:48 - cmdstanpy - INFO - Chain [1] done processing\n",
      "03:04:48 - cmdstanpy - INFO - Chain [1] start processing\n",
      "03:04:50 - cmdstanpy - INFO - Chain [1] done processing\n"
     ]
    },
    {
     "name": "stdout",
     "output_type": "stream",
     "text": [
      "Not enough data for product_id: 09b4afd6ff5a26a1e7538df4bd04a8d2. Forecasting as 1.\n",
      "Not enough data for product_id: 09b590ada623ecf66329917ea4731957. Forecasting as 1.\n",
      "Not enough data for product_id: 09b72772aef83d207e149857fc22dbd3. Forecasting as 1.\n",
      "Not enough data for product_id: 09bdc9003e3b369d49feb3e300366074. Forecasting as 1.\n",
      "Not enough data for product_id: 09bf405af365a33db9915e95a433333a. Forecasting as 1.\n",
      "Not enough data for product_id: 09bff1287f903ed3e712f6595861db98. Forecasting as 1.\n",
      "Not enough data for product_id: 09c083c98ccb0062e23ddfa6f70adf13. Forecasting as 1.\n"
     ]
    },
    {
     "name": "stderr",
     "output_type": "stream",
     "text": [
      "03:04:53 - cmdstanpy - INFO - Chain [1] start processing\n",
      "03:04:53 - cmdstanpy - INFO - Chain [1] done processing\n"
     ]
    },
    {
     "name": "stdout",
     "output_type": "stream",
     "text": [
      "Not enough data for product_id: 09c7dc149e2a06a6fe9f873343f240e1. Forecasting as 1.\n",
      "Not enough data for product_id: 09c85a316aae843ab464c8c55d6f8b80. Forecasting as 1.\n",
      "Not enough data for product_id: 09cb4aa62c518d0842e1c5f28ac940ff. Forecasting as 1.\n",
      "Not enough data for product_id: 09cbb58b67d2f010f3ce6ae6196f1ed9. Forecasting as 1.\n",
      "Not enough data for product_id: 09cd1c07b1920158011ed5247fa5a65b. Forecasting as 1.\n",
      "Not enough data for product_id: 09cee4288906c4cff9cd235f33dc0ec0. Forecasting as 1.\n"
     ]
    },
    {
     "name": "stderr",
     "output_type": "stream",
     "text": [
      "03:04:56 - cmdstanpy - INFO - Chain [1] start processing\n",
      "03:04:56 - cmdstanpy - INFO - Chain [1] done processing\n"
     ]
    },
    {
     "name": "stdout",
     "output_type": "stream",
     "text": [
      "Not enough data for product_id: 09d16c9d49e1616a733d22e77507d91d. Forecasting as 1.\n",
      "Not enough data for product_id: 09d54f61ad675c5398b22357fa3ce395. Forecasting as 1.\n",
      "Not enough data for product_id: 09d934535911e9af88dda1e31735379d. Forecasting as 1.\n",
      "Not enough data for product_id: 09dafaa79c17733a900ce34c9a1f5be8. Forecasting as 1.\n",
      "Not enough data for product_id: 09df4169c3678074ca16ab1941cfd1dc. Forecasting as 1.\n"
     ]
    },
    {
     "name": "stderr",
     "output_type": "stream",
     "text": [
      "03:04:59 - cmdstanpy - INFO - Chain [1] start processing\n",
      "03:04:59 - cmdstanpy - INFO - Chain [1] done processing\n",
      "03:05:00 - cmdstanpy - INFO - Chain [1] start processing\n",
      "03:05:03 - cmdstanpy - INFO - Chain [1] done processing\n"
     ]
    },
    {
     "name": "stdout",
     "output_type": "stream",
     "text": [
      "Not enough data for product_id: 09e5556011177a1f20244a4fcdde2752. Forecasting as 1.\n",
      "Not enough data for product_id: 09e68b02ea2a0a677c692faac3735c9d. Forecasting as 1.\n",
      "Not enough data for product_id: 09e9d1c1a370af902b1b7175400021ee. Forecasting as 1.\n"
     ]
    },
    {
     "name": "stderr",
     "output_type": "stream",
     "text": [
      "03:05:05 - cmdstanpy - INFO - Chain [1] start processing\n",
      "03:05:06 - cmdstanpy - INFO - Chain [1] done processing\n"
     ]
    },
    {
     "name": "stdout",
     "output_type": "stream",
     "text": [
      "Not enough data for product_id: 09ec9df2cf3708ca52a4a6cb64e464f6. Forecasting as 1.\n",
      "Not enough data for product_id: 09ef2dc9a27e35d3eba18b0defec70cc. Forecasting as 1.\n",
      "Not enough data for product_id: 09f28cb5f7c4be97ab03652e641c7843. Forecasting as 1.\n",
      "Not enough data for product_id: 09f3400d8c8a707c448a94f977f81968. Forecasting as 1.\n",
      "Not enough data for product_id: 09f80ba142f03fa8ccc8d62ff68b6d1d. Forecasting as 1.\n",
      "Not enough data for product_id: 09f9babe996b57d17ac9d11adf231c05. Forecasting as 1.\n",
      "Not enough data for product_id: 09fbb9fc5bffc1ce6dc2f66289dfcb05. Forecasting as 1.\n",
      "Not enough data for product_id: 09ff539a621711667c43eba6a3bd8466. Forecasting as 1.\n",
      "Not enough data for product_id: 09ffd5e043f6d44ca166be7f91dab462. Forecasting as 1.\n",
      "Not enough data for product_id: 0a04ebe637717bf7f0a9290adb51971f. Forecasting as 1.\n",
      "Not enough data for product_id: 0a04f0225fa364dc9192421b1a3fb139. Forecasting as 1.\n",
      "Not enough data for product_id: 0a079e8cdc5ac7cd10e60923a7889546. Forecasting as 1.\n",
      "Not enough data for product_id: 0a0adf0de1769b2970f3096d0b5abfb7. Forecasting as 1.\n",
      "Not enough data for product_id: 0a10747b677a2f5efd58f827f072f27f. Forecasting as 1.\n",
      "Not enough data for product_id: 0a18ef4868095d4c83357e58020e3397. Forecasting as 1.\n",
      "Not enough data for product_id: 0a1902453c06a6bb74a24a4fc60d1611. Forecasting as 1.\n",
      "Not enough data for product_id: 0a197d1436ea67717ce68ebe184b5832. Forecasting as 1.\n",
      "Not enough data for product_id: 0a23fd10720c5ffc6c7f5e66b0b26ae2. Forecasting as 1.\n",
      "Not enough data for product_id: 0a27862bbf658a5b8cf655761bc5c72d. Forecasting as 1.\n",
      "Not enough data for product_id: 0a27ed1c4807a2257f67ab0cbf3cfaf4. Forecasting as 1.\n",
      "Not enough data for product_id: 0a28355911f72609e396a3dc10b11c90. Forecasting as 1.\n",
      "Not enough data for product_id: 0a2baff646a591a97387bbe599a7565d. Forecasting as 1.\n",
      "Not enough data for product_id: 0a32970769398151da435910bce405e4. Forecasting as 1.\n",
      "Not enough data for product_id: 0a32d8349e99e8cdb9a5dec7d3f94985. Forecasting as 1.\n",
      "Not enough data for product_id: 0a37e05528984f47c754837344732fbb. Forecasting as 1.\n",
      "Not enough data for product_id: 0a39e413aabaa89275742e9707f60f86. Forecasting as 1.\n",
      "Not enough data for product_id: 0a3d0e8c9d5c6e92b034ab390cda4a48. Forecasting as 1.\n"
     ]
    },
    {
     "name": "stderr",
     "output_type": "stream",
     "text": [
      "03:05:20 - cmdstanpy - INFO - Chain [1] start processing\n",
      "03:05:20 - cmdstanpy - INFO - Chain [1] done processing\n"
     ]
    },
    {
     "name": "stdout",
     "output_type": "stream",
     "text": [
      "Not enough data for product_id: 0a48b93d24c0c87253c73da8cb8c2e80. Forecasting as 1.\n",
      "Not enough data for product_id: 0a4af8f868e8a22b279c9d0a24d36537. Forecasting as 1.\n",
      "Not enough data for product_id: 0a4ba15b3af571ef5d215be341f90fc3. Forecasting as 1.\n",
      "Not enough data for product_id: 0a4c11f70d3d4d9f2a540804b873e9e2. Forecasting as 1.\n",
      "Not enough data for product_id: 0a4d993019c68fcc5269dada27c3db6d. Forecasting as 1.\n"
     ]
    },
    {
     "name": "stderr",
     "output_type": "stream",
     "text": [
      "03:05:23 - cmdstanpy - INFO - Chain [1] start processing\n",
      "03:05:23 - cmdstanpy - INFO - Chain [1] done processing\n",
      "03:05:24 - cmdstanpy - INFO - Chain [1] start processing\n",
      "03:05:24 - cmdstanpy - INFO - Chain [1] done processing\n"
     ]
    },
    {
     "name": "stdout",
     "output_type": "stream",
     "text": [
      "Not enough data for product_id: 0a50b90cd04b45578ebf8bcf22c0ee09. Forecasting as 1.\n",
      "Not enough data for product_id: 0a540d39a147c5937238e5126403c892. Forecasting as 1.\n",
      "Not enough data for product_id: 0a565163afd9cccd9d2b6e3942f823e4. Forecasting as 1.\n",
      "Not enough data for product_id: 0a56efd5f050d3f861a04c6f005d1128. Forecasting as 1.\n"
     ]
    },
    {
     "name": "stderr",
     "output_type": "stream",
     "text": [
      "03:05:25 - cmdstanpy - INFO - Chain [1] start processing\n",
      "03:05:26 - cmdstanpy - INFO - Chain [1] done processing\n"
     ]
    },
    {
     "name": "stdout",
     "output_type": "stream",
     "text": [
      "Not enough data for product_id: 0a5a2b08a41a3a61ee984c9445891098. Forecasting as 1.\n"
     ]
    },
    {
     "name": "stderr",
     "output_type": "stream",
     "text": [
      "03:05:26 - cmdstanpy - INFO - Chain [1] start processing\n",
      "03:05:27 - cmdstanpy - INFO - Chain [1] done processing\n"
     ]
    },
    {
     "name": "stdout",
     "output_type": "stream",
     "text": [
      "Not enough data for product_id: 0a5ae82bab180da12f59a70b21605f92. Forecasting as 1.\n",
      "Not enough data for product_id: 0a6037fabc6b47a58947cc272f30b7f2. Forecasting as 1.\n",
      "Not enough data for product_id: 0a63240129d538ef9bf6e5c0aa8925a5. Forecasting as 1.\n",
      "Not enough data for product_id: 0a69d717eddde56680a2f9af307f2b05. Forecasting as 1.\n",
      "Not enough data for product_id: 0a6a7cf8399cca39fa6289175e95badd. Forecasting as 1.\n"
     ]
    },
    {
     "name": "stderr",
     "output_type": "stream",
     "text": [
      "03:05:29 - cmdstanpy - INFO - Chain [1] start processing\n",
      "03:05:31 - cmdstanpy - INFO - Chain [1] done processing\n"
     ]
    },
    {
     "name": "stdout",
     "output_type": "stream",
     "text": [
      "Not enough data for product_id: 0a6cff78b203b5224378cf8db2dff5a6. Forecasting as 1.\n",
      "Not enough data for product_id: 0a6d157989ce18261dd86095fa6858ca. Forecasting as 1.\n"
     ]
    },
    {
     "name": "stderr",
     "output_type": "stream",
     "text": [
      "03:05:32 - cmdstanpy - INFO - Chain [1] start processing\n",
      "03:05:32 - cmdstanpy - INFO - Chain [1] done processing\n"
     ]
    },
    {
     "name": "stdout",
     "output_type": "stream",
     "text": [
      "Not enough data for product_id: 0a72af236c73afbd2e2a52dfdb14c667. Forecasting as 1.\n",
      "Not enough data for product_id: 0a76863dbd631dd837dac3fbaabfc91c. Forecasting as 1.\n"
     ]
    },
    {
     "name": "stderr",
     "output_type": "stream",
     "text": [
      "03:05:34 - cmdstanpy - INFO - Chain [1] start processing\n",
      "03:05:34 - cmdstanpy - INFO - Chain [1] done processing\n"
     ]
    },
    {
     "name": "stdout",
     "output_type": "stream",
     "text": [
      "Not enough data for product_id: 0a790f2710eab03be4f7793583779874. Forecasting as 1.\n"
     ]
    },
    {
     "name": "stderr",
     "output_type": "stream",
     "text": [
      "03:05:34 - cmdstanpy - INFO - Chain [1] start processing\n",
      "03:05:36 - cmdstanpy - INFO - Chain [1] done processing\n"
     ]
    },
    {
     "name": "stdout",
     "output_type": "stream",
     "text": [
      "Not enough data for product_id: 0a7a5763f6ee3b862ca27208f8fbbdb7. Forecasting as 1.\n",
      "Not enough data for product_id: 0a7b493260c6e450be47b7904193f75e. Forecasting as 1.\n",
      "Not enough data for product_id: 0a8038344359ff23c26156650b801e6c. Forecasting as 1.\n",
      "Not enough data for product_id: 0a80523b7c5fcae062ee678d12df2a80. Forecasting as 1.\n"
     ]
    },
    {
     "name": "stderr",
     "output_type": "stream",
     "text": [
      "03:05:37 - cmdstanpy - INFO - Chain [1] start processing\n",
      "03:05:41 - cmdstanpy - INFO - Chain [1] done processing\n"
     ]
    },
    {
     "name": "stdout",
     "output_type": "stream",
     "text": [
      "Not enough data for product_id: 0a82c5e3af23bf02899280c8e1f4eea9. Forecasting as 1.\n",
      "Not enough data for product_id: 0a859d8dc68f6a746b4709217110c439. Forecasting as 1.\n",
      "Not enough data for product_id: 0a8611ab07b16ada9f45900722ed0e5d. Forecasting as 1.\n",
      "Not enough data for product_id: 0a863e93d7d478b95b764c3344d10307. Forecasting as 1.\n",
      "Not enough data for product_id: 0a8699af8de9f3c25f80fe9b530df153. Forecasting as 1.\n",
      "Not enough data for product_id: 0a8f26369822d83b82d0d3e87908fbd4. Forecasting as 1.\n",
      "Not enough data for product_id: 0a90097256285aa4c813f41e6fc1e6ee. Forecasting as 1.\n",
      "Not enough data for product_id: 0a904457e165bf24b90921754b4a5888. Forecasting as 1.\n",
      "Not enough data for product_id: 0a96387463e89f518bec31ed12378aea. Forecasting as 1.\n",
      "Not enough data for product_id: 0a997c3c894c98d4e3def0e83124c9ba. Forecasting as 1.\n"
     ]
    },
    {
     "name": "stderr",
     "output_type": "stream",
     "text": [
      "03:05:46 - cmdstanpy - INFO - Chain [1] start processing\n",
      "03:05:46 - cmdstanpy - INFO - Chain [1] done processing\n"
     ]
    },
    {
     "name": "stdout",
     "output_type": "stream",
     "text": [
      "Not enough data for product_id: 0a9bba9c02d484c391416587002dae47. Forecasting as 1.\n"
     ]
    },
    {
     "name": "stderr",
     "output_type": "stream",
     "text": [
      "03:05:47 - cmdstanpy - INFO - Chain [1] start processing\n",
      "03:05:47 - cmdstanpy - INFO - Chain [1] done processing\n"
     ]
    },
    {
     "name": "stdout",
     "output_type": "stream",
     "text": [
      "Not enough data for product_id: 0a9c1531aa7c17c8c64157b634fa9ba9. Forecasting as 1.\n",
      "Not enough data for product_id: 0a9c1eb587d41f043827b05a8b02070a. Forecasting as 1.\n",
      "Not enough data for product_id: 0a9dafcfb351b0dd0fafd06b8f842b55. Forecasting as 1.\n",
      "Not enough data for product_id: 0a9e2c135ec43f84cc6c583695531d68. Forecasting as 1.\n",
      "Not enough data for product_id: 0aa03bab4d36e4ee21cf9024a65f65e2. Forecasting as 1.\n",
      "Not enough data for product_id: 0aa186c65b07e61f5ac114182ab92a2b. Forecasting as 1.\n",
      "Not enough data for product_id: 0aa63972ae4967bb6874df796163549d. Forecasting as 1.\n"
     ]
    },
    {
     "name": "stderr",
     "output_type": "stream",
     "text": [
      "03:05:50 - cmdstanpy - INFO - Chain [1] start processing\n",
      "03:05:51 - cmdstanpy - INFO - Chain [1] done processing\n"
     ]
    },
    {
     "name": "stdout",
     "output_type": "stream",
     "text": [
      "Not enough data for product_id: 0ab00b4598ff704c2ab1de75c123092d. Forecasting as 1.\n",
      "Not enough data for product_id: 0ab3ab3b2869073aa9afe795fe9151aa. Forecasting as 1.\n",
      "Not enough data for product_id: 0ab3b52bba153ddfc7857b11c900fdea. Forecasting as 1.\n",
      "Not enough data for product_id: 0ab66f8ffee46568f8a8fba7c300ae50. Forecasting as 1.\n",
      "Not enough data for product_id: 0ab78aeb8039e8ee1d47412e56baded3. Forecasting as 1.\n",
      "Not enough data for product_id: 0abbc7837b3659615530515c12091add. Forecasting as 1.\n",
      "Not enough data for product_id: 0ac092fcd35bffaeb624017d498172d1. Forecasting as 1.\n",
      "Not enough data for product_id: 0ac0d30f666402b0d004e26c5e57eb0f. Forecasting as 1.\n",
      "Not enough data for product_id: 0ac57b2df86eb6997b94d6ccf555e29d. Forecasting as 1.\n",
      "Not enough data for product_id: 0ac9ae2550c94021daa1059ad06d2c4a. Forecasting as 1.\n",
      "Not enough data for product_id: 0acad8a389d9ac863b63a5bd91d18697. Forecasting as 1.\n",
      "Not enough data for product_id: 0accb86cd9322f97f4d1523781e10fa5. Forecasting as 1.\n",
      "Not enough data for product_id: 0ad10ec3dc489499e5d7cd19b5181ffe. Forecasting as 1.\n",
      "Not enough data for product_id: 0ad48bfc4a5619823e2b0f24b3c0b11b. Forecasting as 1.\n",
      "Not enough data for product_id: 0ad6795586afdad1281b3884f2611ca6. Forecasting as 1.\n",
      "Not enough data for product_id: 0adf970bf07772b0f8c88f664e146221. Forecasting as 1.\n",
      "Not enough data for product_id: 0ae10ca52e6cb8745e17c11e7c43907c. Forecasting as 1.\n",
      "Not enough data for product_id: 0ae6165016bbebd759d0ac2414e59049. Forecasting as 1.\n",
      "Not enough data for product_id: 0ae652266b7911e69661f1359912d235. Forecasting as 1.\n",
      "Not enough data for product_id: 0ae6a95572c97bf4c2552e0d27762c5b. Forecasting as 1.\n",
      "Not enough data for product_id: 0ae7a3cd926fa82531a24891c2647b0b. Forecasting as 1.\n"
     ]
    },
    {
     "name": "stderr",
     "output_type": "stream",
     "text": [
      "03:06:01 - cmdstanpy - INFO - Chain [1] start processing\n",
      "03:06:01 - cmdstanpy - INFO - Chain [1] done processing\n"
     ]
    },
    {
     "name": "stdout",
     "output_type": "stream",
     "text": [
      "Not enough data for product_id: 0af008d54027e80d31d8dcf4b5c68447. Forecasting as 1.\n",
      "Not enough data for product_id: 0af275b6e520e949016aa725797437a5. Forecasting as 1.\n",
      "Not enough data for product_id: 0af2b3833420630d9d1eacc2daf2bdf9. Forecasting as 1.\n",
      "Not enough data for product_id: 0af4dce351fbee7db329f93260f68142. Forecasting as 1.\n",
      "Not enough data for product_id: 0afbecb15d10af6e2c8e3a682becb22c. Forecasting as 1.\n",
      "Not enough data for product_id: 0afcbdb22d7e003f65d87a77cc7a401a. Forecasting as 1.\n",
      "Not enough data for product_id: 0afdab080dc525494d5a0adc4c1c0854. Forecasting as 1.\n"
     ]
    },
    {
     "name": "stderr",
     "output_type": "stream",
     "text": [
      "03:06:05 - cmdstanpy - INFO - Chain [1] start processing\n",
      "03:06:08 - cmdstanpy - INFO - Chain [1] done processing\n"
     ]
    },
    {
     "name": "stdout",
     "output_type": "stream",
     "text": [
      "Not enough data for product_id: 0b00b16606aeb46da3543bbabff4d6b3. Forecasting as 1.\n"
     ]
    },
    {
     "name": "stderr",
     "output_type": "stream",
     "text": [
      "03:06:09 - cmdstanpy - INFO - Chain [1] start processing\n",
      "03:06:09 - cmdstanpy - INFO - Chain [1] done processing\n",
      "03:06:10 - cmdstanpy - INFO - Chain [1] start processing\n",
      "03:06:10 - cmdstanpy - INFO - Chain [1] done processing\n"
     ]
    },
    {
     "name": "stdout",
     "output_type": "stream",
     "text": [
      "Not enough data for product_id: 0b01d053a0d36c3f3ea27d74f5e5702c. Forecasting as 1.\n",
      "Not enough data for product_id: 0b01ff8012c6301714339a530e7f9879. Forecasting as 1.\n"
     ]
    },
    {
     "name": "stderr",
     "output_type": "stream",
     "text": [
      "03:06:11 - cmdstanpy - INFO - Chain [1] start processing\n",
      "03:06:11 - cmdstanpy - INFO - Chain [1] done processing\n"
     ]
    },
    {
     "name": "stdout",
     "output_type": "stream",
     "text": [
      "Not enough data for product_id: 0b08fa55464e4e455c2911a1e49fbc73. Forecasting as 1.\n",
      "Not enough data for product_id: 0b0f32c8bd5426698d01d72f155b75f5. Forecasting as 1.\n",
      "Not enough data for product_id: 0b1187e2f914d9317a5632dbb7c66b82. Forecasting as 1.\n",
      "Not enough data for product_id: 0b13080e2bf193c4ff096b09e0758c7d. Forecasting as 1.\n",
      "Not enough data for product_id: 0b148966d6d89f4ab8fd3472df4a8648. Forecasting as 1.\n",
      "Not enough data for product_id: 0b1737a3a63fdc90fb30dccdffcace42. Forecasting as 1.\n"
     ]
    },
    {
     "name": "stderr",
     "output_type": "stream",
     "text": [
      "03:06:15 - cmdstanpy - INFO - Chain [1] start processing\n",
      "03:06:18 - cmdstanpy - INFO - Chain [1] done processing\n"
     ]
    },
    {
     "name": "stdout",
     "output_type": "stream",
     "text": [
      "Not enough data for product_id: 0b1b6ca8b113c570aa56916becb81192. Forecasting as 1.\n",
      "Not enough data for product_id: 0b1b954cb171434674907a8da1778e11. Forecasting as 1.\n",
      "Not enough data for product_id: 0b1c9f47ac2b26c6bc77bebf7362eb40. Forecasting as 1.\n",
      "Not enough data for product_id: 0b28e43610654365d0266f77070a71d9. Forecasting as 1.\n",
      "Not enough data for product_id: 0b2b7a2dbcdf63ca0044d9e9ef8aa4fa. Forecasting as 1.\n",
      "Not enough data for product_id: 0b2d8323940867a9979b90f7692dcbc0. Forecasting as 1.\n",
      "Not enough data for product_id: 0b2f52bff0f8a4536a315bbdc34d8398. Forecasting as 1.\n",
      "Not enough data for product_id: 0b2ffdc19b87d97231a1bbd7bb979013. Forecasting as 1.\n",
      "Not enough data for product_id: 0b305b6bc4dbf84489cd367380955d18. Forecasting as 1.\n",
      "Not enough data for product_id: 0b33e28a934b68a0475650499b9ae509. Forecasting as 1.\n",
      "Not enough data for product_id: 0b37bd7d994d4ab29992281e2690ad1a. Forecasting as 1.\n"
     ]
    },
    {
     "name": "stderr",
     "output_type": "stream",
     "text": [
      "03:06:25 - cmdstanpy - INFO - Chain [1] start processing\n",
      "03:06:25 - cmdstanpy - INFO - Chain [1] done processing\n"
     ]
    },
    {
     "name": "stdout",
     "output_type": "stream",
     "text": [
      "Not enough data for product_id: 0b3f73dba78abf4576c187092dc5dc81. Forecasting as 1.\n",
      "Not enough data for product_id: 0b3f89ace3b97bec2e2d981cfd2537b3. Forecasting as 1.\n",
      "Not enough data for product_id: 0b41e00d58da605465f22bde5b7cf725. Forecasting as 1.\n",
      "Not enough data for product_id: 0b426fbfa39b2ae1c7a4a12e9b9d104a. Forecasting as 1.\n",
      "Not enough data for product_id: 0b48eade13cfad433122f23739a66898. Forecasting as 1.\n",
      "Not enough data for product_id: 0b4b0cc10d659c9885f317ff1b4f4ea8. Forecasting as 1.\n",
      "Not enough data for product_id: 0b4b59f6bcaf697444a8b7b14f630b15. Forecasting as 1.\n",
      "Not enough data for product_id: 0b4d2eb734bd8bb5001a145bf52fa5e2. Forecasting as 1.\n",
      "Not enough data for product_id: 0b501b17eff6353cde82245645c4207e. Forecasting as 1.\n",
      "Not enough data for product_id: 0b50295ca2c740dec15bb6fec6e8a3e2. Forecasting as 1.\n",
      "Not enough data for product_id: 0b52764083ede22c5acb8a573d859ddd. Forecasting as 1.\n",
      "Not enough data for product_id: 0b5452315880c73832a5c5837f0de5b2. Forecasting as 1.\n",
      "Not enough data for product_id: 0b575b7f0277a4fa1e89af27590b438d. Forecasting as 1.\n",
      "Not enough data for product_id: 0b5b70d1e74c4539deb5a21edb179d9f. Forecasting as 1.\n",
      "Not enough data for product_id: 0b5be7ee64611405f84c31be31ad0d9b. Forecasting as 1.\n",
      "Not enough data for product_id: 0b5c0e5478b0b0746d05377b732a13f3. Forecasting as 1.\n",
      "Not enough data for product_id: 0b5c6dd6ca91fd2a318e99749b0ea57d. Forecasting as 1.\n",
      "Not enough data for product_id: 0b60c390c7176d836fa228baa164af0d. Forecasting as 1.\n",
      "Not enough data for product_id: 0b63f1722fa0d70cbe07b4ef00a5a544. Forecasting as 1.\n",
      "Not enough data for product_id: 0b71361b63b0fb078b86a39340251133. Forecasting as 1.\n",
      "Not enough data for product_id: 0b77c056067fc19c57c6518c8bdeed0e. Forecasting as 1.\n"
     ]
    },
    {
     "name": "stderr",
     "output_type": "stream",
     "text": [
      "03:06:35 - cmdstanpy - INFO - Chain [1] start processing\n",
      "03:06:36 - cmdstanpy - INFO - Chain [1] done processing\n"
     ]
    },
    {
     "name": "stdout",
     "output_type": "stream",
     "text": [
      "Not enough data for product_id: 0b82f8e74a871a1bcba36e9b14facd44. Forecasting as 1.\n",
      "Not enough data for product_id: 0b86ce778f1176322de61e5103cc65b1. Forecasting as 1.\n",
      "Not enough data for product_id: 0b871b4731c7bee9332c7c0b9a742f1e. Forecasting as 1.\n",
      "Not enough data for product_id: 0b8750fa58fefe42cf03a9e2e4b8fce6. Forecasting as 1.\n",
      "Not enough data for product_id: 0b88409c52cfb9e93f9dcb06f2a37fd4. Forecasting as 1.\n",
      "Not enough data for product_id: 0b886cf92902bb5607b317a270f4dd4d. Forecasting as 1.\n",
      "Not enough data for product_id: 0b898ec6fedc70029a044c72475aeed4. Forecasting as 1.\n",
      "Not enough data for product_id: 0b8d94b0bcf4e22c9bf886c98bb994d3. Forecasting as 1.\n",
      "Not enough data for product_id: 0b8eaa48559710f4dd234b9c7918dd43. Forecasting as 1.\n",
      "Not enough data for product_id: 0b910ddd6185e20c016c2113fc864eb4. Forecasting as 1.\n",
      "Not enough data for product_id: 0b91c29b24b0a2d575a42fd951fb0408. Forecasting as 1.\n",
      "Not enough data for product_id: 0b94c4b0f19b2fa4eaaa3dd2cbee42bc. Forecasting as 1.\n"
     ]
    },
    {
     "name": "stderr",
     "output_type": "stream",
     "text": [
      "03:06:41 - cmdstanpy - INFO - Chain [1] start processing\n",
      "03:06:42 - cmdstanpy - INFO - Chain [1] done processing\n"
     ]
    },
    {
     "name": "stdout",
     "output_type": "stream",
     "text": [
      "Not enough data for product_id: 0b9c9a5a9c9825ff5bdb295751784392. Forecasting as 1.\n",
      "Not enough data for product_id: 0b9d32c4f39a77eca7f39c5b69ebc690. Forecasting as 1.\n",
      "Not enough data for product_id: 0b9eab47f340cb0354b04f84b95940f9. Forecasting as 1.\n",
      "Not enough data for product_id: 0ba06da542ffefa9b9dfb94fe19fd165. Forecasting as 1.\n",
      "Not enough data for product_id: 0ba14c257ad706bacadec65dfdb3b740. Forecasting as 1.\n",
      "Not enough data for product_id: 0ba59273939ff2679f761fcdb05cd74c. Forecasting as 1.\n",
      "Not enough data for product_id: 0ba8d6ed826271d06a9ebd6e3c3e8b3e. Forecasting as 1.\n",
      "Not enough data for product_id: 0baaa6da9c9440c4655efd0762a0edcf. Forecasting as 1.\n",
      "Not enough data for product_id: 0bb1142b8037490f29e8f322ad5b538c. Forecasting as 1.\n"
     ]
    },
    {
     "name": "stderr",
     "output_type": "stream",
     "text": [
      "03:06:46 - cmdstanpy - INFO - Chain [1] start processing\n",
      "03:06:46 - cmdstanpy - INFO - Chain [1] done processing\n"
     ]
    },
    {
     "name": "stdout",
     "output_type": "stream",
     "text": [
      "Not enough data for product_id: 0bb7d5c406dd6affef3cd4f5d6744844. Forecasting as 1.\n"
     ]
    },
    {
     "name": "stderr",
     "output_type": "stream",
     "text": [
      "03:06:48 - cmdstanpy - INFO - Chain [1] start processing\n",
      "03:06:48 - cmdstanpy - INFO - Chain [1] done processing\n"
     ]
    },
    {
     "name": "stdout",
     "output_type": "stream",
     "text": [
      "Not enough data for product_id: 0bbfbce1edd4c12c0a15b6b5dfba409f. Forecasting as 1.\n"
     ]
    },
    {
     "name": "stderr",
     "output_type": "stream",
     "text": [
      "03:06:51 - cmdstanpy - INFO - Chain [1] start processing\n",
      "03:06:51 - cmdstanpy - INFO - Chain [1] done processing\n"
     ]
    },
    {
     "name": "stdout",
     "output_type": "stream",
     "text": [
      "Not enough data for product_id: 0bc9537c77fb84d081077c24714c8506. Forecasting as 1.\n"
     ]
    },
    {
     "name": "stderr",
     "output_type": "stream",
     "text": [
      "03:06:52 - cmdstanpy - INFO - Chain [1] start processing\n",
      "03:06:52 - cmdstanpy - INFO - Chain [1] done processing\n"
     ]
    },
    {
     "name": "stdout",
     "output_type": "stream",
     "text": [
      "Not enough data for product_id: 0bcea5a4f4ff3bac5da77d1563e846d0. Forecasting as 1.\n"
     ]
    },
    {
     "name": "stderr",
     "output_type": "stream",
     "text": [
      "03:06:53 - cmdstanpy - INFO - Chain [1] start processing\n",
      "03:06:53 - cmdstanpy - INFO - Chain [1] done processing\n"
     ]
    },
    {
     "name": "stdout",
     "output_type": "stream",
     "text": [
      "Not enough data for product_id: 0bd5c2b2dd207f23739a694f006d63e6. Forecasting as 1.\n",
      "Not enough data for product_id: 0bd7e7a520ec0ac94f95b47cecc844d6. Forecasting as 1.\n",
      "Not enough data for product_id: 0bda4ee356bececb6ec0d7d010b673f1. Forecasting as 1.\n",
      "Not enough data for product_id: 0bdb7583b74c0323d413497fab3f2a3c. Forecasting as 1.\n",
      "Not enough data for product_id: 0bdc4af29a51151df496d686dbce59a8. Forecasting as 1.\n",
      "Not enough data for product_id: 0bdc98fbf8b311b74a336cf68d070037. Forecasting as 1.\n",
      "Not enough data for product_id: 0bdcdfb68f8b45a19fe06a348853cf4c. Forecasting as 1.\n"
     ]
    },
    {
     "name": "stderr",
     "output_type": "stream",
     "text": [
      "03:06:56 - cmdstanpy - INFO - Chain [1] start processing\n",
      "03:06:56 - cmdstanpy - INFO - Chain [1] done processing\n"
     ]
    },
    {
     "name": "stdout",
     "output_type": "stream",
     "text": [
      "Not enough data for product_id: 0bde5c9ff4a756aed7fe09a8a3bb0dfd. Forecasting as 1.\n"
     ]
    },
    {
     "name": "stderr",
     "output_type": "stream",
     "text": [
      "03:06:57 - cmdstanpy - INFO - Chain [1] start processing\n",
      "03:06:57 - cmdstanpy - INFO - Chain [1] done processing\n",
      "03:06:58 - cmdstanpy - INFO - Chain [1] start processing\n",
      "03:06:58 - cmdstanpy - INFO - Chain [1] done processing\n"
     ]
    },
    {
     "name": "stdout",
     "output_type": "stream",
     "text": [
      "Not enough data for product_id: 0be79cf589781c512bd91976eadeeff0. Forecasting as 1.\n",
      "Not enough data for product_id: 0bea71972d0b439ab810f57a803344e2. Forecasting as 1.\n",
      "Not enough data for product_id: 0beb5829bba86b3b5301af11bff8be6a. Forecasting as 1.\n",
      "Not enough data for product_id: 0bec8ea972e7cf7bf6e81cf9c99c725b. Forecasting as 1.\n",
      "Not enough data for product_id: 0becf258ac9a4ab1b6b3da6f0ad205fd. Forecasting as 1.\n",
      "Not enough data for product_id: 0bed2811f66d80c67e51d3d9a5127233. Forecasting as 1.\n",
      "Not enough data for product_id: 0bf0f08192fdf749718e1225a5f89e26. Forecasting as 1.\n",
      "Not enough data for product_id: 0bf16c5642f26022d106438f491b9b1c. Forecasting as 1.\n",
      "Not enough data for product_id: 0bf1dea484fbb8cdfa09e2767ce30574. Forecasting as 1.\n",
      "Not enough data for product_id: 0bf311dc96c3ce0503cb03068588c196. Forecasting as 1.\n",
      "Not enough data for product_id: 0bf49628a5637192ddbad12be4c921ee. Forecasting as 1.\n",
      "Not enough data for product_id: 0bfd2b8146cd034448f6e4c8ac8e47f0. Forecasting as 1.\n",
      "Not enough data for product_id: 0c002598a0876501a172ffcea9496008. Forecasting as 1.\n",
      "Not enough data for product_id: 0c03a930e654a5f1ea08f95a5c67d076. Forecasting as 1.\n",
      "Not enough data for product_id: 0c08876047d07cc4448ba14159a454e7. Forecasting as 1.\n",
      "Not enough data for product_id: 0c0caad13e2d2bf4efb9856075ad1120. Forecasting as 1.\n",
      "Not enough data for product_id: 0c0fa42ae97a4bffaa0eb85df580be3b. Forecasting as 1.\n",
      "Not enough data for product_id: 0c104824e973388d487c67a3d346e96d. Forecasting as 1.\n",
      "Not enough data for product_id: 0c104d5a094ca1ba910a793cae5b620e. Forecasting as 1.\n",
      "Not enough data for product_id: 0c11c1f74fff6ffafd9ad22804132dac. Forecasting as 1.\n",
      "Not enough data for product_id: 0c173069a88cd29f5ef890155d8ea182. Forecasting as 1.\n",
      "Not enough data for product_id: 0c174d2242336a2b7d7ccbacfea4ba2a. Forecasting as 1.\n",
      "Not enough data for product_id: 0c1d0960b623420908c75911c93d8615. Forecasting as 1.\n",
      "Not enough data for product_id: 0c1d4f1cb61aefcfa34ff848581eebcd. Forecasting as 1.\n",
      "Not enough data for product_id: 0c21c38f5c53913ec6ae3884484aac81. Forecasting as 1.\n",
      "Not enough data for product_id: 0c22c51625fc11357a8356efa31fe89f. Forecasting as 1.\n",
      "Not enough data for product_id: 0c2ec8ad337c82681af769354356e4c2. Forecasting as 1.\n",
      "Not enough data for product_id: 0c30a560a3dea926f6ceaa1f36dcc213. Forecasting as 1.\n",
      "Not enough data for product_id: 0c3256090b6cc52703b152c874827cd7. Forecasting as 1.\n"
     ]
    },
    {
     "name": "stderr",
     "output_type": "stream",
     "text": [
      "03:07:09 - cmdstanpy - INFO - Chain [1] start processing\n",
      "03:07:10 - cmdstanpy - INFO - Chain [1] done processing\n"
     ]
    },
    {
     "name": "stdout",
     "output_type": "stream",
     "text": [
      "Not enough data for product_id: 0c3497a215eb37d2e70682bfde05c93a. Forecasting as 1.\n",
      "Not enough data for product_id: 0c35aab0ba0e5a36a652fc2b10f2c102. Forecasting as 1.\n",
      "Not enough data for product_id: 0c398b245c9b74ef2bf4343b6fe73237. Forecasting as 1.\n",
      "Not enough data for product_id: 0c3d6918621fbc7eb3c1dbb40d36b746. Forecasting as 1.\n",
      "Not enough data for product_id: 0c3e039a06ef40bce9a30c05a247f77e. Forecasting as 1.\n",
      "Not enough data for product_id: 0c3ed87d108f627980e66e9258f9c305. Forecasting as 1.\n",
      "Not enough data for product_id: 0c40401eba358c9ef2ff2df80b6eab52. Forecasting as 1.\n",
      "Not enough data for product_id: 0c4389123cecc4ff240dbae7f15ce7e2. Forecasting as 1.\n"
     ]
    },
    {
     "name": "stderr",
     "output_type": "stream",
     "text": [
      "03:07:13 - cmdstanpy - INFO - Chain [1] start processing\n",
      "03:07:13 - cmdstanpy - INFO - Chain [1] done processing\n"
     ]
    },
    {
     "name": "stdout",
     "output_type": "stream",
     "text": [
      "Not enough data for product_id: 0c46413e9062e5e91fdf39a9142427b5. Forecasting as 1.\n",
      "Not enough data for product_id: 0c46b8ef03f8b4da7c2813be4287a281. Forecasting as 1.\n",
      "Not enough data for product_id: 0c4a0f8ab44f9acd2d04e7024f9ba362. Forecasting as 1.\n",
      "Not enough data for product_id: 0c4b18883bc29b747b948c827adb9485. Forecasting as 1.\n",
      "Not enough data for product_id: 0c4dd7ab3593c8601e53207e02d16784. Forecasting as 1.\n"
     ]
    },
    {
     "name": "stderr",
     "output_type": "stream",
     "text": [
      "03:07:17 - cmdstanpy - INFO - Chain [1] start processing\n",
      "03:07:19 - cmdstanpy - INFO - Chain [1] done processing\n",
      "03:07:20 - cmdstanpy - INFO - Chain [1] start processing\n",
      "03:07:20 - cmdstanpy - INFO - Chain [1] done processing\n"
     ]
    },
    {
     "name": "stdout",
     "output_type": "stream",
     "text": [
      "Not enough data for product_id: 0c52f6a43e88c007723e58cce9ef330e. Forecasting as 1.\n",
      "Not enough data for product_id: 0c52fe573de020553e4f524ac4267c92. Forecasting as 1.\n",
      "Not enough data for product_id: 0c53752695db72c0c10c14f6b89322b9. Forecasting as 1.\n",
      "Not enough data for product_id: 0c574708dc913b3fa69635e044892864. Forecasting as 1.\n",
      "Not enough data for product_id: 0c5801458e74f9b6c23b44c331426e30. Forecasting as 1.\n",
      "Not enough data for product_id: 0c5aa7be5dfd5c67689eef12b537a466. Forecasting as 1.\n",
      "Not enough data for product_id: 0c5aecba8eab00eb055c6e2e7b9b4346. Forecasting as 1.\n"
     ]
    },
    {
     "name": "stderr",
     "output_type": "stream",
     "text": [
      "03:07:23 - cmdstanpy - INFO - Chain [1] start processing\n",
      "03:07:32 - cmdstanpy - INFO - Chain [1] done processing\n"
     ]
    },
    {
     "name": "stdout",
     "output_type": "stream",
     "text": [
      "Not enough data for product_id: 0c5bb07e9638a9c1f2616db08eb0318f. Forecasting as 1.\n",
      "Not enough data for product_id: 0c5e36ec8408cf38afb24e6dd62a19df. Forecasting as 1.\n",
      "Not enough data for product_id: 0c61745b90fbcbd2a7ac7d3cccde8776. Forecasting as 1.\n",
      "Not enough data for product_id: 0c64fefac4191aa99cb7007bb10c6c77. Forecasting as 1.\n",
      "Not enough data for product_id: 0c65fcdb1caeb8a35c08eb455361ee01. Forecasting as 1.\n",
      "Not enough data for product_id: 0c672ed004d5abcc4bcb0367fdaffad3. Forecasting as 1.\n",
      "Not enough data for product_id: 0c679141ff7ee4350d8eb892ff475ba6. Forecasting as 1.\n",
      "Not enough data for product_id: 0c6b9534cc890c423ef8c3dc34517df5. Forecasting as 1.\n",
      "Not enough data for product_id: 0c6f417a4037ab082ea5fe9a4e7da299. Forecasting as 1.\n"
     ]
    },
    {
     "name": "stderr",
     "output_type": "stream",
     "text": [
      "03:07:38 - cmdstanpy - INFO - Chain [1] start processing\n",
      "03:07:38 - cmdstanpy - INFO - Chain [1] done processing\n"
     ]
    },
    {
     "name": "stdout",
     "output_type": "stream",
     "text": [
      "Not enough data for product_id: 0c7536abc1af51a81fa806097dfe3597. Forecasting as 1.\n",
      "Not enough data for product_id: 0c753fe6a58dfa7a27bda5de76e779c3. Forecasting as 1.\n"
     ]
    },
    {
     "name": "stderr",
     "output_type": "stream",
     "text": [
      "03:07:39 - cmdstanpy - INFO - Chain [1] start processing\n",
      "03:07:40 - cmdstanpy - INFO - Chain [1] done processing\n",
      "03:07:40 - cmdstanpy - INFO - Chain [1] start processing\n",
      "03:07:40 - cmdstanpy - INFO - Chain [1] done processing\n"
     ]
    },
    {
     "name": "stdout",
     "output_type": "stream",
     "text": [
      "Not enough data for product_id: 0c7dc9fcaa503c2df26419c747b39fd0. Forecasting as 1.\n"
     ]
    },
    {
     "name": "stderr",
     "output_type": "stream",
     "text": [
      "03:07:41 - cmdstanpy - INFO - Chain [1] start processing\n",
      "03:07:41 - cmdstanpy - INFO - Chain [1] done processing\n",
      "03:07:42 - cmdstanpy - INFO - Chain [1] start processing\n",
      "03:07:42 - cmdstanpy - INFO - Chain [1] done processing\n"
     ]
    },
    {
     "name": "stdout",
     "output_type": "stream",
     "text": [
      "Not enough data for product_id: 0c7f7adec80b0c8ee4b9703490bbb13b. Forecasting as 1.\n",
      "Not enough data for product_id: 0c800efe70e04ffcc3b266946e3e4826. Forecasting as 1.\n",
      "Not enough data for product_id: 0c806c7604c0581921d7b5b1c70bea5e. Forecasting as 1.\n",
      "Not enough data for product_id: 0c85b3e0748fdc1a15f227525d317821. Forecasting as 1.\n"
     ]
    },
    {
     "name": "stderr",
     "output_type": "stream",
     "text": [
      "03:07:44 - cmdstanpy - INFO - Chain [1] start processing\n",
      "03:07:44 - cmdstanpy - INFO - Chain [1] done processing\n"
     ]
    },
    {
     "name": "stdout",
     "output_type": "stream",
     "text": [
      "Not enough data for product_id: 0c8b321d3fd08377fe038cc6257d64e9. Forecasting as 1.\n"
     ]
    },
    {
     "name": "stderr",
     "output_type": "stream",
     "text": [
      "03:07:46 - cmdstanpy - INFO - Chain [1] start processing\n",
      "03:07:46 - cmdstanpy - INFO - Chain [1] done processing\n"
     ]
    },
    {
     "name": "stdout",
     "output_type": "stream",
     "text": [
      "Not enough data for product_id: 0c8fac7d7944ea8906fd291a8609474a. Forecasting as 1.\n",
      "Not enough data for product_id: 0c8ff033bfaf9bd1d24ab20a8ea2914e. Forecasting as 1.\n",
      "Not enough data for product_id: 0c90f0cece2b9c521af7c85ace4794be. Forecasting as 1.\n",
      "Not enough data for product_id: 0c90ffc8c44fe5d3e020002cc4da9496. Forecasting as 1.\n",
      "Not enough data for product_id: 0c91c5c2a59854e1fdafdc0478348c32. Forecasting as 1.\n"
     ]
    },
    {
     "name": "stderr",
     "output_type": "stream",
     "text": [
      "03:07:48 - cmdstanpy - INFO - Chain [1] start processing\n",
      "03:07:48 - cmdstanpy - INFO - Chain [1] done processing\n"
     ]
    },
    {
     "name": "stdout",
     "output_type": "stream",
     "text": [
      "Not enough data for product_id: 0c94b3b3e297c165f359c7cd62acc3da. Forecasting as 1.\n",
      "Not enough data for product_id: 0c954b7ab8bff085742e3c01a02936b8. Forecasting as 1.\n",
      "Not enough data for product_id: 0c98a3d692d019586b9c9645334924e6. Forecasting as 1.\n",
      "Not enough data for product_id: 0c9a1721e65cea1561c531b0e166cb1e. Forecasting as 1.\n"
     ]
    },
    {
     "name": "stderr",
     "output_type": "stream",
     "text": [
      "03:07:51 - cmdstanpy - INFO - Chain [1] start processing\n",
      "03:07:51 - cmdstanpy - INFO - Chain [1] done processing\n"
     ]
    },
    {
     "name": "stdout",
     "output_type": "stream",
     "text": [
      "Not enough data for product_id: 0ca0e1d4e4c7a404e472d27c0c19c3f5. Forecasting as 1.\n",
      "Not enough data for product_id: 0ca31cd8916e06a977f3596faddc6852. Forecasting as 1.\n",
      "Not enough data for product_id: 0ca455b3fae1a463c84420392d655ab9. Forecasting as 1.\n",
      "Not enough data for product_id: 0ca70d1b7cdf19dd90d993373aba94e8. Forecasting as 1.\n",
      "Not enough data for product_id: 0ca7afae61c042aedfd973110cd8970f. Forecasting as 1.\n",
      "Not enough data for product_id: 0cac4325d7aa33ada7ff2ba4d84f8874. Forecasting as 1.\n",
      "Not enough data for product_id: 0cad3c9a114203d74ff1ca303486f205. Forecasting as 1.\n"
     ]
    },
    {
     "name": "stderr",
     "output_type": "stream",
     "text": [
      "03:07:54 - cmdstanpy - INFO - Chain [1] start processing\n",
      "03:07:57 - cmdstanpy - INFO - Chain [1] done processing\n"
     ]
    },
    {
     "name": "stdout",
     "output_type": "stream",
     "text": [
      "Not enough data for product_id: 0cb386dab759a2f5e6dc75314cdc68a5. Forecasting as 1.\n",
      "Not enough data for product_id: 0cb3a271c0da633b811ac57f0c63d48d. Forecasting as 1.\n",
      "Not enough data for product_id: 0cb8c29f963ae2069fcc3afe95fd93c1. Forecasting as 1.\n",
      "Not enough data for product_id: 0cbb82f3f9549ec4aeab968a4be5e7a9. Forecasting as 1.\n",
      "Not enough data for product_id: 0cbc07d4b85c30f4eb6394504185f8f5. Forecasting as 1.\n",
      "Not enough data for product_id: 0cbca89e0ecfd4fe92dff4f1c27a0487. Forecasting as 1.\n",
      "Not enough data for product_id: 0cbd1fb25fc901e985012fbc87488a92. Forecasting as 1.\n"
     ]
    },
    {
     "name": "stderr",
     "output_type": "stream",
     "text": [
      "03:08:02 - cmdstanpy - INFO - Chain [1] start processing\n",
      "03:08:02 - cmdstanpy - INFO - Chain [1] done processing\n",
      "03:08:03 - cmdstanpy - INFO - Chain [1] start processing\n",
      "03:08:03 - cmdstanpy - INFO - Chain [1] done processing\n"
     ]
    },
    {
     "name": "stdout",
     "output_type": "stream",
     "text": [
      "Not enough data for product_id: 0cc562350ea5915979a9d5f1f888f131. Forecasting as 1.\n",
      "Not enough data for product_id: 0cc8792aea4a5586398479689a6daf63. Forecasting as 1.\n"
     ]
    },
    {
     "name": "stderr",
     "output_type": "stream",
     "text": [
      "03:08:05 - cmdstanpy - INFO - Chain [1] start processing\n",
      "03:08:08 - cmdstanpy - INFO - Chain [1] done processing\n"
     ]
    },
    {
     "name": "stdout",
     "output_type": "stream",
     "text": [
      "Not enough data for product_id: 0cd64dc65679876c896236bea326589b. Forecasting as 1.\n",
      "Not enough data for product_id: 0cd7885ebb79eda16c32c1043681fc19. Forecasting as 1.\n",
      "Not enough data for product_id: 0cd9f302c8a5b076ffa5c3567c6705fd. Forecasting as 1.\n",
      "Not enough data for product_id: 0cdd996d482a30e6a2c4d222a9685c73. Forecasting as 1.\n",
      "Not enough data for product_id: 0ce1adfdded63914231951b7b34624fe. Forecasting as 1.\n",
      "Not enough data for product_id: 0ce430e210535c2f40fe2f13ca31b441. Forecasting as 1.\n"
     ]
    },
    {
     "name": "stderr",
     "output_type": "stream",
     "text": [
      "03:08:12 - cmdstanpy - INFO - Chain [1] start processing\n",
      "03:08:15 - cmdstanpy - INFO - Chain [1] done processing\n"
     ]
    },
    {
     "name": "stdout",
     "output_type": "stream",
     "text": [
      "Not enough data for product_id: 0cef952d7fcac13a3f548548cb49aeaf. Forecasting as 1.\n",
      "Not enough data for product_id: 0cf39ab2d0f594fe612f81d2d90121e8. Forecasting as 1.\n"
     ]
    },
    {
     "name": "stderr",
     "output_type": "stream",
     "text": [
      "03:08:18 - cmdstanpy - INFO - Chain [1] start processing\n",
      "03:08:18 - cmdstanpy - INFO - Chain [1] done processing\n",
      "03:08:19 - cmdstanpy - INFO - Chain [1] start processing\n",
      "03:08:19 - cmdstanpy - INFO - Chain [1] done processing\n"
     ]
    },
    {
     "name": "stdout",
     "output_type": "stream",
     "text": [
      "Not enough data for product_id: 0cf5798cf0a69ca39b286d63dd5a9501. Forecasting as 1.\n",
      "Not enough data for product_id: 0d005a9c5ad693235416c40d4fc52e22. Forecasting as 1.\n"
     ]
    },
    {
     "name": "stderr",
     "output_type": "stream",
     "text": [
      "03:08:20 - cmdstanpy - INFO - Chain [1] start processing\n",
      "03:08:20 - cmdstanpy - INFO - Chain [1] done processing\n"
     ]
    },
    {
     "name": "stdout",
     "output_type": "stream",
     "text": [
      "Not enough data for product_id: 0d0325657335ef73f845233387b378ae. Forecasting as 1.\n",
      "Not enough data for product_id: 0d04a8284bd80aba2723d62bdb330b4d. Forecasting as 1.\n",
      "Not enough data for product_id: 0d070bdf0c723fab163131a8bed98356. Forecasting as 1.\n",
      "Not enough data for product_id: 0d0813646803c7ceca65852df0fd59f6. Forecasting as 1.\n"
     ]
    },
    {
     "name": "stderr",
     "output_type": "stream",
     "text": [
      "03:08:22 - cmdstanpy - INFO - Chain [1] start processing\n",
      "03:08:24 - cmdstanpy - INFO - Chain [1] done processing\n",
      "03:08:24 - cmdstanpy - INFO - Chain [1] start processing\n",
      "03:08:24 - cmdstanpy - INFO - Chain [1] done processing\n"
     ]
    },
    {
     "name": "stdout",
     "output_type": "stream",
     "text": [
      "Not enough data for product_id: 0d13a341a2916308175bc9e89bdafb73. Forecasting as 1.\n"
     ]
    },
    {
     "name": "stderr",
     "output_type": "stream",
     "text": [
      "03:08:26 - cmdstanpy - INFO - Chain [1] start processing\n",
      "03:08:26 - cmdstanpy - INFO - Chain [1] done processing\n"
     ]
    },
    {
     "name": "stdout",
     "output_type": "stream",
     "text": [
      "Not enough data for product_id: 0d16d327b79bf9a0ccc7a4fa02ff7a83. Forecasting as 1.\n",
      "Not enough data for product_id: 0d17caa71904fab71aaa37e8a370dc8d. Forecasting as 1.\n",
      "Not enough data for product_id: 0d1b16618de7d0c6143e934ea38619e0. Forecasting as 1.\n",
      "Not enough data for product_id: 0d22e0d0bfa33bac40ccd83ae1c0649d. Forecasting as 1.\n",
      "Not enough data for product_id: 0d273869567a92a7fa9758f0b5507e87. Forecasting as 1.\n",
      "Not enough data for product_id: 0d27851a74a2b7abf8e6daa991d005f8. Forecasting as 1.\n",
      "Not enough data for product_id: 0d2b42712574296324f669c9d2b25cb5. Forecasting as 1.\n",
      "Not enough data for product_id: 0d2c4e029804235bd546d1f771049ef3. Forecasting as 1.\n",
      "Not enough data for product_id: 0d2f2dd7132f16be810fcf84fde2d1ae. Forecasting as 1.\n",
      "Not enough data for product_id: 0d2f3592e105a90c5a25c71efe56ff39. Forecasting as 1.\n",
      "Not enough data for product_id: 0d32505442753393a3f7eece24855c4d. Forecasting as 1.\n",
      "Not enough data for product_id: 0d361d3e685f13bd282a6f3054de5a23. Forecasting as 1.\n",
      "Not enough data for product_id: 0d368e3a4bd2ebf60c31c214da108e3b. Forecasting as 1.\n",
      "Not enough data for product_id: 0d3ae9775bb6537884a4cf722b258d83. Forecasting as 1.\n",
      "Not enough data for product_id: 0d4e8d3f34ece63cc5132237ccfc0241. Forecasting as 1.\n",
      "Not enough data for product_id: 0d56b4fd97465d99b6ed174ffc7ba133. Forecasting as 1.\n",
      "Not enough data for product_id: 0d60ec9cf77726af8257bc483d038a72. Forecasting as 1.\n",
      "Not enough data for product_id: 0d629cd382c4987f7faf67956dfd103e. Forecasting as 1.\n",
      "Not enough data for product_id: 0d6a874a30783dcb6a96d4a245a8f6d2. Forecasting as 1.\n",
      "Not enough data for product_id: 0d71340b664b3ae1ac8cca807bf236dd. Forecasting as 1.\n",
      "Not enough data for product_id: 0d784350888156657d65b06af8ccc501. Forecasting as 1.\n"
     ]
    },
    {
     "name": "stderr",
     "output_type": "stream",
     "text": [
      "03:08:40 - cmdstanpy - INFO - Chain [1] start processing\n",
      "03:08:41 - cmdstanpy - INFO - Chain [1] done processing\n"
     ]
    },
    {
     "name": "stdout",
     "output_type": "stream",
     "text": [
      "Not enough data for product_id: 0d86ab499a2af7f2352d18e2a6be12f4. Forecasting as 1.\n",
      "Not enough data for product_id: 0d86df06a3a526cbe70d2e56c50a0b7a. Forecasting as 1.\n"
     ]
    },
    {
     "name": "stderr",
     "output_type": "stream",
     "text": [
      "03:08:42 - cmdstanpy - INFO - Chain [1] start processing\n",
      "03:08:43 - cmdstanpy - INFO - Chain [1] done processing\n"
     ]
    },
    {
     "name": "stdout",
     "output_type": "stream",
     "text": [
      "Not enough data for product_id: 0d89e155a6cf12de15e19e2d67ad14ad. Forecasting as 1.\n",
      "Not enough data for product_id: 0d8a610fba87a613abc873be8d164bb7. Forecasting as 1.\n",
      "Not enough data for product_id: 0d8aaee3e75a9529a387b2e0e52615f5. Forecasting as 1.\n",
      "Not enough data for product_id: 0d8c593f5408c0e5d59f850bb0a7b499. Forecasting as 1.\n",
      "Not enough data for product_id: 0d8ce3ada96b62b2dd49290fceb45d0f. Forecasting as 1.\n"
     ]
    },
    {
     "name": "stderr",
     "output_type": "stream",
     "text": [
      "03:08:46 - cmdstanpy - INFO - Chain [1] start processing\n",
      "03:08:46 - cmdstanpy - INFO - Chain [1] done processing\n"
     ]
    },
    {
     "name": "stdout",
     "output_type": "stream",
     "text": [
      "Not enough data for product_id: 0d93dbf32345927755c936fe02d5776b. Forecasting as 1.\n",
      "Not enough data for product_id: 0d944ade388f4db684ab7578aadcc0ad. Forecasting as 1.\n"
     ]
    },
    {
     "name": "stderr",
     "output_type": "stream",
     "text": [
      "03:08:47 - cmdstanpy - INFO - Chain [1] start processing\n",
      "03:08:47 - cmdstanpy - INFO - Chain [1] done processing\n"
     ]
    },
    {
     "name": "stdout",
     "output_type": "stream",
     "text": [
      "Not enough data for product_id: 0d954479e7991c06d35202c130844b57. Forecasting as 1.\n",
      "Not enough data for product_id: 0d98754cfefd5a306f6633725f3aed59. Forecasting as 1.\n",
      "Not enough data for product_id: 0d9957ab8ffb09053626ff10f7b5876b. Forecasting as 1.\n"
     ]
    },
    {
     "name": "stderr",
     "output_type": "stream",
     "text": [
      "03:08:49 - cmdstanpy - INFO - Chain [1] start processing\n",
      "03:08:51 - cmdstanpy - INFO - Chain [1] done processing\n"
     ]
    },
    {
     "name": "stdout",
     "output_type": "stream",
     "text": [
      "Not enough data for product_id: 0d9e040b938001c020cc395f7ee87ce7. Forecasting as 1.\n",
      "Not enough data for product_id: 0d9f729c5dea994b9072004fd2656cc3. Forecasting as 1.\n",
      "Not enough data for product_id: 0da84ac639a3af13da933faa601a5dc5. Forecasting as 1.\n",
      "Not enough data for product_id: 0da904b76a8131e90eb8af2e4826ea59. Forecasting as 1.\n"
     ]
    },
    {
     "name": "stderr",
     "output_type": "stream",
     "text": [
      "03:08:53 - cmdstanpy - INFO - Chain [1] start processing\n",
      "03:08:53 - cmdstanpy - INFO - Chain [1] done processing\n"
     ]
    },
    {
     "name": "stdout",
     "output_type": "stream",
     "text": [
      "Not enough data for product_id: 0daaaee8a33938591e1d5b980e65046e. Forecasting as 1.\n",
      "Not enough data for product_id: 0daacc5e5ecc8beeaccc9e5b96c30f70. Forecasting as 1.\n",
      "Not enough data for product_id: 0dabe0ee04aa9d25592cbb5b585e698c. Forecasting as 1.\n"
     ]
    },
    {
     "name": "stderr",
     "output_type": "stream",
     "text": [
      "03:08:54 - cmdstanpy - INFO - Chain [1] start processing\n",
      "03:09:01 - cmdstanpy - INFO - Chain [1] done processing\n"
     ]
    },
    {
     "name": "stdout",
     "output_type": "stream",
     "text": [
      "Not enough data for product_id: 0db01fdc451cdba4ee06ff86de2885a7. Forecasting as 1.\n"
     ]
    },
    {
     "name": "stderr",
     "output_type": "stream",
     "text": [
      "03:09:02 - cmdstanpy - INFO - Chain [1] start processing\n",
      "03:09:02 - cmdstanpy - INFO - Chain [1] done processing\n"
     ]
    },
    {
     "name": "stdout",
     "output_type": "stream",
     "text": [
      "Not enough data for product_id: 0db0a25da8420d8e6d918b552c3c4891. Forecasting as 1.\n"
     ]
    },
    {
     "name": "stderr",
     "output_type": "stream",
     "text": [
      "03:09:03 - cmdstanpy - INFO - Chain [1] start processing\n",
      "03:09:03 - cmdstanpy - INFO - Chain [1] done processing\n"
     ]
    },
    {
     "name": "stdout",
     "output_type": "stream",
     "text": [
      "Not enough data for product_id: 0db526498c594b096f9a1ae1aa239277. Forecasting as 1.\n",
      "Not enough data for product_id: 0db608cb372db7e5f00b9f8c572b6ff6. Forecasting as 1.\n",
      "Not enough data for product_id: 0dc157babdb4785891879bc375256724. Forecasting as 1.\n",
      "Not enough data for product_id: 0dc2c7b7e9708ca6f165c3de6c98a7d5. Forecasting as 1.\n"
     ]
    },
    {
     "name": "stderr",
     "output_type": "stream",
     "text": [
      "03:09:05 - cmdstanpy - INFO - Chain [1] start processing\n",
      "03:09:05 - cmdstanpy - INFO - Chain [1] done processing\n"
     ]
    },
    {
     "name": "stdout",
     "output_type": "stream",
     "text": [
      "Not enough data for product_id: 0dc7e2749b6f2da894167fc88c86a2cc. Forecasting as 1.\n",
      "Not enough data for product_id: 0dc88ec6b2635cd62b46f0f1d4c714ee. Forecasting as 1.\n",
      "Not enough data for product_id: 0dcb1adbafdcc389972874b01fa249b8. Forecasting as 1.\n",
      "Not enough data for product_id: 0dcc0fb8b17c8d0b86e3f07c78492194. Forecasting as 1.\n",
      "Not enough data for product_id: 0dcd34a72eb2310d44b1e823a4ecc7b7. Forecasting as 1.\n",
      "Not enough data for product_id: 0dce4d890959f0607b58e7475d13fc86. Forecasting as 1.\n",
      "Not enough data for product_id: 0dce4f5243207cc33533e133b634ae5f. Forecasting as 1.\n",
      "Not enough data for product_id: 0dcf825106493a9e9edd115860e709c1. Forecasting as 1.\n",
      "Not enough data for product_id: 0dd11fb64ad79535d17973b8608eeb6a. Forecasting as 1.\n",
      "Not enough data for product_id: 0dd8f23d6e66d8b4246e3068d13091f9. Forecasting as 1.\n",
      "Not enough data for product_id: 0dda66cf50e9782e3b4499568095bba2. Forecasting as 1.\n",
      "Not enough data for product_id: 0ddc12518a71c5561e6c1054f3816a3e. Forecasting as 1.\n",
      "Not enough data for product_id: 0ddee7337ebe743e2d8f2fdfd671729a. Forecasting as 1.\n",
      "Not enough data for product_id: 0de0af2336d127802abb8c8763f46afb. Forecasting as 1.\n",
      "Not enough data for product_id: 0de11423be68ad641c9be1135450074c. Forecasting as 1.\n"
     ]
    },
    {
     "name": "stderr",
     "output_type": "stream",
     "text": [
      "03:09:14 - cmdstanpy - INFO - Chain [1] start processing\n",
      "03:09:49 - cmdstanpy - INFO - Chain [1] done processing\n"
     ]
    },
    {
     "name": "stdout",
     "output_type": "stream",
     "text": [
      "Not enough data for product_id: 0de59eddc63167215c972b0d785ffa7b. Forecasting as 1.\n",
      "Not enough data for product_id: 0de92952548b2f0de651515b1af67a07. Forecasting as 1.\n",
      "Not enough data for product_id: 0de9e97aea20a7497e01b63e7788e43f. Forecasting as 1.\n",
      "Not enough data for product_id: 0deb7c87c4ffc9afc99fcd59abf45231. Forecasting as 1.\n",
      "Not enough data for product_id: 0df08d9f73f6c9aece41672e5f3c9cda. Forecasting as 1.\n",
      "Not enough data for product_id: 0df2a1aed6dc8c10577115fa9e4b6de0. Forecasting as 1.\n",
      "Not enough data for product_id: 0df37da38a30a713453b03053d60d3f7. Forecasting as 1.\n",
      "Not enough data for product_id: 0df595995d2f55005a3de2b62ca97189. Forecasting as 1.\n",
      "Not enough data for product_id: 0dfb3f08547a24999bb7ec4d025b7d7d. Forecasting as 1.\n",
      "Not enough data for product_id: 0e030462875259ec0cb868f7ecf1fd5e. Forecasting as 1.\n"
     ]
    },
    {
     "name": "stderr",
     "output_type": "stream",
     "text": [
      "03:09:54 - cmdstanpy - INFO - Chain [1] start processing\n",
      "03:09:55 - cmdstanpy - INFO - Chain [1] done processing\n"
     ]
    },
    {
     "name": "stdout",
     "output_type": "stream",
     "text": [
      "Not enough data for product_id: 0e0656cd8f9bf2dfad875866965389c7. Forecasting as 1.\n",
      "Not enough data for product_id: 0e07d90e3275adffecb3d6928d104d09. Forecasting as 1.\n",
      "Not enough data for product_id: 0e0872c9ae03640015df6e5b9e746a77. Forecasting as 1.\n",
      "Not enough data for product_id: 0e0b3c0d93556bb5357924c59cad48c9. Forecasting as 1.\n",
      "Not enough data for product_id: 0e0be1b2859d8645f40d55e1dd855781. Forecasting as 1.\n",
      "Not enough data for product_id: 0e0dec1c30232f86f5076622e9f623b6. Forecasting as 1.\n",
      "Not enough data for product_id: 0e10dd7cc1cc793351f0a259df91cdfa. Forecasting as 1.\n",
      "Not enough data for product_id: 0e11633dd5ea3089303dd9a9f226d5a8. Forecasting as 1.\n",
      "Not enough data for product_id: 0e13a44cd53f64403d91654786b6adcf. Forecasting as 1.\n",
      "Not enough data for product_id: 0e13c4b4092996e086fd789f7ecb3be8. Forecasting as 1.\n"
     ]
    },
    {
     "name": "stderr",
     "output_type": "stream",
     "text": [
      "03:09:59 - cmdstanpy - INFO - Chain [1] start processing\n",
      "03:10:02 - cmdstanpy - INFO - Chain [1] done processing\n",
      "03:10:03 - cmdstanpy - INFO - Chain [1] start processing\n",
      "03:10:03 - cmdstanpy - INFO - Chain [1] done processing\n"
     ]
    },
    {
     "name": "stdout",
     "output_type": "stream",
     "text": [
      "Not enough data for product_id: 0e18e94d0e545d65bb80fc56c1a00ae9. Forecasting as 1.\n",
      "Not enough data for product_id: 0e1d6728d42f12978a547564c96bfb03. Forecasting as 1.\n"
     ]
    },
    {
     "name": "stderr",
     "output_type": "stream",
     "text": [
      "03:10:06 - cmdstanpy - INFO - Chain [1] start processing\n",
      "03:10:08 - cmdstanpy - INFO - Chain [1] done processing\n"
     ]
    },
    {
     "name": "stdout",
     "output_type": "stream",
     "text": [
      "Not enough data for product_id: 0e259b36666420c6032de273ef47cdc7. Forecasting as 1.\n",
      "Not enough data for product_id: 0e2af4376f0bd3832dec90a4d7b7ec54. Forecasting as 1.\n",
      "Not enough data for product_id: 0e2c6b2fc22b192f824a68a0fa537aa0. Forecasting as 1.\n"
     ]
    },
    {
     "name": "stderr",
     "output_type": "stream",
     "text": [
      "03:10:10 - cmdstanpy - INFO - Chain [1] start processing\n",
      "03:10:10 - cmdstanpy - INFO - Chain [1] done processing\n"
     ]
    },
    {
     "name": "stdout",
     "output_type": "stream",
     "text": [
      "Not enough data for product_id: 0e314819204e6e8c5f4481cf5e8367a4. Forecasting as 1.\n",
      "Not enough data for product_id: 0e34466be9b2d3af8e189b6d27d5eaf3. Forecasting as 1.\n",
      "Not enough data for product_id: 0e35a413d832e63c5d46101b7c88de0f. Forecasting as 1.\n",
      "Not enough data for product_id: 0e3f5da3b1d7aeb2b1aa661a99c4788c. Forecasting as 1.\n"
     ]
    },
    {
     "name": "stderr",
     "output_type": "stream",
     "text": [
      "03:10:14 - cmdstanpy - INFO - Chain [1] start processing\n",
      "03:10:14 - cmdstanpy - INFO - Chain [1] done processing\n"
     ]
    },
    {
     "name": "stdout",
     "output_type": "stream",
     "text": [
      "Not enough data for product_id: 0e429613002a4b7dfa4554005e2ab8d2. Forecasting as 1.\n",
      "Not enough data for product_id: 0e453d51e0da8f98a7297b61328d9a8c. Forecasting as 1.\n",
      "Not enough data for product_id: 0e46632ce140985c23007bb52b4c4039. Forecasting as 1.\n",
      "Not enough data for product_id: 0e46a653d7cee79c08431b38fcb67fe9. Forecasting as 1.\n",
      "Not enough data for product_id: 0e474dd27ee6b8386b49a18097d937ae. Forecasting as 1.\n",
      "Not enough data for product_id: 0e482d9064073154832a2311c821c668. Forecasting as 1.\n",
      "Not enough data for product_id: 0e4fe8b32f8101e9c6e915281498cf1b. Forecasting as 1.\n",
      "Not enough data for product_id: 0e50d32982ca62c8fdbda9eb2df5e65f. Forecasting as 1.\n",
      "Not enough data for product_id: 0e52955ca8143bd179b311cc454a6caa. Forecasting as 1.\n",
      "Not enough data for product_id: 0e529ceb74fce926f8cec35f6cb23986. Forecasting as 1.\n",
      "Not enough data for product_id: 0e53d55e7f56c386b4545fb0e9f4dc6f. Forecasting as 1.\n",
      "Not enough data for product_id: 0e56789eca7cb6089cbcb26cdae08012. Forecasting as 1.\n"
     ]
    },
    {
     "name": "stderr",
     "output_type": "stream",
     "text": [
      "03:10:20 - cmdstanpy - INFO - Chain [1] start processing\n",
      "03:10:20 - cmdstanpy - INFO - Chain [1] done processing\n"
     ]
    },
    {
     "name": "stdout",
     "output_type": "stream",
     "text": [
      "Not enough data for product_id: 0e5c138ca746633922f8ed55b2c3d005. Forecasting as 1.\n",
      "Not enough data for product_id: 0e62e9412bc4636f89f83b9dc9dfd897. Forecasting as 1.\n",
      "Not enough data for product_id: 0e632ab9f5b05a2703871a8f27e4e1a7. Forecasting as 1.\n",
      "Not enough data for product_id: 0e643adf6c6b66f31c00e354a06ee0ab. Forecasting as 1.\n",
      "Not enough data for product_id: 0e6596a7fa2e81995e1ddaddc650cbee. Forecasting as 1.\n",
      "Not enough data for product_id: 0e67e54b55cf6c87a00d7f0fd3c5c491. Forecasting as 1.\n",
      "Not enough data for product_id: 0e683e7a71fcb46d071a6b104a685927. Forecasting as 1.\n",
      "Not enough data for product_id: 0e6e319f54e663147c771705ab5dec67. Forecasting as 1.\n",
      "Not enough data for product_id: 0e6e9a3510d7c927145921c00077a726. Forecasting as 1.\n",
      "Not enough data for product_id: 0e6fa23228936f89de3fa23d8fe80a23. Forecasting as 1.\n",
      "Not enough data for product_id: 0e71c6a889baea05c4c9ce1b0d58114d. Forecasting as 1.\n",
      "Not enough data for product_id: 0e7216b12328bd161cda08ff05c857a4. Forecasting as 1.\n",
      "Not enough data for product_id: 0e7467f597732a74c1f98f7703117626. Forecasting as 1.\n"
     ]
    },
    {
     "name": "stderr",
     "output_type": "stream",
     "text": [
      "03:10:25 - cmdstanpy - INFO - Chain [1] start processing\n",
      "03:10:29 - cmdstanpy - INFO - Chain [1] done processing\n"
     ]
    },
    {
     "name": "stdout",
     "output_type": "stream",
     "text": [
      "Not enough data for product_id: 0e83e17abf02965da217273abc39518f. Forecasting as 1.\n",
      "Not enough data for product_id: 0e8455af924fb157b26a4ab95f28bb10. Forecasting as 1.\n",
      "Not enough data for product_id: 0e8667de30891d1a7de8ab9ebae611d9. Forecasting as 1.\n",
      "Not enough data for product_id: 0e8850427b0f558b79bc35c9800b6e73. Forecasting as 1.\n",
      "Not enough data for product_id: 0e89c3d718b2577cd55974355651d15b. Forecasting as 1.\n",
      "Not enough data for product_id: 0e8c1dc0559f4a9a4a9066dc8c56755c. Forecasting as 1.\n",
      "Not enough data for product_id: 0e8d8404861cea31d9b2010514fc53ad. Forecasting as 1.\n",
      "Not enough data for product_id: 0e8dd4723ed0d8206b7edbe908f35081. Forecasting as 1.\n",
      "Not enough data for product_id: 0e8df33c96f1c03405f222785b9d753e. Forecasting as 1.\n",
      "Not enough data for product_id: 0e90009c14c8245b4ec2646c22ca8b7d. Forecasting as 1.\n",
      "Not enough data for product_id: 0e92dcf7b03df1de4e9349af065f8e63. Forecasting as 1.\n",
      "Not enough data for product_id: 0e9337d7797212cb7e691df437a5b207. Forecasting as 1.\n"
     ]
    },
    {
     "name": "stderr",
     "output_type": "stream",
     "text": [
      "03:10:34 - cmdstanpy - INFO - Chain [1] start processing\n",
      "03:10:34 - cmdstanpy - INFO - Chain [1] done processing\n"
     ]
    },
    {
     "name": "stdout",
     "output_type": "stream",
     "text": [
      "Not enough data for product_id: 0e95d6eef2bedaf4ecf3c33f78199059. Forecasting as 1.\n",
      "Not enough data for product_id: 0e9ccf7f1a20862f5726769dfe55043f. Forecasting as 1.\n"
     ]
    },
    {
     "name": "stderr",
     "output_type": "stream",
     "text": [
      "03:10:36 - cmdstanpy - INFO - Chain [1] start processing\n",
      "03:10:40 - cmdstanpy - INFO - Chain [1] done processing\n"
     ]
    },
    {
     "name": "stdout",
     "output_type": "stream",
     "text": [
      "Not enough data for product_id: 0ea4159212776c6cc70d802d45145353. Forecasting as 1.\n",
      "Not enough data for product_id: 0eab6e0791144ef4f29404a4a0a8fecf. Forecasting as 1.\n",
      "Not enough data for product_id: 0eae0d3fd2fe4e667213525cd676c1fe. Forecasting as 1.\n",
      "Not enough data for product_id: 0eb14dca77e29c41da121dfa88b4b0ea. Forecasting as 1.\n",
      "Not enough data for product_id: 0eb41884a8773e019708fb8409fd8347. Forecasting as 1.\n",
      "Not enough data for product_id: 0eb794467bd4768dfbf07bc52a122baa. Forecasting as 1.\n"
     ]
    },
    {
     "name": "stderr",
     "output_type": "stream",
     "text": [
      "03:10:45 - cmdstanpy - INFO - Chain [1] start processing\n",
      "03:10:45 - cmdstanpy - INFO - Chain [1] done processing\n"
     ]
    },
    {
     "name": "stdout",
     "output_type": "stream",
     "text": [
      "Not enough data for product_id: 0ebe8f2e60fadb8f9ebf63a5841f34f1. Forecasting as 1.\n",
      "Not enough data for product_id: 0ebeefa6b739bd9605dec426c7c8a11e. Forecasting as 1.\n",
      "Not enough data for product_id: 0ec6e7e13e4987eee4e1081a3472f5b6. Forecasting as 1.\n"
     ]
    },
    {
     "name": "stderr",
     "output_type": "stream",
     "text": [
      "03:10:48 - cmdstanpy - INFO - Chain [1] start processing\n",
      "03:11:10 - cmdstanpy - INFO - Chain [1] done processing\n"
     ]
    },
    {
     "name": "stdout",
     "output_type": "stream",
     "text": [
      "Not enough data for product_id: 0ec884e982b64baccc2612396932cfdd. Forecasting as 1.\n"
     ]
    },
    {
     "name": "stderr",
     "output_type": "stream",
     "text": [
      "03:11:10 - cmdstanpy - INFO - Chain [1] start processing\n",
      "03:11:10 - cmdstanpy - INFO - Chain [1] done processing\n"
     ]
    },
    {
     "name": "stdout",
     "output_type": "stream",
     "text": [
      "Not enough data for product_id: 0ecad0adea69d2b6331c84db4876d15f. Forecasting as 1.\n"
     ]
    },
    {
     "name": "stderr",
     "output_type": "stream",
     "text": [
      "03:11:12 - cmdstanpy - INFO - Chain [1] start processing\n",
      "03:11:12 - cmdstanpy - INFO - Chain [1] done processing\n"
     ]
    },
    {
     "name": "stdout",
     "output_type": "stream",
     "text": [
      "Not enough data for product_id: 0ece029097324dceb8b637673ca7e519. Forecasting as 1.\n",
      "Not enough data for product_id: 0ed0b763ec2b2da79223ed78dfc0263b. Forecasting as 1.\n",
      "Not enough data for product_id: 0ed343b480193b11dbe4dfa81ac98ff1. Forecasting as 1.\n",
      "Not enough data for product_id: 0ed3993c767ad11a9d285e1a6caa2eff. Forecasting as 1.\n",
      "Not enough data for product_id: 0ed9a84687fad2d921b09b0ebcc4cded. Forecasting as 1.\n"
     ]
    },
    {
     "name": "stderr",
     "output_type": "stream",
     "text": [
      "03:11:16 - cmdstanpy - INFO - Chain [1] start processing\n",
      "03:11:16 - cmdstanpy - INFO - Chain [1] done processing\n",
      "03:11:16 - cmdstanpy - INFO - Chain [1] start processing\n",
      "03:11:17 - cmdstanpy - INFO - Chain [1] done processing\n",
      "03:11:17 - cmdstanpy - INFO - Chain [1] start processing\n",
      "03:11:17 - cmdstanpy - INFO - Chain [1] done processing\n"
     ]
    },
    {
     "name": "stdout",
     "output_type": "stream",
     "text": [
      "Not enough data for product_id: 0ee57e62251a7e435b7a3142c1f6aaf4. Forecasting as 1.\n",
      "Not enough data for product_id: 0ee7a6e1cd4ecf72e711a2f68b4d8d2e. Forecasting as 1.\n",
      "Not enough data for product_id: 0eeb248ad8f9b39dcba17afa65c7ae82. Forecasting as 1.\n",
      "Not enough data for product_id: 0eeeb45e2f5911fd44282e5bb0c624ff. Forecasting as 1.\n",
      "Not enough data for product_id: 0eef510ccdaf8a53cefc1a8f035f681a. Forecasting as 1.\n",
      "Not enough data for product_id: 0ef0a1c6a3c510f3f81bde96f72121d1. Forecasting as 1.\n",
      "Not enough data for product_id: 0ef32bf6866d39b5b0ae604798ecdae4. Forecasting as 1.\n",
      "Not enough data for product_id: 0ef37d421045fdf87dba29f9bbfda772. Forecasting as 1.\n",
      "Not enough data for product_id: 0ef539a5334aaf06f2a028d08021f681. Forecasting as 1.\n",
      "Not enough data for product_id: 0ef877bd233e765e7163f9fcb49b6ffa. Forecasting as 1.\n",
      "Not enough data for product_id: 0ef97c3cdccb448931cb0f778af3584c. Forecasting as 1.\n",
      "Not enough data for product_id: 0efaf4b155c6545bdc426ec0722cceaa. Forecasting as 1.\n"
     ]
    },
    {
     "name": "stderr",
     "output_type": "stream",
     "text": [
      "03:11:27 - cmdstanpy - INFO - Chain [1] start processing\n",
      "03:11:27 - cmdstanpy - INFO - Chain [1] done processing\n"
     ]
    },
    {
     "name": "stdout",
     "output_type": "stream",
     "text": [
      "Not enough data for product_id: 0f025e441822f059a260a6ec3001ec0e. Forecasting as 1.\n"
     ]
    },
    {
     "name": "stderr",
     "output_type": "stream",
     "text": [
      "03:11:29 - cmdstanpy - INFO - Chain [1] start processing\n",
      "03:11:31 - cmdstanpy - INFO - Chain [1] done processing\n"
     ]
    },
    {
     "name": "stdout",
     "output_type": "stream",
     "text": [
      "Not enough data for product_id: 0f0d29cc7928e6e5d01afaa32e77c1e0. Forecasting as 1.\n"
     ]
    },
    {
     "name": "stderr",
     "output_type": "stream",
     "text": [
      "03:11:32 - cmdstanpy - INFO - Chain [1] start processing\n",
      "03:11:35 - cmdstanpy - INFO - Chain [1] done processing\n"
     ]
    },
    {
     "name": "stdout",
     "output_type": "stream",
     "text": [
      "Not enough data for product_id: 0f11f38f81a4b4ce8ab38eaec02263e8. Forecasting as 1.\n",
      "Not enough data for product_id: 0f1685e5c1430054df6d76621c2a0f8c. Forecasting as 1.\n",
      "Not enough data for product_id: 0f18321a5c6483ce8d2b2785f0c8f25d. Forecasting as 1.\n",
      "Not enough data for product_id: 0f18dd94b11fed8cecd947decde9d3b1. Forecasting as 1.\n",
      "Not enough data for product_id: 0f2210490db477cfc80743481d0b6399. Forecasting as 1.\n",
      "Not enough data for product_id: 0f24b7516c5b67c9c686848db9759d88. Forecasting as 1.\n",
      "Not enough data for product_id: 0f293868e6ee0f67892919e9ca2f83d7. Forecasting as 1.\n",
      "Not enough data for product_id: 0f2c63b139240497322ea965de3f694d. Forecasting as 1.\n",
      "Not enough data for product_id: 0f2ebb4245936455a76efd643a5e0745. Forecasting as 1.\n",
      "Not enough data for product_id: 0f2ee8171adfc13c81f69ff4dcb2b635. Forecasting as 1.\n",
      "Not enough data for product_id: 0f343c0a45653e6efea356d147833357. Forecasting as 1.\n",
      "Not enough data for product_id: 0f3547f2b32d5660a50961768fe2d929. Forecasting as 1.\n",
      "Not enough data for product_id: 0f39dd7b84f0532254c167aa5ad6bbca. Forecasting as 1.\n",
      "Not enough data for product_id: 0f3a9ee2528678ce70458e2dde0a5bfd. Forecasting as 1.\n",
      "Not enough data for product_id: 0f40837cdd9606e43215010f9e8fce41. Forecasting as 1.\n",
      "Not enough data for product_id: 0f412a384a483933ee154a4ccfb03570. Forecasting as 1.\n",
      "Not enough data for product_id: 0f4188ecc00cfd99f81763ee9725487c. Forecasting as 1.\n",
      "Not enough data for product_id: 0f461354af6a2189ef983f8e7a3390b5. Forecasting as 1.\n"
     ]
    },
    {
     "name": "stderr",
     "output_type": "stream",
     "text": [
      "03:11:45 - cmdstanpy - INFO - Chain [1] start processing\n",
      "03:11:45 - cmdstanpy - INFO - Chain [1] done processing\n"
     ]
    },
    {
     "name": "stdout",
     "output_type": "stream",
     "text": [
      "Not enough data for product_id: 0f4d27b820e317c951649da022895e0e. Forecasting as 1.\n",
      "Not enough data for product_id: 0f4dbfe93fbadcce71e1edce3a3e30f0. Forecasting as 1.\n",
      "Not enough data for product_id: 0f59f164d6792e0c4d1757501850cf47. Forecasting as 1.\n",
      "Not enough data for product_id: 0f63bdd7e201644735e2c9d8fca69554. Forecasting as 1.\n",
      "Not enough data for product_id: 0f677d256ee3a3fa0e23419b98573cdb. Forecasting as 1.\n"
     ]
    },
    {
     "name": "stderr",
     "output_type": "stream",
     "text": [
      "03:11:49 - cmdstanpy - INFO - Chain [1] start processing\n",
      "03:11:49 - cmdstanpy - INFO - Chain [1] done processing\n"
     ]
    },
    {
     "name": "stdout",
     "output_type": "stream",
     "text": [
      "Not enough data for product_id: 0f6e214a2c5baab8c1ccb053a0829f13. Forecasting as 1.\n",
      "Not enough data for product_id: 0f709fbd9fc86a79d0fadcd6c3d243a5. Forecasting as 1.\n",
      "Not enough data for product_id: 0f72996a8379314700a3ff9e822451e0. Forecasting as 1.\n",
      "Not enough data for product_id: 0f7720c31413b5c7790e3f301342464d. Forecasting as 1.\n"
     ]
    },
    {
     "name": "stderr",
     "output_type": "stream",
     "text": [
      "03:11:51 - cmdstanpy - INFO - Chain [1] start processing\n",
      "03:11:52 - cmdstanpy - INFO - Chain [1] done processing\n",
      "03:11:52 - cmdstanpy - INFO - Chain [1] start processing\n",
      "03:11:52 - cmdstanpy - INFO - Chain [1] done processing\n"
     ]
    },
    {
     "name": "stdout",
     "output_type": "stream",
     "text": [
      "Not enough data for product_id: 0f7b5d8f0464562dd0d3e46054e0bd0e. Forecasting as 1.\n",
      "Not enough data for product_id: 0f8016710ce920034150241f0b8b5def. Forecasting as 1.\n",
      "Not enough data for product_id: 0f80705139ce16ea35bb489987399b55. Forecasting as 1.\n",
      "Not enough data for product_id: 0f80ccf7348ba5bda717ff8fadf34552. Forecasting as 1.\n",
      "Not enough data for product_id: 0f81e9b864727ae5398d12bea4061449. Forecasting as 1.\n",
      "Not enough data for product_id: 0f820791c5bd8fc3b05f6b897877fb1f. Forecasting as 1.\n",
      "Not enough data for product_id: 0f840300fe45ba963a5d215b62e6f767. Forecasting as 1.\n",
      "Not enough data for product_id: 0f87a012d70771e94374b5a1a037f1d8. Forecasting as 1.\n"
     ]
    },
    {
     "name": "stderr",
     "output_type": "stream",
     "text": [
      "03:11:55 - cmdstanpy - INFO - Chain [1] start processing\n",
      "03:11:55 - cmdstanpy - INFO - Chain [1] done processing\n",
      "03:11:56 - cmdstanpy - INFO - Chain [1] start processing\n",
      "03:11:56 - cmdstanpy - INFO - Chain [1] done processing\n"
     ]
    },
    {
     "name": "stdout",
     "output_type": "stream",
     "text": [
      "Not enough data for product_id: 0f985682d883837be42a813f58a91885. Forecasting as 1.\n",
      "Not enough data for product_id: 0f9d4a8cb14c962e53120a6f7a3a215a. Forecasting as 1.\n",
      "Not enough data for product_id: 0fa3e881b0014107d46c7fb9d55fd685. Forecasting as 1.\n",
      "Not enough data for product_id: 0fa476a9aacb3891e183154dc8d3ddbd. Forecasting as 1.\n",
      "Not enough data for product_id: 0fa49c14fe89e1b01414391d78f7c1a8. Forecasting as 1.\n",
      "Not enough data for product_id: 0fa5346b6f4924f70dd712764271c52f. Forecasting as 1.\n",
      "Not enough data for product_id: 0fa690a43af8987193508e22fd5b32ac. Forecasting as 1.\n",
      "Not enough data for product_id: 0fa699aaa0a38aa5d1de8e7fe04d2204. Forecasting as 1.\n"
     ]
    },
    {
     "name": "stderr",
     "output_type": "stream",
     "text": [
      "03:12:01 - cmdstanpy - INFO - Chain [1] start processing\n",
      "03:12:01 - cmdstanpy - INFO - Chain [1] done processing\n"
     ]
    },
    {
     "name": "stdout",
     "output_type": "stream",
     "text": [
      "Not enough data for product_id: 0faf79119af5cb143f82d98d27d9c5e3. Forecasting as 1.\n",
      "Not enough data for product_id: 0fb1658e227645b2fe14d8ba74d48606. Forecasting as 1.\n",
      "Not enough data for product_id: 0fb24ffeb90c073288dd0de0d015cd51. Forecasting as 1.\n",
      "Not enough data for product_id: 0fb3fae6c3a74bc9fd48a66d0be5f378. Forecasting as 1.\n",
      "Not enough data for product_id: 0fb6b59dfdb5d97bed3bef40ffe49885. Forecasting as 1.\n",
      "Not enough data for product_id: 0fb817c334895944db8933eac77bbc0a. Forecasting as 1.\n",
      "Not enough data for product_id: 0fbbab2c9572a69294f4cd0f59ba4a4e. Forecasting as 1.\n",
      "Not enough data for product_id: 0fbe487106cf1d260fa38c000eaa0dbd. Forecasting as 1.\n",
      "Not enough data for product_id: 0fbf220f61720a67fc0d6432cb32a5b4. Forecasting as 1.\n"
     ]
    },
    {
     "name": "stderr",
     "output_type": "stream",
     "text": [
      "03:12:06 - cmdstanpy - INFO - Chain [1] start processing\n",
      "03:12:06 - cmdstanpy - INFO - Chain [1] done processing\n"
     ]
    },
    {
     "name": "stdout",
     "output_type": "stream",
     "text": [
      "Not enough data for product_id: 0fc7f4e83e0ddb5b32b62487c4bd31c4. Forecasting as 1.\n",
      "Not enough data for product_id: 0fc9a9ac471336734e8617de0b3c9ae1. Forecasting as 1.\n",
      "Not enough data for product_id: 0fca2bf7fe83539c429a0357389333e7. Forecasting as 1.\n",
      "Not enough data for product_id: 0fd55f5dee013f990c929cd3ad6bfee0. Forecasting as 1.\n",
      "Not enough data for product_id: 0fd7c411bd5b0e103be4a2e18642c79b. Forecasting as 1.\n"
     ]
    },
    {
     "name": "stderr",
     "output_type": "stream",
     "text": [
      "03:12:09 - cmdstanpy - INFO - Chain [1] start processing\n",
      "03:12:09 - cmdstanpy - INFO - Chain [1] done processing\n"
     ]
    },
    {
     "name": "stdout",
     "output_type": "stream",
     "text": [
      "Not enough data for product_id: 0fdfe56a4dfd7aab5a321fe89f7fc63d. Forecasting as 1.\n",
      "Not enough data for product_id: 0fe71728868b7995080b3971f0b94c70. Forecasting as 1.\n",
      "Not enough data for product_id: 0fe81ae548bfaebcb1efcb38208efa1c. Forecasting as 1.\n"
     ]
    },
    {
     "name": "stderr",
     "output_type": "stream",
     "text": [
      "03:12:11 - cmdstanpy - INFO - Chain [1] start processing\n",
      "03:12:20 - cmdstanpy - INFO - Chain [1] done processing\n"
     ]
    },
    {
     "name": "stdout",
     "output_type": "stream",
     "text": [
      "Not enough data for product_id: 0fed0bae4b5a992499e06472a0344d8d. Forecasting as 1.\n",
      "Not enough data for product_id: 0fef1ed59f95cde0a1318e54d2bebac5. Forecasting as 1.\n",
      "Not enough data for product_id: 0ff06f670421802f36a7082dc962c6fb. Forecasting as 1.\n",
      "Not enough data for product_id: 0ff5724c5f19f85ca8e95529a6340c3e. Forecasting as 1.\n",
      "Not enough data for product_id: 0ff59b72d617a0138284cdc464928127. Forecasting as 1.\n",
      "Not enough data for product_id: 0ff85f553a8763acea7d184bdff70e13. Forecasting as 1.\n",
      "Not enough data for product_id: 1002287b975c051e4f283579598cf6d2. Forecasting as 1.\n"
     ]
    },
    {
     "name": "stderr",
     "output_type": "stream",
     "text": [
      "03:12:23 - cmdstanpy - INFO - Chain [1] start processing\n",
      "03:12:24 - cmdstanpy - INFO - Chain [1] done processing\n"
     ]
    },
    {
     "name": "stdout",
     "output_type": "stream",
     "text": [
      "Not enough data for product_id: 1003992d2a8d1e7f870643148854ddc7. Forecasting as 1.\n"
     ]
    },
    {
     "name": "stderr",
     "output_type": "stream",
     "text": [
      "03:12:24 - cmdstanpy - INFO - Chain [1] start processing\n",
      "03:12:25 - cmdstanpy - INFO - Chain [1] done processing\n"
     ]
    },
    {
     "name": "stdout",
     "output_type": "stream",
     "text": [
      "Not enough data for product_id: 10097e23f7a5bf3ce7ec60cfa8603f4d. Forecasting as 1.\n",
      "Not enough data for product_id: 100e8441d08795468a34832962d2eaf6. Forecasting as 1.\n",
      "Not enough data for product_id: 1010bcae3110d01e187c7fcf789207bc. Forecasting as 1.\n"
     ]
    },
    {
     "name": "stderr",
     "output_type": "stream",
     "text": [
      "03:12:27 - cmdstanpy - INFO - Chain [1] start processing\n",
      "03:12:28 - cmdstanpy - INFO - Chain [1] done processing\n",
      "03:12:28 - cmdstanpy - INFO - Chain [1] start processing\n",
      "03:12:28 - cmdstanpy - INFO - Chain [1] done processing\n"
     ]
    },
    {
     "name": "stdout",
     "output_type": "stream",
     "text": [
      "Not enough data for product_id: 1018789226ee7a23b5fd719413e80cb0. Forecasting as 1.\n",
      "Not enough data for product_id: 101c51628f18e013a1b2900a8f275fd2. Forecasting as 1.\n",
      "Not enough data for product_id: 101db7b4f26cc560363660d06fe980cd. Forecasting as 1.\n",
      "Not enough data for product_id: 101f391b9c83dc14c8f6147dcb70bfd3. Forecasting as 1.\n",
      "Not enough data for product_id: 1020b67af447026e34fadc5a08f786b1. Forecasting as 1.\n",
      "Not enough data for product_id: 1020d163f03db957860905e9bfdfd414. Forecasting as 1.\n",
      "Not enough data for product_id: 10230be3f50a9367f8220d6c126f0dc6. Forecasting as 1.\n",
      "Not enough data for product_id: 102675e79534119994f7796d30f7fd6d. Forecasting as 1.\n",
      "Not enough data for product_id: 1027d3061ac141bbb2ea003c63dc3d66. Forecasting as 1.\n"
     ]
    },
    {
     "name": "stderr",
     "output_type": "stream",
     "text": [
      "03:12:34 - cmdstanpy - INFO - Chain [1] start processing\n",
      "03:12:34 - cmdstanpy - INFO - Chain [1] done processing\n"
     ]
    },
    {
     "name": "stdout",
     "output_type": "stream",
     "text": [
      "Not enough data for product_id: 1029c7348ca63cafc3b859dec2d705d3. Forecasting as 1.\n",
      "Not enough data for product_id: 102b1fe1f933799b59ec8fd2ae89d7e6. Forecasting as 1.\n",
      "Not enough data for product_id: 1033f9821d88262baf13892e285de798. Forecasting as 1.\n",
      "Not enough data for product_id: 103aed057190376889bc9e796affa24e. Forecasting as 1.\n",
      "Not enough data for product_id: 104df90728d375537321e6d994168cc1. Forecasting as 1.\n",
      "Not enough data for product_id: 1053d2f1df34b526957673f25a1b50e3. Forecasting as 1.\n",
      "Not enough data for product_id: 1055db476dfbed87313ac8481c2597c0. Forecasting as 1.\n",
      "Not enough data for product_id: 10583f0f24319d0c8db47ac35e977021. Forecasting as 1.\n",
      "Not enough data for product_id: 1060d9ab6b911bfce1439c25afcd790b. Forecasting as 1.\n",
      "Not enough data for product_id: 106392145fca363410d287a815be6de4. Forecasting as 1.\n",
      "Not enough data for product_id: 1065dbb6b0bf03daaedab1236979e296. Forecasting as 1.\n",
      "Not enough data for product_id: 106686a363064e034fee1344220be7bf. Forecasting as 1.\n",
      "Not enough data for product_id: 1067af1d38844dcfaa3471839f922c27. Forecasting as 1.\n",
      "Not enough data for product_id: 106ebc8f9982193679d02a4584947b89. Forecasting as 1.\n",
      "Not enough data for product_id: 107177bf61755f05c604fe57e02467d6. Forecasting as 1.\n"
     ]
    },
    {
     "name": "stderr",
     "output_type": "stream",
     "text": [
      "03:12:44 - cmdstanpy - INFO - Chain [1] start processing\n",
      "03:12:44 - cmdstanpy - INFO - Chain [1] done processing\n"
     ]
    },
    {
     "name": "stdout",
     "output_type": "stream",
     "text": [
      "Not enough data for product_id: 107235293b5479d6ec3861e1348ea633. Forecasting as 1.\n",
      "Not enough data for product_id: 1074656a4fa698879d65d619f58083b2. Forecasting as 1.\n",
      "Not enough data for product_id: 107bf5aa8cee35a9fec5e0bf1fd5e1cd. Forecasting as 1.\n",
      "Not enough data for product_id: 107fde0930956120d1e13dd1062fbb46. Forecasting as 1.\n",
      "Not enough data for product_id: 1081ae52311daac87fb54ba8ce4670ac. Forecasting as 1.\n",
      "Not enough data for product_id: 1083861ebae6fec08fdafe497cae7061. Forecasting as 1.\n",
      "Not enough data for product_id: 10853770629fe365086f9522cb540549. Forecasting as 1.\n",
      "Not enough data for product_id: 108c2bc00375b068ec4d353bfe3649ce. Forecasting as 1.\n",
      "Not enough data for product_id: 108dbde571d17eee3c21fa2492e8921b. Forecasting as 1.\n",
      "Not enough data for product_id: 108dfaacffadeceb87032609d340722c. Forecasting as 1.\n",
      "Not enough data for product_id: 108e01163b7588c7924ec8cb5ad81b63. Forecasting as 1.\n",
      "Not enough data for product_id: 108e21a48f54c559e2186db8a4bec9f9. Forecasting as 1.\n",
      "Not enough data for product_id: 108f543335771c62fd62bef0dfc035bb. Forecasting as 1.\n",
      "Not enough data for product_id: 108fa3ef6742ead062d9ad59b471ce26. Forecasting as 1.\n",
      "Not enough data for product_id: 108fc05afc7b739e4a355e2bfa12bdc2. Forecasting as 1.\n",
      "Not enough data for product_id: 10953168e42bc4a9f7bb6468974cb5f8. Forecasting as 1.\n",
      "Not enough data for product_id: 1097d069f21f90425a11bb3293ca1d87. Forecasting as 1.\n"
     ]
    },
    {
     "name": "stderr",
     "output_type": "stream",
     "text": [
      "03:12:52 - cmdstanpy - INFO - Chain [1] start processing\n",
      "03:12:52 - cmdstanpy - INFO - Chain [1] done processing\n",
      "03:12:52 - cmdstanpy - INFO - Chain [1] start processing\n",
      "03:12:55 - cmdstanpy - INFO - Chain [1] done processing\n",
      "03:12:56 - cmdstanpy - INFO - Chain [1] start processing\n",
      "03:12:58 - cmdstanpy - INFO - Chain [1] done processing\n"
     ]
    },
    {
     "name": "stdout",
     "output_type": "stream",
     "text": [
      "Not enough data for product_id: 10a03d415cde6853f5f246661f9d1bf0. Forecasting as 1.\n",
      "Not enough data for product_id: 10a21a549ce4ea6b6218d0f6a235d1f6. Forecasting as 1.\n",
      "Not enough data for product_id: 10a6596b3224c408ee46c8aaaa2977cd. Forecasting as 1.\n",
      "Not enough data for product_id: 10a845be3ffe8a78dc20db2941c2d951. Forecasting as 1.\n",
      "Not enough data for product_id: 10a96b8c9e62f372aaf40bf8ec897a75. Forecasting as 1.\n",
      "Not enough data for product_id: 10aa0f6833300990dff6f6763cc7ff8a. Forecasting as 1.\n",
      "Not enough data for product_id: 10ab16a7860f0bf18ed851ca94ab90a5. Forecasting as 1.\n"
     ]
    },
    {
     "name": "stderr",
     "output_type": "stream",
     "text": [
      "03:13:01 - cmdstanpy - INFO - Chain [1] start processing\n",
      "03:13:01 - cmdstanpy - INFO - Chain [1] done processing\n",
      "03:13:02 - cmdstanpy - INFO - Chain [1] start processing\n",
      "03:13:02 - cmdstanpy - INFO - Chain [1] done processing\n"
     ]
    },
    {
     "name": "stdout",
     "output_type": "stream",
     "text": [
      "Not enough data for product_id: 10b121bc6ceb3f390402649881a15554. Forecasting as 1.\n",
      "Not enough data for product_id: 10b930e4c15b5f8e6b7c8c7e17ac776b. Forecasting as 1.\n",
      "Not enough data for product_id: 10be3a54fb1b2a42ee3ed8c9ee32010d. Forecasting as 1.\n",
      "Not enough data for product_id: 10bebf92134e2365890500a92a4b2574. Forecasting as 1.\n",
      "Not enough data for product_id: 10c0e80fdc9bcd975fe45e75af61b256. Forecasting as 1.\n",
      "Not enough data for product_id: 10c1d269f014818d6ed16aff376c098d. Forecasting as 1.\n",
      "Not enough data for product_id: 10c406279c428b45c54cc17645cca63d. Forecasting as 1.\n",
      "Not enough data for product_id: 10c4eaf55e7f131da4a031ab54b62274. Forecasting as 1.\n",
      "Not enough data for product_id: 10cb4574e88302b21a629d95fe74c54f. Forecasting as 1.\n",
      "Not enough data for product_id: 10cdbbacd25110d10f8cbe925ea7853f. Forecasting as 1.\n",
      "Not enough data for product_id: 10d13c18c631962fdc16cf4bbe67c730. Forecasting as 1.\n"
     ]
    },
    {
     "name": "stderr",
     "output_type": "stream",
     "text": [
      "03:13:07 - cmdstanpy - INFO - Chain [1] start processing\n",
      "03:13:07 - cmdstanpy - INFO - Chain [1] done processing\n",
      "03:13:08 - cmdstanpy - INFO - Chain [1] start processing\n",
      "03:13:11 - cmdstanpy - INFO - Chain [1] done processing\n"
     ]
    },
    {
     "name": "stdout",
     "output_type": "stream",
     "text": [
      "Not enough data for product_id: 10dbe0fbaa2c505123c17fdc34a63c56. Forecasting as 1.\n",
      "Not enough data for product_id: 10dfb99fdae9b721c39b7458564397f6. Forecasting as 1.\n",
      "Not enough data for product_id: 10e33205ed375c8e4dc957633ae2ed83. Forecasting as 1.\n",
      "Not enough data for product_id: 10e7b44b01fc53988df2b73395cec6fb. Forecasting as 1.\n",
      "Not enough data for product_id: 10eca571d1658f6a268a7bd6055a4a9c. Forecasting as 1.\n"
     ]
    },
    {
     "name": "stderr",
     "output_type": "stream",
     "text": [
      "03:13:14 - cmdstanpy - INFO - Chain [1] start processing\n",
      "03:13:14 - cmdstanpy - INFO - Chain [1] done processing\n",
      "03:13:14 - cmdstanpy - INFO - Chain [1] start processing\n",
      "03:13:19 - cmdstanpy - INFO - Chain [1] done processing\n"
     ]
    },
    {
     "name": "stdout",
     "output_type": "stream",
     "text": [
      "Not enough data for product_id: 10f2f7707444b16ab90c38797c095336. Forecasting as 1.\n",
      "Not enough data for product_id: 10f2fea49b203930a1f4c0a3a892d960. Forecasting as 1.\n",
      "Not enough data for product_id: 10f75f0d9616ccb68feb85e06535efcb. Forecasting as 1.\n",
      "Not enough data for product_id: 10fdb0e6ef1170ede7a6a3d6634869ea. Forecasting as 1.\n",
      "Not enough data for product_id: 10feace590e85f3804756b2fc1f6bbda. Forecasting as 1.\n",
      "Not enough data for product_id: 110372508609f644a4ed639c1c9440fa. Forecasting as 1.\n",
      "Not enough data for product_id: 11068d52d5927407c556ffd893c3feae. Forecasting as 1.\n"
     ]
    },
    {
     "name": "stderr",
     "output_type": "stream",
     "text": [
      "03:13:24 - cmdstanpy - INFO - Chain [1] start processing\n",
      "03:13:24 - cmdstanpy - INFO - Chain [1] done processing\n"
     ]
    },
    {
     "name": "stdout",
     "output_type": "stream",
     "text": [
      "Not enough data for product_id: 110e153a52beae118fe6dc43ef592e0b. Forecasting as 1.\n",
      "Not enough data for product_id: 11121012a254e9ef9972155d93f9def1. Forecasting as 1.\n",
      "Not enough data for product_id: 11147e87671eec98729e98e8e38c868b. Forecasting as 1.\n",
      "Not enough data for product_id: 11165ade430c6cc010bb0042fe88d150. Forecasting as 1.\n"
     ]
    },
    {
     "name": "stderr",
     "output_type": "stream",
     "text": [
      "03:13:27 - cmdstanpy - INFO - Chain [1] start processing\n",
      "03:13:27 - cmdstanpy - INFO - Chain [1] done processing\n"
     ]
    },
    {
     "name": "stdout",
     "output_type": "stream",
     "text": [
      "Not enough data for product_id: 1118c2ea35cd20b94fe2a16c483cd1a4. Forecasting as 1.\n",
      "Not enough data for product_id: 111d8a7b2ef16e6e8c71a069075f8771. Forecasting as 1.\n",
      "Not enough data for product_id: 111e2f43245b193147270aba6d558129. Forecasting as 1.\n",
      "Not enough data for product_id: 111e742af54b3ee11099c8b396e1eece. Forecasting as 1.\n",
      "Not enough data for product_id: 1121a43969b79e65010c2a5cdd0dcb6c. Forecasting as 1.\n",
      "Not enough data for product_id: 1122726437ec94b92705d85be11b4019. Forecasting as 1.\n"
     ]
    },
    {
     "name": "stderr",
     "output_type": "stream",
     "text": [
      "03:13:31 - cmdstanpy - INFO - Chain [1] start processing\n",
      "03:13:31 - cmdstanpy - INFO - Chain [1] done processing\n"
     ]
    },
    {
     "name": "stdout",
     "output_type": "stream",
     "text": [
      "Not enough data for product_id: 112626d1abc7dfaab81063699f0e5600. Forecasting as 1.\n",
      "Not enough data for product_id: 1127c7ede26c4c4d41eb80848d0bdb32. Forecasting as 1.\n",
      "Not enough data for product_id: 112c1451beb754fad2e4b654fc84dabc. Forecasting as 1.\n",
      "Not enough data for product_id: 112c98970afb0e6dd81c05ddd447416d. Forecasting as 1.\n",
      "Not enough data for product_id: 112d3b0704a6ed73f5b7bbbaf59362b5. Forecasting as 1.\n",
      "Not enough data for product_id: 112dad9870ca76046f327b9c08f00b29. Forecasting as 1.\n"
     ]
    },
    {
     "name": "stderr",
     "output_type": "stream",
     "text": [
      "03:13:33 - cmdstanpy - INFO - Chain [1] start processing\n",
      "03:13:34 - cmdstanpy - INFO - Chain [1] done processing\n"
     ]
    },
    {
     "name": "stdout",
     "output_type": "stream",
     "text": [
      "Not enough data for product_id: 113691e29d92130f086ef9c9a463db10. Forecasting as 1.\n",
      "Not enough data for product_id: 1136bf18450b05b755f50b49657c1943. Forecasting as 1.\n"
     ]
    },
    {
     "name": "stderr",
     "output_type": "stream",
     "text": [
      "03:13:36 - cmdstanpy - INFO - Chain [1] start processing\n",
      "03:13:36 - cmdstanpy - INFO - Chain [1] done processing\n"
     ]
    },
    {
     "name": "stdout",
     "output_type": "stream",
     "text": [
      "Not enough data for product_id: 1144808d80753334c836d4bfab367400. Forecasting as 1.\n",
      "Not enough data for product_id: 1146013b4da16ab073768dc76089aaa8. Forecasting as 1.\n",
      "Not enough data for product_id: 11467aa972053382530a1b91591eae38. Forecasting as 1.\n",
      "Not enough data for product_id: 1147151b874f436976ef5ad14a8a7694. Forecasting as 1.\n",
      "Not enough data for product_id: 114a9cb094339f99851ada566136661b. Forecasting as 1.\n",
      "Not enough data for product_id: 114cf6e338f90a48f7fae837c70e8325. Forecasting as 1.\n",
      "Not enough data for product_id: 114d1f71a8c0da5baa0894d00b9debb6. Forecasting as 1.\n",
      "Not enough data for product_id: 114f462f985151e853a896d958657416. Forecasting as 1.\n",
      "Not enough data for product_id: 1155065aa63d0a6d301e174ebb2972ea. Forecasting as 1.\n",
      "Not enough data for product_id: 11566035935b80d02a0c8a261546610b. Forecasting as 1.\n",
      "Not enough data for product_id: 1157473164d02565ae5be0b614f9d2d8. Forecasting as 1.\n",
      "Not enough data for product_id: 1158f353b550ac2a2dee2239ac64f79a. Forecasting as 1.\n",
      "Not enough data for product_id: 115bc0865dc675638645e1ab5311e30c. Forecasting as 1.\n",
      "Not enough data for product_id: 115bc2b948bfb128b7aaf878e50a9b5a. Forecasting as 1.\n"
     ]
    },
    {
     "name": "stderr",
     "output_type": "stream",
     "text": [
      "03:13:41 - cmdstanpy - INFO - Chain [1] start processing\n",
      "03:13:41 - cmdstanpy - INFO - Chain [1] done processing\n"
     ]
    },
    {
     "name": "stdout",
     "output_type": "stream",
     "text": [
      "Not enough data for product_id: 115f1b22fcff1674f62e4e4dea4aea1a. Forecasting as 1.\n",
      "Not enough data for product_id: 115fdef806a3b8e9fc52a1dee818f2de. Forecasting as 1.\n",
      "Not enough data for product_id: 1162c818d0d0f9f4887164cd636bd760. Forecasting as 1.\n"
     ]
    },
    {
     "name": "stderr",
     "output_type": "stream",
     "text": [
      "03:13:43 - cmdstanpy - INFO - Chain [1] start processing\n",
      "03:13:43 - cmdstanpy - INFO - Chain [1] done processing\n"
     ]
    },
    {
     "name": "stdout",
     "output_type": "stream",
     "text": [
      "Not enough data for product_id: 1166c098840d03686b633fe2612c5f2d. Forecasting as 1.\n",
      "Not enough data for product_id: 11671ad86b98844d1d40f79a7f3ba1be. Forecasting as 1.\n",
      "Not enough data for product_id: 1168d8ebfef41c2720053c4c9f78ac87. Forecasting as 1.\n",
      "Not enough data for product_id: 116a034e82f0914338091260ec0fc668. Forecasting as 1.\n",
      "Not enough data for product_id: 116a75888dbca93a1c26c5d5c949b175. Forecasting as 1.\n",
      "Not enough data for product_id: 116a8f521211c179741c051816f2b898. Forecasting as 1.\n",
      "Not enough data for product_id: 116fde656744c95dfaf5198cf9f729f9. Forecasting as 1.\n"
     ]
    },
    {
     "name": "stderr",
     "output_type": "stream",
     "text": [
      "03:13:46 - cmdstanpy - INFO - Chain [1] start processing\n",
      "03:13:48 - cmdstanpy - INFO - Chain [1] done processing\n"
     ]
    },
    {
     "name": "stdout",
     "output_type": "stream",
     "text": [
      "Not enough data for product_id: 1176fc831c22bd69f919a091f888fd65. Forecasting as 1.\n",
      "Not enough data for product_id: 1178e5819b87e4a8846d636e39df026b. Forecasting as 1.\n",
      "Not enough data for product_id: 1179867d805886591809f49767db9ecd. Forecasting as 1.\n",
      "Not enough data for product_id: 117f28333ddc9e8907cb03431b06fa80. Forecasting as 1.\n",
      "Not enough data for product_id: 11810c1eaac441e272977edc26016b38. Forecasting as 1.\n",
      "Not enough data for product_id: 11828bf6a0621fec5b783ddb0da1a766. Forecasting as 1.\n",
      "Not enough data for product_id: 118300f12ed121839fd8035986a012aa. Forecasting as 1.\n"
     ]
    },
    {
     "name": "stderr",
     "output_type": "stream",
     "text": [
      "03:13:51 - cmdstanpy - INFO - Chain [1] start processing\n",
      "03:13:51 - cmdstanpy - INFO - Chain [1] done processing\n"
     ]
    },
    {
     "name": "stdout",
     "output_type": "stream",
     "text": [
      "Not enough data for product_id: 118c36d1c7ee6e3261fe81d58986a0a3. Forecasting as 1.\n"
     ]
    },
    {
     "name": "stderr",
     "output_type": "stream",
     "text": [
      "03:13:52 - cmdstanpy - INFO - Chain [1] start processing\n",
      "03:13:53 - cmdstanpy - INFO - Chain [1] done processing\n"
     ]
    },
    {
     "name": "stdout",
     "output_type": "stream",
     "text": [
      "Not enough data for product_id: 1190eb246390ebf377a858260f546a98. Forecasting as 1.\n"
     ]
    },
    {
     "name": "stderr",
     "output_type": "stream",
     "text": [
      "03:13:54 - cmdstanpy - INFO - Chain [1] start processing\n",
      "03:13:54 - cmdstanpy - INFO - Chain [1] done processing\n"
     ]
    },
    {
     "name": "stdout",
     "output_type": "stream",
     "text": [
      "Not enough data for product_id: 11932ee7ef31a4bb2bb4ea148568e7fa. Forecasting as 1.\n",
      "Not enough data for product_id: 119618b5b8b80a24cd99506dd5424864. Forecasting as 1.\n",
      "Not enough data for product_id: 11969b52203d89d67f5d9aff274fc35d. Forecasting as 1.\n",
      "Not enough data for product_id: 11970aff9a8cf29a520127d0d8100901. Forecasting as 1.\n",
      "Not enough data for product_id: 11998bf6cea26d8ab6b3948560f64951. Forecasting as 1.\n",
      "Not enough data for product_id: 119cfca51257edda1acecb4b8576ec48. Forecasting as 1.\n",
      "Not enough data for product_id: 11a10f5773a7da9fb352dfe9e119803b. Forecasting as 1.\n",
      "Not enough data for product_id: 11a5b67d535b545294cb946e2f7d5966. Forecasting as 1.\n",
      "Not enough data for product_id: 11acb40fe03811a7bc40babe5d11c752. Forecasting as 1.\n",
      "Not enough data for product_id: 11ae52c87d8eb9c9c9ce5ed52b8efbbe. Forecasting as 1.\n",
      "Not enough data for product_id: 11b01f1cecc2e56f57fa038e87fe6684. Forecasting as 1.\n",
      "Not enough data for product_id: 11b095275420b5d5123e163f058256c3. Forecasting as 1.\n",
      "Not enough data for product_id: 11b0cf6be60c190c8485edd39f8f9dd3. Forecasting as 1.\n",
      "Not enough data for product_id: 11b55fb352612d128f0acbd129bb917a. Forecasting as 1.\n",
      "Not enough data for product_id: 11b66b9c3298383e765fa69bdfd86e5f. Forecasting as 1.\n",
      "Not enough data for product_id: 11b906b2a09fb80668f4478dd3f9c324. Forecasting as 1.\n",
      "Not enough data for product_id: 11b9c6d7a3eee514887db2204eb97ec5. Forecasting as 1.\n"
     ]
    },
    {
     "name": "stderr",
     "output_type": "stream",
     "text": [
      "03:14:01 - cmdstanpy - INFO - Chain [1] start processing\n",
      "03:14:01 - cmdstanpy - INFO - Chain [1] done processing\n"
     ]
    },
    {
     "name": "stdout",
     "output_type": "stream",
     "text": [
      "Not enough data for product_id: 11c273f63badb1626f41abce9a038587. Forecasting as 1.\n",
      "Not enough data for product_id: 11cf21fc07b965dd7f4bf7a2c3e5f1c4. Forecasting as 1.\n",
      "Not enough data for product_id: 11d0c969546d6f21d23188084e25cf81. Forecasting as 1.\n",
      "Not enough data for product_id: 11d5f8f3c96fff33d7e8bcbb54c8c79e. Forecasting as 1.\n",
      "Not enough data for product_id: 11d73cb1179dc43858edd4ab0cea359d. Forecasting as 1.\n",
      "Not enough data for product_id: 11db6c59cf27f88135b79aee6c3f86cb. Forecasting as 1.\n"
     ]
    },
    {
     "name": "stderr",
     "output_type": "stream",
     "text": [
      "03:14:05 - cmdstanpy - INFO - Chain [1] start processing\n",
      "03:14:05 - cmdstanpy - INFO - Chain [1] done processing\n"
     ]
    },
    {
     "name": "stdout",
     "output_type": "stream",
     "text": [
      "Not enough data for product_id: 11de130b38213ed7f93d2af1e91bb771. Forecasting as 1.\n",
      "Not enough data for product_id: 11e0a57b7340441c4ece1cf7efd99ff8. Forecasting as 1.\n",
      "Not enough data for product_id: 11e5548d5bc9bd5ef53d3574d9f1c0bb. Forecasting as 1.\n",
      "Not enough data for product_id: 11e5f8670ab66f75fd2b979a6d2a14b2. Forecasting as 1.\n",
      "Not enough data for product_id: 11e70144cff3fcf2bb31adf12b91178c. Forecasting as 1.\n",
      "Not enough data for product_id: 11ea2b91f0f26a2d693ba6763a2eb4b0. Forecasting as 1.\n",
      "Not enough data for product_id: 11ea7ef0494533fd1015c7140874cf0e. Forecasting as 1.\n",
      "Not enough data for product_id: 11ebbade0d9bf72ea23f49ef78f4b6b8. Forecasting as 1.\n",
      "Not enough data for product_id: 11edd101079c39b8f444dfd7bab5c9f1. Forecasting as 1.\n",
      "Not enough data for product_id: 11f683ded5ddeecdad0b81b3124c3395. Forecasting as 1.\n",
      "Not enough data for product_id: 11f7fe3e6faefffa90541a46c3a4398d. Forecasting as 1.\n"
     ]
    },
    {
     "name": "stderr",
     "output_type": "stream",
     "text": [
      "03:14:10 - cmdstanpy - INFO - Chain [1] start processing\n",
      "03:14:10 - cmdstanpy - INFO - Chain [1] done processing\n"
     ]
    },
    {
     "name": "stdout",
     "output_type": "stream",
     "text": [
      "Not enough data for product_id: 11fb5797b3ae9cf31bc0fcb8d907979a. Forecasting as 1.\n"
     ]
    },
    {
     "name": "stderr",
     "output_type": "stream",
     "text": [
      "03:14:11 - cmdstanpy - INFO - Chain [1] start processing\n",
      "03:14:12 - cmdstanpy - INFO - Chain [1] done processing\n"
     ]
    },
    {
     "name": "stdout",
     "output_type": "stream",
     "text": [
      "Not enough data for product_id: 12080b1cb17fb18a69563695622dc9b9. Forecasting as 1.\n"
     ]
    },
    {
     "name": "stderr",
     "output_type": "stream",
     "text": [
      "03:14:13 - cmdstanpy - INFO - Chain [1] start processing\n",
      "03:14:13 - cmdstanpy - INFO - Chain [1] done processing\n"
     ]
    },
    {
     "name": "stdout",
     "output_type": "stream",
     "text": [
      "Not enough data for product_id: 120ed962437fbd2a403ab98f630d8e85. Forecasting as 1.\n",
      "Not enough data for product_id: 12109f7ebba06bbaeb6448c770cb716e. Forecasting as 1.\n",
      "Not enough data for product_id: 121314119f09ee1e994373873c7ab11d. Forecasting as 1.\n",
      "Not enough data for product_id: 12181424582d4d4233622caeddcae843. Forecasting as 1.\n",
      "Not enough data for product_id: 1219ebeab3a90333cfc5bbf44f846398. Forecasting as 1.\n",
      "Not enough data for product_id: 121a6ac524b24aa5cd62dc2094097a1b. Forecasting as 1.\n",
      "Not enough data for product_id: 121b5fec5d2e7d0de3c0f58824bbe6ea. Forecasting as 1.\n"
     ]
    },
    {
     "name": "stderr",
     "output_type": "stream",
     "text": [
      "03:14:17 - cmdstanpy - INFO - Chain [1] start processing\n",
      "03:14:17 - cmdstanpy - INFO - Chain [1] done processing\n",
      "03:14:17 - cmdstanpy - INFO - Chain [1] start processing\n",
      "03:14:17 - cmdstanpy - INFO - Chain [1] done processing\n"
     ]
    },
    {
     "name": "stdout",
     "output_type": "stream",
     "text": [
      "Not enough data for product_id: 1220978a08a6b29a202bc015b18250e9. Forecasting as 1.\n",
      "Not enough data for product_id: 1226cd37bd51c6407009e8fe54f1cf29. Forecasting as 1.\n",
      "Not enough data for product_id: 122b789eb8e7e8d7a9eccec675d4a48e. Forecasting as 1.\n",
      "Not enough data for product_id: 122cdd27eca7a057e97242c3642c5645. Forecasting as 1.\n",
      "Not enough data for product_id: 122ed0b5404fb93c07b3d35c99e8aaa9. Forecasting as 1.\n",
      "Not enough data for product_id: 1231bc5d1cab6d3f64357eba69240f63. Forecasting as 1.\n",
      "Not enough data for product_id: 1234e5d27a954d308ea9c87d8106a8df. Forecasting as 1.\n",
      "Not enough data for product_id: 123701dcac36412cf1b594f5aafc2eaf. Forecasting as 1.\n",
      "Not enough data for product_id: 12384cc446601c16ff6d05077ad6e92d. Forecasting as 1.\n"
     ]
    },
    {
     "name": "stderr",
     "output_type": "stream",
     "text": [
      "03:14:22 - cmdstanpy - INFO - Chain [1] start processing\n",
      "03:14:22 - cmdstanpy - INFO - Chain [1] done processing\n"
     ]
    },
    {
     "name": "stdout",
     "output_type": "stream",
     "text": [
      "Not enough data for product_id: 124a15d998dfe011681819d7c792f7bb. Forecasting as 1.\n",
      "Not enough data for product_id: 124a1ea6bfa9ccc5f53e067ff9b2ef25. Forecasting as 1.\n",
      "Not enough data for product_id: 124ce940a0950f162eecf1c7f3db5a53. Forecasting as 1.\n",
      "Not enough data for product_id: 125038493b2c4e27fa12194038806161. Forecasting as 1.\n",
      "Not enough data for product_id: 12587360502d12268a9841080015d52a. Forecasting as 1.\n",
      "Not enough data for product_id: 1259895e918d39e5226aeabf332434b8. Forecasting as 1.\n",
      "Not enough data for product_id: 125a5e9f83814692513618359a50735a. Forecasting as 1.\n"
     ]
    },
    {
     "name": "stderr",
     "output_type": "stream",
     "text": [
      "03:14:26 - cmdstanpy - INFO - Chain [1] start processing\n",
      "03:14:26 - cmdstanpy - INFO - Chain [1] done processing\n"
     ]
    },
    {
     "name": "stdout",
     "output_type": "stream",
     "text": [
      "Not enough data for product_id: 125efe6153a8b6ed25ed7cabdd43c1a6. Forecasting as 1.\n",
      "Not enough data for product_id: 126289ccc36b3b564a105f620f48747e. Forecasting as 1.\n",
      "Not enough data for product_id: 1263e0be5fffc8e194d03bee6893eb7c. Forecasting as 1.\n",
      "Not enough data for product_id: 1269d60fc5efbcf03e7eea49213091c6. Forecasting as 1.\n",
      "Not enough data for product_id: 126cc3193a4db25b7957d001b0eb7f93. Forecasting as 1.\n",
      "Not enough data for product_id: 126e10207113f69a199d56984e194d62. Forecasting as 1.\n",
      "Not enough data for product_id: 1270b3f789c8c851abd05611751512f0. Forecasting as 1.\n"
     ]
    },
    {
     "name": "stderr",
     "output_type": "stream",
     "text": [
      "03:14:31 - cmdstanpy - INFO - Chain [1] start processing\n",
      "03:14:31 - cmdstanpy - INFO - Chain [1] done processing\n"
     ]
    },
    {
     "name": "stdout",
     "output_type": "stream",
     "text": [
      "Not enough data for product_id: 12722654d210214a6fa95baae1e37941. Forecasting as 1.\n",
      "Not enough data for product_id: 12728f215b3381cac22b1fba7a97f5cf. Forecasting as 1.\n",
      "Not enough data for product_id: 1277ea8bc2cac6f6e5738a15f8d90e8a. Forecasting as 1.\n",
      "Not enough data for product_id: 127a2524a6031c086994214acb167abb. Forecasting as 1.\n",
      "Not enough data for product_id: 127b372f0c2ee673b04d38f8a6325a2b. Forecasting as 1.\n",
      "Not enough data for product_id: 127de0ebca0eb694783d75d96fbf7109. Forecasting as 1.\n",
      "Not enough data for product_id: 127f66367cc2f1616d4d070ecf8afb7a. Forecasting as 1.\n",
      "Not enough data for product_id: 12803e6c48756086227e39a8a2d2026b. Forecasting as 1.\n",
      "Not enough data for product_id: 12828c53540ca6046aa0cef33957631a. Forecasting as 1.\n",
      "Not enough data for product_id: 1285c1d5b4365dcc8b7b0c34bca67242. Forecasting as 1.\n",
      "Not enough data for product_id: 12877fc7456089310c5e6c441e696886. Forecasting as 1.\n",
      "Not enough data for product_id: 128a2cac61ae71d08f8e2c55c74d7936. Forecasting as 1.\n",
      "Not enough data for product_id: 128d1c88b601731fe8ed4044b1ae7a6a. Forecasting as 1.\n",
      "Not enough data for product_id: 128f4a77e367e573f494417d3b0bb68a. Forecasting as 1.\n",
      "Not enough data for product_id: 1297aae1e4a553b640f4a0a8a8349d06. Forecasting as 1.\n",
      "Not enough data for product_id: 129b641cde2741761c409b8a44546cf2. Forecasting as 1.\n"
     ]
    },
    {
     "name": "stderr",
     "output_type": "stream",
     "text": [
      "03:14:39 - cmdstanpy - INFO - Chain [1] start processing\n",
      "03:14:39 - cmdstanpy - INFO - Chain [1] done processing\n"
     ]
    },
    {
     "name": "stdout",
     "output_type": "stream",
     "text": [
      "Not enough data for product_id: 12a46620105cc4bf4d193fed203ab9e6. Forecasting as 1.\n",
      "Not enough data for product_id: 12a5914d1826c08632a428b769a4eb30. Forecasting as 1.\n",
      "Not enough data for product_id: 12a6286d3f2b371cc37370f3aa324b96. Forecasting as 1.\n",
      "Not enough data for product_id: 12a8571feabc765bfe057c37217daf75. Forecasting as 1.\n",
      "Not enough data for product_id: 12ad6d9a5da40908f6741145e1a93443. Forecasting as 1.\n",
      "Not enough data for product_id: 12b5c284044adc0687a6ffbe84d317e2. Forecasting as 1.\n",
      "Not enough data for product_id: 12b81d15ffa819dd535e30cb2d00172f. Forecasting as 1.\n",
      "Not enough data for product_id: 12b86b2eab3b8c2bbf01adc381aa96e2. Forecasting as 1.\n",
      "Not enough data for product_id: 12bc40cc267092a471dfd683058c8142. Forecasting as 1.\n"
     ]
    },
    {
     "name": "stderr",
     "output_type": "stream",
     "text": [
      "03:14:46 - cmdstanpy - INFO - Chain [1] start processing\n",
      "03:14:46 - cmdstanpy - INFO - Chain [1] done processing\n"
     ]
    },
    {
     "name": "stdout",
     "output_type": "stream",
     "text": [
      "Not enough data for product_id: 12be4f822f8c79fe04570eddf648695c. Forecasting as 1.\n",
      "Not enough data for product_id: 12bf788604339143c88b8ef82ea034d3. Forecasting as 1.\n",
      "Not enough data for product_id: 12c567b916f6f3bb02b2557456a30212. Forecasting as 1.\n",
      "Not enough data for product_id: 12cbe733abde1e976549e8d6f4f020f1. Forecasting as 1.\n"
     ]
    },
    {
     "name": "stderr",
     "output_type": "stream",
     "text": [
      "03:14:49 - cmdstanpy - INFO - Chain [1] start processing\n",
      "03:14:49 - cmdstanpy - INFO - Chain [1] done processing\n"
     ]
    },
    {
     "name": "stdout",
     "output_type": "stream",
     "text": [
      "Not enough data for product_id: 12d4987d54a76e89154609f0314b0f2f. Forecasting as 1.\n",
      "Not enough data for product_id: 12d4b1673bf8c3b07e339502d911350e. Forecasting as 1.\n",
      "Not enough data for product_id: 12d73d80462aa0c73d8a6a9f77e127f0. Forecasting as 1.\n"
     ]
    },
    {
     "name": "stderr",
     "output_type": "stream",
     "text": [
      "03:14:51 - cmdstanpy - INFO - Chain [1] start processing\n",
      "03:14:51 - cmdstanpy - INFO - Chain [1] done processing\n"
     ]
    },
    {
     "name": "stdout",
     "output_type": "stream",
     "text": [
      "Not enough data for product_id: 12e1e59e227d4d5da8efc0dd17831a3b. Forecasting as 1.\n",
      "Not enough data for product_id: 12e2d17d42cd9d770771fb08675a870d. Forecasting as 1.\n",
      "Not enough data for product_id: 12e3a68b273ba72f5b5d7bbf73bd16be. Forecasting as 1.\n",
      "Not enough data for product_id: 12e3d9b67368b8d1563127a8b3407f79. Forecasting as 1.\n",
      "Not enough data for product_id: 12e5f64883db52b4617a4c4ae2aa1338. Forecasting as 1.\n",
      "Not enough data for product_id: 12ec40668ef038e5778938c846060db9. Forecasting as 1.\n"
     ]
    },
    {
     "name": "stderr",
     "output_type": "stream",
     "text": [
      "03:14:54 - cmdstanpy - INFO - Chain [1] start processing\n",
      "03:14:54 - cmdstanpy - INFO - Chain [1] done processing\n",
      "03:14:55 - cmdstanpy - INFO - Chain [1] start processing\n",
      "03:14:55 - cmdstanpy - INFO - Chain [1] done processing\n"
     ]
    },
    {
     "name": "stdout",
     "output_type": "stream",
     "text": [
      "Not enough data for product_id: 12f787302256017d737fb7dc149820f3. Forecasting as 1.\n",
      "Not enough data for product_id: 12f996b4a20f364ff8b53e086e0bff8c. Forecasting as 1.\n"
     ]
    },
    {
     "name": "stderr",
     "output_type": "stream",
     "text": [
      "03:14:56 - cmdstanpy - INFO - Chain [1] start processing\n",
      "03:14:57 - cmdstanpy - INFO - Chain [1] done processing\n"
     ]
    },
    {
     "name": "stdout",
     "output_type": "stream",
     "text": [
      "Not enough data for product_id: 12fd27a8bb6012f32f607fa18de1978a. Forecasting as 1.\n",
      "Not enough data for product_id: 12fe5f63ed2e43c806260b2476886351. Forecasting as 1.\n",
      "Not enough data for product_id: 1303e8674814cde0e8cfe7d796d6a544. Forecasting as 1.\n"
     ]
    },
    {
     "name": "stderr",
     "output_type": "stream",
     "text": [
      "03:14:59 - cmdstanpy - INFO - Chain [1] start processing\n",
      "03:14:59 - cmdstanpy - INFO - Chain [1] done processing\n"
     ]
    },
    {
     "name": "stdout",
     "output_type": "stream",
     "text": [
      "Not enough data for product_id: 1305c16a9228b89ed9dc201c20df2363. Forecasting as 1.\n",
      "Not enough data for product_id: 13092c58e867fc029b7307c2dc6f18f8. Forecasting as 1.\n",
      "Not enough data for product_id: 1309e677b68af1ad09167cf712dc0de4. Forecasting as 1.\n",
      "Not enough data for product_id: 130cdbc1715f7e1b5d9be728ce04398e. Forecasting as 1.\n",
      "Not enough data for product_id: 1311325a082990d7e80142ca0c245fcd. Forecasting as 1.\n",
      "Not enough data for product_id: 1314f921440038604b4bf1e1b18204d6. Forecasting as 1.\n",
      "Not enough data for product_id: 131701f2c91073ddf0ca954ced4f55ea. Forecasting as 1.\n",
      "Not enough data for product_id: 1317921ea764ef06f7aa21094c7e7759. Forecasting as 1.\n",
      "Not enough data for product_id: 13191128a8f50089d2ed9b7a25dc21df. Forecasting as 1.\n",
      "Not enough data for product_id: 131ee2864806788280044e5d73cf4f6f. Forecasting as 1.\n",
      "Not enough data for product_id: 132166cc21f572ad76741f4487b49b49. Forecasting as 1.\n",
      "Not enough data for product_id: 13227605925c23d73decd0ef10aa71f0. Forecasting as 1.\n",
      "Not enough data for product_id: 132893fa155be7225b6ecf7d4fe3ce9a. Forecasting as 1.\n",
      "Not enough data for product_id: 1332f9dadde087afb818a88c72db05f1. Forecasting as 1.\n",
      "Not enough data for product_id: 1336ffed1eaf9f489f9f5656f7e6fd81. Forecasting as 1.\n",
      "Not enough data for product_id: 13378a2e50038c0cce4adb16486e3a6f. Forecasting as 1.\n",
      "Not enough data for product_id: 13384f6452c53eb1f29768dc57f75903. Forecasting as 1.\n",
      "Not enough data for product_id: 13387d462f74993d258b62f8f85fd9b8. Forecasting as 1.\n",
      "Not enough data for product_id: 1340fa675dcc9085a832da030acddae5. Forecasting as 1.\n",
      "Not enough data for product_id: 13412655d22f10591e584156686ca50b. Forecasting as 1.\n"
     ]
    },
    {
     "name": "stderr",
     "output_type": "stream",
     "text": [
      "03:15:08 - cmdstanpy - INFO - Chain [1] start processing\n",
      "03:15:11 - cmdstanpy - INFO - Chain [1] done processing\n"
     ]
    },
    {
     "name": "stdout",
     "output_type": "stream",
     "text": [
      "Not enough data for product_id: 1346e52897253207e49624d96aa60471. Forecasting as 1.\n"
     ]
    },
    {
     "name": "stderr",
     "output_type": "stream",
     "text": [
      "03:15:12 - cmdstanpy - INFO - Chain [1] start processing\n",
      "03:15:12 - cmdstanpy - INFO - Chain [1] done processing\n"
     ]
    },
    {
     "name": "stdout",
     "output_type": "stream",
     "text": [
      "Not enough data for product_id: 1349d35861565f14ad2d162ef37ddc34. Forecasting as 1.\n",
      "Not enough data for product_id: 1349eb7b72fc4394d408917c76464af8. Forecasting as 1.\n"
     ]
    },
    {
     "name": "stderr",
     "output_type": "stream",
     "text": [
      "03:15:13 - cmdstanpy - INFO - Chain [1] start processing\n",
      "03:15:13 - cmdstanpy - INFO - Chain [1] done processing\n"
     ]
    },
    {
     "name": "stdout",
     "output_type": "stream",
     "text": [
      "Not enough data for product_id: 135679c12dc580ad4a0c87b494a46942. Forecasting as 1.\n",
      "Not enough data for product_id: 135cd53710b2e374b08e9a4609d6c053. Forecasting as 1.\n",
      "Not enough data for product_id: 135fb255f9873811c6aa6eba7fb17649. Forecasting as 1.\n",
      "Not enough data for product_id: 13600956946060355717f613fc076a67. Forecasting as 1.\n",
      "Not enough data for product_id: 13641c883402cc251cdb1f7f817e9148. Forecasting as 1.\n",
      "Not enough data for product_id: 1364bd15aa3e46ec4f3795a7aaf39e99. Forecasting as 1.\n",
      "Not enough data for product_id: 136506394cd99737bf063eb20271b08e. Forecasting as 1.\n",
      "Not enough data for product_id: 136b6cbf8a83c5c36c45157cbf05a6ec. Forecasting as 1.\n",
      "Not enough data for product_id: 136bcac25276c164961c1fea9c7b48ac. Forecasting as 1.\n",
      "Not enough data for product_id: 13721c732d93346dca59eecba82bf07b. Forecasting as 1.\n",
      "Not enough data for product_id: 1377fd796465e86c4306ad7afc6a6dfe. Forecasting as 1.\n",
      "Not enough data for product_id: 1379437fdb5620cec92ee180f1f16ebd. Forecasting as 1.\n",
      "Not enough data for product_id: 13797c377f05e2e9698a6a46c9098639. Forecasting as 1.\n",
      "Not enough data for product_id: 137ace556a03792cdc43f91ec621426d. Forecasting as 1.\n",
      "Not enough data for product_id: 137b399a767859264d48a03aed54440d. Forecasting as 1.\n",
      "Not enough data for product_id: 137cf4a496d574ddab72e448e6a4ae2e. Forecasting as 1.\n",
      "Not enough data for product_id: 137d0bf5250717a478bd7f9c74410bda. Forecasting as 1.\n",
      "Not enough data for product_id: 137e9ec1c850527fe02f316333848d59. Forecasting as 1.\n",
      "Not enough data for product_id: 137ecfd76c78e5b4471f0e9b3c63cdbe. Forecasting as 1.\n",
      "Not enough data for product_id: 137f49a66ce117db74acbaf30c047701. Forecasting as 1.\n",
      "Not enough data for product_id: 13900a14a66366f79faa0ff07fe354ef. Forecasting as 1.\n",
      "Not enough data for product_id: 1393eeb2b27f82d3f8035ed8d4b3a5e2. Forecasting as 1.\n",
      "Not enough data for product_id: 1395c0f64373a0771d89b9f16f185dc6. Forecasting as 1.\n",
      "Not enough data for product_id: 139a8ba50a931c4055ff072ef1817b06. Forecasting as 1.\n",
      "Not enough data for product_id: 139c42ffabb4d6cd430dfc71d85a5180. Forecasting as 1.\n",
      "Not enough data for product_id: 13a05309c09bd28a2d0418005ae7a55b. Forecasting as 1.\n",
      "Not enough data for product_id: 13a58c8c026b664e412003b4cbdc30a3. Forecasting as 1.\n",
      "Not enough data for product_id: 13b25797ad1e6d6c7cd3cbeb35f8ee7a. Forecasting as 1.\n",
      "Not enough data for product_id: 13b327c2193f552f00ec5b1e442f52b2. Forecasting as 1.\n",
      "Not enough data for product_id: 13b347f712ed4697097275485483326c. Forecasting as 1.\n",
      "Not enough data for product_id: 13b39e2e8f2621e6645afa77a459f3f6. Forecasting as 1.\n",
      "Not enough data for product_id: 13b4ff901d43edec666e3253b14b3a8f. Forecasting as 1.\n",
      "Not enough data for product_id: 13b6735a82ec831943957f19fe66f71e. Forecasting as 1.\n"
     ]
    },
    {
     "name": "stderr",
     "output_type": "stream",
     "text": [
      "03:15:30 - cmdstanpy - INFO - Chain [1] start processing\n",
      "03:15:30 - cmdstanpy - INFO - Chain [1] done processing\n"
     ]
    },
    {
     "name": "stdout",
     "output_type": "stream",
     "text": [
      "Not enough data for product_id: 13c091cf8ce1e5e8d6dac6ad263888cd. Forecasting as 1.\n",
      "Not enough data for product_id: 13c270dd3d811877114b2a225436a79a. Forecasting as 1.\n"
     ]
    },
    {
     "name": "stderr",
     "output_type": "stream",
     "text": [
      "03:15:32 - cmdstanpy - INFO - Chain [1] start processing\n",
      "03:15:35 - cmdstanpy - INFO - Chain [1] done processing\n"
     ]
    },
    {
     "name": "stdout",
     "output_type": "stream",
     "text": [
      "Not enough data for product_id: 13c68a908e3ec61b48544be41a74e8cd. Forecasting as 1.\n",
      "Not enough data for product_id: 13c7f5f30c37ace12ec243d2ebb8e970. Forecasting as 1.\n",
      "Not enough data for product_id: 13c8a969d76a40d50cced2746fd71843. Forecasting as 1.\n",
      "Not enough data for product_id: 13c9de60531ce1458551f0632a6c6d56. Forecasting as 1.\n"
     ]
    },
    {
     "name": "stderr",
     "output_type": "stream",
     "text": [
      "03:15:37 - cmdstanpy - INFO - Chain [1] start processing\n",
      "03:15:37 - cmdstanpy - INFO - Chain [1] done processing\n"
     ]
    },
    {
     "name": "stdout",
     "output_type": "stream",
     "text": [
      "Not enough data for product_id: 13cc89a841ab5708056615bc3ca164f1. Forecasting as 1.\n",
      "Not enough data for product_id: 13ccab6df565f4b742fcd81031be9aaa. Forecasting as 1.\n",
      "Not enough data for product_id: 13cde3217a6ea7e5eb08bc8972ba9049. Forecasting as 1.\n",
      "Not enough data for product_id: 13ce216ee959a22dbaec66c182a1b87f. Forecasting as 1.\n",
      "Not enough data for product_id: 13cf6ebf8152ba2ef2a1ee491f7346c1. Forecasting as 1.\n",
      "Not enough data for product_id: 13d10ec6bc5633f5b34c710ba5ff866d. Forecasting as 1.\n",
      "Not enough data for product_id: 13d4517626b8f08688c28586123fd638. Forecasting as 1.\n",
      "Not enough data for product_id: 13d88cddab2ce6955315e1b8d3334505. Forecasting as 1.\n",
      "Not enough data for product_id: 13d9c868a0780a698f5604b49d3e81ca. Forecasting as 1.\n"
     ]
    },
    {
     "name": "stderr",
     "output_type": "stream",
     "text": [
      "03:15:40 - cmdstanpy - INFO - Chain [1] start processing\n",
      "03:15:41 - cmdstanpy - INFO - Chain [1] done processing\n"
     ]
    },
    {
     "name": "stdout",
     "output_type": "stream",
     "text": [
      "Not enough data for product_id: 13de26d4d66e20b9262c0ddd00cf5cd8. Forecasting as 1.\n",
      "Not enough data for product_id: 13e15cb0da5286aed1a2c24bbba2a281. Forecasting as 1.\n",
      "Not enough data for product_id: 13e290d958dc257f594b962ab8c131b0. Forecasting as 1.\n",
      "Not enough data for product_id: 13e41fa2d255674c03342fa6b4f9e3b3. Forecasting as 1.\n",
      "Not enough data for product_id: 13e64813e400c6b383297c388eb38688. Forecasting as 1.\n",
      "Not enough data for product_id: 13e65d9bd03f262702372ddb6b22e34b. Forecasting as 1.\n",
      "Not enough data for product_id: 13ebf5c91d35332ef90cf65a7d2fff18. Forecasting as 1.\n",
      "Not enough data for product_id: 13f036df9f7389d63ad22591b23e5d83. Forecasting as 1.\n",
      "Not enough data for product_id: 13f1ff85fb63cd1bcbf6ef78959328e9. Forecasting as 1.\n",
      "Not enough data for product_id: 13f58613ded23f25a9eec9136316253b. Forecasting as 1.\n",
      "Not enough data for product_id: 13f7fc9df5f3c16d2757b7421bc40ba7. Forecasting as 1.\n",
      "Not enough data for product_id: 140048a7ca8c50c44a58532471837660. Forecasting as 1.\n",
      "Not enough data for product_id: 14008a0b9bfe0535dfa17f80988553de. Forecasting as 1.\n",
      "Not enough data for product_id: 140395ed1d1dbd100f577c5403181a1c. Forecasting as 1.\n",
      "Not enough data for product_id: 140568dfbaaf1a45e378cb87a346c91e. Forecasting as 1.\n",
      "Not enough data for product_id: 1405f399d2e4807af6ce6a2519e2ed7b. Forecasting as 1.\n",
      "Not enough data for product_id: 140820b3618107caaee76c5433aa4a95. Forecasting as 1.\n",
      "Not enough data for product_id: 140864d89d0171d33aa847a99fbb1787. Forecasting as 1.\n",
      "Not enough data for product_id: 14086fd4907ab4135efce70c2cd3c013. Forecasting as 1.\n",
      "Not enough data for product_id: 140a6dabf1644704fc0d592be0be59d1. Forecasting as 1.\n",
      "Not enough data for product_id: 140a8324a66db81d299b24b30d93098e. Forecasting as 1.\n",
      "Not enough data for product_id: 141125957e8b78c5cf939c18077fa2f7. Forecasting as 1.\n",
      "Not enough data for product_id: 1412c0124f6acb78a0a1023ea5e82c88. Forecasting as 1.\n",
      "Not enough data for product_id: 14132fa6062431ce5af633fd3368f0ee. Forecasting as 1.\n"
     ]
    },
    {
     "name": "stderr",
     "output_type": "stream",
     "text": [
      "03:15:50 - cmdstanpy - INFO - Chain [1] start processing\n",
      "03:15:50 - cmdstanpy - INFO - Chain [1] done processing\n"
     ]
    },
    {
     "name": "stdout",
     "output_type": "stream",
     "text": [
      "Not enough data for product_id: 141807ad4a13efebac9bbd9609137182. Forecasting as 1.\n",
      "Not enough data for product_id: 141a1bbd15437e6ce4765f29d126ef67. Forecasting as 1.\n",
      "Not enough data for product_id: 141b7f1c4036e50d42d9ba4b253d59a0. Forecasting as 1.\n",
      "Not enough data for product_id: 141f72cac97df846fc51097f795bd94e. Forecasting as 1.\n"
     ]
    },
    {
     "name": "stderr",
     "output_type": "stream",
     "text": [
      "03:15:52 - cmdstanpy - INFO - Chain [1] start processing\n",
      "03:15:53 - cmdstanpy - INFO - Chain [1] done processing\n"
     ]
    },
    {
     "name": "stdout",
     "output_type": "stream",
     "text": [
      "Not enough data for product_id: 1428c05db72682f014dc218c294724ea. Forecasting as 1.\n",
      "Not enough data for product_id: 14296885533b327c1168b7940ae2bdb1. Forecasting as 1.\n",
      "Not enough data for product_id: 142b4f0578f914f7b4ab677472850965. Forecasting as 1.\n",
      "Not enough data for product_id: 142c759524da90ea8c592f9b3b1fedb5. Forecasting as 1.\n",
      "Not enough data for product_id: 142def78f5d245670dbb99d00cd6e175. Forecasting as 1.\n",
      "Not enough data for product_id: 142e24ca1186ae5c0a12a6c315bf43fa. Forecasting as 1.\n",
      "Not enough data for product_id: 142f698ead085dede05f43a7ea54e931. Forecasting as 1.\n",
      "Not enough data for product_id: 1431b5a121c1134957c9aff8c8db2bf9. Forecasting as 1.\n",
      "Not enough data for product_id: 1434a45fb0e95dd43f674ddff1df8ca7. Forecasting as 1.\n",
      "Not enough data for product_id: 143bd097a677b205de2380a93b1f1a99. Forecasting as 1.\n",
      "Not enough data for product_id: 143c616ec3fe0cb065c3805cf9bd812e. Forecasting as 1.\n",
      "Not enough data for product_id: 1440c3493146c70f05302fa3edf1038f. Forecasting as 1.\n",
      "Not enough data for product_id: 14449f70527389068db24e234b28a37d. Forecasting as 1.\n",
      "Not enough data for product_id: 1444bc50e2165224458beb85d5542beb. Forecasting as 1.\n",
      "Not enough data for product_id: 144958cbd9bf55a1227516709f793e50. Forecasting as 1.\n",
      "Not enough data for product_id: 144b8110f0a755915d67660ab747d9d6. Forecasting as 1.\n",
      "Not enough data for product_id: 144e17b0496772329803ee3007951ec8. Forecasting as 1.\n",
      "Not enough data for product_id: 144eead70e4afe55d6c90ce7b884af2d. Forecasting as 1.\n",
      "Not enough data for product_id: 144eebc150ba34b9f44f761513b5a394. Forecasting as 1.\n"
     ]
    },
    {
     "name": "stderr",
     "output_type": "stream",
     "text": [
      "03:16:02 - cmdstanpy - INFO - Chain [1] start processing\n",
      "03:16:02 - cmdstanpy - INFO - Chain [1] done processing\n",
      "03:16:02 - cmdstanpy - INFO - Chain [1] start processing\n",
      "03:16:02 - cmdstanpy - INFO - Chain [1] done processing\n",
      "03:16:03 - cmdstanpy - INFO - Chain [1] start processing\n",
      "03:16:03 - cmdstanpy - INFO - Chain [1] done processing\n",
      "03:16:03 - cmdstanpy - INFO - Chain [1] start processing\n",
      "03:16:03 - cmdstanpy - INFO - Chain [1] done processing\n"
     ]
    },
    {
     "name": "stdout",
     "output_type": "stream",
     "text": [
      "Not enough data for product_id: 145af826c44181c994b7476667a3ab00. Forecasting as 1.\n",
      "Not enough data for product_id: 14604c2eecc272f4c961e8274d667f85. Forecasting as 1.\n",
      "Not enough data for product_id: 146881934618f0efaf33d04909acd195. Forecasting as 1.\n",
      "Not enough data for product_id: 1468ae815f666819cd3fa15be0cc035a. Forecasting as 1.\n",
      "Not enough data for product_id: 146a4eb8f7cef9788fecff10b104dec3. Forecasting as 1.\n",
      "Not enough data for product_id: 146df82d2ffd8fa52e2a5d6b6a0d6dff. Forecasting as 1.\n",
      "Not enough data for product_id: 146e38440bfc14b0d923856ddac3709f. Forecasting as 1.\n",
      "Not enough data for product_id: 146ee97f86e3d0487f410ffc9896de9a. Forecasting as 1.\n",
      "Not enough data for product_id: 146f38b5c222913dbe6606e5a25cd318. Forecasting as 1.\n",
      "Not enough data for product_id: 146f7b7f77ccadc63494db1aaad2bc7f. Forecasting as 1.\n",
      "Not enough data for product_id: 1473e2c8f813f1f2ec24bd8ff09ff55c. Forecasting as 1.\n",
      "Not enough data for product_id: 147a0207903133d4593e9f5d14793e45. Forecasting as 1.\n",
      "Not enough data for product_id: 147df4d924f569e480fbd77099707f08. Forecasting as 1.\n",
      "Not enough data for product_id: 14887e028cbb3d23280fe0aedf6631a3. Forecasting as 1.\n",
      "Not enough data for product_id: 148c599356731b1d622e231d343e65bd. Forecasting as 1.\n",
      "Not enough data for product_id: 148c9e8af97e807544e4487f137ad65e. Forecasting as 1.\n",
      "Not enough data for product_id: 148d27957e1653a2e9c8c3771f5a5a0f. Forecasting as 1.\n",
      "Not enough data for product_id: 148f68f014d7729ff8193dd7fefd1c7c. Forecasting as 1.\n",
      "Not enough data for product_id: 1490307eb0bc9c499936ad716b79ca45. Forecasting as 1.\n"
     ]
    },
    {
     "name": "stderr",
     "output_type": "stream",
     "text": [
      "03:16:11 - cmdstanpy - INFO - Chain [1] start processing\n",
      "03:16:11 - cmdstanpy - INFO - Chain [1] done processing\n"
     ]
    },
    {
     "name": "stdout",
     "output_type": "stream",
     "text": [
      "Not enough data for product_id: 1498bc64386d231c0b467a99561b1760. Forecasting as 1.\n",
      "Not enough data for product_id: 149a3fb259da124e9a12b7e145b9d5db. Forecasting as 1.\n",
      "Not enough data for product_id: 149ab38a09937b9195cbcaa295cf4a44. Forecasting as 1.\n",
      "Not enough data for product_id: 149c06c0927fb59eff16690d31497f12. Forecasting as 1.\n"
     ]
    },
    {
     "name": "stderr",
     "output_type": "stream",
     "text": [
      "03:16:13 - cmdstanpy - INFO - Chain [1] start processing\n",
      "03:16:13 - cmdstanpy - INFO - Chain [1] done processing\n"
     ]
    },
    {
     "name": "stdout",
     "output_type": "stream",
     "text": [
      "Not enough data for product_id: 14a5ea75139c76bd71255888d45a1f8d. Forecasting as 1.\n",
      "Not enough data for product_id: 14a804caa27d1d738183cbbad4d84346. Forecasting as 1.\n"
     ]
    },
    {
     "name": "stderr",
     "output_type": "stream",
     "text": [
      "03:16:15 - cmdstanpy - INFO - Chain [1] start processing\n",
      "03:16:15 - cmdstanpy - INFO - Chain [1] done processing\n"
     ]
    },
    {
     "name": "stdout",
     "output_type": "stream",
     "text": [
      "Not enough data for product_id: 14aa8b2c8709b5e12cf97b252e111a59. Forecasting as 1.\n",
      "Not enough data for product_id: 14b47a66430c89500f18cdaaef9e0c21. Forecasting as 1.\n",
      "Not enough data for product_id: 14b4ba1b43773a92e0abe6dc500fe18b. Forecasting as 1.\n",
      "Not enough data for product_id: 14b6285353e31358b2273ae3818a4155. Forecasting as 1.\n",
      "Not enough data for product_id: 14b8624897d00288696764cc34c26f05. Forecasting as 1.\n",
      "Not enough data for product_id: 14ba2925721da57b9f9edeff3d3c2d16. Forecasting as 1.\n"
     ]
    },
    {
     "name": "stderr",
     "output_type": "stream",
     "text": [
      "03:16:18 - cmdstanpy - INFO - Chain [1] start processing\n",
      "03:16:18 - cmdstanpy - INFO - Chain [1] done processing\n"
     ]
    },
    {
     "name": "stdout",
     "output_type": "stream",
     "text": [
      "Not enough data for product_id: 14bcfd08402831f2e770b142a1203d9e. Forecasting as 1.\n",
      "Not enough data for product_id: 14bd7e575a12cf8543db3afd53a844bd. Forecasting as 1.\n",
      "Not enough data for product_id: 14c6b9fe1b59f7ac6bd12e243d859461. Forecasting as 1.\n",
      "Not enough data for product_id: 14d003b4fde082d755674f43f7ceef55. Forecasting as 1.\n",
      "Not enough data for product_id: 14d2c4a849afdde0e39ffad27a1dfc56. Forecasting as 1.\n",
      "Not enough data for product_id: 14d8c1bbd5f367608c37522e99c47258. Forecasting as 1.\n",
      "Not enough data for product_id: 14d9afd912784344d5bb9a12b23478d2. Forecasting as 1.\n"
     ]
    },
    {
     "name": "stderr",
     "output_type": "stream",
     "text": [
      "03:16:22 - cmdstanpy - INFO - Chain [1] start processing\n",
      "03:16:22 - cmdstanpy - INFO - Chain [1] done processing\n"
     ]
    },
    {
     "name": "stdout",
     "output_type": "stream",
     "text": [
      "Not enough data for product_id: 14e3a1344aba7a9d568e0aa446da24be. Forecasting as 1.\n",
      "Not enough data for product_id: 14e3c0e17eb29fa9b3492b3956d4371e. Forecasting as 1.\n"
     ]
    },
    {
     "name": "stderr",
     "output_type": "stream",
     "text": [
      "03:16:24 - cmdstanpy - INFO - Chain [1] start processing\n",
      "03:16:24 - cmdstanpy - INFO - Chain [1] done processing\n"
     ]
    },
    {
     "name": "stdout",
     "output_type": "stream",
     "text": [
      "Not enough data for product_id: 14e9b59d37c1571b980c02e237a5d395. Forecasting as 1.\n",
      "Not enough data for product_id: 14ed7526330bb083481b32c7ab26f179. Forecasting as 1.\n",
      "Not enough data for product_id: 14f964bb089089d5e114cdaf786ce1b9. Forecasting as 1.\n",
      "Not enough data for product_id: 14faa5803314c4ecfc2c915cd13fd24f. Forecasting as 1.\n",
      "Not enough data for product_id: 14ff2fd93669cee55ac37385a7409d5d. Forecasting as 1.\n"
     ]
    },
    {
     "name": "stderr",
     "output_type": "stream",
     "text": [
      "03:16:27 - cmdstanpy - INFO - Chain [1] start processing\n",
      "03:16:27 - cmdstanpy - INFO - Chain [1] done processing\n"
     ]
    },
    {
     "name": "stdout",
     "output_type": "stream",
     "text": [
      "Not enough data for product_id: 15050d3aa6e44bc924642e38dc255677. Forecasting as 1.\n",
      "Not enough data for product_id: 1507ad794e23a98d2e7097f799a890ca. Forecasting as 1.\n",
      "Not enough data for product_id: 1510ee95ef047969c335bac927d99bc4. Forecasting as 1.\n"
     ]
    },
    {
     "name": "stderr",
     "output_type": "stream",
     "text": [
      "03:16:29 - cmdstanpy - INFO - Chain [1] start processing\n",
      "03:16:29 - cmdstanpy - INFO - Chain [1] done processing\n"
     ]
    },
    {
     "name": "stdout",
     "output_type": "stream",
     "text": [
      "Not enough data for product_id: 1514ddb0f4a5afc8d24104e89c714403. Forecasting as 1.\n",
      "Not enough data for product_id: 15151e8a937f6a4d1a4f0c03c765c6f2. Forecasting as 1.\n",
      "Not enough data for product_id: 151ad3b5a66539bdc84cf97a7c1d38ac. Forecasting as 1.\n",
      "Not enough data for product_id: 151f727718fd1e3d913e793a692c0f14. Forecasting as 1.\n",
      "Not enough data for product_id: 152153cc85a6e47325494a479a93fc4b. Forecasting as 1.\n",
      "Not enough data for product_id: 1522a5bd5aab30ceb119c8fb8ec5a8f0. Forecasting as 1.\n"
     ]
    },
    {
     "name": "stderr",
     "output_type": "stream",
     "text": [
      "03:16:33 - cmdstanpy - INFO - Chain [1] start processing\n",
      "03:16:33 - cmdstanpy - INFO - Chain [1] done processing\n",
      "03:16:33 - cmdstanpy - INFO - Chain [1] start processing\n",
      "03:17:07 - cmdstanpy - INFO - Chain [1] done processing\n"
     ]
    },
    {
     "name": "stdout",
     "output_type": "stream",
     "text": [
      "Not enough data for product_id: 152d8bb1e16d0a4f567c7cece5e92b6a. Forecasting as 1.\n",
      "Not enough data for product_id: 152d9634a0dd1eccbd43fcd7c3512a14. Forecasting as 1.\n",
      "Not enough data for product_id: 152e246b33c879d2b03461be76ca2ac4. Forecasting as 1.\n",
      "Not enough data for product_id: 152eb960a9b1698e3b8dcd50aa14b611. Forecasting as 1.\n",
      "Not enough data for product_id: 1531b09bff3fb016e5f0b4435b643672. Forecasting as 1.\n"
     ]
    },
    {
     "name": "stderr",
     "output_type": "stream",
     "text": [
      "03:17:09 - cmdstanpy - INFO - Chain [1] start processing\n",
      "03:17:09 - cmdstanpy - INFO - Chain [1] done processing\n"
     ]
    },
    {
     "name": "stdout",
     "output_type": "stream",
     "text": [
      "Not enough data for product_id: 153409f359e71cf10b3935f68a69875d. Forecasting as 1.\n"
     ]
    },
    {
     "name": "stderr",
     "output_type": "stream",
     "text": [
      "03:17:10 - cmdstanpy - INFO - Chain [1] start processing\n",
      "03:17:10 - cmdstanpy - INFO - Chain [1] done processing\n"
     ]
    },
    {
     "name": "stdout",
     "output_type": "stream",
     "text": [
      "Not enough data for product_id: 15360bd9d521956ac6fe8b4b8d6fe08c. Forecasting as 1.\n",
      "Not enough data for product_id: 153ad88dad29825663dfb8588c45a1a2. Forecasting as 1.\n",
      "Not enough data for product_id: 153c09356373389880c8dc8d701a60d7. Forecasting as 1.\n",
      "Not enough data for product_id: 153d581044c5b30836c5a7d56687a735. Forecasting as 1.\n"
     ]
    },
    {
     "name": "stderr",
     "output_type": "stream",
     "text": [
      "03:17:11 - cmdstanpy - INFO - Chain [1] start processing\n",
      "03:17:11 - cmdstanpy - INFO - Chain [1] done processing\n",
      "03:17:11 - cmdstanpy - INFO - Chain [1] start processing\n",
      "03:17:14 - cmdstanpy - INFO - Chain [1] done processing\n"
     ]
    },
    {
     "name": "stdout",
     "output_type": "stream",
     "text": [
      "Not enough data for product_id: 154384dc7ddd772829294c13674dc719. Forecasting as 1.\n",
      "Not enough data for product_id: 154696c4f8e96ed48f0c191eb09c0683. Forecasting as 1.\n",
      "Not enough data for product_id: 154b6772d166a9c3398661ea26350dc6. Forecasting as 1.\n",
      "Not enough data for product_id: 154cacf31b15a08f71d7666a1ac3c0bf. Forecasting as 1.\n",
      "Not enough data for product_id: 154e46f42e5665a0af25d2fc7c9e3321. Forecasting as 1.\n"
     ]
    },
    {
     "name": "stderr",
     "output_type": "stream",
     "text": [
      "03:17:16 - cmdstanpy - INFO - Chain [1] start processing\n",
      "03:17:16 - cmdstanpy - INFO - Chain [1] done processing\n"
     ]
    },
    {
     "name": "stdout",
     "output_type": "stream",
     "text": [
      "Not enough data for product_id: 154f1553226255086ce3e22b1b013415. Forecasting as 1.\n",
      "Not enough data for product_id: 1550a0fe151b511cb7cb327c55c865d3. Forecasting as 1.\n",
      "Not enough data for product_id: 155222243017ed8a8a43eabf5b04144c. Forecasting as 1.\n",
      "Not enough data for product_id: 15554042fe82e006a72cf392f462cd4e. Forecasting as 1.\n",
      "Not enough data for product_id: 15557c53492889a2b63e65df34a738ab. Forecasting as 1.\n",
      "Not enough data for product_id: 1555b29b27754088e380f27d81d0311a. Forecasting as 1.\n",
      "Not enough data for product_id: 155663cd6bc8d7e90375c19f73136bab. Forecasting as 1.\n",
      "Not enough data for product_id: 1556a0ea84fd60589afa0d9618c47505. Forecasting as 1.\n",
      "Not enough data for product_id: 15571dce56ff7d152dab99a0bc8354d5. Forecasting as 1.\n"
     ]
    },
    {
     "name": "stderr",
     "output_type": "stream",
     "text": [
      "03:17:20 - cmdstanpy - INFO - Chain [1] start processing\n",
      "03:17:21 - cmdstanpy - INFO - Chain [1] done processing\n"
     ]
    },
    {
     "name": "stdout",
     "output_type": "stream",
     "text": [
      "Not enough data for product_id: 1559e46cd3a07441620f97b068268ae0. Forecasting as 1.\n",
      "Not enough data for product_id: 155a2d804e1562dedf47f5a300115c7c. Forecasting as 1.\n",
      "Not enough data for product_id: 155eae0f604655ce68005b34cb88b7c9. Forecasting as 1.\n",
      "Not enough data for product_id: 1561355720506eaee90adde6aa1375a9. Forecasting as 1.\n",
      "Not enough data for product_id: 1561c00eeaa35a78b884771143c513f5. Forecasting as 1.\n",
      "Not enough data for product_id: 15627ec726c8361a54e87afd48c9ddab. Forecasting as 1.\n",
      "Not enough data for product_id: 1567a054fc1af5ea367b0740ef9bc684. Forecasting as 1.\n",
      "Not enough data for product_id: 1567eb3a02b49c99d7d07045e9ce94f5. Forecasting as 1.\n",
      "Not enough data for product_id: 156929d95f2ef8373a04db2cb82bc3e1. Forecasting as 1.\n"
     ]
    },
    {
     "name": "stderr",
     "output_type": "stream",
     "text": [
      "03:17:25 - cmdstanpy - INFO - Chain [1] start processing\n",
      "03:17:26 - cmdstanpy - INFO - Chain [1] done processing\n"
     ]
    },
    {
     "name": "stdout",
     "output_type": "stream",
     "text": [
      "Not enough data for product_id: 156bb7508d25ad3108035c7ec3a3d2fb. Forecasting as 1.\n",
      "Not enough data for product_id: 156c786708d60c0091d590d5ff937229. Forecasting as 1.\n",
      "Not enough data for product_id: 156dc15f380f2c6fa999b386a90a8524. Forecasting as 1.\n"
     ]
    },
    {
     "name": "stderr",
     "output_type": "stream",
     "text": [
      "03:17:28 - cmdstanpy - INFO - Chain [1] start processing\n",
      "03:17:28 - cmdstanpy - INFO - Chain [1] done processing\n",
      "03:17:28 - cmdstanpy - INFO - Chain [1] start processing\n",
      "03:17:28 - cmdstanpy - INFO - Chain [1] done processing\n"
     ]
    },
    {
     "name": "stdout",
     "output_type": "stream",
     "text": [
      "Not enough data for product_id: 157c0b6a86cb5823d6d2dd1fa8c5d450. Forecasting as 1.\n"
     ]
    },
    {
     "name": "stderr",
     "output_type": "stream",
     "text": [
      "03:17:29 - cmdstanpy - INFO - Chain [1] start processing\n",
      "03:17:30 - cmdstanpy - INFO - Chain [1] done processing\n"
     ]
    },
    {
     "name": "stdout",
     "output_type": "stream",
     "text": [
      "Not enough data for product_id: 15804bf9d24b0ff5a052ef9280ad6e63. Forecasting as 1.\n"
     ]
    },
    {
     "name": "stderr",
     "output_type": "stream",
     "text": [
      "03:17:30 - cmdstanpy - INFO - Chain [1] start processing\n",
      "03:17:31 - cmdstanpy - INFO - Chain [1] done processing\n"
     ]
    },
    {
     "name": "stdout",
     "output_type": "stream",
     "text": [
      "Not enough data for product_id: 1582e72435d827bb125ed429ecfc56f6. Forecasting as 1.\n",
      "Not enough data for product_id: 1583253d78b23f7808214770298e0118. Forecasting as 1.\n",
      "Not enough data for product_id: 158477fa4a1d33fa290291caefbc7883. Forecasting as 1.\n"
     ]
    },
    {
     "name": "stderr",
     "output_type": "stream",
     "text": [
      "03:17:33 - cmdstanpy - INFO - Chain [1] start processing\n",
      "03:17:34 - cmdstanpy - INFO - Chain [1] done processing\n"
     ]
    },
    {
     "name": "stdout",
     "output_type": "stream",
     "text": [
      "Not enough data for product_id: 1585efae0c3719cefae4c6b411f07fb6. Forecasting as 1.\n",
      "Not enough data for product_id: 15873878161dd60a2de39df25443080e. Forecasting as 1.\n",
      "Not enough data for product_id: 159065411d54fa1f2232d949976883db. Forecasting as 1.\n",
      "Not enough data for product_id: 15908820640cd392b3655fb94cbbc0a8. Forecasting as 1.\n",
      "Not enough data for product_id: 1594082822fb91eb12404f8e79b59e47. Forecasting as 1.\n",
      "Not enough data for product_id: 1596772dbdf700f2e7dd35248fcde3aa. Forecasting as 1.\n",
      "Not enough data for product_id: 159cad5d8dadf4141e99b88d58c0c943. Forecasting as 1.\n",
      "Not enough data for product_id: 159d2dfef362b9ad87fc748aeca593e8. Forecasting as 1.\n"
     ]
    },
    {
     "name": "stderr",
     "output_type": "stream",
     "text": [
      "03:17:38 - cmdstanpy - INFO - Chain [1] start processing\n",
      "03:17:38 - cmdstanpy - INFO - Chain [1] done processing\n",
      "03:17:39 - cmdstanpy - INFO - Chain [1] start processing\n",
      "03:17:39 - cmdstanpy - INFO - Chain [1] done processing\n"
     ]
    },
    {
     "name": "stdout",
     "output_type": "stream",
     "text": [
      "Not enough data for product_id: 15a581e2cae15fe40ac430f07dc6aa12. Forecasting as 1.\n",
      "Not enough data for product_id: 15a9e834e89eab39d973492882c658d6. Forecasting as 1.\n",
      "Not enough data for product_id: 15ae68f4be12b1e7037da33a1ef9753a. Forecasting as 1.\n",
      "Not enough data for product_id: 15b142fc0f773fb67de91301d1701894. Forecasting as 1.\n",
      "Not enough data for product_id: 15b1da0aa0ff79960dd5ee9cd1ab17d3. Forecasting as 1.\n",
      "Not enough data for product_id: 15b1f9b06d0e709552d7d8638387e09b. Forecasting as 1.\n",
      "Not enough data for product_id: 15b3d40f375c0645c1eed4ed1cd8e17a. Forecasting as 1.\n",
      "Not enough data for product_id: 15b47fee52c928cd7d75996f767efb8b. Forecasting as 1.\n",
      "Not enough data for product_id: 15b5589e105e35c3db7dc3ebbe55e13e. Forecasting as 1.\n",
      "Not enough data for product_id: 15b5c55e291cc54d93c46c9a3c9bb9b2. Forecasting as 1.\n",
      "Not enough data for product_id: 15b5d9fcf84c060e00b0883def7d10e6. Forecasting as 1.\n",
      "Not enough data for product_id: 15b97877de8d9061b450f77805b0f95d. Forecasting as 1.\n",
      "Not enough data for product_id: 15ba996726b61ab95153368a8082c5d7. Forecasting as 1.\n",
      "Not enough data for product_id: 15bb6bb477d5bbfe167f6dc44b6846a8. Forecasting as 1.\n",
      "Not enough data for product_id: 15be8ab92cd1c32b16ff30292ef39991. Forecasting as 1.\n",
      "Not enough data for product_id: 15bef25125df6626665f702257bd1e79. Forecasting as 1.\n",
      "Not enough data for product_id: 15bfe701fea63d0f6384b743e492b3fb. Forecasting as 1.\n",
      "Not enough data for product_id: 15c078f58e790a7618352d6cc1571025. Forecasting as 1.\n"
     ]
    },
    {
     "name": "stderr",
     "output_type": "stream",
     "text": [
      "03:17:45 - cmdstanpy - INFO - Chain [1] start processing\n",
      "03:17:45 - cmdstanpy - INFO - Chain [1] done processing\n"
     ]
    },
    {
     "name": "stdout",
     "output_type": "stream",
     "text": [
      "Not enough data for product_id: 15c53c3819865dc1083cf45b3b888b43. Forecasting as 1.\n",
      "Not enough data for product_id: 15c6285354cb4294fba984d48fd19805. Forecasting as 1.\n",
      "Not enough data for product_id: 15c8a0cce7382cf9029bfcb3998cfb7e. Forecasting as 1.\n",
      "Not enough data for product_id: 15cd17d090c2d99322fbbe56d7571fb6. Forecasting as 1.\n",
      "Not enough data for product_id: 15cd31f93b25e5a517f05b1af31d353f. Forecasting as 1.\n",
      "Not enough data for product_id: 15cf6e60f6f3fc09598470e5d9a6d13c. Forecasting as 1.\n",
      "Not enough data for product_id: 15d165bec0a8ecf3a213dfb0b891e715. Forecasting as 1.\n",
      "Not enough data for product_id: 15d20fc83a2c6720616bce544affa439. Forecasting as 1.\n",
      "Not enough data for product_id: 15d43d4703185739abdf015897e34974. Forecasting as 1.\n",
      "Not enough data for product_id: 15d46964df616d5206807cd84b95b73d. Forecasting as 1.\n",
      "Not enough data for product_id: 15d9c7e1411ece24a0053b1e876e4d4c. Forecasting as 1.\n",
      "Not enough data for product_id: 15dc5bc6f0f1e1a0d0255098726060c7. Forecasting as 1.\n",
      "Not enough data for product_id: 15dde66eab29d86c576343ead646ccd2. Forecasting as 1.\n",
      "Not enough data for product_id: 15e71ca2be5a30e15c92ab4b36450571. Forecasting as 1.\n",
      "Not enough data for product_id: 15eb9e69b64370ff66882a2eff037862. Forecasting as 1.\n",
      "Not enough data for product_id: 15ebe9dfd8d6e1cce0d81bce5de8cffc. Forecasting as 1.\n",
      "Not enough data for product_id: 15f17270133dfedc0e1064782a60e374. Forecasting as 1.\n",
      "Not enough data for product_id: 15f4274d2a06f9da4e476ad9bb5c80b9. Forecasting as 1.\n",
      "Not enough data for product_id: 15f47d3a8c0c553dc9aba3d2d5dc88c3. Forecasting as 1.\n",
      "Not enough data for product_id: 15f4e7802068bb117c1e6c0ad3edfefd. Forecasting as 1.\n"
     ]
    },
    {
     "name": "stderr",
     "output_type": "stream",
     "text": [
      "03:17:51 - cmdstanpy - INFO - Chain [1] start processing\n",
      "03:17:51 - cmdstanpy - INFO - Chain [1] done processing\n"
     ]
    },
    {
     "name": "stdout",
     "output_type": "stream",
     "text": [
      "Not enough data for product_id: 15f773b4fea5b2ab681b02620b0c3a95. Forecasting as 1.\n"
     ]
    },
    {
     "name": "stderr",
     "output_type": "stream",
     "text": [
      "03:17:52 - cmdstanpy - INFO - Chain [1] start processing\n",
      "03:17:52 - cmdstanpy - INFO - Chain [1] done processing\n",
      "03:17:52 - cmdstanpy - INFO - Chain [1] start processing\n",
      "03:17:53 - cmdstanpy - INFO - Chain [1] done processing\n"
     ]
    },
    {
     "name": "stdout",
     "output_type": "stream",
     "text": [
      "Not enough data for product_id: 1603fa7aafd20f7aff7f05bf4616355b. Forecasting as 1.\n",
      "Not enough data for product_id: 16042ffa9e13c9207641ee169b044346. Forecasting as 1.\n"
     ]
    },
    {
     "name": "stderr",
     "output_type": "stream",
     "text": [
      "03:17:53 - cmdstanpy - INFO - Chain [1] start processing\n",
      "03:17:53 - cmdstanpy - INFO - Chain [1] done processing\n",
      "03:17:54 - cmdstanpy - INFO - Chain [1] start processing\n",
      "03:17:54 - cmdstanpy - INFO - Chain [1] done processing\n",
      "03:17:54 - cmdstanpy - INFO - Chain [1] start processing\n",
      "03:17:55 - cmdstanpy - INFO - Chain [1] done processing\n"
     ]
    },
    {
     "name": "stdout",
     "output_type": "stream",
     "text": [
      "Not enough data for product_id: 161465fcbd2f97c7bbb1d199c7402fcf. Forecasting as 1.\n",
      "Not enough data for product_id: 16197dbfbd978dcb5cd7ce71e756a549. Forecasting as 1.\n"
     ]
    },
    {
     "name": "stderr",
     "output_type": "stream",
     "text": [
      "03:17:55 - cmdstanpy - INFO - Chain [1] start processing\n",
      "03:17:55 - cmdstanpy - INFO - Chain [1] done processing\n",
      "03:17:56 - cmdstanpy - INFO - Chain [1] start processing\n",
      "03:17:56 - cmdstanpy - INFO - Chain [1] done processing\n"
     ]
    },
    {
     "name": "stdout",
     "output_type": "stream",
     "text": [
      "Not enough data for product_id: 16245c0134a3dedc3e2c124260925f70. Forecasting as 1.\n",
      "Not enough data for product_id: 16280ca280a86fee2ba3c928ed04439f. Forecasting as 1.\n",
      "Not enough data for product_id: 162c1a60e671a6632c2a03243557d549. Forecasting as 1.\n",
      "Not enough data for product_id: 1631c9e1ec508b76a2a0615751e73405. Forecasting as 1.\n",
      "Not enough data for product_id: 1632189d4c3d9e64cf3fd110b93f1a19. Forecasting as 1.\n",
      "Not enough data for product_id: 163302a9e5ed53e2b3062577e254ce16. Forecasting as 1.\n"
     ]
    },
    {
     "name": "stderr",
     "output_type": "stream",
     "text": [
      "03:17:58 - cmdstanpy - INFO - Chain [1] start processing\n",
      "03:17:58 - cmdstanpy - INFO - Chain [1] done processing\n"
     ]
    },
    {
     "name": "stdout",
     "output_type": "stream",
     "text": [
      "Not enough data for product_id: 16376850de9d7788d802f09e462231d0. Forecasting as 1.\n",
      "Not enough data for product_id: 163a503e8aa4c48bfd077f416e4341d4. Forecasting as 1.\n",
      "Not enough data for product_id: 163ba96993ec61eac36239e7301827c4. Forecasting as 1.\n"
     ]
    },
    {
     "name": "stderr",
     "output_type": "stream",
     "text": [
      "03:17:59 - cmdstanpy - INFO - Chain [1] start processing\n",
      "03:17:59 - cmdstanpy - INFO - Chain [1] done processing\n",
      "03:18:00 - cmdstanpy - INFO - Chain [1] start processing\n",
      "03:18:00 - cmdstanpy - INFO - Chain [1] done processing\n"
     ]
    },
    {
     "name": "stdout",
     "output_type": "stream",
     "text": [
      "Not enough data for product_id: 1641c200f3f8a804770370f3be6eb727. Forecasting as 1.\n",
      "Not enough data for product_id: 16447aab914c7ecbeb5b7b7518ff3d94. Forecasting as 1.\n"
     ]
    },
    {
     "name": "stderr",
     "output_type": "stream",
     "text": [
      "03:18:01 - cmdstanpy - INFO - Chain [1] start processing\n",
      "03:18:03 - cmdstanpy - INFO - Chain [1] done processing\n"
     ]
    },
    {
     "name": "stdout",
     "output_type": "stream",
     "text": [
      "Not enough data for product_id: 1647c3a7ca962b86bad1f87a895f582d. Forecasting as 1.\n",
      "Not enough data for product_id: 1648c250bc294f3df8137d9a38d42a65. Forecasting as 1.\n",
      "Not enough data for product_id: 1649a221a63658447144a466b159b101. Forecasting as 1.\n"
     ]
    },
    {
     "name": "stderr",
     "output_type": "stream",
     "text": [
      "03:18:04 - cmdstanpy - INFO - Chain [1] start processing\n",
      "03:18:05 - cmdstanpy - INFO - Chain [1] done processing\n"
     ]
    },
    {
     "name": "stdout",
     "output_type": "stream",
     "text": [
      "Not enough data for product_id: 164c46357539e20cff56925225cf924c. Forecasting as 1.\n",
      "Not enough data for product_id: 164e1fc9dbbb8ec54611e3eaa25ef263. Forecasting as 1.\n",
      "Not enough data for product_id: 164ef5973ee113556104727b850ae68f. Forecasting as 1.\n",
      "Not enough data for product_id: 16522de6b7f6222b7f9c3b00a0cf3218. Forecasting as 1.\n",
      "Not enough data for product_id: 165948b2c41e846df7d09b56826a747f. Forecasting as 1.\n",
      "Not enough data for product_id: 1659de378e430012cdd7ecff272bce7a. Forecasting as 1.\n"
     ]
    },
    {
     "name": "stderr",
     "output_type": "stream",
     "text": [
      "03:18:07 - cmdstanpy - INFO - Chain [1] start processing\n",
      "03:18:09 - cmdstanpy - INFO - Chain [1] done processing\n"
     ]
    },
    {
     "name": "stdout",
     "output_type": "stream",
     "text": [
      "Not enough data for product_id: 165c9d7f2d58ca8e4af9381c0b0226a4. Forecasting as 1.\n",
      "Not enough data for product_id: 165d14e4b5729a3abf7ea2a5062dd118. Forecasting as 1.\n",
      "Not enough data for product_id: 165deaf73f29fe5f4e6c607b40d93d26. Forecasting as 1.\n"
     ]
    },
    {
     "name": "stderr",
     "output_type": "stream",
     "text": [
      "03:18:11 - cmdstanpy - INFO - Chain [1] start processing\n",
      "03:18:11 - cmdstanpy - INFO - Chain [1] done processing\n"
     ]
    },
    {
     "name": "stdout",
     "output_type": "stream",
     "text": [
      "Not enough data for product_id: 165fb50db4fca5b20adf857e6292b171. Forecasting as 1.\n",
      "Not enough data for product_id: 16616beea59b12efb813aafa8b759f23. Forecasting as 1.\n",
      "Not enough data for product_id: 16644bd7e1afa400c4039ea1be1b974c. Forecasting as 1.\n",
      "Not enough data for product_id: 1666b6ce6543ea221eac0c273d4ce8d7. Forecasting as 1.\n"
     ]
    },
    {
     "name": "stderr",
     "output_type": "stream",
     "text": [
      "03:18:12 - cmdstanpy - INFO - Chain [1] start processing\n",
      "03:18:12 - cmdstanpy - INFO - Chain [1] done processing\n"
     ]
    },
    {
     "name": "stdout",
     "output_type": "stream",
     "text": [
      "Not enough data for product_id: 1669a8ef7e316417da468a3599115231. Forecasting as 1.\n",
      "Not enough data for product_id: 166afe76948e93ed13181b01febfeb25. Forecasting as 1.\n",
      "Not enough data for product_id: 166b38c4ecd6765dad14586d0a8f7086. Forecasting as 1.\n",
      "Not enough data for product_id: 16734715511e4a408f9b534c748032f2. Forecasting as 1.\n",
      "Not enough data for product_id: 16765bcb7b5644f6fd28a40c0cfa2a97. Forecasting as 1.\n",
      "Not enough data for product_id: 167752e318335bf6bdd6906c4c470266. Forecasting as 1.\n",
      "Not enough data for product_id: 167a7aad1e1e0717b9b5ab7d6c724ad5. Forecasting as 1.\n",
      "Not enough data for product_id: 167b19e93baccb17916b9a6dd03264e7. Forecasting as 1.\n"
     ]
    },
    {
     "name": "stderr",
     "output_type": "stream",
     "text": [
      "03:18:14 - cmdstanpy - INFO - Chain [1] start processing\n",
      "03:18:15 - cmdstanpy - INFO - Chain [1] done processing\n"
     ]
    },
    {
     "name": "stdout",
     "output_type": "stream",
     "text": [
      "Not enough data for product_id: 167b946cfe5de05aadc151871edf7bb9. Forecasting as 1.\n",
      "Not enough data for product_id: 1684f99c7e0e67403e52a7783366870f. Forecasting as 1.\n",
      "Not enough data for product_id: 168936313777f1f28b81922f681a1014. Forecasting as 1.\n"
     ]
    },
    {
     "name": "stderr",
     "output_type": "stream",
     "text": [
      "03:18:16 - cmdstanpy - INFO - Chain [1] start processing\n",
      "03:18:17 - cmdstanpy - INFO - Chain [1] done processing\n"
     ]
    },
    {
     "name": "stdout",
     "output_type": "stream",
     "text": [
      "Not enough data for product_id: 16912e490fe2abaa95eb78b2f656f805. Forecasting as 1.\n",
      "Not enough data for product_id: 1694be93ee57fcedd649a53f11848edb. Forecasting as 1.\n"
     ]
    },
    {
     "name": "stderr",
     "output_type": "stream",
     "text": [
      "03:18:18 - cmdstanpy - INFO - Chain [1] start processing\n",
      "03:18:21 - cmdstanpy - INFO - Chain [1] done processing\n"
     ]
    },
    {
     "name": "stdout",
     "output_type": "stream",
     "text": [
      "Not enough data for product_id: 169a5b175b7c1727d5654db38acda924. Forecasting as 1.\n"
     ]
    },
    {
     "name": "stderr",
     "output_type": "stream",
     "text": [
      "03:18:22 - cmdstanpy - INFO - Chain [1] start processing\n",
      "03:18:22 - cmdstanpy - INFO - Chain [1] done processing\n"
     ]
    },
    {
     "name": "stdout",
     "output_type": "stream",
     "text": [
      "Not enough data for product_id: 16a993ef9171a0380273f4fbcb0e8b71. Forecasting as 1.\n",
      "Not enough data for product_id: 16aa6553ee2cf0a316e29f8808ab165c. Forecasting as 1.\n",
      "Not enough data for product_id: 16afd9cf37e1b340bc46822fdd8240aa. Forecasting as 1.\n",
      "Not enough data for product_id: 16afeb4db1b7fa1b52b58d3012ec56be. Forecasting as 1.\n",
      "Not enough data for product_id: 16b06ede456b922e56fbb4b3818aa875. Forecasting as 1.\n",
      "Not enough data for product_id: 16b089babc44efe9db1fde71b35d1252. Forecasting as 1.\n",
      "Not enough data for product_id: 16b1b4ab7d5e3918d20c5d3da3cb8247. Forecasting as 1.\n",
      "Not enough data for product_id: 16b36661fe58157f31bb0c63492d5878. Forecasting as 1.\n",
      "Not enough data for product_id: 16b4473e98422039c388f144a0b16f55. Forecasting as 1.\n",
      "Not enough data for product_id: 16b5adf7a7890633a2642ea9bd8a9ea5. Forecasting as 1.\n",
      "Not enough data for product_id: 16b691e994cb81b2e7e31c93ba603136. Forecasting as 1.\n"
     ]
    },
    {
     "name": "stderr",
     "output_type": "stream",
     "text": [
      "03:18:25 - cmdstanpy - INFO - Chain [1] start processing\n",
      "03:18:25 - cmdstanpy - INFO - Chain [1] done processing\n"
     ]
    },
    {
     "name": "stdout",
     "output_type": "stream",
     "text": [
      "Not enough data for product_id: 16c1c1a3dc1ddc2fd5e32ae7fe616b0b. Forecasting as 1.\n",
      "Not enough data for product_id: 16c47be00ea2407eaa988afdc442e863. Forecasting as 1.\n",
      "Not enough data for product_id: 16c7b8541faaca79fa6cf9e5bc9c1622. Forecasting as 1.\n",
      "Not enough data for product_id: 16c85ec4d9d97a526a3848d6ac11be61. Forecasting as 1.\n"
     ]
    },
    {
     "name": "stderr",
     "output_type": "stream",
     "text": [
      "03:18:27 - cmdstanpy - INFO - Chain [1] start processing\n",
      "03:18:27 - cmdstanpy - INFO - Chain [1] done processing\n"
     ]
    },
    {
     "name": "stdout",
     "output_type": "stream",
     "text": [
      "Not enough data for product_id: 16cbef36125de420ec9ae948425a6a68. Forecasting as 1.\n"
     ]
    },
    {
     "name": "stderr",
     "output_type": "stream",
     "text": [
      "03:18:28 - cmdstanpy - INFO - Chain [1] start processing\n",
      "03:18:28 - cmdstanpy - INFO - Chain [1] done processing\n",
      "03:18:28 - cmdstanpy - INFO - Chain [1] start processing\n",
      "03:18:29 - cmdstanpy - INFO - Chain [1] done processing\n"
     ]
    },
    {
     "name": "stdout",
     "output_type": "stream",
     "text": [
      "Not enough data for product_id: 16d903db54452c6e230d4750b57926de. Forecasting as 1.\n"
     ]
    },
    {
     "name": "stderr",
     "output_type": "stream",
     "text": [
      "03:18:30 - cmdstanpy - INFO - Chain [1] start processing\n",
      "03:18:34 - cmdstanpy - INFO - Chain [1] done processing\n"
     ]
    },
    {
     "name": "stdout",
     "output_type": "stream",
     "text": [
      "Not enough data for product_id: 16dad26c65775eab24c647539df6cc53. Forecasting as 1.\n",
      "Not enough data for product_id: 16e42459e56f3df24a195ca8bab5bb81. Forecasting as 1.\n"
     ]
    },
    {
     "name": "stderr",
     "output_type": "stream",
     "text": [
      "03:18:37 - cmdstanpy - INFO - Chain [1] start processing\n",
      "03:18:37 - cmdstanpy - INFO - Chain [1] done processing\n"
     ]
    },
    {
     "name": "stdout",
     "output_type": "stream",
     "text": [
      "Not enough data for product_id: 16f7c25c950c1c3f123fdc4a6cc390e0. Forecasting as 1.\n",
      "Not enough data for product_id: 16fdd3b0ce3c745e93bb6809113649c1. Forecasting as 1.\n",
      "Not enough data for product_id: 16ff579c7dd128062ca085e13094fbe0. Forecasting as 1.\n",
      "Not enough data for product_id: 1701185747f4a378004088c1e14d0555. Forecasting as 1.\n",
      "Not enough data for product_id: 17061c6ca6aaab457074d9f12c1882e6. Forecasting as 1.\n",
      "Not enough data for product_id: 1708d4cfc42166dc7f44e1ad501f4933. Forecasting as 1.\n",
      "Not enough data for product_id: 170ae15fc78b44bceab3e66baefbbd99. Forecasting as 1.\n",
      "Not enough data for product_id: 170db4e7b448ea0a8261aa05fff39ee5. Forecasting as 1.\n",
      "Not enough data for product_id: 171352abd66a010ad6039f9f994fd42d. Forecasting as 1.\n",
      "Not enough data for product_id: 1713e5b60dfb5b779fd077af351624c0. Forecasting as 1.\n"
     ]
    },
    {
     "name": "stderr",
     "output_type": "stream",
     "text": [
      "03:18:41 - cmdstanpy - INFO - Chain [1] start processing\n",
      "03:18:42 - cmdstanpy - INFO - Chain [1] done processing\n",
      "03:18:42 - cmdstanpy - INFO - Chain [1] start processing\n",
      "03:18:42 - cmdstanpy - INFO - Chain [1] done processing\n"
     ]
    },
    {
     "name": "stdout",
     "output_type": "stream",
     "text": [
      "Not enough data for product_id: 1718ba9459e147186a7475f116526c99. Forecasting as 1.\n"
     ]
    },
    {
     "name": "stderr",
     "output_type": "stream",
     "text": [
      "03:18:42 - cmdstanpy - INFO - Chain [1] start processing\n",
      "03:18:42 - cmdstanpy - INFO - Chain [1] done processing\n"
     ]
    },
    {
     "name": "stdout",
     "output_type": "stream",
     "text": [
      "Not enough data for product_id: 171bb407ca7cfdf4b960389e4404ce8c. Forecasting as 1.\n",
      "Not enough data for product_id: 171f04960543d71ad6ae0cfd444b369c. Forecasting as 1.\n",
      "Not enough data for product_id: 1720f85e4a07f5701170d6c4e0acdb02. Forecasting as 1.\n",
      "Not enough data for product_id: 17222c974b8e98e7df1f7da91491178a. Forecasting as 1.\n",
      "Not enough data for product_id: 1729a1b7ec6947d5c878e70e80172790. Forecasting as 1.\n",
      "Not enough data for product_id: 1729e3ddaf29904f44575844e62cbdce. Forecasting as 1.\n"
     ]
    },
    {
     "name": "stderr",
     "output_type": "stream",
     "text": [
      "03:18:44 - cmdstanpy - INFO - Chain [1] start processing\n",
      "03:18:44 - cmdstanpy - INFO - Chain [1] done processing\n"
     ]
    },
    {
     "name": "stdout",
     "output_type": "stream",
     "text": [
      "Not enough data for product_id: 173581ced381362760c476bec9de53ff. Forecasting as 1.\n",
      "Not enough data for product_id: 17383e180cbea9ef103d90a72754cd54. Forecasting as 1.\n",
      "Not enough data for product_id: 173b3c971bbd7b0d48b9d87a96d10783. Forecasting as 1.\n",
      "Not enough data for product_id: 173c4cd072bd13160331cc0f5b3ce0c2. Forecasting as 1.\n"
     ]
    },
    {
     "name": "stderr",
     "output_type": "stream",
     "text": [
      "03:18:46 - cmdstanpy - INFO - Chain [1] start processing\n",
      "03:18:46 - cmdstanpy - INFO - Chain [1] done processing\n",
      "03:18:46 - cmdstanpy - INFO - Chain [1] start processing\n",
      "03:18:46 - cmdstanpy - INFO - Chain [1] done processing\n"
     ]
    },
    {
     "name": "stdout",
     "output_type": "stream",
     "text": [
      "Not enough data for product_id: 174475fe56700001a3361e525374c907. Forecasting as 1.\n",
      "Not enough data for product_id: 17455fdde89549b744a53cffa8eb67f9. Forecasting as 1.\n",
      "Not enough data for product_id: 17469cd3d2559b93669a813860296b8e. Forecasting as 1.\n",
      "Not enough data for product_id: 174b4bb32fd935b233654b5d48c438d8. Forecasting as 1.\n",
      "Not enough data for product_id: 174f6dbd30e54c690ac97b27a3a793fa. Forecasting as 1.\n",
      "Not enough data for product_id: 17552c3e04bda2b08ac85c9c55137dc3. Forecasting as 1.\n",
      "Not enough data for product_id: 175cce7a953e6f5765c7bb03b369a672. Forecasting as 1.\n",
      "Not enough data for product_id: 17606c7d7254ed1f0351fd48a28be932. Forecasting as 1.\n",
      "Not enough data for product_id: 1760fb3ce37cf7ee460a11149785e370. Forecasting as 1.\n",
      "Not enough data for product_id: 176120d3ee50ae4945932ce1c6a70f34. Forecasting as 1.\n",
      "Not enough data for product_id: 17619e7c2727f3ee8c7877eea79ce30a. Forecasting as 1.\n",
      "Not enough data for product_id: 17636d19cec2b5a30a95e164fcd08325. Forecasting as 1.\n",
      "Not enough data for product_id: 1764de90ccf31194230a1d33c9cb7dfd. Forecasting as 1.\n",
      "Not enough data for product_id: 1767ed23966ac4d3539720b11beeacd1. Forecasting as 1.\n",
      "Not enough data for product_id: 176b54e1ca47c0ec2bc2e298a76adf9a. Forecasting as 1.\n",
      "Not enough data for product_id: 176b5cf1bc33d549356b072323692f0f. Forecasting as 1.\n",
      "Not enough data for product_id: 176e81d05865d1cf72d45caf8023268d. Forecasting as 1.\n",
      "Not enough data for product_id: 1775f1f0d5c82a7c311baa9074593e6d. Forecasting as 1.\n",
      "Not enough data for product_id: 1778cf7281a461e29e202a848bcb2a77. Forecasting as 1.\n",
      "Not enough data for product_id: 177994f6e693b14491067ba7cd5e5127. Forecasting as 1.\n",
      "Not enough data for product_id: 177a8cac0667c535478a8fdfd7d42191. Forecasting as 1.\n",
      "Not enough data for product_id: 177b172621777704a3e39ac9d3568946. Forecasting as 1.\n",
      "Not enough data for product_id: 177c3ebabe9adfcda1308c5dea939f6a. Forecasting as 1.\n",
      "Not enough data for product_id: 177ccb9eb4263c7f82f6c3b98980d26d. Forecasting as 1.\n"
     ]
    },
    {
     "name": "stderr",
     "output_type": "stream",
     "text": [
      "03:18:55 - cmdstanpy - INFO - Chain [1] start processing\n",
      "03:18:55 - cmdstanpy - INFO - Chain [1] done processing\n"
     ]
    },
    {
     "name": "stdout",
     "output_type": "stream",
     "text": [
      "Not enough data for product_id: 177f62b739076126a879238444ccbf02. Forecasting as 1.\n"
     ]
    },
    {
     "name": "stderr",
     "output_type": "stream",
     "text": [
      "03:18:55 - cmdstanpy - INFO - Chain [1] start processing\n",
      "03:18:56 - cmdstanpy - INFO - Chain [1] done processing\n",
      "03:18:56 - cmdstanpy - INFO - Chain [1] start processing\n",
      "03:18:56 - cmdstanpy - INFO - Chain [1] done processing\n"
     ]
    },
    {
     "name": "stdout",
     "output_type": "stream",
     "text": [
      "Not enough data for product_id: 178c02376540dea14abfbcc1af483528. Forecasting as 1.\n",
      "Not enough data for product_id: 178c8458c4907a2680456130f76e10e0. Forecasting as 1.\n",
      "Not enough data for product_id: 178fff5a81c5c9447c6dcc3a2039d7f7. Forecasting as 1.\n",
      "Not enough data for product_id: 1792cba4f134a09e9450d6142fbe9293. Forecasting as 1.\n",
      "Not enough data for product_id: 179527fe0673815dff87ca83539b0c58. Forecasting as 1.\n",
      "Not enough data for product_id: 17955d2806f5d00146744b206f2dee1a. Forecasting as 1.\n",
      "Not enough data for product_id: 17984012f01e836fad7cb9224c211baf. Forecasting as 1.\n",
      "Not enough data for product_id: 1799c1c2eadf9f798fd74599e6028510. Forecasting as 1.\n",
      "Not enough data for product_id: 179bb56045bec397c52ef3c8183dabb6. Forecasting as 1.\n",
      "Not enough data for product_id: 179d856fee39496cee35298e31e2bc6d. Forecasting as 1.\n",
      "Not enough data for product_id: 17a116d0390ebc37c44ecfd8c6e36d00. Forecasting as 1.\n",
      "Not enough data for product_id: 17a1211f690515d1adf3300cd6278354. Forecasting as 1.\n"
     ]
    },
    {
     "name": "stderr",
     "output_type": "stream",
     "text": [
      "03:19:00 - cmdstanpy - INFO - Chain [1] start processing\n",
      "03:19:01 - cmdstanpy - INFO - Chain [1] done processing\n",
      "03:19:01 - cmdstanpy - INFO - Chain [1] start processing\n",
      "03:19:01 - cmdstanpy - INFO - Chain [1] done processing\n"
     ]
    },
    {
     "name": "stdout",
     "output_type": "stream",
     "text": [
      "Not enough data for product_id: 17b21ab6bf081dfd3491d0e07c56b40b. Forecasting as 1.\n",
      "Not enough data for product_id: 17b41b007356c9b333b4e7c1fcedb066. Forecasting as 1.\n",
      "Not enough data for product_id: 17b8aa78b705626818b2646e5abb3138. Forecasting as 1.\n",
      "Not enough data for product_id: 17b9f231d057710012fe28e5a1ac5186. Forecasting as 1.\n",
      "Not enough data for product_id: 17c092cc98bba142fa0168733da00d3b. Forecasting as 1.\n"
     ]
    },
    {
     "name": "stderr",
     "output_type": "stream",
     "text": [
      "03:19:02 - cmdstanpy - INFO - Chain [1] start processing\n",
      "03:19:02 - cmdstanpy - INFO - Chain [1] done processing\n"
     ]
    },
    {
     "name": "stdout",
     "output_type": "stream",
     "text": [
      "Not enough data for product_id: 17c52ae67ff6a495f5c73e4fe7beb56a. Forecasting as 1.\n",
      "Not enough data for product_id: 17c7ec33a1657924ad493e6978b4bf91. Forecasting as 1.\n",
      "Not enough data for product_id: 17c8d9777ad1009a904230d2728fa412. Forecasting as 1.\n"
     ]
    },
    {
     "name": "stderr",
     "output_type": "stream",
     "text": [
      "03:19:03 - cmdstanpy - INFO - Chain [1] start processing\n",
      "03:19:03 - cmdstanpy - INFO - Chain [1] done processing\n"
     ]
    },
    {
     "name": "stdout",
     "output_type": "stream",
     "text": [
      "Not enough data for product_id: 17cc3e9bc6182d861f0ae09f498e5187. Forecasting as 1.\n",
      "Not enough data for product_id: 17d17b9640ddee0ec3fa09c91b284ae9. Forecasting as 1.\n",
      "Not enough data for product_id: 17d4764518c5a017b128060439d1559f. Forecasting as 1.\n",
      "Not enough data for product_id: 17d4983a8766060a5977b2ea679617f6. Forecasting as 1.\n",
      "Not enough data for product_id: 17d68b6c1ebd7073e3689b9a26004651. Forecasting as 1.\n",
      "Not enough data for product_id: 17d98fc630d23a628ec1130f8d69d1d2. Forecasting as 1.\n"
     ]
    },
    {
     "name": "stderr",
     "output_type": "stream",
     "text": [
      "03:19:05 - cmdstanpy - INFO - Chain [1] start processing\n",
      "03:19:05 - cmdstanpy - INFO - Chain [1] done processing\n"
     ]
    },
    {
     "name": "stdout",
     "output_type": "stream",
     "text": [
      "Not enough data for product_id: 17de10d52ada234d16d3991c1b9546f8. Forecasting as 1.\n",
      "Not enough data for product_id: 17e18b0c88a853dd6de3e48a7cfa9d9a. Forecasting as 1.\n"
     ]
    },
    {
     "name": "stderr",
     "output_type": "stream",
     "text": [
      "03:19:06 - cmdstanpy - INFO - Chain [1] start processing\n",
      "03:19:06 - cmdstanpy - INFO - Chain [1] done processing\n"
     ]
    },
    {
     "name": "stdout",
     "output_type": "stream",
     "text": [
      "Not enough data for product_id: 17eaf73dce768e344cb5d1210bea1da2. Forecasting as 1.\n",
      "Not enough data for product_id: 17ec1cf6dc8dc7557ca34f1d64a93dc7. Forecasting as 1.\n",
      "Not enough data for product_id: 17eebb377a986cfb90285ec913767939. Forecasting as 1.\n",
      "Not enough data for product_id: 17f05cc6ef5563b5e096ab059ca926b4. Forecasting as 1.\n",
      "Not enough data for product_id: 17f1ae71c27aaad9cee4655e62a50189. Forecasting as 1.\n",
      "Not enough data for product_id: 17f1ed2a8b51d7dfdd9fec1ecc1c9abd. Forecasting as 1.\n",
      "Not enough data for product_id: 17f2685e91a49b99540dcb684ee7d94a. Forecasting as 1.\n",
      "Not enough data for product_id: 17f40fbed6dd51e0cc87eefe3d88f644. Forecasting as 1.\n",
      "Not enough data for product_id: 17f95aad17a906d34d051b58f2488943. Forecasting as 1.\n",
      "Not enough data for product_id: 17f99ae9c53e7e8804b2c78492d11744. Forecasting as 1.\n",
      "Not enough data for product_id: 17fe399dea1627d099a67438b3d562a7. Forecasting as 1.\n",
      "Not enough data for product_id: 17fe46c4cd7376a1a75f47e2fa4d5c89. Forecasting as 1.\n",
      "Not enough data for product_id: 17ff593779ce464d3667e8ca12b4a5ca. Forecasting as 1.\n",
      "Not enough data for product_id: 180161ed2abf2bc95f1316841d968d21. Forecasting as 1.\n",
      "Not enough data for product_id: 1803e81cb6baee466165678dec256407. Forecasting as 1.\n",
      "Not enough data for product_id: 18047039004204f52054f74b9503b9fe. Forecasting as 1.\n",
      "Not enough data for product_id: 180534717d1776626e418844a26a7c8f. Forecasting as 1.\n",
      "Not enough data for product_id: 1809be4f054d8243278d6c83207696ee. Forecasting as 1.\n",
      "Not enough data for product_id: 180a3dd286404dc8a9154904eadaec99. Forecasting as 1.\n",
      "Not enough data for product_id: 180fa760feb6277fe75df285149fee2b. Forecasting as 1.\n",
      "Not enough data for product_id: 1817be76e48588632c33c4f112a79426. Forecasting as 1.\n",
      "Not enough data for product_id: 181abab3cccc131f868d3bc7a5b97fd0. Forecasting as 1.\n",
      "Not enough data for product_id: 181b31b11ea16a87d5acab5a78320b93. Forecasting as 1.\n",
      "Not enough data for product_id: 181ce2dfd0a0d91969baabcb6df39bb9. Forecasting as 1.\n",
      "Not enough data for product_id: 1823142d83a24b619bebd0088d7f95d9. Forecasting as 1.\n",
      "Not enough data for product_id: 18241450338cbc5751c433970f3f1060. Forecasting as 1.\n",
      "Not enough data for product_id: 18259c4bc4c6431e6106fa20c6666d26. Forecasting as 1.\n",
      "Not enough data for product_id: 1825f78fda454294d53022bf9a81d69f. Forecasting as 1.\n",
      "Not enough data for product_id: 18293e0552a8e74489e917364868e1db. Forecasting as 1.\n",
      "Not enough data for product_id: 18301962305db63b0f3e995998075ffa. Forecasting as 1.\n",
      "Not enough data for product_id: 1831eef8008d196ec59bba8f52a526b8. Forecasting as 1.\n",
      "Not enough data for product_id: 183210d186d30d050604f96ef87af803. Forecasting as 1.\n",
      "Not enough data for product_id: 183219d1fb636eb94e843223054122ae. Forecasting as 1.\n",
      "Not enough data for product_id: 18344238d9024a2e2f3f549d5ab1fadc. Forecasting as 1.\n",
      "Not enough data for product_id: 183770fe75350bbf19c623927e1c0f72. Forecasting as 1.\n"
     ]
    },
    {
     "name": "stderr",
     "output_type": "stream",
     "text": [
      "03:19:18 - cmdstanpy - INFO - Chain [1] start processing\n",
      "03:19:18 - cmdstanpy - INFO - Chain [1] done processing\n"
     ]
    },
    {
     "name": "stdout",
     "output_type": "stream",
     "text": [
      "Not enough data for product_id: 183e7a71baadb34370dd394795163dd7. Forecasting as 1.\n",
      "Not enough data for product_id: 183f50a31f91341dc02cc84279d16dcc. Forecasting as 1.\n",
      "Not enough data for product_id: 18409550226f40a1a8990fcd7e517c53. Forecasting as 1.\n",
      "Not enough data for product_id: 1847704440ad3e1d770ff738f5ced023. Forecasting as 1.\n"
     ]
    },
    {
     "name": "stderr",
     "output_type": "stream",
     "text": [
      "03:19:20 - cmdstanpy - INFO - Chain [1] start processing\n",
      "03:19:20 - cmdstanpy - INFO - Chain [1] done processing\n"
     ]
    },
    {
     "name": "stdout",
     "output_type": "stream",
     "text": [
      "Not enough data for product_id: 1848a54b9f28b13e4d94d5bcc77904cc. Forecasting as 1.\n",
      "Not enough data for product_id: 184908160c13d25f992d86d43cba2e90. Forecasting as 1.\n",
      "Not enough data for product_id: 184c94ca5ebab8d884a1c070e2197526. Forecasting as 1.\n",
      "Not enough data for product_id: 184e91de5d4a87f023bba45c3e258349. Forecasting as 1.\n",
      "Not enough data for product_id: 184f6e7e403fe477af4b1a02b9d432e4. Forecasting as 1.\n",
      "Not enough data for product_id: 184fcfe46ee8cc3a557011888422b5e7. Forecasting as 1.\n",
      "Not enough data for product_id: 185013b2b9237c14bd26a394d9fda023. Forecasting as 1.\n",
      "Not enough data for product_id: 185145001a2c3f8950733eee387285b4. Forecasting as 1.\n"
     ]
    },
    {
     "name": "stderr",
     "output_type": "stream",
     "text": [
      "03:19:22 - cmdstanpy - INFO - Chain [1] start processing\n",
      "03:19:22 - cmdstanpy - INFO - Chain [1] done processing\n"
     ]
    },
    {
     "name": "stdout",
     "output_type": "stream",
     "text": [
      "Not enough data for product_id: 185c58d7437197ced6450e5cada41d35. Forecasting as 1.\n",
      "Not enough data for product_id: 1860189a4eaca04ccb8324bf0ea4384c. Forecasting as 1.\n"
     ]
    },
    {
     "name": "stderr",
     "output_type": "stream",
     "text": [
      "03:19:23 - cmdstanpy - INFO - Chain [1] start processing\n",
      "03:19:23 - cmdstanpy - INFO - Chain [1] done processing\n"
     ]
    },
    {
     "name": "stdout",
     "output_type": "stream",
     "text": [
      "Not enough data for product_id: 1860b96949f9ff0adcd5e2c340d32e12. Forecasting as 1.\n",
      "Not enough data for product_id: 18661ef1d69f1bd07e334d1fc498d40d. Forecasting as 1.\n",
      "Not enough data for product_id: 186667995393fd686a25866399b41e68. Forecasting as 1.\n",
      "Not enough data for product_id: 18670ef035870b452690c54a57e13009. Forecasting as 1.\n",
      "Not enough data for product_id: 18692fdc7adb29c885d8cb84eb68a97e. Forecasting as 1.\n",
      "Not enough data for product_id: 186a9f327c0de21b2dd1dea0a16fb5d5. Forecasting as 1.\n",
      "Not enough data for product_id: 186b6a12d98fb8471271f204a82a7937. Forecasting as 1.\n",
      "Not enough data for product_id: 186c635691c9437f7a3e928abd815213. Forecasting as 1.\n"
     ]
    },
    {
     "name": "stderr",
     "output_type": "stream",
     "text": [
      "03:19:25 - cmdstanpy - INFO - Chain [1] start processing\n",
      "03:19:25 - cmdstanpy - INFO - Chain [1] done processing\n"
     ]
    },
    {
     "name": "stdout",
     "output_type": "stream",
     "text": [
      "Not enough data for product_id: 186f6f0ad7928097faf963de4b3e67bf. Forecasting as 1.\n"
     ]
    },
    {
     "name": "stderr",
     "output_type": "stream",
     "text": [
      "03:19:26 - cmdstanpy - INFO - Chain [1] start processing\n",
      "03:19:26 - cmdstanpy - INFO - Chain [1] done processing\n",
      "03:19:26 - cmdstanpy - INFO - Chain [1] start processing\n",
      "03:19:26 - cmdstanpy - INFO - Chain [1] done processing\n"
     ]
    },
    {
     "name": "stdout",
     "output_type": "stream",
     "text": [
      "Not enough data for product_id: 18730af1dd00657c8eb94ce953bca1da. Forecasting as 1.\n",
      "Not enough data for product_id: 187359f629249d5333ce31f87136a802. Forecasting as 1.\n",
      "Not enough data for product_id: 1873d47fb47e167da1520bd9ffbb8f79. Forecasting as 1.\n",
      "Not enough data for product_id: 187408f6a6f2681f13fe6337c3c5d1ac. Forecasting as 1.\n"
     ]
    },
    {
     "name": "stderr",
     "output_type": "stream",
     "text": [
      "03:19:28 - cmdstanpy - INFO - Chain [1] start processing\n",
      "03:19:28 - cmdstanpy - INFO - Chain [1] done processing\n"
     ]
    },
    {
     "name": "stdout",
     "output_type": "stream",
     "text": [
      "Not enough data for product_id: 187b442eb4df48574faa31381921991f. Forecasting as 1.\n",
      "Not enough data for product_id: 187b7f06c80dc6842fdd117909a05be7. Forecasting as 1.\n"
     ]
    },
    {
     "name": "stderr",
     "output_type": "stream",
     "text": [
      "03:19:29 - cmdstanpy - INFO - Chain [1] start processing\n",
      "03:19:29 - cmdstanpy - INFO - Chain [1] done processing\n"
     ]
    },
    {
     "name": "stdout",
     "output_type": "stream",
     "text": [
      "Not enough data for product_id: 188025a9e821ac2a983b63c5d7512df0. Forecasting as 1.\n",
      "Not enough data for product_id: 188372a703d9a84ec0b6a32a0044c7f2. Forecasting as 1.\n",
      "Not enough data for product_id: 1884138513d4bfa7f7d0ab91664d2b3d. Forecasting as 1.\n"
     ]
    },
    {
     "name": "stderr",
     "output_type": "stream",
     "text": [
      "03:19:31 - cmdstanpy - INFO - Chain [1] start processing\n",
      "03:19:31 - cmdstanpy - INFO - Chain [1] done processing\n"
     ]
    },
    {
     "name": "stdout",
     "output_type": "stream",
     "text": [
      "Not enough data for product_id: 188726239018149882525f46706b9bd7. Forecasting as 1.\n",
      "Not enough data for product_id: 188a7a06ef624d9549bad5dea5e84ea6. Forecasting as 1.\n",
      "Not enough data for product_id: 188ad420d63afdbdf6711580e40dfbb5. Forecasting as 1.\n",
      "Not enough data for product_id: 188c9cb0aff9e485e3f84752731c633a. Forecasting as 1.\n",
      "Not enough data for product_id: 188ca16451af4da0cdad2750f9973fd6. Forecasting as 1.\n",
      "Not enough data for product_id: 1890c01a38d17958d79fe473d451dc9c. Forecasting as 1.\n",
      "Not enough data for product_id: 1893eeba0f624153fe2b3f0711e4a554. Forecasting as 1.\n",
      "Not enough data for product_id: 18952a79fa194b9ebff6e058236bc57f. Forecasting as 1.\n",
      "Not enough data for product_id: 18962ffc781d31e8d995293458954e91. Forecasting as 1.\n",
      "Not enough data for product_id: 189863ada55d223aa579c28edd1e2353. Forecasting as 1.\n",
      "Not enough data for product_id: 189898d15ec809a4ca45e1ac2221dea2. Forecasting as 1.\n",
      "Not enough data for product_id: 189921555959ef963cb7b93553d7d202. Forecasting as 1.\n"
     ]
    },
    {
     "name": "stderr",
     "output_type": "stream",
     "text": [
      "03:19:40 - cmdstanpy - INFO - Chain [1] start processing\n",
      "03:19:40 - cmdstanpy - INFO - Chain [1] done processing\n"
     ]
    },
    {
     "name": "stdout",
     "output_type": "stream",
     "text": [
      "Not enough data for product_id: 189d6b9a380642d0ee2245277cc9b2f2. Forecasting as 1.\n",
      "Not enough data for product_id: 189e7a415a45b6367968db09150ca2e5. Forecasting as 1.\n",
      "Not enough data for product_id: 18a43ee7cdcd2dc5be2f2f063ad7a2bb. Forecasting as 1.\n",
      "Not enough data for product_id: 18a6a9435280bc4978a427f0f95cbd4e. Forecasting as 1.\n",
      "Not enough data for product_id: 18aae9918a7e1d46e0c94c63a756c97c. Forecasting as 1.\n",
      "Not enough data for product_id: 18af17f3ce7321c209d5ce9932248c4e. Forecasting as 1.\n"
     ]
    },
    {
     "name": "stderr",
     "output_type": "stream",
     "text": [
      "03:19:46 - cmdstanpy - INFO - Chain [1] start processing\n",
      "03:19:46 - cmdstanpy - INFO - Chain [1] done processing\n"
     ]
    },
    {
     "name": "stdout",
     "output_type": "stream",
     "text": [
      "Not enough data for product_id: 18be199494e360c90f302b3ef82ceb43. Forecasting as 1.\n",
      "Not enough data for product_id: 18becf80f3bb277fc07eee177b32cad2. Forecasting as 1.\n",
      "Not enough data for product_id: 18c0b4a4150176a977ab587d549575e9. Forecasting as 1.\n",
      "Not enough data for product_id: 18c2db7204cdc97ff47fb6727bb1aa19. Forecasting as 1.\n",
      "Not enough data for product_id: 18c52ee8fc4012f63557c51b8558e8f3. Forecasting as 1.\n",
      "Not enough data for product_id: 18c95832cb8d17378929494e3c588354. Forecasting as 1.\n",
      "Not enough data for product_id: 18ca3438371b0b52c505b34d768b7fb4. Forecasting as 1.\n",
      "Not enough data for product_id: 18d307d967bbf1300aa00b34f34c374c. Forecasting as 1.\n"
     ]
    },
    {
     "name": "stderr",
     "output_type": "stream",
     "text": [
      "03:19:50 - cmdstanpy - INFO - Chain [1] start processing\n",
      "03:19:53 - cmdstanpy - INFO - Chain [1] done processing\n"
     ]
    },
    {
     "name": "stdout",
     "output_type": "stream",
     "text": [
      "Not enough data for product_id: 18e42e8f475cb44f5fd91fa354ba1a76. Forecasting as 1.\n",
      "Not enough data for product_id: 18ea29d5e42eea2c720cafb650f572f3. Forecasting as 1.\n",
      "Not enough data for product_id: 18ebcd64f3cc11d18509c67b886c64f9. Forecasting as 1.\n",
      "Not enough data for product_id: 18ed3f872eef3229cb62008dc963ae78. Forecasting as 1.\n"
     ]
    },
    {
     "name": "stderr",
     "output_type": "stream",
     "text": [
      "03:19:57 - cmdstanpy - INFO - Chain [1] start processing\n",
      "03:19:58 - cmdstanpy - INFO - Chain [1] done processing\n",
      "03:19:58 - cmdstanpy - INFO - Chain [1] start processing\n",
      "03:19:58 - cmdstanpy - INFO - Chain [1] done processing\n"
     ]
    },
    {
     "name": "stdout",
     "output_type": "stream",
     "text": [
      "Not enough data for product_id: 18f8fed8a737a4399a369ef33b21cb3b. Forecasting as 1.\n",
      "Not enough data for product_id: 18f968379c4898b794fcf83f317ba60e. Forecasting as 1.\n",
      "Not enough data for product_id: 18f97605e88c76affcbfa78ba4e52293. Forecasting as 1.\n",
      "Not enough data for product_id: 18fb792a3e767535d6627494950de29b. Forecasting as 1.\n",
      "Not enough data for product_id: 18fc07433ae4bcd5a8bdf658b2c6e40d. Forecasting as 1.\n",
      "Not enough data for product_id: 18fcba7b80899b08132793f3a71ac9db. Forecasting as 1.\n",
      "Not enough data for product_id: 18fe664c1fb46f0c237ac8f434697d07. Forecasting as 1.\n",
      "Not enough data for product_id: 190179a3742b4110aaa5373a873885bb. Forecasting as 1.\n",
      "Not enough data for product_id: 1909929bf0f282504162cf7e8290c4bd. Forecasting as 1.\n",
      "Not enough data for product_id: 190b553d3cccad7ceb5e15a8ec148920. Forecasting as 1.\n",
      "Not enough data for product_id: 1913e11c70ce94032c05b17bbded599a. Forecasting as 1.\n",
      "Not enough data for product_id: 191b7949f8bac02b5232cb1d4efcac66. Forecasting as 1.\n",
      "Not enough data for product_id: 191bd142a00d0d95fa54118635886d9e. Forecasting as 1.\n",
      "Not enough data for product_id: 191bdbe90160787e2232af92b5b53088. Forecasting as 1.\n",
      "Not enough data for product_id: 191f3eac7d624242f8eec11e472b877a. Forecasting as 1.\n",
      "Not enough data for product_id: 192371c441aec10766ea14ff29fef66c. Forecasting as 1.\n",
      "Not enough data for product_id: 1923fbec9d29cfb2cb50a8e69db95cab. Forecasting as 1.\n",
      "Not enough data for product_id: 192406641723dcce37e6181abf9aba18. Forecasting as 1.\n",
      "Not enough data for product_id: 19288b027391bb4c6280b7ef7d129438. Forecasting as 1.\n",
      "Not enough data for product_id: 19290ebcf78e385cd9fcd48ce5e1393d. Forecasting as 1.\n"
     ]
    },
    {
     "name": "stderr",
     "output_type": "stream",
     "text": [
      "03:20:07 - cmdstanpy - INFO - Chain [1] start processing\n",
      "03:20:08 - cmdstanpy - INFO - Chain [1] done processing\n"
     ]
    },
    {
     "name": "stdout",
     "output_type": "stream",
     "text": [
      "Not enough data for product_id: 192a8231d086772443a86cb5e2746017. Forecasting as 1.\n",
      "Not enough data for product_id: 192b332c511e484ea4f3f8b0526ee59d. Forecasting as 1.\n",
      "Not enough data for product_id: 192f2d6f10ae35f57a57be5fc1ae7d56. Forecasting as 1.\n",
      "Not enough data for product_id: 192fdd97f716a6c79db0fdb15fadd854. Forecasting as 1.\n",
      "Not enough data for product_id: 1938ab47ef011dae9e4ced458166432e. Forecasting as 1.\n",
      "Not enough data for product_id: 19396b91a7c64a48aff0f42cd35444a5. Forecasting as 1.\n",
      "Not enough data for product_id: 193b9369c44fc846482364039dde2ac6. Forecasting as 1.\n",
      "Not enough data for product_id: 193c2cb87c6687a9da7f8ec495d19382. Forecasting as 1.\n"
     ]
    },
    {
     "name": "stderr",
     "output_type": "stream",
     "text": [
      "03:20:11 - cmdstanpy - INFO - Chain [1] start processing\n",
      "03:20:15 - cmdstanpy - INFO - Chain [1] done processing\n",
      "03:20:15 - cmdstanpy - INFO - Chain [1] start processing\n",
      "03:20:15 - cmdstanpy - INFO - Chain [1] done processing\n",
      "03:20:16 - cmdstanpy - INFO - Chain [1] start processing\n",
      "03:20:16 - cmdstanpy - INFO - Chain [1] done processing\n",
      "03:20:17 - cmdstanpy - INFO - Chain [1] start processing\n",
      "03:20:18 - cmdstanpy - INFO - Chain [1] done processing\n"
     ]
    },
    {
     "name": "stdout",
     "output_type": "stream",
     "text": [
      "Not enough data for product_id: 1949890685a12526806e9463ba1a3964. Forecasting as 1.\n",
      "Not enough data for product_id: 194dad3cf9aa121860ba80cca80331bb. Forecasting as 1.\n"
     ]
    },
    {
     "name": "stderr",
     "output_type": "stream",
     "text": [
      "03:20:19 - cmdstanpy - INFO - Chain [1] start processing\n",
      "03:20:20 - cmdstanpy - INFO - Chain [1] done processing\n"
     ]
    },
    {
     "name": "stdout",
     "output_type": "stream",
     "text": [
      "Not enough data for product_id: 19501e8fc293f90acb1b233f4c02e1ec. Forecasting as 1.\n",
      "Not enough data for product_id: 19502a282608c5627fb32e22724727fc. Forecasting as 1.\n",
      "Not enough data for product_id: 1953c4e517bc25739bc4223ede2ff5bc. Forecasting as 1.\n",
      "Not enough data for product_id: 1954739d84629e7323a4295812a3e0ec. Forecasting as 1.\n",
      "Not enough data for product_id: 1957efa6b2babcb8552b5f3072108d41. Forecasting as 1.\n",
      "Not enough data for product_id: 1958c78374730139360de98514b9a916. Forecasting as 1.\n"
     ]
    },
    {
     "name": "stderr",
     "output_type": "stream",
     "text": [
      "03:20:22 - cmdstanpy - INFO - Chain [1] start processing\n",
      "03:20:22 - cmdstanpy - INFO - Chain [1] done processing\n"
     ]
    },
    {
     "name": "stdout",
     "output_type": "stream",
     "text": [
      "Not enough data for product_id: 19600534553df3c5578890657d824296. Forecasting as 1.\n",
      "Not enough data for product_id: 1962b83bc322046d6e2c7ec06eeaaae3. Forecasting as 1.\n",
      "Not enough data for product_id: 1963cf66a18eaa163005e27cc39d9793. Forecasting as 1.\n",
      "Not enough data for product_id: 19652da3a9b3cf78255f933ad658ed72. Forecasting as 1.\n"
     ]
    },
    {
     "name": "stderr",
     "output_type": "stream",
     "text": [
      "03:20:25 - cmdstanpy - INFO - Chain [1] start processing\n",
      "03:20:26 - cmdstanpy - INFO - Chain [1] done processing\n",
      "03:20:27 - cmdstanpy - INFO - Chain [1] start processing\n",
      "03:20:27 - cmdstanpy - INFO - Chain [1] done processing\n"
     ]
    },
    {
     "name": "stdout",
     "output_type": "stream",
     "text": [
      "Not enough data for product_id: 1967439d121aa088ab92049dead980f4. Forecasting as 1.\n",
      "Not enough data for product_id: 1967b3c67cc667c147fd88be33ac848d. Forecasting as 1.\n",
      "Not enough data for product_id: 19685f2e45de3c3b733029b54a2c0d9c. Forecasting as 1.\n",
      "Not enough data for product_id: 196908bf446216a714bf739c09522dcd. Forecasting as 1.\n",
      "Not enough data for product_id: 196b3e3000c77b282069397fb84686dc. Forecasting as 1.\n",
      "Not enough data for product_id: 19732aba12eb262beb9140786ec093ce. Forecasting as 1.\n",
      "Not enough data for product_id: 19783777e6d4d97635348cf8d7caedc5. Forecasting as 1.\n"
     ]
    },
    {
     "name": "stderr",
     "output_type": "stream",
     "text": [
      "03:20:32 - cmdstanpy - INFO - Chain [1] start processing\n",
      "03:20:32 - cmdstanpy - INFO - Chain [1] done processing\n",
      "03:20:33 - cmdstanpy - INFO - Chain [1] start processing\n",
      "03:20:33 - cmdstanpy - INFO - Chain [1] done processing\n"
     ]
    },
    {
     "name": "stdout",
     "output_type": "stream",
     "text": [
      "Not enough data for product_id: 198ea0e78807db11ea9ed486b8a0e320. Forecasting as 1.\n",
      "Not enough data for product_id: 198ed1dd26d075dc1e52e1909fc07938. Forecasting as 1.\n",
      "Not enough data for product_id: 198f4a07b346797ac244a9fe3486d17a. Forecasting as 1.\n"
     ]
    },
    {
     "name": "stderr",
     "output_type": "stream",
     "text": [
      "03:20:35 - cmdstanpy - INFO - Chain [1] start processing\n",
      "03:20:36 - cmdstanpy - INFO - Chain [1] done processing\n"
     ]
    },
    {
     "name": "stdout",
     "output_type": "stream",
     "text": [
      "Not enough data for product_id: 1994792a258088f40af8b4f4bd60d6cf. Forecasting as 1.\n",
      "Not enough data for product_id: 19998f21eb0c32c91d5530613a490f41. Forecasting as 1.\n"
     ]
    },
    {
     "name": "stderr",
     "output_type": "stream",
     "text": [
      "03:20:39 - cmdstanpy - INFO - Chain [1] start processing\n",
      "03:20:39 - cmdstanpy - INFO - Chain [1] done processing\n"
     ]
    },
    {
     "name": "stdout",
     "output_type": "stream",
     "text": [
      "Not enough data for product_id: 199edc405b7080eeba36e77ef66d1ea1. Forecasting as 1.\n",
      "Not enough data for product_id: 199f076c011ea5e8b546bff05d4f2477. Forecasting as 1.\n",
      "Not enough data for product_id: 19a0eb757150fef64875b476f86095d9. Forecasting as 1.\n",
      "Not enough data for product_id: 19a20f150018f5e9df17c838f7139435. Forecasting as 1.\n",
      "Not enough data for product_id: 19ae78d7ee992692ef1ef05578b1f156. Forecasting as 1.\n",
      "Not enough data for product_id: 19ae992992da3f4401e014758f5d58dd. Forecasting as 1.\n",
      "Not enough data for product_id: 19ae99a380c31edb46ed9e7dc1e9931c. Forecasting as 1.\n",
      "Not enough data for product_id: 19b273d8fd4a02daae6db415447b4a4a. Forecasting as 1.\n",
      "Not enough data for product_id: 19b29af06176f74d13a42e350b14e2d7. Forecasting as 1.\n",
      "Not enough data for product_id: 19b602119b7d4c2ab21b0fe1b4035c2c. Forecasting as 1.\n"
     ]
    },
    {
     "name": "stderr",
     "output_type": "stream",
     "text": [
      "03:20:44 - cmdstanpy - INFO - Chain [1] start processing\n",
      "03:20:47 - cmdstanpy - INFO - Chain [1] done processing\n"
     ]
    },
    {
     "name": "stdout",
     "output_type": "stream",
     "text": [
      "Not enough data for product_id: 19b75a8a23f10ec7a6af4e4644c4d71a. Forecasting as 1.\n"
     ]
    },
    {
     "name": "stderr",
     "output_type": "stream",
     "text": [
      "03:20:48 - cmdstanpy - INFO - Chain [1] start processing\n",
      "03:20:48 - cmdstanpy - INFO - Chain [1] done processing\n"
     ]
    },
    {
     "name": "stdout",
     "output_type": "stream",
     "text": [
      "Not enough data for product_id: 19bcd4eb05ab42b8bd0976cf94bffd7b. Forecasting as 1.\n",
      "Not enough data for product_id: 19bdfd05824c29bf495c9f5408c26635. Forecasting as 1.\n",
      "Not enough data for product_id: 19c3fb52d07985c61da89d4fb7f66cad. Forecasting as 1.\n",
      "Not enough data for product_id: 19c52e78b5b8f36b9865283bc507be1d. Forecasting as 1.\n"
     ]
    },
    {
     "name": "stderr",
     "output_type": "stream",
     "text": [
      "03:20:50 - cmdstanpy - INFO - Chain [1] start processing\n",
      "03:20:50 - cmdstanpy - INFO - Chain [1] done processing\n"
     ]
    },
    {
     "name": "stdout",
     "output_type": "stream",
     "text": [
      "Not enough data for product_id: 19d0b759f7630539873b280839cddfa4. Forecasting as 1.\n",
      "Not enough data for product_id: 19d1f95608edf8246e8891c90d9b211a. Forecasting as 1.\n",
      "Not enough data for product_id: 19d3bf0c73434c2f0518c526f0b4e5c2. Forecasting as 1.\n",
      "Not enough data for product_id: 19d5a6b80192381ea590dbc018f2db6a. Forecasting as 1.\n",
      "Not enough data for product_id: 19db7ccde0bb9cb62b208b2b3b794927. Forecasting as 1.\n",
      "Not enough data for product_id: 19dcb307b859214c546c3726043e9c2f. Forecasting as 1.\n",
      "Not enough data for product_id: 19dcf909566fad3eb56a49fa80193852. Forecasting as 1.\n",
      "Not enough data for product_id: 19de58ea609a59ce31f93672af50c09a. Forecasting as 1.\n",
      "Not enough data for product_id: 19ee3f358951bb4ffb50cfc4f3780449. Forecasting as 1.\n",
      "Not enough data for product_id: 19f1b5c58fd03aa8c41db25200829903. Forecasting as 1.\n",
      "Not enough data for product_id: 19f2a215792dd5e7cfdffacd9f3d2361. Forecasting as 1.\n",
      "Not enough data for product_id: 19f3b74026e6ec6c83fc25e21baf454e. Forecasting as 1.\n",
      "Not enough data for product_id: 19f78d4a9dd029e7a9115a8e1d5ccd94. Forecasting as 1.\n",
      "Not enough data for product_id: 19fee5d5b066841b45bc3e97832fa654. Forecasting as 1.\n",
      "Not enough data for product_id: 19ff2d1670779cdd13a453274509bc1c. Forecasting as 1.\n",
      "Not enough data for product_id: 1a00358b2af8b1c79f570a0e0ceb2208. Forecasting as 1.\n",
      "Not enough data for product_id: 1a008efb54e4b407c1e6fe472199b7dc. Forecasting as 1.\n"
     ]
    },
    {
     "name": "stderr",
     "output_type": "stream",
     "text": [
      "03:20:58 - cmdstanpy - INFO - Chain [1] start processing\n",
      "03:20:59 - cmdstanpy - INFO - Chain [1] done processing\n"
     ]
    },
    {
     "name": "stdout",
     "output_type": "stream",
     "text": [
      "Not enough data for product_id: 1a079ba5d672d64c3bdae859c45d8e67. Forecasting as 1.\n"
     ]
    },
    {
     "name": "stderr",
     "output_type": "stream",
     "text": [
      "03:21:00 - cmdstanpy - INFO - Chain [1] start processing\n",
      "03:21:01 - cmdstanpy - INFO - Chain [1] done processing\n"
     ]
    },
    {
     "name": "stdout",
     "output_type": "stream",
     "text": [
      "Not enough data for product_id: 1a0910c102a7df46a8d1ffe68b2c3d2e. Forecasting as 1.\n"
     ]
    },
    {
     "name": "stderr",
     "output_type": "stream",
     "text": [
      "03:21:01 - cmdstanpy - INFO - Chain [1] start processing\n",
      "03:21:01 - cmdstanpy - INFO - Chain [1] done processing\n"
     ]
    },
    {
     "name": "stdout",
     "output_type": "stream",
     "text": [
      "Not enough data for product_id: 1a09c4a332f5df9d0b846c482e93cc3d. Forecasting as 1.\n"
     ]
    },
    {
     "name": "stderr",
     "output_type": "stream",
     "text": [
      "03:21:02 - cmdstanpy - INFO - Chain [1] start processing\n",
      "03:21:02 - cmdstanpy - INFO - Chain [1] done processing\n"
     ]
    },
    {
     "name": "stdout",
     "output_type": "stream",
     "text": [
      "Not enough data for product_id: 1a0d662b65b5ef08796501b064c853af. Forecasting as 1.\n",
      "Not enough data for product_id: 1a0e5291bbd852f9da3a61379feaf37d. Forecasting as 1.\n",
      "Not enough data for product_id: 1a0ef485e35802dd1d23ab5446cac458. Forecasting as 1.\n",
      "Not enough data for product_id: 1a0f5bca5c36a68073930270bb47e314. Forecasting as 1.\n",
      "Not enough data for product_id: 1a131431da4dce6844b08bf2d6f4d2f3. Forecasting as 1.\n",
      "Not enough data for product_id: 1a14237ecc2fe3772b55c8d4e11ccb35. Forecasting as 1.\n",
      "Not enough data for product_id: 1a1d458cb32036ef1bfdc7896e3a63ce. Forecasting as 1.\n",
      "Not enough data for product_id: 1a20dc4f6c828ec4836526c671154282. Forecasting as 1.\n",
      "Not enough data for product_id: 1a20fafcc7f7eba192f047da438a0bb4. Forecasting as 1.\n",
      "Not enough data for product_id: 1a264b7839c199ba4df21d5284492650. Forecasting as 1.\n",
      "Not enough data for product_id: 1a26d40bdbef9cbc3e56226cb622f65e. Forecasting as 1.\n",
      "Not enough data for product_id: 1a28b6d0eb91221f9b752c533f9e0182. Forecasting as 1.\n",
      "Not enough data for product_id: 1a2a204d5ef11c75f78d34ab0456c9ed. Forecasting as 1.\n",
      "Not enough data for product_id: 1a2b5336765f0c7dd01d380a83a81cec. Forecasting as 1.\n",
      "Not enough data for product_id: 1a2c16ff559425a46f2eba773fceb91d. Forecasting as 1.\n",
      "Not enough data for product_id: 1a2d84c11fbc7b3d7c0a10206c085ce5. Forecasting as 1.\n",
      "Not enough data for product_id: 1a2df11a11c62daea6c15fbd3ccf2917. Forecasting as 1.\n",
      "Not enough data for product_id: 1a2ece70966710dec441aa587993b5b4. Forecasting as 1.\n"
     ]
    },
    {
     "name": "stderr",
     "output_type": "stream",
     "text": [
      "03:21:11 - cmdstanpy - INFO - Chain [1] start processing\n",
      "03:21:11 - cmdstanpy - INFO - Chain [1] done processing\n",
      "03:21:11 - cmdstanpy - INFO - Chain [1] start processing\n",
      "03:21:11 - cmdstanpy - INFO - Chain [1] done processing\n"
     ]
    },
    {
     "name": "stdout",
     "output_type": "stream",
     "text": [
      "Not enough data for product_id: 1a366f773e013eb49126f79154b769d0. Forecasting as 1.\n",
      "Not enough data for product_id: 1a37e4949edc3f7d9b77a37fb84f4697. Forecasting as 1.\n",
      "Not enough data for product_id: 1a37e7d1d8e98b3d70e6eb7d5deee99c. Forecasting as 1.\n",
      "Not enough data for product_id: 1a3c44587dd8d3db5f2447078bc50d75. Forecasting as 1.\n",
      "Not enough data for product_id: 1a3ed2c0aa5c7beccd817b6b71282e99. Forecasting as 1.\n",
      "Not enough data for product_id: 1a3f8351b158ae2a59427830a660eb0a. Forecasting as 1.\n"
     ]
    },
    {
     "name": "stderr",
     "output_type": "stream",
     "text": [
      "03:21:14 - cmdstanpy - INFO - Chain [1] start processing\n",
      "03:21:14 - cmdstanpy - INFO - Chain [1] done processing\n",
      "03:21:16 - cmdstanpy - INFO - Chain [1] start processing\n",
      "03:21:16 - cmdstanpy - INFO - Chain [1] done processing\n"
     ]
    },
    {
     "name": "stdout",
     "output_type": "stream",
     "text": [
      "Not enough data for product_id: 1a42ea14c75ffc04ad584513567457dc. Forecasting as 1.\n",
      "Not enough data for product_id: 1a4313cc3541860e69057b96e097d419. Forecasting as 1.\n",
      "Not enough data for product_id: 1a432f73243abc5629393e03b5540da9. Forecasting as 1.\n"
     ]
    },
    {
     "name": "stderr",
     "output_type": "stream",
     "text": [
      "03:21:17 - cmdstanpy - INFO - Chain [1] start processing\n",
      "03:21:17 - cmdstanpy - INFO - Chain [1] done processing\n"
     ]
    },
    {
     "name": "stdout",
     "output_type": "stream",
     "text": [
      "Not enough data for product_id: 1a44ee797acd13dc4585b03de4f8e112. Forecasting as 1.\n",
      "Not enough data for product_id: 1a4949c8e8e15e002d012272e49817ea. Forecasting as 1.\n"
     ]
    },
    {
     "name": "stderr",
     "output_type": "stream",
     "text": [
      "03:21:19 - cmdstanpy - INFO - Chain [1] start processing\n",
      "03:21:19 - cmdstanpy - INFO - Chain [1] done processing\n"
     ]
    },
    {
     "name": "stdout",
     "output_type": "stream",
     "text": [
      "Not enough data for product_id: 1a500c1549fa82451817be3577b4c49a. Forecasting as 1.\n",
      "Not enough data for product_id: 1a57fd59f51629d5eefcc5737fa74bad. Forecasting as 1.\n",
      "Not enough data for product_id: 1a596515dcbe1a261f8dc0640ccb5149. Forecasting as 1.\n",
      "Not enough data for product_id: 1a613b1a2e7f278c6343b763fd880186. Forecasting as 1.\n",
      "Not enough data for product_id: 1a640115fd96b578625ee5e51e55877e. Forecasting as 1.\n",
      "Not enough data for product_id: 1a64be9825a124a4b43d1e19bac03a44. Forecasting as 1.\n",
      "Not enough data for product_id: 1a657b37e6e9a1ad8dfc98c1820a3fef. Forecasting as 1.\n",
      "Not enough data for product_id: 1a658140e2f572e10461d6f7b4513a89. Forecasting as 1.\n",
      "Not enough data for product_id: 1a6706786a1ae8f9e6e4e36a3bed68ed. Forecasting as 1.\n",
      "Not enough data for product_id: 1a6bdef0156314f8f852fe58564a31cb. Forecasting as 1.\n",
      "Not enough data for product_id: 1a6c4373641dbeaf6f12af2427da7719. Forecasting as 1.\n"
     ]
    },
    {
     "name": "stderr",
     "output_type": "stream",
     "text": [
      "03:21:24 - cmdstanpy - INFO - Chain [1] start processing\n",
      "03:21:24 - cmdstanpy - INFO - Chain [1] done processing\n"
     ]
    },
    {
     "name": "stdout",
     "output_type": "stream",
     "text": [
      "Not enough data for product_id: 1a6e1fb52f5f47e7b18578907d10174c. Forecasting as 1.\n",
      "Not enough data for product_id: 1a6f6c1a25598378fea659d719fcdc5c. Forecasting as 1.\n",
      "Not enough data for product_id: 1a70473adb9873f9068e80f2fcb78824. Forecasting as 1.\n",
      "Not enough data for product_id: 1a71a941d0691bd3d15ee51d5fb3b11b. Forecasting as 1.\n",
      "Not enough data for product_id: 1a73ae8aa2b02829f07c8d5ec7bbd659. Forecasting as 1.\n"
     ]
    },
    {
     "name": "stderr",
     "output_type": "stream",
     "text": [
      "03:21:27 - cmdstanpy - INFO - Chain [1] start processing\n",
      "03:21:27 - cmdstanpy - INFO - Chain [1] done processing\n"
     ]
    },
    {
     "name": "stdout",
     "output_type": "stream",
     "text": [
      "Not enough data for product_id: 1a77eed8713a452e3cbcb548cccdb96a. Forecasting as 1.\n",
      "Not enough data for product_id: 1a7864db936b730688248bda816f1ce2. Forecasting as 1.\n",
      "Not enough data for product_id: 1a796d2b0c1498dead0d8102ee8ca9c4. Forecasting as 1.\n",
      "Not enough data for product_id: 1a7e98c48e146130016fab89a43c00da. Forecasting as 1.\n",
      "Not enough data for product_id: 1a863cc45960ea60fa0aaeedce00c28f. Forecasting as 1.\n",
      "Not enough data for product_id: 1a8727b2a106ac22bb93db98d9d56bd0. Forecasting as 1.\n",
      "Not enough data for product_id: 1a8aea590bd168ec134d9f19ae6d78ee. Forecasting as 1.\n",
      "Not enough data for product_id: 1a8ffdee10d64528eb046117521d3953. Forecasting as 1.\n"
     ]
    },
    {
     "name": "stderr",
     "output_type": "stream",
     "text": [
      "03:21:31 - cmdstanpy - INFO - Chain [1] start processing\n",
      "03:21:34 - cmdstanpy - INFO - Chain [1] done processing\n"
     ]
    },
    {
     "name": "stdout",
     "output_type": "stream",
     "text": [
      "Not enough data for product_id: 1a90af24f474949bdc928a39b627fd57. Forecasting as 1.\n",
      "Not enough data for product_id: 1a9336bcfd7544237cf44cf3de1f5530. Forecasting as 1.\n"
     ]
    },
    {
     "name": "stderr",
     "output_type": "stream",
     "text": [
      "03:21:34 - cmdstanpy - INFO - Chain [1] start processing\n",
      "03:21:35 - cmdstanpy - INFO - Chain [1] done processing\n"
     ]
    },
    {
     "name": "stdout",
     "output_type": "stream",
     "text": [
      "Not enough data for product_id: 1a986b4015f20a3c26d8573a46dcf65e. Forecasting as 1.\n",
      "Not enough data for product_id: 1a9d5623d718be92f3d696bfd261bb4f. Forecasting as 1.\n",
      "Not enough data for product_id: 1aa14227ddc4559e09c497298bf618dc. Forecasting as 1.\n",
      "Not enough data for product_id: 1aa290cdf7d94d625562f35575218444. Forecasting as 1.\n"
     ]
    },
    {
     "name": "stderr",
     "output_type": "stream",
     "text": [
      "03:21:37 - cmdstanpy - INFO - Chain [1] start processing\n",
      "03:21:37 - cmdstanpy - INFO - Chain [1] done processing\n"
     ]
    },
    {
     "name": "stdout",
     "output_type": "stream",
     "text": [
      "Not enough data for product_id: 1aa464d8b37fad27aa67da15cb76d312. Forecasting as 1.\n",
      "Not enough data for product_id: 1aa5ffb5e73a8635a5d4619a96d012fe. Forecasting as 1.\n",
      "Not enough data for product_id: 1aa7397df05b60bd4c46fb61543b2ddf. Forecasting as 1.\n",
      "Not enough data for product_id: 1aaa4a6171009c44a3d494048d9751f5. Forecasting as 1.\n",
      "Not enough data for product_id: 1aaf6070d787633a51243dcd6efa127b. Forecasting as 1.\n",
      "Not enough data for product_id: 1aafc94a341ff202817c81cd5e66e522. Forecasting as 1.\n",
      "Not enough data for product_id: 1ab21d1c80e214bc2cedfcb7a5ade550. Forecasting as 1.\n",
      "Not enough data for product_id: 1ab21e6620cb6346784529bff0a0c43b. Forecasting as 1.\n",
      "Not enough data for product_id: 1ab751509d2021cb7a5137f1fc99b488. Forecasting as 1.\n",
      "Not enough data for product_id: 1ab9dfe894998cf8d80b24faa69b3c5b. Forecasting as 1.\n",
      "Not enough data for product_id: 1aba5f6d342892bef219db99ae29f029. Forecasting as 1.\n",
      "Not enough data for product_id: 1abacc695f40d21534ff1c657daed7c4. Forecasting as 1.\n",
      "Not enough data for product_id: 1abcb3cdf79a4b094862b63c4e085a45. Forecasting as 1.\n"
     ]
    },
    {
     "name": "stderr",
     "output_type": "stream",
     "text": [
      "03:21:43 - cmdstanpy - INFO - Chain [1] start processing\n",
      "03:21:44 - cmdstanpy - INFO - Chain [1] done processing\n",
      "03:21:44 - cmdstanpy - INFO - Chain [1] start processing\n",
      "03:21:45 - cmdstanpy - INFO - Chain [1] done processing\n"
     ]
    },
    {
     "name": "stdout",
     "output_type": "stream",
     "text": [
      "Not enough data for product_id: 1ac5b02a81e28c27713b7229144a773e. Forecasting as 1.\n"
     ]
    },
    {
     "name": "stderr",
     "output_type": "stream",
     "text": [
      "03:21:46 - cmdstanpy - INFO - Chain [1] start processing\n",
      "03:21:46 - cmdstanpy - INFO - Chain [1] done processing\n"
     ]
    },
    {
     "name": "stdout",
     "output_type": "stream",
     "text": [
      "Not enough data for product_id: 1ad0ffef7f056377c170d00b07f20cce. Forecasting as 1.\n",
      "Not enough data for product_id: 1ad107de20364138356e19ab81369f04. Forecasting as 1.\n",
      "Not enough data for product_id: 1ad110eaab5105bf841dc2b8985190e5. Forecasting as 1.\n",
      "Not enough data for product_id: 1ad9044807206037c43c93a5d891e016. Forecasting as 1.\n",
      "Not enough data for product_id: 1adcf68b3225c66329bed63fc288933f. Forecasting as 1.\n",
      "Not enough data for product_id: 1addcc38627084ba4a99fe3efca1c65b. Forecasting as 1.\n"
     ]
    },
    {
     "name": "stderr",
     "output_type": "stream",
     "text": [
      "03:21:49 - cmdstanpy - INFO - Chain [1] start processing\n",
      "03:21:49 - cmdstanpy - INFO - Chain [1] done processing\n"
     ]
    },
    {
     "name": "stdout",
     "output_type": "stream",
     "text": [
      "Not enough data for product_id: 1ae2f20ff728b72bc2d6359978de7328. Forecasting as 1.\n",
      "Not enough data for product_id: 1ae80eade3400d1468bf84ce7bd6b479. Forecasting as 1.\n",
      "Not enough data for product_id: 1aecdb5fa3add74e385f25c6c527a462. Forecasting as 1.\n",
      "Not enough data for product_id: 1b01cabd433131aec917576c347f0dbd. Forecasting as 1.\n",
      "Not enough data for product_id: 1b06001e6b541c7e43a5a0339129a3ea. Forecasting as 1.\n",
      "Not enough data for product_id: 1b0991f5c6be6a8de9ad8e1027ff67d7. Forecasting as 1.\n"
     ]
    },
    {
     "name": "stderr",
     "output_type": "stream",
     "text": [
      "03:21:54 - cmdstanpy - INFO - Chain [1] start processing\n",
      "03:21:54 - cmdstanpy - INFO - Chain [1] done processing\n"
     ]
    },
    {
     "name": "stdout",
     "output_type": "stream",
     "text": [
      "Not enough data for product_id: 1b0e9a414e59a00b13262ffb248ed9b4. Forecasting as 1.\n"
     ]
    },
    {
     "name": "stderr",
     "output_type": "stream",
     "text": [
      "03:21:55 - cmdstanpy - INFO - Chain [1] start processing\n",
      "03:21:55 - cmdstanpy - INFO - Chain [1] done processing\n"
     ]
    },
    {
     "name": "stdout",
     "output_type": "stream",
     "text": [
      "Not enough data for product_id: 1b125123580a802629427ebd924ff335. Forecasting as 1.\n",
      "Not enough data for product_id: 1b1654fea0a8269f9ba9a1e1258edb61. Forecasting as 1.\n",
      "Not enough data for product_id: 1b19ee9eb239b84740e55e194e3cbd5c. Forecasting as 1.\n",
      "Not enough data for product_id: 1b1c78225aa5601414a8c09020ee1803. Forecasting as 1.\n"
     ]
    },
    {
     "name": "stderr",
     "output_type": "stream",
     "text": [
      "03:21:58 - cmdstanpy - INFO - Chain [1] start processing\n",
      "03:22:01 - cmdstanpy - INFO - Chain [1] done processing\n"
     ]
    },
    {
     "name": "stdout",
     "output_type": "stream",
     "text": [
      "Not enough data for product_id: 1b1e7f96bdba2a29b52f73065b193c26. Forecasting as 1.\n"
     ]
    },
    {
     "name": "stderr",
     "output_type": "stream",
     "text": [
      "03:22:01 - cmdstanpy - INFO - Chain [1] start processing\n",
      "03:22:02 - cmdstanpy - INFO - Chain [1] done processing\n",
      "03:22:02 - cmdstanpy - INFO - Chain [1] start processing\n",
      "03:22:03 - cmdstanpy - INFO - Chain [1] done processing\n"
     ]
    },
    {
     "name": "stdout",
     "output_type": "stream",
     "text": [
      "Not enough data for product_id: 1b2a140e2ec204144f52c2d74eafbd98. Forecasting as 1.\n",
      "Not enough data for product_id: 1b333b69df54cf5028055bae1912aaa7. Forecasting as 1.\n",
      "Not enough data for product_id: 1b34988d6060d833cbe3bf2bdeeb67ab. Forecasting as 1.\n",
      "Not enough data for product_id: 1b3634881407099b50ee5bca1026ef25. Forecasting as 1.\n",
      "Not enough data for product_id: 1b37b3107916db24fcb0ea0f9c024bd3. Forecasting as 1.\n",
      "Not enough data for product_id: 1b405b8c885afa80810433526fc2c5ec. Forecasting as 1.\n",
      "Not enough data for product_id: 1b42d5d23103d5b706f8107ce7549920. Forecasting as 1.\n"
     ]
    },
    {
     "name": "stderr",
     "output_type": "stream",
     "text": [
      "03:22:09 - cmdstanpy - INFO - Chain [1] start processing\n",
      "03:22:09 - cmdstanpy - INFO - Chain [1] done processing\n"
     ]
    },
    {
     "name": "stdout",
     "output_type": "stream",
     "text": [
      "Not enough data for product_id: 1b46816aa838ce9ae97feda7b2f51f26. Forecasting as 1.\n"
     ]
    },
    {
     "name": "stderr",
     "output_type": "stream",
     "text": [
      "03:22:10 - cmdstanpy - INFO - Chain [1] start processing\n",
      "03:22:10 - cmdstanpy - INFO - Chain [1] done processing\n"
     ]
    },
    {
     "name": "stdout",
     "output_type": "stream",
     "text": [
      "Not enough data for product_id: 1b491493d9b95d9378103b4503948efe. Forecasting as 1.\n",
      "Not enough data for product_id: 1b4a4a283a036d1473ff5be2a0d493a2. Forecasting as 1.\n",
      "Not enough data for product_id: 1b508f9b0efb50617933ab0dda7a9ed6. Forecasting as 1.\n",
      "Not enough data for product_id: 1b5517643ad053313be97cde689fa031. Forecasting as 1.\n",
      "Not enough data for product_id: 1b55611367793363c3aa1c9d888be7ed. Forecasting as 1.\n",
      "Not enough data for product_id: 1b58ea6b563c9841db97e6923d18cc69. Forecasting as 1.\n",
      "Not enough data for product_id: 1b5978db99f7114b364fa0a0123eda05. Forecasting as 1.\n",
      "Not enough data for product_id: 1b5ac751c245c52ded56f9fd1f17590c. Forecasting as 1.\n"
     ]
    },
    {
     "name": "stderr",
     "output_type": "stream",
     "text": [
      "03:22:15 - cmdstanpy - INFO - Chain [1] start processing\n",
      "03:22:15 - cmdstanpy - INFO - Chain [1] done processing\n"
     ]
    },
    {
     "name": "stdout",
     "output_type": "stream",
     "text": [
      "Not enough data for product_id: 1b5da3da62c9390a62e96e29cca9e734. Forecasting as 1.\n"
     ]
    },
    {
     "name": "stderr",
     "output_type": "stream",
     "text": [
      "03:22:16 - cmdstanpy - INFO - Chain [1] start processing\n",
      "03:22:16 - cmdstanpy - INFO - Chain [1] done processing\n"
     ]
    },
    {
     "name": "stdout",
     "output_type": "stream",
     "text": [
      "Not enough data for product_id: 1b64e3f229ea80e2b453b120cebcc448. Forecasting as 1.\n",
      "Not enough data for product_id: 1b661808a8b3a3ec213271d42b4ce015. Forecasting as 1.\n",
      "Not enough data for product_id: 1b6cecc37e5cf78922520ccb14860e63. Forecasting as 1.\n",
      "Not enough data for product_id: 1b6e2795daa2ca887a0310b0a79000e4. Forecasting as 1.\n",
      "Not enough data for product_id: 1b708fb3dcbea0831e21f2fb98d0acfe. Forecasting as 1.\n",
      "Not enough data for product_id: 1b717631654816892a7b2ef8b7c7c3c4. Forecasting as 1.\n",
      "Not enough data for product_id: 1b726b3b028ce5af355fc94c066520d7. Forecasting as 1.\n"
     ]
    },
    {
     "name": "stderr",
     "output_type": "stream",
     "text": [
      "03:22:19 - cmdstanpy - INFO - Chain [1] start processing\n",
      "03:22:19 - cmdstanpy - INFO - Chain [1] done processing\n"
     ]
    },
    {
     "name": "stdout",
     "output_type": "stream",
     "text": [
      "Not enough data for product_id: 1b770da1c339c216e545d69ee2965da1. Forecasting as 1.\n",
      "Not enough data for product_id: 1b77984541459de3090398065e4c6844. Forecasting as 1.\n"
     ]
    },
    {
     "name": "stderr",
     "output_type": "stream",
     "text": [
      "03:22:21 - cmdstanpy - INFO - Chain [1] start processing\n",
      "03:22:21 - cmdstanpy - INFO - Chain [1] done processing\n",
      "03:22:22 - cmdstanpy - INFO - Chain [1] start processing\n",
      "03:22:22 - cmdstanpy - INFO - Chain [1] done processing\n"
     ]
    },
    {
     "name": "stdout",
     "output_type": "stream",
     "text": [
      "Not enough data for product_id: 1b7e8de633927dc83ae6d84f54f9cc1e. Forecasting as 1.\n",
      "Not enough data for product_id: 1b80b0a1f4aad5d1a1cff676b76e9eec. Forecasting as 1.\n",
      "Not enough data for product_id: 1b81160192e096f4cbcf518ffa830df0. Forecasting as 1.\n",
      "Not enough data for product_id: 1b81b117d19f1f282c2818484e52211e. Forecasting as 1.\n",
      "Not enough data for product_id: 1b81b1c311837fade3c68f1f191a15b8. Forecasting as 1.\n",
      "Not enough data for product_id: 1b820caf50df248cf5ef1642359a1812. Forecasting as 1.\n",
      "Not enough data for product_id: 1b88c133317c3f2b8c53b6048f2dc8b6. Forecasting as 1.\n"
     ]
    },
    {
     "name": "stderr",
     "output_type": "stream",
     "text": [
      "03:22:26 - cmdstanpy - INFO - Chain [1] start processing\n",
      "03:22:26 - cmdstanpy - INFO - Chain [1] done processing\n"
     ]
    },
    {
     "name": "stdout",
     "output_type": "stream",
     "text": [
      "Not enough data for product_id: 1b8fb2ae90018c533840a8085ca9ad6b. Forecasting as 1.\n",
      "Not enough data for product_id: 1b90b42c262feb78e84da470dd0ed547. Forecasting as 1.\n"
     ]
    },
    {
     "name": "stderr",
     "output_type": "stream",
     "text": [
      "03:22:28 - cmdstanpy - INFO - Chain [1] start processing\n",
      "03:22:31 - cmdstanpy - INFO - Chain [1] done processing\n"
     ]
    },
    {
     "name": "stdout",
     "output_type": "stream",
     "text": [
      "Not enough data for product_id: 1b92f53b1a02ed873cc9edad59d2031b. Forecasting as 1.\n",
      "Not enough data for product_id: 1b930f20f389f3e3d057b9e3e85ca83d. Forecasting as 1.\n",
      "Not enough data for product_id: 1b93af229a5768eaaed2064722b1c1dc. Forecasting as 1.\n",
      "Not enough data for product_id: 1b97621fc0e6ac58cfb272d5ccf8c15b. Forecasting as 1.\n",
      "Not enough data for product_id: 1b981d76f4ec023c49b13412f503f1c2. Forecasting as 1.\n",
      "Not enough data for product_id: 1b9b88f6c9d3025e9d3e581758e1e807. Forecasting as 1.\n",
      "Not enough data for product_id: 1b9eb27d35b89e35c8b32fa9902cdba9. Forecasting as 1.\n",
      "Not enough data for product_id: 1b9f1774447f0b4aef58c96227324048. Forecasting as 1.\n",
      "Not enough data for product_id: 1b9fd1e2ba8bf3e4249ee0c838893e4e. Forecasting as 1.\n",
      "Not enough data for product_id: 1ba045cf3a974c9b36bd1f6f0383ac8d. Forecasting as 1.\n",
      "Not enough data for product_id: 1ba0e7ce15d3e3e8ec7b8bf976a76b97. Forecasting as 1.\n"
     ]
    },
    {
     "name": "stderr",
     "output_type": "stream",
     "text": [
      "03:22:37 - cmdstanpy - INFO - Chain [1] start processing\n",
      "03:22:37 - cmdstanpy - INFO - Chain [1] done processing\n"
     ]
    },
    {
     "name": "stdout",
     "output_type": "stream",
     "text": [
      "Not enough data for product_id: 1ba7948f3aa31cdaf78a4885f3c5385a. Forecasting as 1.\n",
      "Not enough data for product_id: 1ba7af3234371545d85021375fbe3739. Forecasting as 1.\n",
      "Not enough data for product_id: 1bab2e484686f57566de99a627223576. Forecasting as 1.\n",
      "Not enough data for product_id: 1bad1f17e229af04d11a788ed2b3553f. Forecasting as 1.\n"
     ]
    },
    {
     "name": "stderr",
     "output_type": "stream",
     "text": [
      "03:22:39 - cmdstanpy - INFO - Chain [1] start processing\n",
      "03:22:39 - cmdstanpy - INFO - Chain [1] done processing\n"
     ]
    },
    {
     "name": "stdout",
     "output_type": "stream",
     "text": [
      "Not enough data for product_id: 1bb451598371a55d8d19057f39929ec8. Forecasting as 1.\n",
      "Not enough data for product_id: 1bbab10ac1cf79799f5c997e4817c46a. Forecasting as 1.\n",
      "Not enough data for product_id: 1bbb8e929009e827868035f4fa7a5884. Forecasting as 1.\n"
     ]
    },
    {
     "name": "stderr",
     "output_type": "stream",
     "text": [
      "03:22:40 - cmdstanpy - INFO - Chain [1] start processing\n",
      "03:22:40 - cmdstanpy - INFO - Chain [1] done processing\n"
     ]
    },
    {
     "name": "stdout",
     "output_type": "stream",
     "text": [
      "Not enough data for product_id: 1bc01b1481a6f018de8711ef213d7bb9. Forecasting as 1.\n",
      "Not enough data for product_id: 1bc1199ed7fbe6f13ea973952868b93e. Forecasting as 1.\n",
      "Not enough data for product_id: 1bc5770761d1aaac6f2c831ac8f59708. Forecasting as 1.\n",
      "Not enough data for product_id: 1bc727ecf620b4b524541bf5b60e3314. Forecasting as 1.\n",
      "Not enough data for product_id: 1bc861b90a53405f92c18482e45e897c. Forecasting as 1.\n"
     ]
    },
    {
     "name": "stderr",
     "output_type": "stream",
     "text": [
      "03:22:42 - cmdstanpy - INFO - Chain [1] start processing\n",
      "03:22:42 - cmdstanpy - INFO - Chain [1] done processing\n"
     ]
    },
    {
     "name": "stdout",
     "output_type": "stream",
     "text": [
      "Not enough data for product_id: 1bcb8c6da1776e8ce06e459213adec74. Forecasting as 1.\n",
      "Not enough data for product_id: 1bcdbe14eef2fb18157a8bb2d05b5605. Forecasting as 1.\n",
      "Not enough data for product_id: 1bce8df66884f0841be155ae1f645d46. Forecasting as 1.\n",
      "Not enough data for product_id: 1bd0e965122ea1485d8f7f0c6792ebe0. Forecasting as 1.\n",
      "Not enough data for product_id: 1bdf131c83d68a290b1abe6b43f3c324. Forecasting as 1.\n",
      "Not enough data for product_id: 1bdf5e6731585cf01aa8169c7028d6ad. Forecasting as 1.\n"
     ]
    },
    {
     "name": "stderr",
     "output_type": "stream",
     "text": [
      "03:22:45 - cmdstanpy - INFO - Chain [1] start processing\n",
      "03:22:46 - cmdstanpy - INFO - Chain [1] done processing\n"
     ]
    },
    {
     "name": "stdout",
     "output_type": "stream",
     "text": [
      "Not enough data for product_id: 1be077a2d74abc6941e3fe47906df83c. Forecasting as 1.\n",
      "Not enough data for product_id: 1be380bc1811ed4d29daba3508f6f6fa. Forecasting as 1.\n",
      "Not enough data for product_id: 1be6d38ae75d87f6ee74e1d8e7e5466d. Forecasting as 1.\n",
      "Not enough data for product_id: 1befaea8015cdb5fc2890a23ddf60cc0. Forecasting as 1.\n"
     ]
    },
    {
     "name": "stderr",
     "output_type": "stream",
     "text": [
      "03:22:49 - cmdstanpy - INFO - Chain [1] start processing\n",
      "03:22:49 - cmdstanpy - INFO - Chain [1] done processing\n"
     ]
    },
    {
     "name": "stdout",
     "output_type": "stream",
     "text": [
      "Not enough data for product_id: 1bfe10e822dedba7190af59828c822d7. Forecasting as 1.\n",
      "Not enough data for product_id: 1c00873a774421d2eeec30c80eb15676. Forecasting as 1.\n",
      "Not enough data for product_id: 1c059cb9cda165ab22821d43860ca347. Forecasting as 1.\n",
      "Not enough data for product_id: 1c080978925cd796eb3f7bace4ef4239. Forecasting as 1.\n",
      "Not enough data for product_id: 1c0b635cee597371e54d222a1d8e0386. Forecasting as 1.\n",
      "Not enough data for product_id: 1c0c0093a48f13ba70d0c6b0a9157cb7. Forecasting as 1.\n",
      "Not enough data for product_id: 1c155a30fb1a2c828c9064cdcb7d2993. Forecasting as 1.\n",
      "Not enough data for product_id: 1c185f17bc0cdfba85b49cc9724b1ce4. Forecasting as 1.\n",
      "Not enough data for product_id: 1c19fc5db55cbd645b6021cd2841bdb4. Forecasting as 1.\n",
      "Not enough data for product_id: 1c1baeabe25824c8c22b511643852906. Forecasting as 1.\n",
      "Not enough data for product_id: 1c21c11ea2efbcaa7ee31c3191300a58. Forecasting as 1.\n",
      "Not enough data for product_id: 1c22fe6866020a6484b6087d20e23516. Forecasting as 1.\n",
      "Not enough data for product_id: 1c2343e8f516d16e590d499476a026f3. Forecasting as 1.\n"
     ]
    },
    {
     "name": "stderr",
     "output_type": "stream",
     "text": [
      "03:22:56 - cmdstanpy - INFO - Chain [1] start processing\n",
      "03:22:58 - cmdstanpy - INFO - Chain [1] done processing\n"
     ]
    },
    {
     "name": "stdout",
     "output_type": "stream",
     "text": [
      "Not enough data for product_id: 1c29e0998c641090dccdd718d8d2ce61. Forecasting as 1.\n",
      "Not enough data for product_id: 1c30d57d1e1e0184594217845937b8e0. Forecasting as 1.\n",
      "Not enough data for product_id: 1c3872bb3c0bc580a0f1cd3f1cc869c5. Forecasting as 1.\n",
      "Not enough data for product_id: 1c38f26a1dba8b5325c3b434679bfea2. Forecasting as 1.\n",
      "Not enough data for product_id: 1c3fea589b8776930c3d5654c472ddb6. Forecasting as 1.\n"
     ]
    },
    {
     "name": "stderr",
     "output_type": "stream",
     "text": [
      "03:23:01 - cmdstanpy - INFO - Chain [1] start processing\n",
      "03:23:03 - cmdstanpy - INFO - Chain [1] done processing\n",
      "03:23:04 - cmdstanpy - INFO - Chain [1] start processing\n",
      "03:23:04 - cmdstanpy - INFO - Chain [1] done processing\n"
     ]
    },
    {
     "name": "stdout",
     "output_type": "stream",
     "text": [
      "Not enough data for product_id: 1c45430f3f3063bdb54d28e87824ed34. Forecasting as 1.\n",
      "Not enough data for product_id: 1c45b3b234c28efa6e4f99e7af930030. Forecasting as 1.\n",
      "Not enough data for product_id: 1c4b558889819d00efc1ec52e76bc450. Forecasting as 1.\n",
      "Not enough data for product_id: 1c510e7a53ea02ee8cb8e8d42274ff83. Forecasting as 1.\n",
      "Not enough data for product_id: 1c5507038caa58651b5f07b729f97774. Forecasting as 1.\n"
     ]
    },
    {
     "name": "stderr",
     "output_type": "stream",
     "text": [
      "03:23:07 - cmdstanpy - INFO - Chain [1] start processing\n",
      "03:23:07 - cmdstanpy - INFO - Chain [1] done processing\n",
      "03:23:08 - cmdstanpy - INFO - Chain [1] start processing\n",
      "03:23:08 - cmdstanpy - INFO - Chain [1] done processing\n"
     ]
    },
    {
     "name": "stdout",
     "output_type": "stream",
     "text": [
      "Not enough data for product_id: 1c590de8370cd15e869999037e92fea2. Forecasting as 1.\n",
      "Not enough data for product_id: 1c5b879ad722644d2f3fb52553ced17a. Forecasting as 1.\n",
      "Not enough data for product_id: 1c5cd477820c6046039178150f6f8916. Forecasting as 1.\n",
      "Not enough data for product_id: 1c636ce22ef8c85c26936781e313be5d. Forecasting as 1.\n"
     ]
    },
    {
     "name": "stderr",
     "output_type": "stream",
     "text": [
      "03:23:11 - cmdstanpy - INFO - Chain [1] start processing\n",
      "03:23:11 - cmdstanpy - INFO - Chain [1] done processing\n"
     ]
    },
    {
     "name": "stdout",
     "output_type": "stream",
     "text": [
      "Not enough data for product_id: 1c6771d60124b84ada98e8f67ba111db. Forecasting as 1.\n",
      "Not enough data for product_id: 1c67a5b38f02f622f19229fac2a07c33. Forecasting as 1.\n",
      "Not enough data for product_id: 1c687f9714b91f95caf2727cf84e5be3. Forecasting as 1.\n",
      "Not enough data for product_id: 1c6a5fd4bf0e4196dc0a20386c496bd3. Forecasting as 1.\n",
      "Not enough data for product_id: 1c6b0760060e08631997f228e1d07a78. Forecasting as 1.\n",
      "Not enough data for product_id: 1c6b8ed36259a0971b3fd58692b60f9c. Forecasting as 1.\n"
     ]
    },
    {
     "name": "stderr",
     "output_type": "stream",
     "text": [
      "03:23:14 - cmdstanpy - INFO - Chain [1] start processing\n",
      "03:23:14 - cmdstanpy - INFO - Chain [1] done processing\n"
     ]
    },
    {
     "name": "stdout",
     "output_type": "stream",
     "text": [
      "Not enough data for product_id: 1c6cf85f4af5c2787a812d273b836c01. Forecasting as 1.\n",
      "Not enough data for product_id: 1c6e92bf485313aa98f50dbfd2586f95. Forecasting as 1.\n",
      "Not enough data for product_id: 1c751473f73f132c769bdc74c4e90523. Forecasting as 1.\n",
      "Not enough data for product_id: 1c756cc8c5e3b4a2fcf83d1690f8084d. Forecasting as 1.\n",
      "Not enough data for product_id: 1c7bf92052619cc8b84907741fd0cedb. Forecasting as 1.\n",
      "Not enough data for product_id: 1c8068ff974de37eac2c0c8ce23f4ef0. Forecasting as 1.\n",
      "Not enough data for product_id: 1c86a1539e8f7551ac5c09a15b6a3c88. Forecasting as 1.\n",
      "Not enough data for product_id: 1c870a715bb1ded648a71cf510b659a5. Forecasting as 1.\n",
      "Not enough data for product_id: 1c8864370650c542bc1e409e4e42dc36. Forecasting as 1.\n",
      "Not enough data for product_id: 1c8c191152d78378de9b31fa8231bcd6. Forecasting as 1.\n",
      "Not enough data for product_id: 1c8c80454d9a8829112d5be9fe885fab. Forecasting as 1.\n",
      "Not enough data for product_id: 1c8ddcbd9abd12c51979969411f0b110. Forecasting as 1.\n",
      "Not enough data for product_id: 1c955eb7c06e7330695a99212a99c0c8. Forecasting as 1.\n",
      "Not enough data for product_id: 1c973679d17e2e7505000add215699f6. Forecasting as 1.\n",
      "Not enough data for product_id: 1c99a6128a79a5fb5a34c1c6b3be9067. Forecasting as 1.\n",
      "Not enough data for product_id: 1c99e26fcd1d46507751938718e31f87. Forecasting as 1.\n",
      "Not enough data for product_id: 1c9a944d6bfe1ff027b2836e96277f2c. Forecasting as 1.\n"
     ]
    },
    {
     "name": "stderr",
     "output_type": "stream",
     "text": [
      "03:23:22 - cmdstanpy - INFO - Chain [1] start processing\n",
      "03:23:31 - cmdstanpy - INFO - Chain [1] done processing\n"
     ]
    },
    {
     "name": "stdout",
     "output_type": "stream",
     "text": [
      "Not enough data for product_id: 1c9ba8000030b7a6ecc18247ca6e9732. Forecasting as 1.\n",
      "Not enough data for product_id: 1c9c1e9c68e2311f81258433b7e0092b. Forecasting as 1.\n",
      "Not enough data for product_id: 1c9e034fdb330509dbe0f09e6a42f157. Forecasting as 1.\n",
      "Not enough data for product_id: 1ca1d7d7a101a1d1f2ca213994fd8596. Forecasting as 1.\n",
      "Not enough data for product_id: 1ca44bcd8ec3cca1bc2080d3c63c16b8. Forecasting as 1.\n",
      "Not enough data for product_id: 1ca5c007b08c0c47cae4809750e4c6ad. Forecasting as 1.\n",
      "Not enough data for product_id: 1ca64333e21cc2921b28c702e3ad522b. Forecasting as 1.\n"
     ]
    },
    {
     "name": "stderr",
     "output_type": "stream",
     "text": [
      "03:23:34 - cmdstanpy - INFO - Chain [1] start processing\n",
      "03:23:34 - cmdstanpy - INFO - Chain [1] done processing\n"
     ]
    },
    {
     "name": "stdout",
     "output_type": "stream",
     "text": [
      "Not enough data for product_id: 1ca99da10c4b800de39096631ed2e773. Forecasting as 1.\n",
      "Not enough data for product_id: 1cac2c9aee1db62c108da2205880e09c. Forecasting as 1.\n",
      "Not enough data for product_id: 1caf2267e1334b93a9220b1a26db262d. Forecasting as 1.\n",
      "Not enough data for product_id: 1cb173e22a594e4c0883a4f0502b5360. Forecasting as 1.\n",
      "Not enough data for product_id: 1cb19e405562e1d623ff6401565de70c. Forecasting as 1.\n",
      "Not enough data for product_id: 1cb4e06ac5f21ccde771561d17ec0afb. Forecasting as 1.\n",
      "Not enough data for product_id: 1cb60c9b90bc722828facc251de1cf94. Forecasting as 1.\n",
      "Not enough data for product_id: 1cb7476fb94699f09e7efa70f8ea659c. Forecasting as 1.\n",
      "Not enough data for product_id: 1cbc78e4a21eb9d14fcc229e482a6418. Forecasting as 1.\n",
      "Not enough data for product_id: 1cbe6092926b24ecacfdeb748bc34105. Forecasting as 1.\n",
      "Not enough data for product_id: 1cc6c532b1ed8a5250688f8136e01cf7. Forecasting as 1.\n",
      "Not enough data for product_id: 1cc786f2fc3932c7a07346cf556c28bf. Forecasting as 1.\n",
      "Not enough data for product_id: 1cc7dc76718ffa96d0826a78498c9fbe. Forecasting as 1.\n",
      "Not enough data for product_id: 1cc7fc7841f9dacfbb9ec2a43276bf5f. Forecasting as 1.\n",
      "Not enough data for product_id: 1cc8eab3e8021aa2f19391441692c477. Forecasting as 1.\n",
      "Not enough data for product_id: 1ccb5f6ac19a5ab7b66d96ca902b41dd. Forecasting as 1.\n",
      "Not enough data for product_id: 1ccead49ab8f345a022f75586ecfc1b2. Forecasting as 1.\n",
      "Not enough data for product_id: 1cd17c8beea6f950dcdcb8e514d1fdfb. Forecasting as 1.\n",
      "Not enough data for product_id: 1cd35eaf33a642d4df4c9146837f5908. Forecasting as 1.\n",
      "Not enough data for product_id: 1cd4e06e315c38b1a4a3268caa41fcd8. Forecasting as 1.\n",
      "Not enough data for product_id: 1cd7f362c94c8a3a854103a8da2d8f43. Forecasting as 1.\n",
      "Not enough data for product_id: 1cd876bcbd0907f49bbf28372f86dd32. Forecasting as 1.\n",
      "Not enough data for product_id: 1cda79a24778a81a17725e927dd45025. Forecasting as 1.\n"
     ]
    },
    {
     "name": "stderr",
     "output_type": "stream",
     "text": [
      "03:23:44 - cmdstanpy - INFO - Chain [1] start processing\n",
      "03:23:45 - cmdstanpy - INFO - Chain [1] done processing\n",
      "03:23:45 - cmdstanpy - INFO - Chain [1] start processing\n",
      "03:23:45 - cmdstanpy - INFO - Chain [1] done processing\n"
     ]
    },
    {
     "name": "stdout",
     "output_type": "stream",
     "text": [
      "Not enough data for product_id: 1ce0e963805e3c170485768e8b09fe65. Forecasting as 1.\n",
      "Not enough data for product_id: 1ce3fabecf822e737401979c2eef12e5. Forecasting as 1.\n",
      "Not enough data for product_id: 1ce47626d790bdfe279ad4cedc159009. Forecasting as 1.\n",
      "Not enough data for product_id: 1ce5b88456351c3b986532265a56d223. Forecasting as 1.\n",
      "Not enough data for product_id: 1ce5d622fcc57fef0c65feb523eb2be1. Forecasting as 1.\n",
      "Not enough data for product_id: 1ceb0f188c42888c33459e15c22b2c8e. Forecasting as 1.\n",
      "Not enough data for product_id: 1cee481bc2bde9c49bba35c615d52e78. Forecasting as 1.\n",
      "Not enough data for product_id: 1cee940750667f29c969974d268656f8. Forecasting as 1.\n",
      "Not enough data for product_id: 1ceecf723e6b304ffe1822e9f375fbf1. Forecasting as 1.\n"
     ]
    },
    {
     "name": "stderr",
     "output_type": "stream",
     "text": [
      "03:23:49 - cmdstanpy - INFO - Chain [1] start processing\n",
      "03:23:49 - cmdstanpy - INFO - Chain [1] done processing\n"
     ]
    },
    {
     "name": "stdout",
     "output_type": "stream",
     "text": [
      "Not enough data for product_id: 1cf1166849ef1df39734ef593d71f20c. Forecasting as 1.\n",
      "Not enough data for product_id: 1cf2ac38c34884acf7e61b5a66d4987c. Forecasting as 1.\n",
      "Not enough data for product_id: 1cf39a397efa955b102a52ee7ec5531c. Forecasting as 1.\n",
      "Not enough data for product_id: 1cf657de01c2b973b898ad0ac9073ac7. Forecasting as 1.\n",
      "Not enough data for product_id: 1cf785e20371a66f535ab3b920d28140. Forecasting as 1.\n",
      "Not enough data for product_id: 1d04827ad9a5255800c08c3231a86639. Forecasting as 1.\n",
      "Not enough data for product_id: 1d0576deaebcd2285a1fea5d43021ca8. Forecasting as 1.\n",
      "Not enough data for product_id: 1d092cf4f9b3ea4bed6ec6566b38ad45. Forecasting as 1.\n"
     ]
    },
    {
     "name": "stderr",
     "output_type": "stream",
     "text": [
      "03:23:52 - cmdstanpy - INFO - Chain [1] start processing\n",
      "03:23:55 - cmdstanpy - INFO - Chain [1] done processing\n"
     ]
    },
    {
     "name": "stdout",
     "output_type": "stream",
     "text": [
      "Not enough data for product_id: 1d0d355ddb548ca289943c135b3ea7c3. Forecasting as 1.\n",
      "Not enough data for product_id: 1d0e69d769465dd7bacc44f752215f10. Forecasting as 1.\n",
      "Not enough data for product_id: 1d0f7339adddb21ecab3c4170865ffdf. Forecasting as 1.\n",
      "Not enough data for product_id: 1d116eece9b8bf17edaea2f3bc0f7324. Forecasting as 1.\n",
      "Not enough data for product_id: 1d11e9991beabfd8071f2bfb73444500. Forecasting as 1.\n",
      "Not enough data for product_id: 1d1415f17f1a93060326d6c3e223aa3c. Forecasting as 1.\n"
     ]
    },
    {
     "name": "stderr",
     "output_type": "stream",
     "text": [
      "03:23:58 - cmdstanpy - INFO - Chain [1] start processing\n",
      "03:23:58 - cmdstanpy - INFO - Chain [1] done processing\n"
     ]
    },
    {
     "name": "stdout",
     "output_type": "stream",
     "text": [
      "Not enough data for product_id: 1d187e8e7a30417fda31e85679d96f0f. Forecasting as 1.\n",
      "Not enough data for product_id: 1d1d29cb3e67f3a4d7eb040b5a13d361. Forecasting as 1.\n"
     ]
    },
    {
     "name": "stderr",
     "output_type": "stream",
     "text": [
      "03:24:00 - cmdstanpy - INFO - Chain [1] start processing\n",
      "03:24:00 - cmdstanpy - INFO - Chain [1] done processing\n"
     ]
    },
    {
     "name": "stdout",
     "output_type": "stream",
     "text": [
      "Not enough data for product_id: 1d2498694abb5754d2a497801dc4900e. Forecasting as 1.\n",
      "Not enough data for product_id: 1d24c180dcf6365fe1f3fc14c0cc589a. Forecasting as 1.\n"
     ]
    },
    {
     "name": "stderr",
     "output_type": "stream",
     "text": [
      "03:24:02 - cmdstanpy - INFO - Chain [1] start processing\n",
      "03:24:03 - cmdstanpy - INFO - Chain [1] done processing\n"
     ]
    },
    {
     "name": "stdout",
     "output_type": "stream",
     "text": [
      "Not enough data for product_id: 1d26d159bfabfa6a92ceb697ec0c5d56. Forecasting as 1.\n",
      "Not enough data for product_id: 1d27f15c0c084ccec3d472eb5c1eb29c. Forecasting as 1.\n",
      "Not enough data for product_id: 1d297ac3d18250759eb36e8b6c18fb5b. Forecasting as 1.\n",
      "Not enough data for product_id: 1d2b1480b69b37d1d9ea481a4ab88fe3. Forecasting as 1.\n",
      "Not enough data for product_id: 1d2b9594d78df158a9dadc8fd3438d4a. Forecasting as 1.\n"
     ]
    },
    {
     "name": "stderr",
     "output_type": "stream",
     "text": [
      "03:24:05 - cmdstanpy - INFO - Chain [1] start processing\n",
      "03:24:05 - cmdstanpy - INFO - Chain [1] done processing\n"
     ]
    },
    {
     "name": "stdout",
     "output_type": "stream",
     "text": [
      "Not enough data for product_id: 1d2e2390743b4ac67bbd2b5d95577e2f. Forecasting as 1.\n",
      "Not enough data for product_id: 1d2ead71bc1ce7734db8e8a241fd1f1e. Forecasting as 1.\n",
      "Not enough data for product_id: 1d31f773478bf76f7f9d9d174c3a25e3. Forecasting as 1.\n",
      "Not enough data for product_id: 1d32c0582d833b02199e449713fad071. Forecasting as 1.\n",
      "Not enough data for product_id: 1d37ba8cc6a900b5b50ba1b5121f02e8. Forecasting as 1.\n"
     ]
    },
    {
     "name": "stderr",
     "output_type": "stream",
     "text": [
      "03:24:08 - cmdstanpy - INFO - Chain [1] start processing\n",
      "03:24:08 - cmdstanpy - INFO - Chain [1] done processing\n",
      "03:24:09 - cmdstanpy - INFO - Chain [1] start processing\n",
      "03:24:09 - cmdstanpy - INFO - Chain [1] done processing\n"
     ]
    },
    {
     "name": "stdout",
     "output_type": "stream",
     "text": [
      "Not enough data for product_id: 1d417ca09479182e9fdf13a1c77c309f. Forecasting as 1.\n",
      "Not enough data for product_id: 1d45133e5ec85143be37faec0435c957. Forecasting as 1.\n",
      "Not enough data for product_id: 1d458c9ff924e108688571cd8536579d. Forecasting as 1.\n",
      "Not enough data for product_id: 1d496423fce0841afd60434ee1ed837f. Forecasting as 1.\n",
      "Not enough data for product_id: 1d4be40226e19b6b8753d064ba5b94e0. Forecasting as 1.\n",
      "Not enough data for product_id: 1d4e4fe443679ead3a7eb8680e8668d4. Forecasting as 1.\n",
      "Not enough data for product_id: 1d4e88bdd37e47a0ae27ad3a95539276. Forecasting as 1.\n",
      "Not enough data for product_id: 1d51c52f849033c63a9ee3250a3c1267. Forecasting as 1.\n",
      "Not enough data for product_id: 1d52a166aed7c327a5040a26342198f1. Forecasting as 1.\n",
      "Not enough data for product_id: 1d52c0fd7c289b6b7e0dc022067d33e8. Forecasting as 1.\n",
      "Not enough data for product_id: 1d54b96972338247c7341a2069e2bd96. Forecasting as 1.\n",
      "Not enough data for product_id: 1d616bf90efffa0f7e833acb21d5c03d. Forecasting as 1.\n",
      "Not enough data for product_id: 1d65224f1873af4a773096f47b5f6727. Forecasting as 1.\n",
      "Not enough data for product_id: 1d65c98a734ff9df50578e6199d79a43. Forecasting as 1.\n",
      "Not enough data for product_id: 1d691d8ace0e9d0e00de0569faf0ae04. Forecasting as 1.\n",
      "Not enough data for product_id: 1d6c23a5f953103a8870695fab4db4a9. Forecasting as 1.\n",
      "Not enough data for product_id: 1d7099ae41da8738fa29e4c51a5a492b. Forecasting as 1.\n",
      "Not enough data for product_id: 1d722f14297e49c1db0545e1f7ec764f. Forecasting as 1.\n",
      "Not enough data for product_id: 1d7997c2448b27bd70c631b37acd27c2. Forecasting as 1.\n",
      "Not enough data for product_id: 1d7bb6515c4995e739fd62faf05f2863. Forecasting as 1.\n",
      "Not enough data for product_id: 1d7f26f5a811fa26335fcf8ba11b9f77. Forecasting as 1.\n",
      "Not enough data for product_id: 1d828db422e61ea21702baf9eda8732d. Forecasting as 1.\n"
     ]
    },
    {
     "name": "stderr",
     "output_type": "stream",
     "text": [
      "03:24:20 - cmdstanpy - INFO - Chain [1] start processing\n",
      "03:24:21 - cmdstanpy - INFO - Chain [1] done processing\n",
      "03:24:21 - cmdstanpy - INFO - Chain [1] start processing\n",
      "03:24:21 - cmdstanpy - INFO - Chain [1] done processing\n"
     ]
    },
    {
     "name": "stdout",
     "output_type": "stream",
     "text": [
      "Not enough data for product_id: 1d9311c8ab3fedab5eb4df1277b84bfe. Forecasting as 1.\n",
      "Not enough data for product_id: 1d93a1a9ef04cca09f4737fc380e0d6e. Forecasting as 1.\n",
      "Not enough data for product_id: 1d94412990844cddc0ab637ba8c1339d. Forecasting as 1.\n",
      "Not enough data for product_id: 1d94d1e0c7fb2dcf2811e093d2ca303b. Forecasting as 1.\n"
     ]
    },
    {
     "name": "stderr",
     "output_type": "stream",
     "text": [
      "03:24:23 - cmdstanpy - INFO - Chain [1] start processing\n",
      "03:24:23 - cmdstanpy - INFO - Chain [1] done processing\n"
     ]
    },
    {
     "name": "stdout",
     "output_type": "stream",
     "text": [
      "Not enough data for product_id: 1d994f3116c393f22021e72f17ab5af5. Forecasting as 1.\n",
      "Not enough data for product_id: 1d9b6ad747838d1e4f24445f4b9bff55. Forecasting as 1.\n",
      "Not enough data for product_id: 1d9c26a3cc1a9a167955e3922b597210. Forecasting as 1.\n",
      "Not enough data for product_id: 1d9c9e0532fb481c0f89c3b20cec62e6. Forecasting as 1.\n",
      "Not enough data for product_id: 1d9faf066ad6f04ab65cdca8a7cdccec. Forecasting as 1.\n",
      "Not enough data for product_id: 1d9fc0078db05f802e870d7601042c29. Forecasting as 1.\n",
      "Not enough data for product_id: 1da0fbb35cfdc9fcb6d48dfddca69513. Forecasting as 1.\n",
      "Not enough data for product_id: 1da3e4356495511914d62ce5385f7122. Forecasting as 1.\n",
      "Not enough data for product_id: 1da4613d4f7e10e1554538b46dd16486. Forecasting as 1.\n",
      "Not enough data for product_id: 1da4c75f3ccfdd3e7f3416b5b0aa0f5e. Forecasting as 1.\n",
      "Not enough data for product_id: 1da502ed939a029f4bee6cdc8341b4ac. Forecasting as 1.\n"
     ]
    },
    {
     "name": "stderr",
     "output_type": "stream",
     "text": [
      "03:24:28 - cmdstanpy - INFO - Chain [1] start processing\n",
      "03:24:28 - cmdstanpy - INFO - Chain [1] done processing\n"
     ]
    },
    {
     "name": "stdout",
     "output_type": "stream",
     "text": [
      "Not enough data for product_id: 1dba1b8c4782c82bec9252bc5cca3b76. Forecasting as 1.\n",
      "Not enough data for product_id: 1dc6a19ea34c75792743abebd47309d3. Forecasting as 1.\n",
      "Not enough data for product_id: 1dc9d2804c35122e2f168a135f8a56c2. Forecasting as 1.\n",
      "Not enough data for product_id: 1dcd65bb5dd967d7b4c6b0223cefb838. Forecasting as 1.\n"
     ]
    },
    {
     "name": "stderr",
     "output_type": "stream",
     "text": [
      "03:24:32 - cmdstanpy - INFO - Chain [1] start processing\n",
      "03:24:33 - cmdstanpy - INFO - Chain [1] done processing\n"
     ]
    },
    {
     "name": "stdout",
     "output_type": "stream",
     "text": [
      "Not enough data for product_id: 1dcff375b928a1807562ea4a895a8046. Forecasting as 1.\n",
      "Not enough data for product_id: 1dd284c37ca97cbb86c029c65fb9a494. Forecasting as 1.\n"
     ]
    },
    {
     "name": "stderr",
     "output_type": "stream",
     "text": [
      "03:24:33 - cmdstanpy - INFO - Chain [1] start processing\n",
      "03:24:37 - cmdstanpy - INFO - Chain [1] done processing\n"
     ]
    },
    {
     "name": "stdout",
     "output_type": "stream",
     "text": [
      "Not enough data for product_id: 1dd85d42702d499bdccd33e6e3227a61. Forecasting as 1.\n",
      "Not enough data for product_id: 1dd9019e9b721d5535c59d13551b2469. Forecasting as 1.\n",
      "Not enough data for product_id: 1ddab42b003ae1166c20d48725f780c0. Forecasting as 1.\n",
      "Not enough data for product_id: 1dddcf66e6d46f1b94005221d92c6eca. Forecasting as 1.\n",
      "Not enough data for product_id: 1ddff6edb745b60b1f4333ade8c45133. Forecasting as 1.\n",
      "Not enough data for product_id: 1de0af19bfefbea493eb82ef59bb2433. Forecasting as 1.\n"
     ]
    },
    {
     "name": "stderr",
     "output_type": "stream",
     "text": [
      "03:24:39 - cmdstanpy - INFO - Chain [1] start processing\n",
      "03:24:39 - cmdstanpy - INFO - Chain [1] done processing\n"
     ]
    },
    {
     "name": "stdout",
     "output_type": "stream",
     "text": [
      "Not enough data for product_id: 1de1b0e6f3e585714e7ba60c0fa2551c. Forecasting as 1.\n",
      "Not enough data for product_id: 1de471fe5a17abca787683077343de4d. Forecasting as 1.\n",
      "Not enough data for product_id: 1de85e3b5a43099a57d10a7d3dedf97e. Forecasting as 1.\n"
     ]
    },
    {
     "name": "stderr",
     "output_type": "stream",
     "text": [
      "03:24:41 - cmdstanpy - INFO - Chain [1] start processing\n",
      "03:24:41 - cmdstanpy - INFO - Chain [1] done processing\n"
     ]
    },
    {
     "name": "stdout",
     "output_type": "stream",
     "text": [
      "Not enough data for product_id: 1deda1acffb44ed38494667d7e49a9f3. Forecasting as 1.\n",
      "Not enough data for product_id: 1defdb58e117d7cfc318d002c2783b6b. Forecasting as 1.\n",
      "Not enough data for product_id: 1df0508de978ce519aa5533ae04154c7. Forecasting as 1.\n",
      "Not enough data for product_id: 1df1a2df8ad2b9d3aa49fd851e3145ad. Forecasting as 1.\n",
      "Not enough data for product_id: 1df2d3dd3744189ada2f2053d70039ae. Forecasting as 1.\n",
      "Not enough data for product_id: 1df4766d26ab7bcb152eaf8c600210a6. Forecasting as 1.\n",
      "Not enough data for product_id: 1df5ecdbd7a222e8e37cc6aec3fccbb7. Forecasting as 1.\n",
      "Not enough data for product_id: 1df69fad86c3fedbddd8b65fe13dc8db. Forecasting as 1.\n",
      "Not enough data for product_id: 1dfa1d1603b10b073093775015d0fc74. Forecasting as 1.\n",
      "Not enough data for product_id: 1dfcfcbfaae79f18090fc9e3c336b62c. Forecasting as 1.\n",
      "Not enough data for product_id: 1dff983bf86722fbc11a0c1d0ec13624. Forecasting as 1.\n",
      "Not enough data for product_id: 1e05a019251a285cb2e56c69cfad766b. Forecasting as 1.\n",
      "Not enough data for product_id: 1e071ffaca5d72ab7d58901d01b38280. Forecasting as 1.\n",
      "Not enough data for product_id: 1e10b292e5af5e5af60b4e8bc7726e22. Forecasting as 1.\n"
     ]
    },
    {
     "name": "stderr",
     "output_type": "stream",
     "text": [
      "03:24:48 - cmdstanpy - INFO - Chain [1] start processing\n",
      "03:24:49 - cmdstanpy - INFO - Chain [1] done processing\n"
     ]
    },
    {
     "name": "stdout",
     "output_type": "stream",
     "text": [
      "Not enough data for product_id: 1e1172a8b6ae12312c22ccf33625f7ca. Forecasting as 1.\n",
      "Not enough data for product_id: 1e12f1836c1f08b25ef78fcdf76fbf08. Forecasting as 1.\n",
      "Not enough data for product_id: 1e1302fdbd3459fdb800a772186b81e1. Forecasting as 1.\n",
      "Not enough data for product_id: 1e15e15a2cf0210505c942496b19c917. Forecasting as 1.\n",
      "Not enough data for product_id: 1e17a95099678da4cd4479d4c5b8f391. Forecasting as 1.\n"
     ]
    },
    {
     "name": "stderr",
     "output_type": "stream",
     "text": [
      "03:24:51 - cmdstanpy - INFO - Chain [1] start processing\n",
      "03:24:51 - cmdstanpy - INFO - Chain [1] done processing\n"
     ]
    },
    {
     "name": "stdout",
     "output_type": "stream",
     "text": [
      "Not enough data for product_id: 1e1bd97639fea164c61d7f2260cb4033. Forecasting as 1.\n"
     ]
    },
    {
     "name": "stderr",
     "output_type": "stream",
     "text": [
      "03:24:52 - cmdstanpy - INFO - Chain [1] start processing\n",
      "03:24:52 - cmdstanpy - INFO - Chain [1] done processing\n"
     ]
    },
    {
     "name": "stdout",
     "output_type": "stream",
     "text": [
      "Not enough data for product_id: 1e1e594f54aee5d344f0f58b399c7493. Forecasting as 1.\n",
      "Not enough data for product_id: 1e2841e311d4b0bb5cd837dca5ada1c7. Forecasting as 1.\n",
      "Not enough data for product_id: 1e28482c87af71997ffdfe62d8f5b993. Forecasting as 1.\n",
      "Not enough data for product_id: 1e297be46cfe3e932c4faf1c0ae329a2. Forecasting as 1.\n",
      "Not enough data for product_id: 1e2c4845a09f960ea8b021fa72d98006. Forecasting as 1.\n",
      "Not enough data for product_id: 1e2d91422457309faff377cfb67db149. Forecasting as 1.\n",
      "Not enough data for product_id: 1e303cde4e3a92980a46ccb221a22e11. Forecasting as 1.\n",
      "Not enough data for product_id: 1e356d1f0d01ec859c4458956d2b577b. Forecasting as 1.\n",
      "Not enough data for product_id: 1e41618bcaf005d9f4cba13fb70915bf. Forecasting as 1.\n",
      "Not enough data for product_id: 1e48680e5b09c356f91b5c7ee948d013. Forecasting as 1.\n",
      "Not enough data for product_id: 1e4aad71e70ec3236b054032c42d3494. Forecasting as 1.\n",
      "Not enough data for product_id: 1e4afc1a37e11d1cfac59e0599d3ce1f. Forecasting as 1.\n"
     ]
    },
    {
     "name": "stderr",
     "output_type": "stream",
     "text": [
      "03:24:57 - cmdstanpy - INFO - Chain [1] start processing\n",
      "03:25:00 - cmdstanpy - INFO - Chain [1] done processing\n"
     ]
    },
    {
     "name": "stdout",
     "output_type": "stream",
     "text": [
      "Not enough data for product_id: 1e571e871a93944c5c48e6226f2cd94e. Forecasting as 1.\n",
      "Not enough data for product_id: 1e587ac160dfda2548e3517c33e7faf0. Forecasting as 1.\n",
      "Not enough data for product_id: 1e60a2f0e5358868942697d1494f0b72. Forecasting as 1.\n"
     ]
    },
    {
     "name": "stderr",
     "output_type": "stream",
     "text": [
      "03:25:03 - cmdstanpy - INFO - Chain [1] start processing\n",
      "03:25:03 - cmdstanpy - INFO - Chain [1] done processing\n"
     ]
    },
    {
     "name": "stdout",
     "output_type": "stream",
     "text": [
      "Not enough data for product_id: 1e61aac3bf6242ac8330c5e7a2d98d3e. Forecasting as 1.\n",
      "Not enough data for product_id: 1e6981e727154bcd941d51fda894b183. Forecasting as 1.\n",
      "Not enough data for product_id: 1e7645125a016e28f2546c914d8e32bf. Forecasting as 1.\n",
      "Not enough data for product_id: 1e771d5cef909641314a6b1544656a8d. Forecasting as 1.\n"
     ]
    },
    {
     "name": "stderr",
     "output_type": "stream",
     "text": [
      "03:25:06 - cmdstanpy - INFO - Chain [1] start processing\n",
      "03:25:09 - cmdstanpy - INFO - Chain [1] done processing\n"
     ]
    },
    {
     "name": "stdout",
     "output_type": "stream",
     "text": [
      "Not enough data for product_id: 1e7f9d795f9e15f1df670649367d27d8. Forecasting as 1.\n",
      "Not enough data for product_id: 1e859a053a2210cb74b1134e0419b1dd. Forecasting as 1.\n",
      "Not enough data for product_id: 1e8c13efcd43c9fb018a870ba9dd73a5. Forecasting as 1.\n",
      "Not enough data for product_id: 1e8f7164e2c9b32dcd58e6a6b6b294cb. Forecasting as 1.\n",
      "Not enough data for product_id: 1e919b41a2e4b6055b2498c100e18c75. Forecasting as 1.\n"
     ]
    },
    {
     "name": "stderr",
     "output_type": "stream",
     "text": [
      "03:25:12 - cmdstanpy - INFO - Chain [1] start processing\n",
      "03:25:12 - cmdstanpy - INFO - Chain [1] done processing\n"
     ]
    },
    {
     "name": "stdout",
     "output_type": "stream",
     "text": [
      "Not enough data for product_id: 1e96993bf0abebd3ee50f96a52bb51aa. Forecasting as 1.\n",
      "Not enough data for product_id: 1e98bf6bff8100a01b0c1039aa05db9a. Forecasting as 1.\n",
      "Not enough data for product_id: 1e9da397f7a02c90947b44bfa4a8d0b0. Forecasting as 1.\n",
      "Not enough data for product_id: 1e9e02777a02de03c17eb432be7daf71. Forecasting as 1.\n",
      "Not enough data for product_id: 1e9e8ef04dbcff4541ed26657ea517e5. Forecasting as 1.\n",
      "Not enough data for product_id: 1e9f407b0d5f8f439956c66df050c107. Forecasting as 1.\n",
      "Not enough data for product_id: 1ea0352ad33ece4164c6f98f2c25bc6f. Forecasting as 1.\n",
      "Not enough data for product_id: 1ea233affdd668b45c809f65711ccd37. Forecasting as 1.\n",
      "Not enough data for product_id: 1ea2fc5b9d57d4a38537bc42da63952f. Forecasting as 1.\n",
      "Not enough data for product_id: 1ea8d02d9ad9f5e5987010de353fa800. Forecasting as 1.\n"
     ]
    },
    {
     "name": "stderr",
     "output_type": "stream",
     "text": [
      "03:25:18 - cmdstanpy - INFO - Chain [1] start processing\n",
      "03:25:18 - cmdstanpy - INFO - Chain [1] done processing\n"
     ]
    },
    {
     "name": "stdout",
     "output_type": "stream",
     "text": [
      "Not enough data for product_id: 1eb0f26a0aa59535c7bee3e2c02093d7. Forecasting as 1.\n",
      "Not enough data for product_id: 1eb30ad5e28de3838ccc658fa4eec948. Forecasting as 1.\n",
      "Not enough data for product_id: 1eb44be9d824d20602d68a0f3346d8d7. Forecasting as 1.\n",
      "Not enough data for product_id: 1eb4a9aee05c9cad041e09add2a26d68. Forecasting as 1.\n",
      "Not enough data for product_id: 1eb5b06a73df439c29be30c762965ce3. Forecasting as 1.\n"
     ]
    },
    {
     "name": "stderr",
     "output_type": "stream",
     "text": [
      "03:25:20 - cmdstanpy - INFO - Chain [1] start processing\n",
      "03:25:20 - cmdstanpy - INFO - Chain [1] done processing\n",
      "03:25:20 - cmdstanpy - INFO - Chain [1] start processing\n",
      "03:25:25 - cmdstanpy - INFO - Chain [1] done processing\n"
     ]
    },
    {
     "name": "stdout",
     "output_type": "stream",
     "text": [
      "Not enough data for product_id: 1ebb6bef272babda147dfdc51b0201e7. Forecasting as 1.\n",
      "Not enough data for product_id: 1ebd1450a2b8d51ffda696956426024a. Forecasting as 1.\n"
     ]
    },
    {
     "name": "stderr",
     "output_type": "stream",
     "text": [
      "03:25:26 - cmdstanpy - INFO - Chain [1] start processing\n",
      "03:25:30 - cmdstanpy - INFO - Chain [1] done processing\n"
     ]
    },
    {
     "name": "stdout",
     "output_type": "stream",
     "text": [
      "Not enough data for product_id: 1ec18a242e7ed004de8161b60f0262b1. Forecasting as 1.\n"
     ]
    },
    {
     "name": "stderr",
     "output_type": "stream",
     "text": [
      "03:25:31 - cmdstanpy - INFO - Chain [1] start processing\n",
      "03:25:31 - cmdstanpy - INFO - Chain [1] done processing\n",
      "03:25:32 - cmdstanpy - INFO - Chain [1] start processing\n",
      "03:25:32 - cmdstanpy - INFO - Chain [1] done processing\n"
     ]
    },
    {
     "name": "stdout",
     "output_type": "stream",
     "text": [
      "Not enough data for product_id: 1ec5373950b7877c5de483a123223810. Forecasting as 1.\n",
      "Not enough data for product_id: 1ec597ef2aaee9e73f32a970247f3192. Forecasting as 1.\n",
      "Not enough data for product_id: 1ec5d3bb50a489c6ac8923101492c197. Forecasting as 1.\n",
      "Not enough data for product_id: 1ec8a5b7b30228bf933cb71d7be5ccb7. Forecasting as 1.\n",
      "Not enough data for product_id: 1eca63a94a93dad2e0d65d2a29635d3e. Forecasting as 1.\n",
      "Not enough data for product_id: 1ecbc86db1d81121dcf8790e2fa31ddd. Forecasting as 1.\n"
     ]
    },
    {
     "name": "stderr",
     "output_type": "stream",
     "text": [
      "03:25:35 - cmdstanpy - INFO - Chain [1] start processing\n",
      "03:25:36 - cmdstanpy - INFO - Chain [1] done processing\n"
     ]
    },
    {
     "name": "stdout",
     "output_type": "stream",
     "text": [
      "Not enough data for product_id: 1ed581dc2a08b818ca4a5a45f563e06b. Forecasting as 1.\n",
      "Not enough data for product_id: 1ed65bd74fcdbc4b99bc838f1b8583e8. Forecasting as 1.\n",
      "Not enough data for product_id: 1ed724b5e4b638eeb4bd3487d88b8f28. Forecasting as 1.\n",
      "Not enough data for product_id: 1ee03eca6034b77b25d08c004bc79dd8. Forecasting as 1.\n",
      "Not enough data for product_id: 1ee079ac734051dc6b17c085dc203b0c. Forecasting as 1.\n",
      "Not enough data for product_id: 1ee3d206670e9b58fefad84442e2f265. Forecasting as 1.\n",
      "Not enough data for product_id: 1ee989a922dba7ff11c8c530b439ec2b. Forecasting as 1.\n",
      "Not enough data for product_id: 1ef4d09abc3b209cfc14875996252306. Forecasting as 1.\n",
      "Not enough data for product_id: 1ef5ef43b311a978115840517ac78943. Forecasting as 1.\n",
      "Not enough data for product_id: 1ef71d12e77a6bb27f555c45747807ab. Forecasting as 1.\n",
      "Not enough data for product_id: 1ef8a6296ad9dd22ff1a386b57709314. Forecasting as 1.\n"
     ]
    },
    {
     "name": "stderr",
     "output_type": "stream",
     "text": [
      "03:25:40 - cmdstanpy - INFO - Chain [1] start processing\n",
      "03:25:41 - cmdstanpy - INFO - Chain [1] done processing\n"
     ]
    },
    {
     "name": "stdout",
     "output_type": "stream",
     "text": [
      "Not enough data for product_id: 1efe84b450fd2e07ceac3cd1ace28348. Forecasting as 1.\n",
      "Not enough data for product_id: 1f06d9b36ed20e13e3d95072487e4cb3. Forecasting as 1.\n",
      "Not enough data for product_id: 1f08ab38da3a77a8e0bd17e63df35827. Forecasting as 1.\n",
      "Not enough data for product_id: 1f0c584db83694c3a4bf117c8829a87a. Forecasting as 1.\n",
      "Not enough data for product_id: 1f0f0d2254362b05c2248e033053825a. Forecasting as 1.\n",
      "Not enough data for product_id: 1f0fa82e30437fd4a2596a4ad75d8ee0. Forecasting as 1.\n",
      "Not enough data for product_id: 1f0faca592be013ccc1cd6cc5517eef7. Forecasting as 1.\n",
      "Not enough data for product_id: 1f11ca0065518d335b576597c5b7f072. Forecasting as 1.\n",
      "Not enough data for product_id: 1f1354b0aa934e7ad75546467a6d028b. Forecasting as 1.\n",
      "Not enough data for product_id: 1f13ebbc80d3713a1abdd12696605956. Forecasting as 1.\n",
      "Not enough data for product_id: 1f15aad258a1559be6c62fe1a774daa7. Forecasting as 1.\n",
      "Not enough data for product_id: 1f180c96859564dd5857185f5914d2c7. Forecasting as 1.\n",
      "Not enough data for product_id: 1f2a1eb53046341d5e07150430b9f091. Forecasting as 1.\n",
      "Not enough data for product_id: 1f2a3bd182a1004ffa295c0c54d1a653. Forecasting as 1.\n",
      "Not enough data for product_id: 1f2b3e5d739add9d4596ba6de24204d4. Forecasting as 1.\n"
     ]
    },
    {
     "name": "stderr",
     "output_type": "stream",
     "text": [
      "03:25:47 - cmdstanpy - INFO - Chain [1] start processing\n",
      "03:25:51 - cmdstanpy - INFO - Chain [1] done processing\n"
     ]
    },
    {
     "name": "stdout",
     "output_type": "stream",
     "text": [
      "Not enough data for product_id: 1f2bcc5a21172c008ccbcc28afb8bced. Forecasting as 1.\n",
      "Not enough data for product_id: 1f305b83cff66e6473d13aa6c64e5a20. Forecasting as 1.\n"
     ]
    },
    {
     "name": "stderr",
     "output_type": "stream",
     "text": [
      "03:25:52 - cmdstanpy - INFO - Chain [1] start processing\n",
      "03:25:52 - cmdstanpy - INFO - Chain [1] done processing\n"
     ]
    },
    {
     "name": "stdout",
     "output_type": "stream",
     "text": [
      "Not enough data for product_id: 1f32407ca906dd7917d2d3dc56b223ad. Forecasting as 1.\n",
      "Not enough data for product_id: 1f32fa4223c913c075458059fde383bb. Forecasting as 1.\n",
      "Not enough data for product_id: 1f3365ddc6456d082f482309326f037c. Forecasting as 1.\n",
      "Not enough data for product_id: 1f33f54aa8e680e3d3b654539abfdcca. Forecasting as 1.\n",
      "Not enough data for product_id: 1f343ac0c965c5088a9d3c0c65c30f67. Forecasting as 1.\n",
      "Not enough data for product_id: 1f347a9e26fb793f3730f30deecc682f. Forecasting as 1.\n",
      "Not enough data for product_id: 1f357ab8013614c1df271ebd662dd7a2. Forecasting as 1.\n",
      "Not enough data for product_id: 1f388485320e7817bedef000d1890c0a. Forecasting as 1.\n"
     ]
    },
    {
     "name": "stderr",
     "output_type": "stream",
     "text": [
      "03:25:54 - cmdstanpy - INFO - Chain [1] start processing\n",
      "03:25:54 - cmdstanpy - INFO - Chain [1] done processing\n"
     ]
    },
    {
     "name": "stdout",
     "output_type": "stream",
     "text": [
      "Not enough data for product_id: 1f3b8727459b932736f709be23eef109. Forecasting as 1.\n",
      "Not enough data for product_id: 1f40cca568a44eb6405b017e2418f53c. Forecasting as 1.\n"
     ]
    },
    {
     "name": "stderr",
     "output_type": "stream",
     "text": [
      "03:25:56 - cmdstanpy - INFO - Chain [1] start processing\n",
      "03:25:56 - cmdstanpy - INFO - Chain [1] done processing\n"
     ]
    },
    {
     "name": "stdout",
     "output_type": "stream",
     "text": [
      "Not enough data for product_id: 1f413d93546f7ee41457fa988ddd82ed. Forecasting as 1.\n",
      "Not enough data for product_id: 1f4183ec3278c69b1237f900c701b762. Forecasting as 1.\n",
      "Not enough data for product_id: 1f42966deb959a8433468ac0078b60da. Forecasting as 1.\n",
      "Not enough data for product_id: 1f44a842567301d9eb5c36641e17480f. Forecasting as 1.\n",
      "Not enough data for product_id: 1f459c80ec206dc814560de10182cdaf. Forecasting as 1.\n",
      "Not enough data for product_id: 1f46e84d4c98952d675fbd9bf529a96c. Forecasting as 1.\n",
      "Not enough data for product_id: 1f49bc80950157ddb33dfad044f20be7. Forecasting as 1.\n",
      "Not enough data for product_id: 1f50c7757334d6acef5e3c5fa64eb3c7. Forecasting as 1.\n"
     ]
    },
    {
     "name": "stderr",
     "output_type": "stream",
     "text": [
      "03:26:00 - cmdstanpy - INFO - Chain [1] start processing\n",
      "03:26:00 - cmdstanpy - INFO - Chain [1] done processing\n"
     ]
    },
    {
     "name": "stdout",
     "output_type": "stream",
     "text": [
      "Not enough data for product_id: 1f58e3c365e615b33b2b30b068d7578a. Forecasting as 1.\n"
     ]
    },
    {
     "name": "stderr",
     "output_type": "stream",
     "text": [
      "03:26:01 - cmdstanpy - INFO - Chain [1] start processing\n",
      "03:26:01 - cmdstanpy - INFO - Chain [1] done processing\n"
     ]
    },
    {
     "name": "stdout",
     "output_type": "stream",
     "text": [
      "Not enough data for product_id: 1f5a00433bd192f9ecdbb987e7866c3e. Forecasting as 1.\n",
      "Not enough data for product_id: 1f5b481884bcb937cc06892b7419eaf8. Forecasting as 1.\n"
     ]
    },
    {
     "name": "stderr",
     "output_type": "stream",
     "text": [
      "03:26:02 - cmdstanpy - INFO - Chain [1] start processing\n",
      "03:26:03 - cmdstanpy - INFO - Chain [1] done processing\n"
     ]
    },
    {
     "name": "stdout",
     "output_type": "stream",
     "text": [
      "Not enough data for product_id: 1f60570b3795d85b7b2a879f921e06bd. Forecasting as 1.\n",
      "Not enough data for product_id: 1f6152747a58175ea9be895d066a0429. Forecasting as 1.\n",
      "Not enough data for product_id: 1f624c9baa5906ea6b9ff4ccfbb4d6c0. Forecasting as 1.\n",
      "Not enough data for product_id: 1f64ec386a6be322e71596931f5d2377. Forecasting as 1.\n",
      "Not enough data for product_id: 1f67ce45ef6e16a7f2f56674dabd5f40. Forecasting as 1.\n"
     ]
    },
    {
     "name": "stderr",
     "output_type": "stream",
     "text": [
      "03:26:04 - cmdstanpy - INFO - Chain [1] start processing\n",
      "03:26:07 - cmdstanpy - INFO - Chain [1] done processing\n"
     ]
    },
    {
     "name": "stdout",
     "output_type": "stream",
     "text": [
      "Not enough data for product_id: 1f6cbd49dcb5d56eb874bf9889f9fd72. Forecasting as 1.\n",
      "Not enough data for product_id: 1f7164d40ac0579d08c5b77af30f8dd0. Forecasting as 1.\n",
      "Not enough data for product_id: 1f78ffcfb88226a0905e335084c1fa5d. Forecasting as 1.\n",
      "Not enough data for product_id: 1f792af77962621fcc80d95c2897bb19. Forecasting as 1.\n",
      "Not enough data for product_id: 1f7d5ed869623b79db194aaed277d963. Forecasting as 1.\n",
      "Not enough data for product_id: 1f8281d23bd0d53a9d2cea4bad53ca58. Forecasting as 1.\n",
      "Not enough data for product_id: 1f839ba5b57051fac3461bc202ad9cce. Forecasting as 1.\n",
      "Not enough data for product_id: 1f851a7f6257c8bfa62e1853e4b6bf63. Forecasting as 1.\n",
      "Not enough data for product_id: 1f85abca5a45544302089b5d442b4370. Forecasting as 1.\n",
      "Not enough data for product_id: 1f868693b3708b4337dee9bac46c837a. Forecasting as 1.\n",
      "Not enough data for product_id: 1f88e86c9d7f76b2ab388a07cc8b535b. Forecasting as 1.\n",
      "Not enough data for product_id: 1f8aad0f80f6d061b4d09e538ad496d7. Forecasting as 1.\n",
      "Not enough data for product_id: 1f8e37053267b9ea6ef0fbb02cbdce80. Forecasting as 1.\n",
      "Not enough data for product_id: 1f8e6a79faf4326701aa4b07c0b955e1. Forecasting as 1.\n",
      "Not enough data for product_id: 1f8fc2e117826028a2f1ad01a8638d62. Forecasting as 1.\n",
      "Not enough data for product_id: 1f9210c9ed7b87ba42a048f297fbeb03. Forecasting as 1.\n",
      "Not enough data for product_id: 1f9cf07059cdfc8fd3797cfe11ea589c. Forecasting as 1.\n",
      "Not enough data for product_id: 1f9f5468776e35e451d4e2eabf10c523. Forecasting as 1.\n",
      "Not enough data for product_id: 1fa0405a3e10af836278d7667629623e. Forecasting as 1.\n",
      "Not enough data for product_id: 1fa0faff5eafb13003f9559ebe6becb3. Forecasting as 1.\n",
      "Not enough data for product_id: 1fa419f430caa58899132fe77917b7b6. Forecasting as 1.\n",
      "Not enough data for product_id: 1fa4a6c717a31a25a59f6c5ebdf975cc. Forecasting as 1.\n"
     ]
    },
    {
     "name": "stderr",
     "output_type": "stream",
     "text": [
      "03:26:16 - cmdstanpy - INFO - Chain [1] start processing\n",
      "03:26:16 - cmdstanpy - INFO - Chain [1] done processing\n"
     ]
    },
    {
     "name": "stdout",
     "output_type": "stream",
     "text": [
      "Not enough data for product_id: 1fa5685b6d15b1f431092eb5e391250c. Forecasting as 1.\n",
      "Not enough data for product_id: 1fa728d99803c8849b5c95cfeaf9b60c. Forecasting as 1.\n"
     ]
    },
    {
     "name": "stderr",
     "output_type": "stream",
     "text": [
      "03:26:18 - cmdstanpy - INFO - Chain [1] start processing\n",
      "03:26:19 - cmdstanpy - INFO - Chain [1] done processing\n"
     ]
    },
    {
     "name": "stdout",
     "output_type": "stream",
     "text": [
      "Not enough data for product_id: 1fac2e6b0fdfb2e529fc9960c5270aeb. Forecasting as 1.\n",
      "Not enough data for product_id: 1fad46b84ac1748ff47bf2d703565a7a. Forecasting as 1.\n",
      "Not enough data for product_id: 1fb08bbca0db8e25edd1275caed54e19. Forecasting as 1.\n"
     ]
    },
    {
     "name": "stderr",
     "output_type": "stream",
     "text": [
      "03:26:20 - cmdstanpy - INFO - Chain [1] start processing\n",
      "03:26:21 - cmdstanpy - INFO - Chain [1] done processing\n",
      "03:26:22 - cmdstanpy - INFO - Chain [1] start processing\n",
      "03:26:22 - cmdstanpy - INFO - Chain [1] done processing\n",
      "03:26:22 - cmdstanpy - INFO - Chain [1] start processing\n",
      "03:26:25 - cmdstanpy - INFO - Chain [1] done processing\n"
     ]
    },
    {
     "name": "stdout",
     "output_type": "stream",
     "text": [
      "Not enough data for product_id: 1fb586196a6ef3b8ac6e33b0fd7ddc6c. Forecasting as 1.\n",
      "Not enough data for product_id: 1fb5f3130b9f5c67e7dc57e0f5df6e6d. Forecasting as 1.\n",
      "Not enough data for product_id: 1fbeaaa01377d3f600de52f455ef578c. Forecasting as 1.\n",
      "Not enough data for product_id: 1fbec17963585b6f1839b3a81fd73015. Forecasting as 1.\n",
      "Not enough data for product_id: 1fc3aadb8bb11f56f13ea8999066bd81. Forecasting as 1.\n",
      "Not enough data for product_id: 1fc4d10c30db884f34f1b8388731b021. Forecasting as 1.\n",
      "Not enough data for product_id: 1fc6e1729d564ec77eeeb9df95fca74f. Forecasting as 1.\n",
      "Not enough data for product_id: 1fcaf044ff67ca59df3f6cc560d9fbfc. Forecasting as 1.\n",
      "Not enough data for product_id: 1fcb60b5848efd11d95695cbad320c14. Forecasting as 1.\n",
      "Not enough data for product_id: 1fcbdcb14ed564faddf72bbcef855036. Forecasting as 1.\n",
      "Not enough data for product_id: 1fccfee027ea87e93eaa5b05120e9c63. Forecasting as 1.\n",
      "Not enough data for product_id: 1fceb6597ec80646345b1d8517b48cb2. Forecasting as 1.\n",
      "Not enough data for product_id: 1fd2441965108612e42f81661582a3e5. Forecasting as 1.\n"
     ]
    },
    {
     "name": "stderr",
     "output_type": "stream",
     "text": [
      "03:26:31 - cmdstanpy - INFO - Chain [1] start processing\n",
      "03:26:31 - cmdstanpy - INFO - Chain [1] done processing\n"
     ]
    },
    {
     "name": "stdout",
     "output_type": "stream",
     "text": [
      "Not enough data for product_id: 1fd46d26e6d9800e915b195cb8b51f57. Forecasting as 1.\n",
      "Not enough data for product_id: 1fd570765d10abc088a6e78a8a75a7d4. Forecasting as 1.\n",
      "Not enough data for product_id: 1fd5b8526b883f92d22dc09cda3031e3. Forecasting as 1.\n",
      "Not enough data for product_id: 1fd68fefef8ff576fc3fac7db97f67f1. Forecasting as 1.\n",
      "Not enough data for product_id: 1fd78e3ef5fc49eddd84e82c035b682c. Forecasting as 1.\n",
      "Not enough data for product_id: 1fd95182c672cf5b10c82207ca5dab97. Forecasting as 1.\n",
      "Not enough data for product_id: 1fde73e6b6d28627ff16e222b0044b10. Forecasting as 1.\n",
      "Not enough data for product_id: 1fde7ac241af066577f1b1602435beaf. Forecasting as 1.\n"
     ]
    },
    {
     "name": "stderr",
     "output_type": "stream",
     "text": [
      "03:26:34 - cmdstanpy - INFO - Chain [1] start processing\n",
      "03:26:34 - cmdstanpy - INFO - Chain [1] done processing\n"
     ]
    },
    {
     "name": "stdout",
     "output_type": "stream",
     "text": [
      "Not enough data for product_id: 1fe7c14d5b10473294330ae485559ea1. Forecasting as 1.\n"
     ]
    },
    {
     "name": "stderr",
     "output_type": "stream",
     "text": [
      "03:26:35 - cmdstanpy - INFO - Chain [1] start processing\n",
      "03:26:35 - cmdstanpy - INFO - Chain [1] done processing\n"
     ]
    },
    {
     "name": "stdout",
     "output_type": "stream",
     "text": [
      "Not enough data for product_id: 1fea2a921fb07ca863ffdda55598bbdd. Forecasting as 1.\n",
      "Not enough data for product_id: 1fea52abea2c885fbf9c625a6a3f140a. Forecasting as 1.\n",
      "Not enough data for product_id: 1fee07af6000817a742999e65c190276. Forecasting as 1.\n",
      "Not enough data for product_id: 1ff03883acc92ad1f4eb8ed40ad25bf9. Forecasting as 1.\n",
      "Not enough data for product_id: 1ff07d822435ad0061151419f62e51aa. Forecasting as 1.\n",
      "Not enough data for product_id: 1ff0bca5b9068c1855e89ec8a9bb6382. Forecasting as 1.\n",
      "Not enough data for product_id: 1ff18eb99f2be0ccb3fb4e39d662308f. Forecasting as 1.\n",
      "Not enough data for product_id: 1ff1ab7f1fb2e52ac45d89d1b63cbfbf. Forecasting as 1.\n",
      "Not enough data for product_id: 1ffbbf003b5a076002ac9deac36b1c4c. Forecasting as 1.\n",
      "Not enough data for product_id: 1ffe0f57d9bad302d252f7df6d6d29fc. Forecasting as 1.\n",
      "Not enough data for product_id: 1ffe365aa7583189e63f2fa4f060b269. Forecasting as 1.\n",
      "Not enough data for product_id: 2007f2b457d10773f0d40622a433a22c. Forecasting as 1.\n",
      "Not enough data for product_id: 20082386a501cbd8c41765656a115a2f. Forecasting as 1.\n"
     ]
    },
    {
     "name": "stderr",
     "output_type": "stream",
     "text": [
      "03:26:41 - cmdstanpy - INFO - Chain [1] start processing\n",
      "03:26:42 - cmdstanpy - INFO - Chain [1] done processing\n"
     ]
    },
    {
     "name": "stdout",
     "output_type": "stream",
     "text": [
      "Not enough data for product_id: 200b6dfc80a2ec5fee97a72da6589698. Forecasting as 1.\n",
      "Not enough data for product_id: 200eed7d1d3482898094819dbec1cb52. Forecasting as 1.\n",
      "Not enough data for product_id: 20126b44913d3e4d5102e915f2558a7d. Forecasting as 1.\n",
      "Not enough data for product_id: 2012a57204f00f8fd57f8196130bee26. Forecasting as 1.\n",
      "Not enough data for product_id: 2015986e064ebba656b2c86e34a64f5c. Forecasting as 1.\n",
      "Not enough data for product_id: 2016dc27f7cc30f18815b34170e0ce98. Forecasting as 1.\n",
      "Not enough data for product_id: 201ec8e4fb8456dd06265be68eb419a7. Forecasting as 1.\n",
      "Not enough data for product_id: 2020db9c389956e879dd05e6250413d8. Forecasting as 1.\n",
      "Not enough data for product_id: 2022aa748485ad1226fc9519906cfcf1. Forecasting as 1.\n",
      "Not enough data for product_id: 202461254670632afd89ac8034e87453. Forecasting as 1.\n"
     ]
    },
    {
     "name": "stderr",
     "output_type": "stream",
     "text": [
      "03:26:46 - cmdstanpy - INFO - Chain [1] start processing\n",
      "03:26:46 - cmdstanpy - INFO - Chain [1] done processing\n",
      "03:26:46 - cmdstanpy - INFO - Chain [1] start processing\n",
      "03:26:47 - cmdstanpy - INFO - Chain [1] done processing\n",
      "03:26:47 - cmdstanpy - INFO - Chain [1] start processing\n",
      "03:26:47 - cmdstanpy - INFO - Chain [1] done processing\n",
      "03:26:48 - cmdstanpy - INFO - Chain [1] start processing\n",
      "03:26:48 - cmdstanpy - INFO - Chain [1] done processing\n"
     ]
    },
    {
     "name": "stdout",
     "output_type": "stream",
     "text": [
      "Not enough data for product_id: 202d7062d09aa564dfd5aaa1aac775b6. Forecasting as 1.\n",
      "Not enough data for product_id: 202e0b8be6faeeee14087bccc530befe. Forecasting as 1.\n",
      "Not enough data for product_id: 20317fb1b6bc61c03c53d595462f4e96. Forecasting as 1.\n",
      "Not enough data for product_id: 2031ee6574c322f4e3be624d8433052d. Forecasting as 1.\n",
      "Not enough data for product_id: 203270865d37baf60cc079edfa4fb6c6. Forecasting as 1.\n",
      "Not enough data for product_id: 2033d09ad6c9ca9a5f3344e4846ca449. Forecasting as 1.\n",
      "Not enough data for product_id: 2033f8047e20d2a47e76d9fa1d05fca2. Forecasting as 1.\n"
     ]
    },
    {
     "name": "stderr",
     "output_type": "stream",
     "text": [
      "03:26:51 - cmdstanpy - INFO - Chain [1] start processing\n",
      "03:26:51 - cmdstanpy - INFO - Chain [1] done processing\n"
     ]
    },
    {
     "name": "stdout",
     "output_type": "stream",
     "text": [
      "Not enough data for product_id: 2037fcc268b127d15234b91f823f734a. Forecasting as 1.\n",
      "Not enough data for product_id: 2039ecc2a76b653fb536a86a570e66d8. Forecasting as 1.\n",
      "Not enough data for product_id: 204066e9c9f66ce2f88cbf4dfcb4edce. Forecasting as 1.\n",
      "Not enough data for product_id: 20424e1f503b9ceeeee60b717b11ec36. Forecasting as 1.\n"
     ]
    },
    {
     "name": "stderr",
     "output_type": "stream",
     "text": [
      "03:26:53 - cmdstanpy - INFO - Chain [1] start processing\n",
      "03:26:53 - cmdstanpy - INFO - Chain [1] done processing\n",
      "03:26:54 - cmdstanpy - INFO - Chain [1] start processing\n",
      "03:26:54 - cmdstanpy - INFO - Chain [1] done processing\n",
      "03:26:54 - cmdstanpy - INFO - Chain [1] start processing\n",
      "03:26:54 - cmdstanpy - INFO - Chain [1] done processing\n",
      "03:26:55 - cmdstanpy - INFO - Chain [1] start processing\n",
      "03:26:55 - cmdstanpy - INFO - Chain [1] done processing\n"
     ]
    },
    {
     "name": "stdout",
     "output_type": "stream",
     "text": [
      "Not enough data for product_id: 205448428c05215b1d0bd5c9d2a1ee3c. Forecasting as 1.\n",
      "Not enough data for product_id: 20545c8a1fb497b7e692794159e7afdb. Forecasting as 1.\n"
     ]
    },
    {
     "name": "stderr",
     "output_type": "stream",
     "text": [
      "03:26:57 - cmdstanpy - INFO - Chain [1] start processing\n",
      "03:26:57 - cmdstanpy - INFO - Chain [1] done processing\n"
     ]
    },
    {
     "name": "stdout",
     "output_type": "stream",
     "text": [
      "Not enough data for product_id: 205f96ff730dd709636da2c7b9cb7ca9. Forecasting as 1.\n",
      "Not enough data for product_id: 205ff90a4060e651110a277efa4633fd. Forecasting as 1.\n",
      "Not enough data for product_id: 2068e3435a38f6a3cc95ba89a96378ab. Forecasting as 1.\n",
      "Not enough data for product_id: 206ee9f28d05f04f891e3cef4b220dd1. Forecasting as 1.\n",
      "Not enough data for product_id: 207053c7b5b4e03d5e96c0cc64e1aac2. Forecasting as 1.\n",
      "Not enough data for product_id: 2072d4792ab7893ddbfc178948e0eb86. Forecasting as 1.\n",
      "Not enough data for product_id: 2077f60cc760ebe4b478e0b0711c5218. Forecasting as 1.\n",
      "Not enough data for product_id: 208026b3551ff84253421d9f26099f6f. Forecasting as 1.\n"
     ]
    },
    {
     "name": "stderr",
     "output_type": "stream",
     "text": [
      "03:27:01 - cmdstanpy - INFO - Chain [1] start processing\n",
      "03:27:01 - cmdstanpy - INFO - Chain [1] done processing\n"
     ]
    },
    {
     "name": "stdout",
     "output_type": "stream",
     "text": [
      "Not enough data for product_id: 2084a7e9b0fac4aca4265ccd0240bd0d. Forecasting as 1.\n",
      "Not enough data for product_id: 2084c51a6e1430640e5acf4443da90f5. Forecasting as 1.\n",
      "Not enough data for product_id: 20856303113ea417297aa919436cf183. Forecasting as 1.\n",
      "Not enough data for product_id: 2085b8256faaa5fa29b2bc321eb053d9. Forecasting as 1.\n",
      "Not enough data for product_id: 208c1210f363c82510f5609d5feb0341. Forecasting as 1.\n",
      "Not enough data for product_id: 208e1df130afb08c59c387b356bc149a. Forecasting as 1.\n",
      "Not enough data for product_id: 208eaf2a4764834fb8da989159a30a20. Forecasting as 1.\n",
      "Not enough data for product_id: 20987b1deed06bb23b0d711f72a1370d. Forecasting as 1.\n",
      "Not enough data for product_id: 2098d8789ee89ca57f6c50977b4ab962. Forecasting as 1.\n"
     ]
    },
    {
     "name": "stderr",
     "output_type": "stream",
     "text": [
      "03:27:05 - cmdstanpy - INFO - Chain [1] start processing\n",
      "03:27:05 - cmdstanpy - INFO - Chain [1] done processing\n"
     ]
    },
    {
     "name": "stdout",
     "output_type": "stream",
     "text": [
      "Not enough data for product_id: 209d347513cb03998c962964dc046f93. Forecasting as 1.\n",
      "Not enough data for product_id: 209f718c43a6b301bd760948b9342b7a. Forecasting as 1.\n",
      "Not enough data for product_id: 209f9d016dbdb12e4fdbf57e5827fd9c. Forecasting as 1.\n",
      "Not enough data for product_id: 20a0eed2151a01394b7656d7269b11db. Forecasting as 1.\n"
     ]
    },
    {
     "name": "stderr",
     "output_type": "stream",
     "text": [
      "03:27:06 - cmdstanpy - INFO - Chain [1] start processing\n",
      "03:27:09 - cmdstanpy - INFO - Chain [1] done processing\n"
     ]
    },
    {
     "name": "stdout",
     "output_type": "stream",
     "text": [
      "Not enough data for product_id: 20a2ade5928c55d0e72c2299091c66e4. Forecasting as 1.\n",
      "Not enough data for product_id: 20a56bb6cee7a1b8e02e245e637e1b8b. Forecasting as 1.\n"
     ]
    },
    {
     "name": "stderr",
     "output_type": "stream",
     "text": [
      "03:27:10 - cmdstanpy - INFO - Chain [1] start processing\n",
      "03:27:13 - cmdstanpy - INFO - Chain [1] done processing\n"
     ]
    },
    {
     "name": "stdout",
     "output_type": "stream",
     "text": [
      "Not enough data for product_id: 20a8603c265d777e25da064113d556f5. Forecasting as 1.\n"
     ]
    },
    {
     "name": "stderr",
     "output_type": "stream",
     "text": [
      "03:27:14 - cmdstanpy - INFO - Chain [1] start processing\n",
      "03:27:14 - cmdstanpy - INFO - Chain [1] done processing\n"
     ]
    },
    {
     "name": "stdout",
     "output_type": "stream",
     "text": [
      "Not enough data for product_id: 20ae7c024ede613f47e0d2f23f461493. Forecasting as 1.\n"
     ]
    },
    {
     "name": "stderr",
     "output_type": "stream",
     "text": [
      "03:27:15 - cmdstanpy - INFO - Chain [1] start processing\n",
      "03:27:15 - cmdstanpy - INFO - Chain [1] done processing\n"
     ]
    },
    {
     "name": "stdout",
     "output_type": "stream",
     "text": [
      "Not enough data for product_id: 20b4ef73ecadd46e16830ece8483b656. Forecasting as 1.\n",
      "Not enough data for product_id: 20b7215f127656c56776983719ba603a. Forecasting as 1.\n",
      "Not enough data for product_id: 20ba887d70d6841cc13bcd65338c220a. Forecasting as 1.\n",
      "Not enough data for product_id: 20bcfbb4c385ac8feaab2bff523a5694. Forecasting as 1.\n",
      "Not enough data for product_id: 20c036a30ef670a7591c160758fe0b65. Forecasting as 1.\n",
      "Not enough data for product_id: 20c26b058070cf8c6bbb8c8943eea98c. Forecasting as 1.\n",
      "Not enough data for product_id: 20c69858ff6c402d1713747d81b5c23f. Forecasting as 1.\n",
      "Not enough data for product_id: 20c74b29c2264ca5ddce774c34d98dc3. Forecasting as 1.\n",
      "Not enough data for product_id: 20c7734379b9740b6ac065132d5a353c. Forecasting as 1.\n",
      "Not enough data for product_id: 20c958f2273adb5449e7c2f644d27805. Forecasting as 1.\n",
      "Not enough data for product_id: 20ce586ed16cb9fb534673dfd97c2bd3. Forecasting as 1.\n",
      "Not enough data for product_id: 20d5583ac76a88720b002f353afec2d0. Forecasting as 1.\n",
      "Not enough data for product_id: 20d672f52195d2c20168f758a77303d6. Forecasting as 1.\n",
      "Not enough data for product_id: 20d7e618ee9f33f59efe64ca4059d185. Forecasting as 1.\n",
      "Not enough data for product_id: 20da3eeeb6af0e217f80b316439a94be. Forecasting as 1.\n",
      "Not enough data for product_id: 20db47207304d368821e99cd7c56c635. Forecasting as 1.\n",
      "Not enough data for product_id: 20dce72985857d1c8d09d506a8ec5187. Forecasting as 1.\n",
      "Not enough data for product_id: 20dfc860c4bf533f00053ad778d01a66. Forecasting as 1.\n",
      "Not enough data for product_id: 20e04dcc7b37710b6fe52237cbe2a274. Forecasting as 1.\n",
      "Not enough data for product_id: 20e37962088a4061d3578def47a8648b. Forecasting as 1.\n"
     ]
    },
    {
     "name": "stderr",
     "output_type": "stream",
     "text": [
      "03:27:25 - cmdstanpy - INFO - Chain [1] start processing\n",
      "03:27:27 - cmdstanpy - INFO - Chain [1] done processing\n"
     ]
    },
    {
     "name": "stdout",
     "output_type": "stream",
     "text": [
      "Not enough data for product_id: 20e52965ed6d9e498b87dd87d050afbd. Forecasting as 1.\n"
     ]
    },
    {
     "name": "stderr",
     "output_type": "stream",
     "text": [
      "03:27:28 - cmdstanpy - INFO - Chain [1] start processing\n",
      "03:27:31 - cmdstanpy - INFO - Chain [1] done processing\n"
     ]
    },
    {
     "name": "stdout",
     "output_type": "stream",
     "text": [
      "Not enough data for product_id: 20e638b21cd236147992f02fbdcf0673. Forecasting as 1.\n",
      "Not enough data for product_id: 20eab4e586b92282d6975f9236968340. Forecasting as 1.\n",
      "Not enough data for product_id: 20ec8e42e1022b8e6081e58608d0937d. Forecasting as 1.\n",
      "Not enough data for product_id: 20ecd51a1e2c3e5cc72096b2ce0d29d5. Forecasting as 1.\n",
      "Not enough data for product_id: 20ece3dbcbffb5f6589a6f0cebb485fc. Forecasting as 1.\n",
      "Not enough data for product_id: 20ee98f10c16f05a43db060ab1cbfd7e. Forecasting as 1.\n",
      "Not enough data for product_id: 20eec5e935bad5e35e6fd4a6af9b1a63. Forecasting as 1.\n",
      "Not enough data for product_id: 20f0c3fea244885a018ecb6e263aa9d9. Forecasting as 1.\n"
     ]
    },
    {
     "name": "stderr",
     "output_type": "stream",
     "text": [
      "03:27:34 - cmdstanpy - INFO - Chain [1] start processing\n",
      "03:27:34 - cmdstanpy - INFO - Chain [1] done processing\n"
     ]
    },
    {
     "name": "stdout",
     "output_type": "stream",
     "text": [
      "Not enough data for product_id: 20f23f339bacbc1863017f4d0619cee4. Forecasting as 1.\n"
     ]
    },
    {
     "name": "stderr",
     "output_type": "stream",
     "text": [
      "03:27:35 - cmdstanpy - INFO - Chain [1] start processing\n",
      "03:27:35 - cmdstanpy - INFO - Chain [1] done processing\n"
     ]
    },
    {
     "name": "stdout",
     "output_type": "stream",
     "text": [
      "Not enough data for product_id: 20fbf8f8316bd76f105599ecc7e485f7. Forecasting as 1.\n",
      "Not enough data for product_id: 20fd0be27c1aa68faa30d494b21a4a1a. Forecasting as 1.\n",
      "Not enough data for product_id: 20fe497c2f839ab186f043e9f5a78b2e. Forecasting as 1.\n",
      "Not enough data for product_id: 21025aea6e634ed0ab9709a4fa5fb69c. Forecasting as 1.\n",
      "Not enough data for product_id: 210763646bb56ada2fd99ff322278973. Forecasting as 1.\n",
      "Not enough data for product_id: 2109e8aeedbade2096a471740fb9e798. Forecasting as 1.\n"
     ]
    },
    {
     "name": "stderr",
     "output_type": "stream",
     "text": [
      "03:27:39 - cmdstanpy - INFO - Chain [1] start processing\n",
      "03:28:12 - cmdstanpy - INFO - Chain [1] done processing\n"
     ]
    },
    {
     "name": "stdout",
     "output_type": "stream",
     "text": [
      "Not enough data for product_id: 210e7569afac412f6f444621ed323449. Forecasting as 1.\n",
      "Not enough data for product_id: 210f0fc19063f1cbddd677a13d6e489f. Forecasting as 1.\n"
     ]
    },
    {
     "name": "stderr",
     "output_type": "stream",
     "text": [
      "03:28:13 - cmdstanpy - INFO - Chain [1] start processing\n",
      "03:28:14 - cmdstanpy - INFO - Chain [1] done processing\n"
     ]
    },
    {
     "name": "stdout",
     "output_type": "stream",
     "text": [
      "Not enough data for product_id: 2113a6ce0fd2c2cbe118360bad4ac445. Forecasting as 1.\n",
      "Not enough data for product_id: 2115a2dcb35d50b3726fbd24ab04aaa1. Forecasting as 1.\n"
     ]
    },
    {
     "name": "stderr",
     "output_type": "stream",
     "text": [
      "03:28:15 - cmdstanpy - INFO - Chain [1] start processing\n",
      "03:28:15 - cmdstanpy - INFO - Chain [1] done processing\n"
     ]
    },
    {
     "name": "stdout",
     "output_type": "stream",
     "text": [
      "Not enough data for product_id: 211c67e3e61d45efe54ed020191d042f. Forecasting as 1.\n"
     ]
    },
    {
     "name": "stderr",
     "output_type": "stream",
     "text": [
      "03:28:15 - cmdstanpy - INFO - Chain [1] start processing\n",
      "03:28:15 - cmdstanpy - INFO - Chain [1] done processing\n"
     ]
    },
    {
     "name": "stdout",
     "output_type": "stream",
     "text": [
      "Not enough data for product_id: 211d84789fe01a27d1e5e12a60a30c85. Forecasting as 1.\n",
      "Not enough data for product_id: 212cc0fa7359ab242a697a03a574f719. Forecasting as 1.\n"
     ]
    },
    {
     "name": "stderr",
     "output_type": "stream",
     "text": [
      "03:28:18 - cmdstanpy - INFO - Chain [1] start processing\n",
      "03:28:18 - cmdstanpy - INFO - Chain [1] done processing\n"
     ]
    },
    {
     "name": "stdout",
     "output_type": "stream",
     "text": [
      "Not enough data for product_id: 213875479a90df7b399cee17003be95c. Forecasting as 1.\n",
      "Not enough data for product_id: 213df31f080d32e31dff225207c354a3. Forecasting as 1.\n",
      "Not enough data for product_id: 214182ef6dd2635420e172166e7ee047. Forecasting as 1.\n",
      "Not enough data for product_id: 2145a2868aaca837f92fd4bf1b6db163. Forecasting as 1.\n",
      "Not enough data for product_id: 2146114f819e6e6b2bd299addcd4bae1. Forecasting as 1.\n",
      "Not enough data for product_id: 2149e9d51d629c16ce77c0f14c887e01. Forecasting as 1.\n",
      "Not enough data for product_id: 214b2d4bc9a6b09243f5e27b9fa96d4a. Forecasting as 1.\n",
      "Not enough data for product_id: 214d074d545a9cedee55284805a1335f. Forecasting as 1.\n",
      "Not enough data for product_id: 214e5e86400971b7f46f64ce6c737d33. Forecasting as 1.\n",
      "Not enough data for product_id: 214f3ddd6bf0b37fcc394a822e319a30. Forecasting as 1.\n",
      "Not enough data for product_id: 2150745318bfb3f51bb7b99fb9b38ca7. Forecasting as 1.\n",
      "Not enough data for product_id: 215350c42aaf9bcdd3fab5301453d7a9. Forecasting as 1.\n",
      "Not enough data for product_id: 21538f484ba135893f2b51c8b8750966. Forecasting as 1.\n"
     ]
    },
    {
     "name": "stderr",
     "output_type": "stream",
     "text": [
      "03:28:23 - cmdstanpy - INFO - Chain [1] start processing\n",
      "03:28:23 - cmdstanpy - INFO - Chain [1] done processing\n"
     ]
    },
    {
     "name": "stdout",
     "output_type": "stream",
     "text": [
      "Not enough data for product_id: 215d6de5878361301ea712b9d36dee94. Forecasting as 1.\n",
      "Not enough data for product_id: 216085c4602f1d5e004e8e204a1c9752. Forecasting as 1.\n",
      "Not enough data for product_id: 216414cd4aad908188257071249e0cc3. Forecasting as 1.\n",
      "Not enough data for product_id: 216b222c2a8c6918d4203f3cbefb8568. Forecasting as 1.\n"
     ]
    },
    {
     "name": "stderr",
     "output_type": "stream",
     "text": [
      "03:28:26 - cmdstanpy - INFO - Chain [1] start processing\n",
      "03:28:26 - cmdstanpy - INFO - Chain [1] done processing\n",
      "03:28:26 - cmdstanpy - INFO - Chain [1] start processing\n",
      "03:28:27 - cmdstanpy - INFO - Chain [1] done processing\n"
     ]
    },
    {
     "name": "stdout",
     "output_type": "stream",
     "text": [
      "Not enough data for product_id: 216fc7d2fe90eccd658f30cab5bafa83. Forecasting as 1.\n",
      "Not enough data for product_id: 217069e9233500f56584e23e8fb5489f. Forecasting as 1.\n",
      "Not enough data for product_id: 2172cc642285306d7cc942de518173a2. Forecasting as 1.\n",
      "Not enough data for product_id: 21733435c91b1a39455537eeacd3c467. Forecasting as 1.\n",
      "Not enough data for product_id: 2174a02a3c42e648e408c9b3505c54d3. Forecasting as 1.\n",
      "Not enough data for product_id: 217967bea3b974779feb2aabef6c9592. Forecasting as 1.\n",
      "Not enough data for product_id: 217acb8d395f2dba1228410a1bf20d29. Forecasting as 1.\n",
      "Not enough data for product_id: 2180541a551b218f67e8bd22614688d1. Forecasting as 1.\n",
      "Not enough data for product_id: 218bdd5d01fa000018c777fcc2bbfebd. Forecasting as 1.\n",
      "Not enough data for product_id: 218c9d6d7c61785529b97cf822756207. Forecasting as 1.\n",
      "Not enough data for product_id: 218d038ff5f2acccebb3cc1d452a911b. Forecasting as 1.\n",
      "Not enough data for product_id: 218f1b2280dec0aeadd2878022fb1e0d. Forecasting as 1.\n"
     ]
    },
    {
     "name": "stderr",
     "output_type": "stream",
     "text": [
      "03:28:33 - cmdstanpy - INFO - Chain [1] start processing\n",
      "03:28:34 - cmdstanpy - INFO - Chain [1] done processing\n",
      "03:28:35 - cmdstanpy - INFO - Chain [1] start processing\n",
      "03:28:35 - cmdstanpy - INFO - Chain [1] done processing\n"
     ]
    },
    {
     "name": "stdout",
     "output_type": "stream",
     "text": [
      "Not enough data for product_id: 21a13332dcf9044716216914708f5d11. Forecasting as 1.\n",
      "Not enough data for product_id: 21a23f7375628a983f0496f2511e62fa. Forecasting as 1.\n",
      "Not enough data for product_id: 21a44a88917ec2c8db5908b4942e8d47. Forecasting as 1.\n",
      "Not enough data for product_id: 21a53da27d4b830f32f475a09f0bd54a. Forecasting as 1.\n",
      "Not enough data for product_id: 21a60ea134ec6f7e1544c4c71b998235. Forecasting as 1.\n",
      "Not enough data for product_id: 21a6e75c9c60427dc2e76f267f7e09e7. Forecasting as 1.\n"
     ]
    },
    {
     "name": "stderr",
     "output_type": "stream",
     "text": [
      "03:28:39 - cmdstanpy - INFO - Chain [1] start processing\n",
      "03:28:39 - cmdstanpy - INFO - Chain [1] done processing\n",
      "03:28:40 - cmdstanpy - INFO - Chain [1] start processing\n",
      "03:28:40 - cmdstanpy - INFO - Chain [1] done processing\n"
     ]
    },
    {
     "name": "stdout",
     "output_type": "stream",
     "text": [
      "Not enough data for product_id: 21b4d9c7183dd6f20f584f35c09bd361. Forecasting as 1.\n"
     ]
    },
    {
     "name": "stderr",
     "output_type": "stream",
     "text": [
      "03:28:41 - cmdstanpy - INFO - Chain [1] start processing\n",
      "03:28:43 - cmdstanpy - INFO - Chain [1] done processing\n"
     ]
    },
    {
     "name": "stdout",
     "output_type": "stream",
     "text": [
      "Not enough data for product_id: 21b8d4953c15b92f2f965c89dc35f5ad. Forecasting as 1.\n",
      "Not enough data for product_id: 21b9b9a3c79c6ced9c182a18e95aa159. Forecasting as 1.\n"
     ]
    },
    {
     "name": "stderr",
     "output_type": "stream",
     "text": [
      "03:28:44 - cmdstanpy - INFO - Chain [1] start processing\n",
      "03:28:44 - cmdstanpy - INFO - Chain [1] done processing\n"
     ]
    },
    {
     "name": "stdout",
     "output_type": "stream",
     "text": [
      "Not enough data for product_id: 21c080d8ac76a1d2b095d6353864a24f. Forecasting as 1.\n",
      "Not enough data for product_id: 21c0985594816cf11cf7cfc0631f6f1f. Forecasting as 1.\n",
      "Not enough data for product_id: 21caff3913095987c249438138d0ef23. Forecasting as 1.\n",
      "Not enough data for product_id: 21cba128dedfe6bf04bfde715aef5355. Forecasting as 1.\n",
      "Not enough data for product_id: 21d325f98c6505a72b1bcf363f3d3f88. Forecasting as 1.\n",
      "Not enough data for product_id: 21d512be0373dc6a55cf1c97977076d0. Forecasting as 1.\n",
      "Not enough data for product_id: 21d63115435202a00f15d5e4803ce982. Forecasting as 1.\n",
      "Not enough data for product_id: 21d7610668a41f5ef8f24bfa0e13b315. Forecasting as 1.\n",
      "Not enough data for product_id: 21d8df2fdfe62af4f016be4e49e78f2b. Forecasting as 1.\n",
      "Not enough data for product_id: 21db47f6493b06e8e7fc562ec9890e77. Forecasting as 1.\n",
      "Not enough data for product_id: 21dd96fd31df21001d8e5b7a3fac9335. Forecasting as 1.\n",
      "Not enough data for product_id: 21e09cd30bfe8dd795517cf1fab6359a. Forecasting as 1.\n",
      "Not enough data for product_id: 21e288a2a0d211749ff4b8f475b48557. Forecasting as 1.\n",
      "Not enough data for product_id: 21e4321fa558327afe025bfb800a8bff. Forecasting as 1.\n",
      "Not enough data for product_id: 21edbdf0b0622b2ed89051c88ae8d43c. Forecasting as 1.\n"
     ]
    },
    {
     "name": "stderr",
     "output_type": "stream",
     "text": [
      "03:28:50 - cmdstanpy - INFO - Chain [1] start processing\n",
      "03:28:52 - cmdstanpy - INFO - Chain [1] done processing\n"
     ]
    },
    {
     "name": "stdout",
     "output_type": "stream",
     "text": [
      "Not enough data for product_id: 21eec44e96af78db0af3e283c61b5200. Forecasting as 1.\n",
      "Not enough data for product_id: 21efeb0e47f3328f86002eda80b63321. Forecasting as 1.\n",
      "Not enough data for product_id: 21f1d2b20d4942a15894bd1232b05a5e. Forecasting as 1.\n",
      "Not enough data for product_id: 21f8d380f12105e9b35b919553d70380. Forecasting as 1.\n",
      "Not enough data for product_id: 21fadcf38b21749b444f0619ccecd90c. Forecasting as 1.\n"
     ]
    },
    {
     "name": "stderr",
     "output_type": "stream",
     "text": [
      "03:28:54 - cmdstanpy - INFO - Chain [1] start processing\n",
      "03:28:54 - cmdstanpy - INFO - Chain [1] done processing\n"
     ]
    },
    {
     "name": "stdout",
     "output_type": "stream",
     "text": [
      "Not enough data for product_id: 21ff08c8ad08521e34ac18dcc59be52c. Forecasting as 1.\n",
      "Not enough data for product_id: 2202fbe16d5626431835d6000350cea3. Forecasting as 1.\n",
      "Not enough data for product_id: 22036f187132350920aea5aa0bb01935. Forecasting as 1.\n",
      "Not enough data for product_id: 22052cf3cf96687b8469406f71bafb62. Forecasting as 1.\n",
      "Not enough data for product_id: 2207c945af0d585ac31121c9d87e4546. Forecasting as 1.\n",
      "Not enough data for product_id: 22092edc4bf1615d12bbc3ab17d3d600. Forecasting as 1.\n",
      "Not enough data for product_id: 220936209904d02af36d9aabe5343c8a. Forecasting as 1.\n",
      "Not enough data for product_id: 220a2b9dd1e9990876de0ac999e1a33c. Forecasting as 1.\n",
      "Not enough data for product_id: 22128ba7595e6783c7565d9e16230f58. Forecasting as 1.\n",
      "Not enough data for product_id: 2215034e518b8ae4090da2aebf8f7df8. Forecasting as 1.\n",
      "Not enough data for product_id: 221734613a802d62bb706f54ae56f970. Forecasting as 1.\n",
      "Not enough data for product_id: 2221e4ebc496addaa386a27a6a19e9b2. Forecasting as 1.\n"
     ]
    },
    {
     "name": "stderr",
     "output_type": "stream",
     "text": [
      "03:28:59 - cmdstanpy - INFO - Chain [1] start processing\n",
      "03:28:59 - cmdstanpy - INFO - Chain [1] done processing\n",
      "03:29:00 - cmdstanpy - INFO - Chain [1] start processing\n",
      "03:29:00 - cmdstanpy - INFO - Chain [1] done processing\n"
     ]
    },
    {
     "name": "stdout",
     "output_type": "stream",
     "text": [
      "Not enough data for product_id: 2229e1a49998dfdfb513683e0e378ae8. Forecasting as 1.\n"
     ]
    },
    {
     "name": "stderr",
     "output_type": "stream",
     "text": [
      "03:29:01 - cmdstanpy - INFO - Chain [1] start processing\n",
      "03:29:05 - cmdstanpy - INFO - Chain [1] done processing\n"
     ]
    },
    {
     "name": "stdout",
     "output_type": "stream",
     "text": [
      "Not enough data for product_id: 22321b01eaba7d5cbf0978523f20fa06. Forecasting as 1.\n",
      "Not enough data for product_id: 2233b59e8cf2817f9659e52cce3093de. Forecasting as 1.\n",
      "Not enough data for product_id: 2235d08138bfce7801a73463a3168ea5. Forecasting as 1.\n",
      "Not enough data for product_id: 2236aad5e8fec12fe56de6b503b6f896. Forecasting as 1.\n"
     ]
    },
    {
     "name": "stderr",
     "output_type": "stream",
     "text": [
      "03:29:08 - cmdstanpy - INFO - Chain [1] start processing\n",
      "03:29:08 - cmdstanpy - INFO - Chain [1] done processing\n"
     ]
    },
    {
     "name": "stdout",
     "output_type": "stream",
     "text": [
      "Not enough data for product_id: 2245f9825a544daf9adb59c50d0eae03. Forecasting as 1.\n",
      "Not enough data for product_id: 224703229a7c966a5b191651e1561be2. Forecasting as 1.\n",
      "Not enough data for product_id: 224e8e64188b2731d83c3f5bfebd29d3. Forecasting as 1.\n",
      "Not enough data for product_id: 22500b6336f180e88d85ec61888a1f1a. Forecasting as 1.\n",
      "Not enough data for product_id: 2251aec7efe1a143690c889ff64ceb8a. Forecasting as 1.\n",
      "Not enough data for product_id: 22544bc3cbb21d6fca8630805448ed93. Forecasting as 1.\n",
      "Not enough data for product_id: 22560e21f2b8afbeb6939cab114839f3. Forecasting as 1.\n"
     ]
    },
    {
     "name": "stderr",
     "output_type": "stream",
     "text": [
      "03:29:12 - cmdstanpy - INFO - Chain [1] start processing\n",
      "03:29:12 - cmdstanpy - INFO - Chain [1] done processing\n"
     ]
    },
    {
     "name": "stdout",
     "output_type": "stream",
     "text": [
      "Not enough data for product_id: 225d62bfb53c4e74ed7d30d1fed23fb5. Forecasting as 1.\n"
     ]
    },
    {
     "name": "stderr",
     "output_type": "stream",
     "text": [
      "03:29:13 - cmdstanpy - INFO - Chain [1] start processing\n",
      "03:29:13 - cmdstanpy - INFO - Chain [1] done processing\n",
      "03:29:13 - cmdstanpy - INFO - Chain [1] start processing\n",
      "03:29:16 - cmdstanpy - INFO - Chain [1] done processing\n",
      "03:29:17 - cmdstanpy - INFO - Chain [1] start processing\n",
      "03:29:17 - cmdstanpy - INFO - Chain [1] done processing\n"
     ]
    },
    {
     "name": "stdout",
     "output_type": "stream",
     "text": [
      "Not enough data for product_id: 226b3973913b6154cb1102026822360d. Forecasting as 1.\n"
     ]
    },
    {
     "name": "stderr",
     "output_type": "stream",
     "text": [
      "03:29:18 - cmdstanpy - INFO - Chain [1] start processing\n",
      "03:29:18 - cmdstanpy - INFO - Chain [1] done processing\n"
     ]
    },
    {
     "name": "stdout",
     "output_type": "stream",
     "text": [
      "Not enough data for product_id: 226ed57b23d44cff0ee5aabd9f268fd8. Forecasting as 1.\n",
      "Not enough data for product_id: 2271f1b02a9f6a019017bc05f7a8b8ef. Forecasting as 1.\n",
      "Not enough data for product_id: 22731e85c06982660a09c2ceb576ede6. Forecasting as 1.\n",
      "Not enough data for product_id: 22776ebd2bfdf5f55499fd324862a673. Forecasting as 1.\n",
      "Not enough data for product_id: 227ae51127a60b162b1696de1cc8a10b. Forecasting as 1.\n",
      "Not enough data for product_id: 227bdd697845ec3537a795cc900e715d. Forecasting as 1.\n",
      "Not enough data for product_id: 2284b28ca179d66957a67ef01a5b7d6c. Forecasting as 1.\n"
     ]
    },
    {
     "name": "stderr",
     "output_type": "stream",
     "text": [
      "03:29:21 - cmdstanpy - INFO - Chain [1] start processing\n",
      "03:29:22 - cmdstanpy - INFO - Chain [1] done processing\n"
     ]
    },
    {
     "name": "stdout",
     "output_type": "stream",
     "text": [
      "Not enough data for product_id: 22914988306f1235a3e5fff32403d205. Forecasting as 1.\n"
     ]
    },
    {
     "name": "stderr",
     "output_type": "stream",
     "text": [
      "03:29:22 - cmdstanpy - INFO - Chain [1] start processing\n",
      "03:29:22 - cmdstanpy - INFO - Chain [1] done processing\n"
     ]
    },
    {
     "name": "stdout",
     "output_type": "stream",
     "text": [
      "Not enough data for product_id: 22937a73f92a33040ab4e2540355a5d8. Forecasting as 1.\n",
      "Not enough data for product_id: 2293f7375b46e963e55be5b56d3b77b0. Forecasting as 1.\n",
      "Not enough data for product_id: 229e0aa8bfc8fc368eab501695dbcef3. Forecasting as 1.\n",
      "Not enough data for product_id: 22a0a4cfaf39559db703230823bdc13a. Forecasting as 1.\n"
     ]
    },
    {
     "name": "stderr",
     "output_type": "stream",
     "text": [
      "03:29:24 - cmdstanpy - INFO - Chain [1] start processing\n",
      "03:29:26 - cmdstanpy - INFO - Chain [1] done processing\n"
     ]
    },
    {
     "name": "stdout",
     "output_type": "stream",
     "text": [
      "Not enough data for product_id: 22a4657fae391d977b8dfe09b590ee6c. Forecasting as 1.\n"
     ]
    },
    {
     "name": "stderr",
     "output_type": "stream",
     "text": [
      "03:29:27 - cmdstanpy - INFO - Chain [1] start processing\n",
      "03:29:32 - cmdstanpy - INFO - Chain [1] done processing\n"
     ]
    },
    {
     "name": "stdout",
     "output_type": "stream",
     "text": [
      "Not enough data for product_id: 22a9261581e6b57ea62af3efbd6975a0. Forecasting as 1.\n",
      "Not enough data for product_id: 22acbb4638c65fd0e689a35f11cda340. Forecasting as 1.\n",
      "Not enough data for product_id: 22b01577238399e86ecd3a882617f88d. Forecasting as 1.\n",
      "Not enough data for product_id: 22b389f7d49493889ceda26c606ea0af. Forecasting as 1.\n",
      "Not enough data for product_id: 22bb87b27484c91c055cca7fd6d0793a. Forecasting as 1.\n",
      "Not enough data for product_id: 22c051b01971f34702857840a0e03fab. Forecasting as 1.\n",
      "Not enough data for product_id: 22c404f4f28ee0c4d62d5af7993ecffa. Forecasting as 1.\n"
     ]
    },
    {
     "name": "stderr",
     "output_type": "stream",
     "text": [
      "03:29:35 - cmdstanpy - INFO - Chain [1] start processing\n",
      "03:29:35 - cmdstanpy - INFO - Chain [1] done processing\n"
     ]
    },
    {
     "name": "stdout",
     "output_type": "stream",
     "text": [
      "Not enough data for product_id: 22c7191da97262f0f39de80e1951dce2. Forecasting as 1.\n",
      "Not enough data for product_id: 22c73d4d1eccb8e2ef7a084b3e345b30. Forecasting as 1.\n",
      "Not enough data for product_id: 22cae88a3d0dfb90553827c761728e55. Forecasting as 1.\n",
      "Not enough data for product_id: 22d180b9ee4f302fea5be73325dfea3b. Forecasting as 1.\n"
     ]
    },
    {
     "name": "stderr",
     "output_type": "stream",
     "text": [
      "03:29:38 - cmdstanpy - INFO - Chain [1] start processing\n",
      "03:29:38 - cmdstanpy - INFO - Chain [1] done processing\n"
     ]
    },
    {
     "name": "stdout",
     "output_type": "stream",
     "text": [
      "Not enough data for product_id: 22d4437444eadc9f1c695f24d3f1aac5. Forecasting as 1.\n",
      "Not enough data for product_id: 22d65c4f3ab25834df12163a3403da32. Forecasting as 1.\n",
      "Not enough data for product_id: 22da4aff3a8e3f4eb7dbc2220d737651. Forecasting as 1.\n",
      "Not enough data for product_id: 22dcd61aae0f6d1acc992914bc67a0e5. Forecasting as 1.\n",
      "Not enough data for product_id: 22dd24a9dd84994cf260ad173576d1d5. Forecasting as 1.\n",
      "Not enough data for product_id: 22dfa7d077d1088aba3095c67ee10a9a. Forecasting as 1.\n"
     ]
    },
    {
     "name": "stderr",
     "output_type": "stream",
     "text": [
      "03:29:40 - cmdstanpy - INFO - Chain [1] start processing\n",
      "03:29:40 - cmdstanpy - INFO - Chain [1] done processing\n"
     ]
    },
    {
     "name": "stdout",
     "output_type": "stream",
     "text": [
      "Not enough data for product_id: 22e5bd0a94fa88bf9fd09b2fca94afa4. Forecasting as 1.\n",
      "Not enough data for product_id: 22e8a1571e0f8e1aeac77c01ae28539c. Forecasting as 1.\n",
      "Not enough data for product_id: 22e9d458875333a868ae17fc894781e5. Forecasting as 1.\n",
      "Not enough data for product_id: 22efa53845d9cebeb7e16978645797ad. Forecasting as 1.\n"
     ]
    },
    {
     "name": "stderr",
     "output_type": "stream",
     "text": [
      "03:29:42 - cmdstanpy - INFO - Chain [1] start processing\n",
      "03:29:43 - cmdstanpy - INFO - Chain [1] done processing\n",
      "03:29:44 - cmdstanpy - INFO - Chain [1] start processing\n",
      "03:29:45 - cmdstanpy - INFO - Chain [1] done processing\n"
     ]
    },
    {
     "name": "stdout",
     "output_type": "stream",
     "text": [
      "Not enough data for product_id: 22f80c8069aff9c90b22803e6aec51f5. Forecasting as 1.\n",
      "Not enough data for product_id: 22f8b1ebff0ccf1828c7179dbf84d983. Forecasting as 1.\n",
      "Not enough data for product_id: 22f9bcc7235913f6ae3011796a4f4bbe. Forecasting as 1.\n",
      "Not enough data for product_id: 22fc8dc1de226d2a731f5fa50303c388. Forecasting as 1.\n"
     ]
    },
    {
     "name": "stderr",
     "output_type": "stream",
     "text": [
      "03:29:46 - cmdstanpy - INFO - Chain [1] start processing\n",
      "03:29:46 - cmdstanpy - INFO - Chain [1] done processing\n"
     ]
    },
    {
     "name": "stdout",
     "output_type": "stream",
     "text": [
      "Not enough data for product_id: 230518381a40a558cfbd1a9d0b73daa2. Forecasting as 1.\n",
      "Not enough data for product_id: 2307240c5347bb41a709a1ab8e38b5ff. Forecasting as 1.\n",
      "Not enough data for product_id: 230aa1590e1e7bc88252d8f1649109c2. Forecasting as 1.\n",
      "Not enough data for product_id: 230ce9f6bbf76fd85d941adb9213b018. Forecasting as 1.\n",
      "Not enough data for product_id: 2313473f41d436067b860c4b890924dd. Forecasting as 1.\n",
      "Not enough data for product_id: 23178b11e22e9265d208346b0607974b. Forecasting as 1.\n",
      "Not enough data for product_id: 23182071dae29b744722e647c64e8fe2. Forecasting as 1.\n",
      "Not enough data for product_id: 23183e8f6ee8b057ef5dd6fe16525ab9. Forecasting as 1.\n",
      "Not enough data for product_id: 2318cf75da074f0a955f60eda2f9e320. Forecasting as 1.\n",
      "Not enough data for product_id: 231a4c5f70ff00bbb2d76f80604af2ff. Forecasting as 1.\n",
      "Not enough data for product_id: 23206e13f48ea61c1ce141465951d74f. Forecasting as 1.\n"
     ]
    },
    {
     "name": "stderr",
     "output_type": "stream",
     "text": [
      "03:29:50 - cmdstanpy - INFO - Chain [1] start processing\n",
      "03:29:50 - cmdstanpy - INFO - Chain [1] done processing\n"
     ]
    },
    {
     "name": "stdout",
     "output_type": "stream",
     "text": [
      "Not enough data for product_id: 2328b70112728ace35ac8d11bf4d90f6. Forecasting as 1.\n"
     ]
    },
    {
     "name": "stderr",
     "output_type": "stream",
     "text": [
      "03:29:51 - cmdstanpy - INFO - Chain [1] start processing\n",
      "03:29:51 - cmdstanpy - INFO - Chain [1] done processing\n"
     ]
    },
    {
     "name": "stdout",
     "output_type": "stream",
     "text": [
      "Not enough data for product_id: 232a5adb0fc1881bbfeb03560c639c31. Forecasting as 1.\n",
      "Not enough data for product_id: 232b2effc9d2cc8f1e696e65e108797c. Forecasting as 1.\n",
      "Not enough data for product_id: 232f608487cd2ed6669631eb468f2ed0. Forecasting as 1.\n"
     ]
    },
    {
     "name": "stderr",
     "output_type": "stream",
     "text": [
      "03:29:54 - cmdstanpy - INFO - Chain [1] start processing\n",
      "03:29:54 - cmdstanpy - INFO - Chain [1] done processing\n"
     ]
    },
    {
     "name": "stdout",
     "output_type": "stream",
     "text": [
      "Not enough data for product_id: 2332f34b4b3eb82c326126ed5eef6478. Forecasting as 1.\n"
     ]
    },
    {
     "name": "stderr",
     "output_type": "stream",
     "text": [
      "03:29:55 - cmdstanpy - INFO - Chain [1] start processing\n",
      "03:29:55 - cmdstanpy - INFO - Chain [1] done processing\n",
      "03:29:55 - cmdstanpy - INFO - Chain [1] start processing\n",
      "03:29:55 - cmdstanpy - INFO - Chain [1] done processing\n"
     ]
    },
    {
     "name": "stdout",
     "output_type": "stream",
     "text": [
      "Not enough data for product_id: 233b276631735c2cd04a89d01bdd8a58. Forecasting as 1.\n",
      "Not enough data for product_id: 2342acbbf4c5ba6896316d17a573f40f. Forecasting as 1.\n"
     ]
    },
    {
     "name": "stderr",
     "output_type": "stream",
     "text": [
      "03:29:57 - cmdstanpy - INFO - Chain [1] start processing\n",
      "03:29:58 - cmdstanpy - INFO - Chain [1] done processing\n"
     ]
    },
    {
     "name": "stdout",
     "output_type": "stream",
     "text": [
      "Not enough data for product_id: 234d0c9586a851ff11033aedd13c1837. Forecasting as 1.\n",
      "Not enough data for product_id: 234f933656e9d5c88f814a89d4f5bb9c. Forecasting as 1.\n"
     ]
    },
    {
     "name": "stderr",
     "output_type": "stream",
     "text": [
      "03:30:00 - cmdstanpy - INFO - Chain [1] start processing\n",
      "03:30:00 - cmdstanpy - INFO - Chain [1] done processing\n"
     ]
    },
    {
     "name": "stdout",
     "output_type": "stream",
     "text": [
      "Not enough data for product_id: 23588f7d2da3b618063a218a390fdd0d. Forecasting as 1.\n",
      "Not enough data for product_id: 235b4ddb049ab79478e058d0d3609bae. Forecasting as 1.\n",
      "Not enough data for product_id: 235bec397501f88e0593219e90c28b4d. Forecasting as 1.\n",
      "Not enough data for product_id: 2362d3d1782889c8759aa6ace2c73aad. Forecasting as 1.\n",
      "Not enough data for product_id: 23658e8d5d2c1d61b0d59b34ebbabb44. Forecasting as 1.\n",
      "Not enough data for product_id: 236634fd768c822b130b6ccf325e4c13. Forecasting as 1.\n"
     ]
    },
    {
     "name": "stderr",
     "output_type": "stream",
     "text": [
      "03:30:04 - cmdstanpy - INFO - Chain [1] start processing\n",
      "03:30:04 - cmdstanpy - INFO - Chain [1] done processing\n"
     ]
    },
    {
     "name": "stdout",
     "output_type": "stream",
     "text": [
      "Not enough data for product_id: 2368785994f057897f1ae269bb9743ef. Forecasting as 1.\n",
      "Not enough data for product_id: 236a76559b9033d23ad0c58935317672. Forecasting as 1.\n",
      "Not enough data for product_id: 236b6ad1fbcdd18244aa773558d42b6d. Forecasting as 1.\n",
      "Not enough data for product_id: 236bdebe067710d4d30698ac69555423. Forecasting as 1.\n"
     ]
    },
    {
     "name": "stderr",
     "output_type": "stream",
     "text": [
      "03:30:06 - cmdstanpy - INFO - Chain [1] start processing\n",
      "03:30:06 - cmdstanpy - INFO - Chain [1] done processing\n"
     ]
    },
    {
     "name": "stdout",
     "output_type": "stream",
     "text": [
      "Not enough data for product_id: 236e1b991bd45b40f2f732a22d39f6cc. Forecasting as 1.\n",
      "Not enough data for product_id: 236f65f769241706362f78a15083e369. Forecasting as 1.\n",
      "Not enough data for product_id: 236fdb1c273caaa9a7dbff8111e6a4e1. Forecasting as 1.\n",
      "Not enough data for product_id: 23713b3af0ec6a3c9601da5c58b2ea95. Forecasting as 1.\n",
      "Not enough data for product_id: 2373f6870eb01db83a3609a731580320. Forecasting as 1.\n",
      "Not enough data for product_id: 237428d1c44f69d9f7eb073c1baf34e5. Forecasting as 1.\n",
      "Not enough data for product_id: 237629a2fbb505d4db6ef67408dcf5bf. Forecasting as 1.\n",
      "Not enough data for product_id: 237711663569a9692ca68a102f51ab59. Forecasting as 1.\n",
      "Not enough data for product_id: 237d6339b1e2d4dbc411287b5178a27d. Forecasting as 1.\n",
      "Not enough data for product_id: 2381a3052dd37f97e616bf160467acae. Forecasting as 1.\n",
      "Not enough data for product_id: 238314b88e4b8ffa496db6b1a201d897. Forecasting as 1.\n",
      "Not enough data for product_id: 23834e58166d8ba5ccce5463b878683e. Forecasting as 1.\n",
      "Not enough data for product_id: 23836079685669ea7e1edeb5ea8bfaf7. Forecasting as 1.\n",
      "Not enough data for product_id: 23845f8d570efe1e44d1ed2f533ab4ee. Forecasting as 1.\n",
      "Not enough data for product_id: 2388149ad18c9beacbf6d6ff59af3ba7. Forecasting as 1.\n",
      "Not enough data for product_id: 238e45c597d95d9eb3b225aaabf1c7ae. Forecasting as 1.\n",
      "Not enough data for product_id: 238eaac32ec7d0a2881b728d4c3758b1. Forecasting as 1.\n",
      "Not enough data for product_id: 2391e872fbc176a9378c25b0e5ed4b2f. Forecasting as 1.\n",
      "Not enough data for product_id: 23930a256cb06e683cbceb246221290a. Forecasting as 1.\n",
      "Not enough data for product_id: 239fc6f74c8f9263806917542ed7b358. Forecasting as 1.\n",
      "Not enough data for product_id: 23a0496bb472d6854617a7cc173ff21e. Forecasting as 1.\n",
      "Not enough data for product_id: 23a294bd54227d94b276523d3ebf9c6b. Forecasting as 1.\n",
      "Not enough data for product_id: 23aaf24124ff41ebd81163d245aae6f3. Forecasting as 1.\n",
      "Not enough data for product_id: 23ad6baf08432fce9542b3f27407ec56. Forecasting as 1.\n",
      "Not enough data for product_id: 23b6402aba9febcc840e6798dc8d134e. Forecasting as 1.\n",
      "Not enough data for product_id: 23b943460884877c44de1ed05d357d83. Forecasting as 1.\n",
      "Not enough data for product_id: 23bb156d1ade824158d1b0c799f9a641. Forecasting as 1.\n",
      "Not enough data for product_id: 23bc9eb1539ad6ea06090076ce1b93b4. Forecasting as 1.\n"
     ]
    },
    {
     "name": "stderr",
     "output_type": "stream",
     "text": [
      "03:30:17 - cmdstanpy - INFO - Chain [1] start processing\n",
      "03:30:17 - cmdstanpy - INFO - Chain [1] done processing\n"
     ]
    },
    {
     "name": "stdout",
     "output_type": "stream",
     "text": [
      "Not enough data for product_id: 23bd5dc8d3c4cbe16e947b54fc22b3fb. Forecasting as 1.\n",
      "Not enough data for product_id: 23bf81fdd5f4015f1b924385a3eda89c. Forecasting as 1.\n",
      "Not enough data for product_id: 23cb417be12fb9557a815962aedefff5. Forecasting as 1.\n",
      "Not enough data for product_id: 23d625ed972ea9221c3d375ae3f15bef. Forecasting as 1.\n",
      "Not enough data for product_id: 23db0ed96c4c3278cd56fc70e4798742. Forecasting as 1.\n",
      "Not enough data for product_id: 23df926bdc8477e1ec36c182136411a3. Forecasting as 1.\n",
      "Not enough data for product_id: 23e74bef13b99119b1828789058a126f. Forecasting as 1.\n",
      "Not enough data for product_id: 23e8448e7eec38d57985dcd09a3d563d. Forecasting as 1.\n"
     ]
    },
    {
     "name": "stderr",
     "output_type": "stream",
     "text": [
      "03:30:21 - cmdstanpy - INFO - Chain [1] start processing\n",
      "03:30:21 - cmdstanpy - INFO - Chain [1] done processing\n"
     ]
    },
    {
     "name": "stdout",
     "output_type": "stream",
     "text": [
      "Not enough data for product_id: 23e89be06e10f4e1a1d0875bc36d939d. Forecasting as 1.\n",
      "Not enough data for product_id: 23ea3287091e8d1237bb93f92177a39b. Forecasting as 1.\n",
      "Not enough data for product_id: 23ec19b685ee9d7d8eea8877cb27cdf9. Forecasting as 1.\n"
     ]
    },
    {
     "name": "stderr",
     "output_type": "stream",
     "text": [
      "03:30:23 - cmdstanpy - INFO - Chain [1] start processing\n",
      "03:30:23 - cmdstanpy - INFO - Chain [1] done processing\n"
     ]
    },
    {
     "name": "stdout",
     "output_type": "stream",
     "text": [
      "Not enough data for product_id: 23ee71d4afa97c8d30028d4956baaa62. Forecasting as 1.\n",
      "Not enough data for product_id: 23f26aad5e170be72892a841fb2b0ab8. Forecasting as 1.\n",
      "Not enough data for product_id: 23f2ebdf4d6f7badc8bbd40af362f681. Forecasting as 1.\n",
      "Not enough data for product_id: 23f91e3d76be3938bfad0ff292392502. Forecasting as 1.\n",
      "Not enough data for product_id: 23fa83f2ca477677a4f444043bb525e0. Forecasting as 1.\n",
      "Not enough data for product_id: 23fa975ce8503131504051933f2643af. Forecasting as 1.\n",
      "Not enough data for product_id: 23fdd328796868ab2cf9e551c0d4673b. Forecasting as 1.\n",
      "Not enough data for product_id: 23ffe3dcaaa187f5e18901aae3985062. Forecasting as 1.\n",
      "Not enough data for product_id: 2400c93fe382bdcd64e277eb723adac4. Forecasting as 1.\n",
      "Not enough data for product_id: 240139d2f04292ee0789c908cf22d505. Forecasting as 1.\n",
      "Not enough data for product_id: 24016cd8f7a556eaaf043552e23df9f4. Forecasting as 1.\n",
      "Not enough data for product_id: 2402257ef60c01379113638864b21035. Forecasting as 1.\n",
      "Not enough data for product_id: 2404d9b539ebddc4401a24da18215fc4. Forecasting as 1.\n",
      "Not enough data for product_id: 2414abf17e03ee28b8c062a03ddedab5. Forecasting as 1.\n",
      "Not enough data for product_id: 24176f8ec4b087d7a48e356913fdd085. Forecasting as 1.\n",
      "Not enough data for product_id: 241a1ffc9cf969b27de6e72301020268. Forecasting as 1.\n"
     ]
    },
    {
     "name": "stderr",
     "output_type": "stream",
     "text": [
      "03:30:30 - cmdstanpy - INFO - Chain [1] start processing\n",
      "03:30:33 - cmdstanpy - INFO - Chain [1] done processing\n",
      "03:30:34 - cmdstanpy - INFO - Chain [1] start processing\n",
      "03:30:34 - cmdstanpy - INFO - Chain [1] done processing\n"
     ]
    },
    {
     "name": "stdout",
     "output_type": "stream",
     "text": [
      "Not enough data for product_id: 24297ae137968498e50c2f283a4f3d9c. Forecasting as 1.\n",
      "Not enough data for product_id: 242a6abd32d7630b48ef5c0a1bf527eb. Forecasting as 1.\n",
      "Not enough data for product_id: 242ccc84e99027776a88792b2d344a57. Forecasting as 1.\n",
      "Not enough data for product_id: 242e43e16717ea0a751d98a83b773d4e. Forecasting as 1.\n",
      "Not enough data for product_id: 242eb53ca3c0b52e275b6fd7ce8b0be7. Forecasting as 1.\n"
     ]
    },
    {
     "name": "stderr",
     "output_type": "stream",
     "text": [
      "03:30:37 - cmdstanpy - INFO - Chain [1] start processing\n",
      "03:30:37 - cmdstanpy - INFO - Chain [1] done processing\n"
     ]
    },
    {
     "name": "stdout",
     "output_type": "stream",
     "text": [
      "Not enough data for product_id: 2431772a8c7ddb73d24a2ed6d0913f73. Forecasting as 1.\n",
      "Not enough data for product_id: 243332c5551ef72c46bb6885fcaaa848. Forecasting as 1.\n",
      "Not enough data for product_id: 2433506ade95efcd559a351c7bc682a0. Forecasting as 1.\n",
      "Not enough data for product_id: 24376321a0e7d0debc7a632cd4c9dda3. Forecasting as 1.\n",
      "Not enough data for product_id: 243c2fed5e34044dff827373bd65e9b9. Forecasting as 1.\n",
      "Not enough data for product_id: 2442a59b08910404b77c87210a0757b5. Forecasting as 1.\n",
      "Not enough data for product_id: 2445809bff82fdb8780c5f4e5c0d7686. Forecasting as 1.\n",
      "Not enough data for product_id: 244811270c7c86b6cec6e934c059e086. Forecasting as 1.\n",
      "Not enough data for product_id: 245269defe4105aea93d92bc62fb983d. Forecasting as 1.\n",
      "Not enough data for product_id: 24529977cad3ed882faa38fd86bb003f. Forecasting as 1.\n",
      "Not enough data for product_id: 24541f532451ecaa85eab5b200b2b686. Forecasting as 1.\n",
      "Not enough data for product_id: 2454302057bca58015b4674cc2a6d9a4. Forecasting as 1.\n",
      "Not enough data for product_id: 24543438ec09114a42a153f76ae693f2. Forecasting as 1.\n",
      "Not enough data for product_id: 24578e8bdef9b745176a1643e1f43614. Forecasting as 1.\n",
      "Not enough data for product_id: 245883f1fe3a5b61da001c3cdb59b641. Forecasting as 1.\n",
      "Not enough data for product_id: 245934f7e4cec1769f1b1107fc8b1500. Forecasting as 1.\n",
      "Not enough data for product_id: 245baefabc49c30568e720610780fa9b. Forecasting as 1.\n",
      "Not enough data for product_id: 245d6fd93f56b9e997881f397fbca833. Forecasting as 1.\n",
      "Not enough data for product_id: 24606f4976af89b7b18b2299acb91ae3. Forecasting as 1.\n",
      "Not enough data for product_id: 24619f43ab25b60db576926fd78edd39. Forecasting as 1.\n",
      "Not enough data for product_id: 24648c567b1a06a750a8042a774ba5c9. Forecasting as 1.\n",
      "Not enough data for product_id: 246e1686bfd115c87718db59425dfa1d. Forecasting as 1.\n",
      "Not enough data for product_id: 24733e805ef8654c136808e550e87626. Forecasting as 1.\n",
      "Not enough data for product_id: 2475f9f6b36857e1a35292cf761ffa48. Forecasting as 1.\n",
      "Not enough data for product_id: 247b2f886148b431daa66061b43dd078. Forecasting as 1.\n",
      "Not enough data for product_id: 247f3ca7ca5ff838249b623ae2871df3. Forecasting as 1.\n"
     ]
    },
    {
     "name": "stderr",
     "output_type": "stream",
     "text": [
      "03:30:47 - cmdstanpy - INFO - Chain [1] start processing\n",
      "03:30:47 - cmdstanpy - INFO - Chain [1] done processing\n"
     ]
    },
    {
     "name": "stdout",
     "output_type": "stream",
     "text": [
      "Not enough data for product_id: 2480fca3af4f5221cf3596c257be308b. Forecasting as 1.\n"
     ]
    },
    {
     "name": "stderr",
     "output_type": "stream",
     "text": [
      "03:30:48 - cmdstanpy - INFO - Chain [1] start processing\n",
      "03:30:48 - cmdstanpy - INFO - Chain [1] done processing\n"
     ]
    },
    {
     "name": "stdout",
     "output_type": "stream",
     "text": [
      "Not enough data for product_id: 2484041040e0c40b2a21ba32219d5537. Forecasting as 1.\n",
      "Not enough data for product_id: 24860e2899527a4e30b81c693206e916. Forecasting as 1.\n",
      "Not enough data for product_id: 24905035adec59d4ab5a46c13973ef17. Forecasting as 1.\n",
      "Not enough data for product_id: 249da1970e34871eedb6b6a70e89aec2. Forecasting as 1.\n",
      "Not enough data for product_id: 249de764c23f381ef073c7520e0ab799. Forecasting as 1.\n",
      "Not enough data for product_id: 24a046fcc8b971ab9962537f2694bc77. Forecasting as 1.\n",
      "Not enough data for product_id: 24a961e01bbc88851232e60d5e2795a3. Forecasting as 1.\n",
      "Not enough data for product_id: 24aa84ad039acc24fc761324362f7622. Forecasting as 1.\n",
      "Not enough data for product_id: 24aaea2bb541cc5d78141f2bc053cd37. Forecasting as 1.\n",
      "Not enough data for product_id: 24aba57735be13fd785bc04d1a8812e4. Forecasting as 1.\n",
      "Not enough data for product_id: 24ad6518fbcba9b028f168019c6c2d67. Forecasting as 1.\n",
      "Not enough data for product_id: 24afa01830cde8d96507ed5a376e0b84. Forecasting as 1.\n",
      "Not enough data for product_id: 24b0c9ac8f6d07d7192f24fd9ff189a0. Forecasting as 1.\n",
      "Not enough data for product_id: 24b0f3ae895b131e61a93132876bb191. Forecasting as 1.\n",
      "Not enough data for product_id: 24b1fcad996ffb1ead90e324f264b783. Forecasting as 1.\n",
      "Not enough data for product_id: 24b4132a43608c2949226ad2f774845f. Forecasting as 1.\n",
      "Not enough data for product_id: 24b73bfbbae23b718cea4e1efb2a76af. Forecasting as 1.\n",
      "Not enough data for product_id: 24b861426de01a8adcf503251efe05f1. Forecasting as 1.\n",
      "Not enough data for product_id: 24baefeed71136f90df0149ca1e85c49. Forecasting as 1.\n",
      "Not enough data for product_id: 24bc22853c82023ea47f960c910aff6a. Forecasting as 1.\n"
     ]
    },
    {
     "name": "stderr",
     "output_type": "stream",
     "text": [
      "03:30:57 - cmdstanpy - INFO - Chain [1] start processing\n",
      "03:30:58 - cmdstanpy - INFO - Chain [1] done processing\n"
     ]
    },
    {
     "name": "stdout",
     "output_type": "stream",
     "text": [
      "Not enough data for product_id: 24bee9ba7cb361684671c74aedc9ae2d. Forecasting as 1.\n",
      "Not enough data for product_id: 24bf010d82955430eeea5ed7643711c7. Forecasting as 1.\n",
      "Not enough data for product_id: 24c03f6980d5f778bcf41785abe25533. Forecasting as 1.\n",
      "Not enough data for product_id: 24c5c7be57099780f07ded545f898d8b. Forecasting as 1.\n",
      "Not enough data for product_id: 24c5d76ef43ee1782af51114a121ca3d. Forecasting as 1.\n"
     ]
    },
    {
     "name": "stderr",
     "output_type": "stream",
     "text": [
      "03:31:00 - cmdstanpy - INFO - Chain [1] start processing\n",
      "03:31:00 - cmdstanpy - INFO - Chain [1] done processing\n"
     ]
    },
    {
     "name": "stdout",
     "output_type": "stream",
     "text": [
      "Not enough data for product_id: 24c738bedb5c15ea352ad1a278f95327. Forecasting as 1.\n",
      "Not enough data for product_id: 24c9dc6efe88a1c3e794968ab1dd2a38. Forecasting as 1.\n",
      "Not enough data for product_id: 24ca97c9bbba92771baa2989300b2c50. Forecasting as 1.\n",
      "Not enough data for product_id: 24cedfce5dc5fe3e0695de06ee56d9c5. Forecasting as 1.\n",
      "Not enough data for product_id: 24d746a5965b583493871d11f75b1068. Forecasting as 1.\n"
     ]
    },
    {
     "name": "stderr",
     "output_type": "stream",
     "text": [
      "03:31:03 - cmdstanpy - INFO - Chain [1] start processing\n",
      "03:31:04 - cmdstanpy - INFO - Chain [1] done processing\n"
     ]
    },
    {
     "name": "stdout",
     "output_type": "stream",
     "text": [
      "Not enough data for product_id: 24daadd871657fb36dacde66b92cf0ff. Forecasting as 1.\n",
      "Not enough data for product_id: 24dbd57bf68a29e64c462b88087b93ed. Forecasting as 1.\n",
      "Not enough data for product_id: 24dc9e724587e5bd160e891dc0e3699a. Forecasting as 1.\n",
      "Not enough data for product_id: 24ddf42338b6b04dd8de20c2cbb7f78e. Forecasting as 1.\n",
      "Not enough data for product_id: 24dea9b9a1d450d96702d46a0a835ff3. Forecasting as 1.\n",
      "Not enough data for product_id: 24e19cb0f9da4394876ff32b7a43b99d. Forecasting as 1.\n",
      "Not enough data for product_id: 24e3e6b37adf838150e7bd4dda394c31. Forecasting as 1.\n",
      "Not enough data for product_id: 24e648f338846ab5a977cbe3e0638b19. Forecasting as 1.\n",
      "Not enough data for product_id: 24ea331e89e0cc6fde885752b3eb2c23. Forecasting as 1.\n",
      "Not enough data for product_id: 24eae5a7a99621256603637358c6f10f. Forecasting as 1.\n",
      "Not enough data for product_id: 24ed44cfdb667b989166a0a60ca9f9bd. Forecasting as 1.\n"
     ]
    },
    {
     "name": "stderr",
     "output_type": "stream",
     "text": [
      "03:31:08 - cmdstanpy - INFO - Chain [1] start processing\n",
      "03:31:09 - cmdstanpy - INFO - Chain [1] done processing\n",
      "03:31:09 - cmdstanpy - INFO - Chain [1] start processing\n",
      "03:31:12 - cmdstanpy - INFO - Chain [1] done processing\n"
     ]
    },
    {
     "name": "stdout",
     "output_type": "stream",
     "text": [
      "Not enough data for product_id: 24fcd474105d95d2002f38f0cacf87ee. Forecasting as 1.\n",
      "Not enough data for product_id: 24fee4a800146a47846fa0e345b6d6ed. Forecasting as 1.\n"
     ]
    },
    {
     "name": "stderr",
     "output_type": "stream",
     "text": [
      "03:31:13 - cmdstanpy - INFO - Chain [1] start processing\n",
      "03:31:13 - cmdstanpy - INFO - Chain [1] done processing\n"
     ]
    },
    {
     "name": "stdout",
     "output_type": "stream",
     "text": [
      "Not enough data for product_id: 2501eb540473502ef149a3a848b2f8f0. Forecasting as 1.\n",
      "Not enough data for product_id: 250448da216b8ed83a1afa9b092fd938. Forecasting as 1.\n"
     ]
    },
    {
     "name": "stderr",
     "output_type": "stream",
     "text": [
      "03:31:15 - cmdstanpy - INFO - Chain [1] start processing\n",
      "03:31:17 - cmdstanpy - INFO - Chain [1] done processing\n"
     ]
    },
    {
     "name": "stdout",
     "output_type": "stream",
     "text": [
      "Not enough data for product_id: 250a5d56eaa9f1bb1a998ddb0a10a2f9. Forecasting as 1.\n",
      "Not enough data for product_id: 250d000589d1bb22d6ec81449f05cf20. Forecasting as 1.\n",
      "Not enough data for product_id: 250d3bbd3f39ce52def101057e586b0f. Forecasting as 1.\n",
      "Not enough data for product_id: 25115416bba55bd33ecccbc480ec7a81. Forecasting as 1.\n",
      "Not enough data for product_id: 2514ff519f69595934371404ff50911d. Forecasting as 1.\n",
      "Not enough data for product_id: 251631a18e7cb6e44ab14a1c4668e587. Forecasting as 1.\n",
      "Not enough data for product_id: 25184d12546e74ab8843112abca3f1d6. Forecasting as 1.\n",
      "Not enough data for product_id: 251c15f2037e7977ac4b9df235e9b591. Forecasting as 1.\n",
      "Not enough data for product_id: 251ef1633e102f2a29ed2fc7eb5ca683. Forecasting as 1.\n",
      "Not enough data for product_id: 25253e832959ada92f27f703995719d2. Forecasting as 1.\n",
      "Not enough data for product_id: 2527d5ced6628c0e47d84293794bc208. Forecasting as 1.\n",
      "Not enough data for product_id: 25287671dbfca39d8aecdd754c28b269. Forecasting as 1.\n",
      "Not enough data for product_id: 25300f04b80a57680ca191c7d4ea64e1. Forecasting as 1.\n",
      "Not enough data for product_id: 2531bf4f54beb9037615a37b8a9754c7. Forecasting as 1.\n",
      "Not enough data for product_id: 253412fae9b77af02cb40b30a829bcfe. Forecasting as 1.\n"
     ]
    },
    {
     "name": "stderr",
     "output_type": "stream",
     "text": [
      "03:31:26 - cmdstanpy - INFO - Chain [1] start processing\n",
      "03:31:31 - cmdstanpy - INFO - Chain [1] done processing\n"
     ]
    },
    {
     "name": "stdout",
     "output_type": "stream",
     "text": [
      "Not enough data for product_id: 253630f686917e7d27f9e81f81b2f94a. Forecasting as 1.\n",
      "Not enough data for product_id: 253aede415ef331d1262ffc3a411224d. Forecasting as 1.\n",
      "Not enough data for product_id: 253bc127c38a02e388c4e8ce854867b9. Forecasting as 1.\n",
      "Not enough data for product_id: 253e743996e4439451bbb1137c3e7b6c. Forecasting as 1.\n",
      "Not enough data for product_id: 253ef56cd52d920f8066748da224c5eb. Forecasting as 1.\n",
      "Not enough data for product_id: 2540f260f9e39c68fa76e87c41220c28. Forecasting as 1.\n",
      "Not enough data for product_id: 2546d567ebfae0f9bc59addbaa2a16c7. Forecasting as 1.\n"
     ]
    },
    {
     "name": "stderr",
     "output_type": "stream",
     "text": [
      "03:31:35 - cmdstanpy - INFO - Chain [1] start processing\n",
      "03:31:35 - cmdstanpy - INFO - Chain [1] done processing\n"
     ]
    },
    {
     "name": "stdout",
     "output_type": "stream",
     "text": [
      "Not enough data for product_id: 254908dbd8bb2d7279d5dc897f81b593. Forecasting as 1.\n",
      "Not enough data for product_id: 2555fdb6a9df9fa378f024937c86d07a. Forecasting as 1.\n",
      "Not enough data for product_id: 255ccdfcc84f0e16699f0916b72758e3. Forecasting as 1.\n",
      "Not enough data for product_id: 255f3797304030e3962e9a17ba75b2b1. Forecasting as 1.\n"
     ]
    },
    {
     "name": "stderr",
     "output_type": "stream",
     "text": [
      "03:31:37 - cmdstanpy - INFO - Chain [1] start processing\n",
      "03:31:40 - cmdstanpy - INFO - Chain [1] done processing\n"
     ]
    },
    {
     "name": "stdout",
     "output_type": "stream",
     "text": [
      "Not enough data for product_id: 2563ea200bfce603cc25aebc666fcbf2. Forecasting as 1.\n",
      "Not enough data for product_id: 25640ad1216178967884d69ebe5140cc. Forecasting as 1.\n"
     ]
    },
    {
     "name": "stderr",
     "output_type": "stream",
     "text": [
      "03:31:41 - cmdstanpy - INFO - Chain [1] start processing\n",
      "03:31:41 - cmdstanpy - INFO - Chain [1] done processing\n"
     ]
    },
    {
     "name": "stdout",
     "output_type": "stream",
     "text": [
      "Not enough data for product_id: 256a9c364b75753b97bee410c9491ad8. Forecasting as 1.\n",
      "Not enough data for product_id: 25707e90c7f4f672f8d1058a32d78982. Forecasting as 1.\n",
      "Not enough data for product_id: 257452f5af0c5b1bda43fecc770f335c. Forecasting as 1.\n",
      "Not enough data for product_id: 257575a3818a480916c5c2efa5cf981c. Forecasting as 1.\n",
      "Not enough data for product_id: 2576da05088cd972479bd9072e0e84a2. Forecasting as 1.\n"
     ]
    },
    {
     "name": "stderr",
     "output_type": "stream",
     "text": [
      "03:31:43 - cmdstanpy - INFO - Chain [1] start processing\n",
      "03:31:44 - cmdstanpy - INFO - Chain [1] done processing\n"
     ]
    },
    {
     "name": "stdout",
     "output_type": "stream",
     "text": [
      "Not enough data for product_id: 257b784332308b51af0d6c72ef30fda8. Forecasting as 1.\n",
      "Not enough data for product_id: 257f376a5d729dd35b042d4ce6088b1e. Forecasting as 1.\n",
      "Not enough data for product_id: 258063ebd89572a6ccd9c599b3193398. Forecasting as 1.\n",
      "Not enough data for product_id: 2582fbe637afdcd03817b1b16b78fd60. Forecasting as 1.\n",
      "Not enough data for product_id: 2584470c4e2f1fe771b2313ccfb36cdf. Forecasting as 1.\n",
      "Not enough data for product_id: 258a6d1b2a8645981cf1f93803e5ae6a. Forecasting as 1.\n",
      "Not enough data for product_id: 259037a6a41845e455183f89c5035f18. Forecasting as 1.\n",
      "Not enough data for product_id: 259119fc5bca4237dc823bd8a92dc25b. Forecasting as 1.\n",
      "Not enough data for product_id: 25915ab9e0331a7c8afffe0a27b3fe79. Forecasting as 1.\n",
      "Not enough data for product_id: 259191163460b98721e75931dda0299f. Forecasting as 1.\n",
      "Not enough data for product_id: 259318f8df188cf39e275a77f0f6f02d. Forecasting as 1.\n",
      "Not enough data for product_id: 2597fa111c97e1e8a782d555e3a4d83e. Forecasting as 1.\n",
      "Not enough data for product_id: 259a24ea2a742082c43dd2f5ce116b52. Forecasting as 1.\n"
     ]
    },
    {
     "name": "stderr",
     "output_type": "stream",
     "text": [
      "03:31:49 - cmdstanpy - INFO - Chain [1] start processing\n",
      "03:31:49 - cmdstanpy - INFO - Chain [1] done processing\n",
      "03:31:50 - cmdstanpy - INFO - Chain [1] start processing\n",
      "03:31:50 - cmdstanpy - INFO - Chain [1] done processing\n"
     ]
    },
    {
     "name": "stdout",
     "output_type": "stream",
     "text": [
      "Not enough data for product_id: 25a048d00b596eeac27424b4e897f07e. Forecasting as 1.\n",
      "Not enough data for product_id: 25a1ad831f1181c48d8e3014510026b6. Forecasting as 1.\n"
     ]
    },
    {
     "name": "stderr",
     "output_type": "stream",
     "text": [
      "03:31:50 - cmdstanpy - INFO - Chain [1] start processing\n",
      "03:31:51 - cmdstanpy - INFO - Chain [1] done processing\n"
     ]
    },
    {
     "name": "stdout",
     "output_type": "stream",
     "text": [
      "Not enough data for product_id: 25a1d9b4eeca995f38b898c7ab6288ef. Forecasting as 1.\n",
      "Not enough data for product_id: 25a29533b41c5ea0f9f2b6848f7eb060. Forecasting as 1.\n"
     ]
    },
    {
     "name": "stderr",
     "output_type": "stream",
     "text": [
      "03:31:52 - cmdstanpy - INFO - Chain [1] start processing\n",
      "03:31:52 - cmdstanpy - INFO - Chain [1] done processing\n"
     ]
    },
    {
     "name": "stdout",
     "output_type": "stream",
     "text": [
      "Not enough data for product_id: 25a600be07bdb3ee433243ba392924ea. Forecasting as 1.\n",
      "Not enough data for product_id: 25a675783383c8e0aa707b7e9063c925. Forecasting as 1.\n",
      "Not enough data for product_id: 25a69adae1b354beb056d4b740e841cd. Forecasting as 1.\n",
      "Not enough data for product_id: 25a8dd7a35cec015294b2a0bc7ebdffd. Forecasting as 1.\n",
      "Not enough data for product_id: 25ad74f6f8a136a7b4672dd71fc068cb. Forecasting as 1.\n",
      "Not enough data for product_id: 25b5e375efa4812d72aa608b5379bc45. Forecasting as 1.\n",
      "Not enough data for product_id: 25b61c2d1c21066a588f702a6d2873c8. Forecasting as 1.\n",
      "Not enough data for product_id: 25b6dee1ad3c218c030f73d5acac19cc. Forecasting as 1.\n",
      "Not enough data for product_id: 25bd33730dc67d9bcd87dc05dedfd2da. Forecasting as 1.\n",
      "Not enough data for product_id: 25bd6053b3b5425cc4277b3c51641504. Forecasting as 1.\n"
     ]
    },
    {
     "name": "stderr",
     "output_type": "stream",
     "text": [
      "03:31:55 - cmdstanpy - INFO - Chain [1] start processing\n",
      "03:31:55 - cmdstanpy - INFO - Chain [1] done processing\n"
     ]
    },
    {
     "name": "stdout",
     "output_type": "stream",
     "text": [
      "Not enough data for product_id: 25c0a95a596a4dc18b5dbfe4529ec550. Forecasting as 1.\n"
     ]
    },
    {
     "name": "stderr",
     "output_type": "stream",
     "text": [
      "03:31:56 - cmdstanpy - INFO - Chain [1] start processing\n",
      "03:31:56 - cmdstanpy - INFO - Chain [1] done processing\n"
     ]
    },
    {
     "name": "stdout",
     "output_type": "stream",
     "text": [
      "Not enough data for product_id: 25c3eb54945e82e7c1dc8191a1ebb5f1. Forecasting as 1.\n",
      "Not enough data for product_id: 25c609f360a2c4de3b112e3fd9a16a24. Forecasting as 1.\n",
      "Not enough data for product_id: 25c774ad0d618117638d514f121dc66f. Forecasting as 1.\n",
      "Not enough data for product_id: 25c9bd06b9af867e935cca386b6acece. Forecasting as 1.\n",
      "Not enough data for product_id: 25ce0807224644a6afe590a392c237b3. Forecasting as 1.\n",
      "Not enough data for product_id: 25ce1fd278819fb92db46f69fdbc5eb6. Forecasting as 1.\n",
      "Not enough data for product_id: 25d035762df754b895cf8e847168409a. Forecasting as 1.\n",
      "Not enough data for product_id: 25d1ff5db102bfeb95fe4fcefdaca422. Forecasting as 1.\n",
      "Not enough data for product_id: 25d22295e68fa5bc9fff2b947a3eaeb5. Forecasting as 1.\n",
      "Not enough data for product_id: 25d2c18566cb8238ee65ecb9ac0f701b. Forecasting as 1.\n",
      "Not enough data for product_id: 25d33550509ed49bbaa58492c99b1bcc. Forecasting as 1.\n",
      "Not enough data for product_id: 25d4f8db663ac141a7449e399287b4c8. Forecasting as 1.\n",
      "Not enough data for product_id: 25d5b8d69bc7e6ce9f9a59e1a00ee50b. Forecasting as 1.\n",
      "Not enough data for product_id: 25d5e7a4f8052c1843acdb8bf8969fc6. Forecasting as 1.\n"
     ]
    },
    {
     "name": "stderr",
     "output_type": "stream",
     "text": [
      "03:32:01 - cmdstanpy - INFO - Chain [1] start processing\n",
      "03:32:01 - cmdstanpy - INFO - Chain [1] done processing\n"
     ]
    },
    {
     "name": "stdout",
     "output_type": "stream",
     "text": [
      "Not enough data for product_id: 25e3dbdd14cfd1a5b4638f0a9d41e70f. Forecasting as 1.\n",
      "Not enough data for product_id: 25e48b750d3cf285f85f7e605d13dc6d. Forecasting as 1.\n",
      "Not enough data for product_id: 25e4d8fec8c2188a87e8c0acfd179310. Forecasting as 1.\n",
      "Not enough data for product_id: 25e92e61080ad303ea52797f2879577d. Forecasting as 1.\n",
      "Not enough data for product_id: 25e9a0d431fe3359ee6a55b9c113a39b. Forecasting as 1.\n",
      "Not enough data for product_id: 25eb0a9d681b3515ff680cb41e69f58e. Forecasting as 1.\n",
      "Not enough data for product_id: 25ed6ff9d1830f39f847e63f2653c07f. Forecasting as 1.\n",
      "Not enough data for product_id: 25f22b1819c44d895757e4799135c70c. Forecasting as 1.\n",
      "Not enough data for product_id: 25f57c88d67a6e65ff2eec180c03a4cb. Forecasting as 1.\n",
      "Not enough data for product_id: 25f81026d0b5452fcb9dcf95a155c093. Forecasting as 1.\n",
      "Not enough data for product_id: 25f85b803dbf5bd3c4ab28cc99b7e83f. Forecasting as 1.\n"
     ]
    },
    {
     "name": "stderr",
     "output_type": "stream",
     "text": [
      "03:32:06 - cmdstanpy - INFO - Chain [1] start processing\n",
      "03:32:07 - cmdstanpy - INFO - Chain [1] done processing\n"
     ]
    },
    {
     "name": "stdout",
     "output_type": "stream",
     "text": [
      "Not enough data for product_id: 25fed921a4e724b34b87435bac8cb845. Forecasting as 1.\n",
      "Not enough data for product_id: 25fff16924bfec818c5c4d46b937ec0c. Forecasting as 1.\n",
      "Not enough data for product_id: 26028d8fc5ad4bb87ebc3675d49b2ae9. Forecasting as 1.\n",
      "Not enough data for product_id: 26053aaf5e00b608f4c23cb924a284c9. Forecasting as 1.\n",
      "Not enough data for product_id: 2610a3a6c0250a7f4411801a8cf376c7. Forecasting as 1.\n"
     ]
    },
    {
     "name": "stderr",
     "output_type": "stream",
     "text": [
      "03:32:10 - cmdstanpy - INFO - Chain [1] start processing\n",
      "03:32:10 - cmdstanpy - INFO - Chain [1] done processing\n",
      "03:32:11 - cmdstanpy - INFO - Chain [1] start processing\n",
      "03:32:13 - cmdstanpy - INFO - Chain [1] done processing\n",
      "03:32:14 - cmdstanpy - INFO - Chain [1] start processing\n",
      "03:32:16 - cmdstanpy - INFO - Chain [1] done processing\n"
     ]
    },
    {
     "name": "stdout",
     "output_type": "stream",
     "text": [
      "Not enough data for product_id: 262747acee8ddfe7752c076b899c323f. Forecasting as 1.\n",
      "Not enough data for product_id: 262855d4dd5b0d39f786a3c86c285c6a. Forecasting as 1.\n"
     ]
    },
    {
     "name": "stderr",
     "output_type": "stream",
     "text": [
      "03:32:18 - cmdstanpy - INFO - Chain [1] start processing\n",
      "03:32:18 - cmdstanpy - INFO - Chain [1] done processing\n",
      "03:32:18 - cmdstanpy - INFO - Chain [1] start processing\n",
      "03:32:21 - cmdstanpy - INFO - Chain [1] done processing\n"
     ]
    },
    {
     "name": "stdout",
     "output_type": "stream",
     "text": [
      "Not enough data for product_id: 262f65b4fffa70d0216e5aafde271967. Forecasting as 1.\n",
      "Not enough data for product_id: 26320e4682c6a0f297d07f3c74155666. Forecasting as 1.\n"
     ]
    },
    {
     "name": "stderr",
     "output_type": "stream",
     "text": [
      "03:32:22 - cmdstanpy - INFO - Chain [1] start processing\n",
      "03:32:22 - cmdstanpy - INFO - Chain [1] done processing\n",
      "03:32:23 - cmdstanpy - INFO - Chain [1] start processing\n",
      "03:32:23 - cmdstanpy - INFO - Chain [1] done processing\n"
     ]
    },
    {
     "name": "stdout",
     "output_type": "stream",
     "text": [
      "Not enough data for product_id: 263849cef3655e2a54a6f55d4ccad401. Forecasting as 1.\n",
      "Not enough data for product_id: 263a74f89c1404aeb0aa4f17bdf0e18e. Forecasting as 1.\n",
      "Not enough data for product_id: 263fe483fc2377fe17d81d7b2b5cea3d. Forecasting as 1.\n",
      "Not enough data for product_id: 26437ba9eb3e55be2265009412da38e5. Forecasting as 1.\n",
      "Not enough data for product_id: 2644ba2d059f5ddf0520e34db25fb62d. Forecasting as 1.\n",
      "Not enough data for product_id: 26453af5ca9c133ce6516734c1a6386a. Forecasting as 1.\n",
      "Not enough data for product_id: 26459570e7be02e4861603614f8043c3. Forecasting as 1.\n",
      "Not enough data for product_id: 26479f7e6b832d2e19a14dd8393bb30f. Forecasting as 1.\n",
      "Not enough data for product_id: 264a81631a296a509b3c2e047a4ad652. Forecasting as 1.\n",
      "Not enough data for product_id: 264aad5ca689ed34e57633f78c5683b4. Forecasting as 1.\n",
      "Not enough data for product_id: 264afa6d3b31bde30f0f2693c84795d9. Forecasting as 1.\n",
      "Not enough data for product_id: 2655d926d7d25a339682b6d8b2d53a49. Forecasting as 1.\n",
      "Not enough data for product_id: 26587700f0a79fcaa3cd891f837e284e. Forecasting as 1.\n",
      "Not enough data for product_id: 265928225c1358e74bf8668ff65096f3. Forecasting as 1.\n",
      "Not enough data for product_id: 265f4031e6bbb8ee2c1590baca25c89f. Forecasting as 1.\n"
     ]
    },
    {
     "name": "stderr",
     "output_type": "stream",
     "text": [
      "03:32:28 - cmdstanpy - INFO - Chain [1] start processing\n",
      "03:32:29 - cmdstanpy - INFO - Chain [1] done processing\n",
      "03:32:30 - cmdstanpy - INFO - Chain [1] start processing\n",
      "03:32:30 - cmdstanpy - INFO - Chain [1] done processing\n"
     ]
    },
    {
     "name": "stdout",
     "output_type": "stream",
     "text": [
      "Not enough data for product_id: 266bc9a69487d12f125e4af1b5da3d32. Forecasting as 1.\n",
      "Not enough data for product_id: 266bd39cb9a2ea456f82d4175e6306c4. Forecasting as 1.\n",
      "Not enough data for product_id: 266cb817d01b77ace5dc383d8cfd0540. Forecasting as 1.\n",
      "Not enough data for product_id: 2676f64fccc9174a0c843ecd4dcd44d8. Forecasting as 1.\n"
     ]
    },
    {
     "name": "stderr",
     "output_type": "stream",
     "text": [
      "03:32:32 - cmdstanpy - INFO - Chain [1] start processing\n",
      "03:32:35 - cmdstanpy - INFO - Chain [1] done processing\n"
     ]
    },
    {
     "name": "stdout",
     "output_type": "stream",
     "text": [
      "Not enough data for product_id: 267a48e9a306231f94d36b274782ca5d. Forecasting as 1.\n",
      "Not enough data for product_id: 267b51d6e08eb8326c49c6809558f262. Forecasting as 1.\n",
      "Not enough data for product_id: 2682dfb6d7c4f21e56ab529a91129877. Forecasting as 1.\n",
      "Not enough data for product_id: 26899f5647bfc3a0dfa37e0cf00931e7. Forecasting as 1.\n"
     ]
    },
    {
     "name": "stderr",
     "output_type": "stream",
     "text": [
      "03:32:37 - cmdstanpy - INFO - Chain [1] start processing\n",
      "03:32:39 - cmdstanpy - INFO - Chain [1] done processing\n",
      "03:32:39 - cmdstanpy - INFO - Chain [1] start processing\n",
      "03:32:39 - cmdstanpy - INFO - Chain [1] done processing\n"
     ]
    },
    {
     "name": "stdout",
     "output_type": "stream",
     "text": [
      "Not enough data for product_id: 268dea74d2aec39c04aecdf03081ac60. Forecasting as 1.\n",
      "Not enough data for product_id: 268ea464cc693d6d2e5f79ac2d6778fb. Forecasting as 1.\n",
      "Not enough data for product_id: 26916902eb5c31bdf6ba01894c3ff7db. Forecasting as 1.\n",
      "Not enough data for product_id: 2691bad4b1d8eb94ea5f2ccbbd582fca. Forecasting as 1.\n",
      "Not enough data for product_id: 26986dfc8b3cb9f957f2a5cca8920fa7. Forecasting as 1.\n",
      "Not enough data for product_id: 2698eadbfb4a6a81efc7b04d78febe17. Forecasting as 1.\n",
      "Not enough data for product_id: 26a12b3d4eba6fde626917648eec21e2. Forecasting as 1.\n",
      "Not enough data for product_id: 26a2bba56daa3e3b02eca0780176efd2. Forecasting as 1.\n",
      "Not enough data for product_id: 26a2fb5942decfca6995cab323903413. Forecasting as 1.\n",
      "Not enough data for product_id: 26a3bf2fff7de4f4a65d54442c672913. Forecasting as 1.\n",
      "Not enough data for product_id: 26a5c56121a055cfa75ae4f9e324c024. Forecasting as 1.\n",
      "Not enough data for product_id: 26a6bbf34441794b135d4d4642eeece9. Forecasting as 1.\n",
      "Not enough data for product_id: 26a74487c38e901b06cfa26162688614. Forecasting as 1.\n",
      "Not enough data for product_id: 26afe4ed5890d941fcba14205863eec7. Forecasting as 1.\n",
      "Not enough data for product_id: 26b175faaed70e44d60762d36438e361. Forecasting as 1.\n"
     ]
    },
    {
     "name": "stderr",
     "output_type": "stream",
     "text": [
      "03:32:47 - cmdstanpy - INFO - Chain [1] start processing\n",
      "03:32:47 - cmdstanpy - INFO - Chain [1] done processing\n"
     ]
    },
    {
     "name": "stdout",
     "output_type": "stream",
     "text": [
      "Not enough data for product_id: 26c3ead5dff3d8e393e5331273f4e91a. Forecasting as 1.\n",
      "Not enough data for product_id: 26c48bbde38fc8ca6a01eff68015e35d. Forecasting as 1.\n"
     ]
    },
    {
     "name": "stderr",
     "output_type": "stream",
     "text": [
      "03:32:49 - cmdstanpy - INFO - Chain [1] start processing\n",
      "03:32:50 - cmdstanpy - INFO - Chain [1] done processing\n",
      "03:32:51 - cmdstanpy - INFO - Chain [1] start processing\n",
      "03:32:53 - cmdstanpy - INFO - Chain [1] done processing\n"
     ]
    },
    {
     "name": "stdout",
     "output_type": "stream",
     "text": [
      "Not enough data for product_id: 26cb1187a1582777242a5907bdaae664. Forecasting as 1.\n",
      "Not enough data for product_id: 26cdd235bfb9ce27858057fad1a52e3b. Forecasting as 1.\n",
      "Not enough data for product_id: 26ce0f39be4f4b86ab1b75e9d5015e9d. Forecasting as 1.\n",
      "Not enough data for product_id: 26ce5e30e831d1c1e9ac3eeb3a876935. Forecasting as 1.\n",
      "Not enough data for product_id: 26d114f0b4f14f5e3b3db0e211019777. Forecasting as 1.\n",
      "Not enough data for product_id: 26d45aeb865b8800989ec3c0dc33b229. Forecasting as 1.\n",
      "Not enough data for product_id: 26d7ac00b95e35c6592f0c0b289179f6. Forecasting as 1.\n",
      "Not enough data for product_id: 26d7caa7e5b0fd27401cea553f5fce36. Forecasting as 1.\n",
      "Not enough data for product_id: 26db948671a4ad63637c2d2065477f00. Forecasting as 1.\n",
      "Not enough data for product_id: 26dbcaad027ebbead6bb387c7d68abca. Forecasting as 1.\n",
      "Not enough data for product_id: 26dd6551144fb768dbb16383acacf3b6. Forecasting as 1.\n",
      "Not enough data for product_id: 26e1c314c9e92fb104346d515517d99f. Forecasting as 1.\n"
     ]
    },
    {
     "name": "stderr",
     "output_type": "stream",
     "text": [
      "03:32:57 - cmdstanpy - INFO - Chain [1] start processing\n",
      "03:33:00 - cmdstanpy - INFO - Chain [1] done processing\n"
     ]
    },
    {
     "name": "stdout",
     "output_type": "stream",
     "text": [
      "Not enough data for product_id: 26e3b00d7184f12c31e955199660692d. Forecasting as 1.\n",
      "Not enough data for product_id: 26e4016b8946bc71f7294154866226df. Forecasting as 1.\n",
      "Not enough data for product_id: 26e7ce7bf047fbebffa5781cb30d2861. Forecasting as 1.\n",
      "Not enough data for product_id: 26ead2db8f3cb1ee3456206dc231f94d. Forecasting as 1.\n",
      "Not enough data for product_id: 26ee5f6601a9ad36979b8a1a8b389165. Forecasting as 1.\n",
      "Not enough data for product_id: 26ef5c7fd62e0e6334083bb274a003ba. Forecasting as 1.\n",
      "Not enough data for product_id: 26f03967104b76d4ebd5e43a1b3c1e18. Forecasting as 1.\n",
      "Not enough data for product_id: 26f4f1d683f32cfce93292cc626d5eea. Forecasting as 1.\n"
     ]
    },
    {
     "name": "stderr",
     "output_type": "stream",
     "text": [
      "03:33:04 - cmdstanpy - INFO - Chain [1] start processing\n",
      "03:33:08 - cmdstanpy - INFO - Chain [1] done processing\n"
     ]
    },
    {
     "name": "stdout",
     "output_type": "stream",
     "text": [
      "Not enough data for product_id: 26fc231be6849fcec97af7afec0bb083. Forecasting as 1.\n",
      "Not enough data for product_id: 2700e8b4a64d5e7fae2677755e44b9d6. Forecasting as 1.\n",
      "Not enough data for product_id: 270205bec6114bb05c09ed724555eac0. Forecasting as 1.\n",
      "Not enough data for product_id: 2703301fe1e97e8e124a583c7664edde. Forecasting as 1.\n",
      "Not enough data for product_id: 270447c8593b4b89e594781f9f1aff84. Forecasting as 1.\n",
      "Not enough data for product_id: 270516a3f41dc035aa87d220228f844c. Forecasting as 1.\n",
      "Not enough data for product_id: 27051f70cfcbd63fec388f34e1f0d2a2. Forecasting as 1.\n",
      "Not enough data for product_id: 2709b7e2e1e0694d32d2b6d88d483597. Forecasting as 1.\n",
      "Not enough data for product_id: 270c7e8ac3a5d25cc4324f7b603b8a22. Forecasting as 1.\n",
      "Not enough data for product_id: 270e70a55f9a0917f86b37cb32afcddd. Forecasting as 1.\n",
      "Not enough data for product_id: 271267c730bcc8b1f657e6c0bfbe058c. Forecasting as 1.\n",
      "Not enough data for product_id: 2713c4903e61c6917363eb4a8533c16a. Forecasting as 1.\n",
      "Not enough data for product_id: 27148143d9c0ab0bb016d5c2775b572c. Forecasting as 1.\n",
      "Not enough data for product_id: 27152d405eaca93403563ce6acfccfa6. Forecasting as 1.\n",
      "Not enough data for product_id: 27156b97658943acbc27073b5e3a3e9b. Forecasting as 1.\n",
      "Not enough data for product_id: 2719b33ad5e693f64d333db5422585eb. Forecasting as 1.\n",
      "Not enough data for product_id: 271a16e4751b04867238b601ad652692. Forecasting as 1.\n",
      "Not enough data for product_id: 271a7b6b19c824b39c44b59aef7c4135. Forecasting as 1.\n"
     ]
    },
    {
     "name": "stderr",
     "output_type": "stream",
     "text": [
      "03:33:16 - cmdstanpy - INFO - Chain [1] start processing\n",
      "03:33:16 - cmdstanpy - INFO - Chain [1] done processing\n"
     ]
    },
    {
     "name": "stdout",
     "output_type": "stream",
     "text": [
      "Not enough data for product_id: 271dc7b756644a368e87e48c2d38c590. Forecasting as 1.\n"
     ]
    },
    {
     "name": "stderr",
     "output_type": "stream",
     "text": [
      "03:33:16 - cmdstanpy - INFO - Chain [1] start processing\n",
      "03:33:16 - cmdstanpy - INFO - Chain [1] done processing\n",
      "03:33:17 - cmdstanpy - INFO - Chain [1] start processing\n",
      "03:33:17 - cmdstanpy - INFO - Chain [1] done processing\n"
     ]
    },
    {
     "name": "stdout",
     "output_type": "stream",
     "text": [
      "Not enough data for product_id: 2724371c000f2c0cd3f891af1862cd1b. Forecasting as 1.\n",
      "Not enough data for product_id: 27274145782d0048827cb28b7786323b. Forecasting as 1.\n",
      "Not enough data for product_id: 27287c7af954c885df547dcf11fa77a6. Forecasting as 1.\n"
     ]
    },
    {
     "name": "stderr",
     "output_type": "stream",
     "text": [
      "03:33:19 - cmdstanpy - INFO - Chain [1] start processing\n",
      "03:33:19 - cmdstanpy - INFO - Chain [1] done processing\n"
     ]
    },
    {
     "name": "stdout",
     "output_type": "stream",
     "text": [
      "Not enough data for product_id: 272f828875d25e7c0a395cb6ce703bf3. Forecasting as 1.\n",
      "Not enough data for product_id: 2731fcd394a537e7af870051621316b1. Forecasting as 1.\n",
      "Not enough data for product_id: 2734390ee304b0f4817b3c233094fc16. Forecasting as 1.\n",
      "Not enough data for product_id: 273bed0cd59a0b2ca2a0ebe0bd84769f. Forecasting as 1.\n",
      "Not enough data for product_id: 273d06dee7bb3103eb4ae0ff8d149966. Forecasting as 1.\n",
      "Not enough data for product_id: 27402b1a6e60c1b7b6a5a133ee7d03a9. Forecasting as 1.\n",
      "Not enough data for product_id: 27415b11da7e8c4e6f14892108bdf02a. Forecasting as 1.\n",
      "Not enough data for product_id: 274221dea414cc167dce4f2716b1315a. Forecasting as 1.\n",
      "Not enough data for product_id: 2742ee84b28b08268f169c5483f71b4a. Forecasting as 1.\n",
      "Not enough data for product_id: 2743c376f40b82b7bda71ad4a1256507. Forecasting as 1.\n",
      "Not enough data for product_id: 2748fba16a62f912134f7991548c3cee. Forecasting as 1.\n",
      "Not enough data for product_id: 274a778944c803fb95ea5a5b2c50611b. Forecasting as 1.\n",
      "Not enough data for product_id: 274bc3c5b0b7fbc7fb99bb87af4c0535. Forecasting as 1.\n",
      "Not enough data for product_id: 274c0bd39936b237bdb8cee38abf94f5. Forecasting as 1.\n",
      "Not enough data for product_id: 274e7506d72bf55831c52e2609d2d470. Forecasting as 1.\n"
     ]
    },
    {
     "name": "stderr",
     "output_type": "stream",
     "text": [
      "03:33:25 - cmdstanpy - INFO - Chain [1] start processing\n",
      "03:33:29 - cmdstanpy - INFO - Chain [1] done processing\n",
      "03:33:29 - cmdstanpy - INFO - Chain [1] start processing\n",
      "03:33:29 - cmdstanpy - INFO - Chain [1] done processing\n"
     ]
    },
    {
     "name": "stdout",
     "output_type": "stream",
     "text": [
      "Not enough data for product_id: 275bbd43a9fdb71853216091565522ac. Forecasting as 1.\n",
      "Not enough data for product_id: 2760b32bd7165bc5a03f2f0b53caa2d5. Forecasting as 1.\n",
      "Not enough data for product_id: 276a758b93931a65bf302f5b052678d9. Forecasting as 1.\n",
      "Not enough data for product_id: 276d4fcbcec8b8cdb8c373d5ee67e9db. Forecasting as 1.\n",
      "Not enough data for product_id: 276f08e98f8f7711c2785ce40fc9d4d9. Forecasting as 1.\n"
     ]
    },
    {
     "name": "stderr",
     "output_type": "stream",
     "text": [
      "03:33:34 - cmdstanpy - INFO - Chain [1] start processing\n",
      "03:33:34 - cmdstanpy - INFO - Chain [1] done processing\n"
     ]
    },
    {
     "name": "stdout",
     "output_type": "stream",
     "text": [
      "Not enough data for product_id: 27761f21b03a32be1aad6ebaebddd747. Forecasting as 1.\n"
     ]
    },
    {
     "name": "stderr",
     "output_type": "stream",
     "text": [
      "03:33:35 - cmdstanpy - INFO - Chain [1] start processing\n",
      "03:33:37 - cmdstanpy - INFO - Chain [1] done processing\n"
     ]
    },
    {
     "name": "stdout",
     "output_type": "stream",
     "text": [
      "Not enough data for product_id: 27777fe4174b166a89d2359ba1eeec7b. Forecasting as 1.\n"
     ]
    },
    {
     "name": "stderr",
     "output_type": "stream",
     "text": [
      "03:33:39 - cmdstanpy - INFO - Chain [1] start processing\n",
      "03:33:40 - cmdstanpy - INFO - Chain [1] done processing\n"
     ]
    },
    {
     "name": "stdout",
     "output_type": "stream",
     "text": [
      "Not enough data for product_id: 277d6549d32c2aa10255800083e9816b. Forecasting as 1.\n",
      "Not enough data for product_id: 277e5a33059abc0cda00fa1db8a8dc2e. Forecasting as 1.\n",
      "Not enough data for product_id: 278348d4c3a557e1eb4d99983f9edba8. Forecasting as 1.\n",
      "Not enough data for product_id: 278b3c6462e86b4556b99989513ddf73. Forecasting as 1.\n",
      "Not enough data for product_id: 278b8ea38bf4c3a68bf163611d775a58. Forecasting as 1.\n",
      "Not enough data for product_id: 278fad1b533c93f58f93856792a87078. Forecasting as 1.\n",
      "Not enough data for product_id: 2792565eed39d1c173416884d384df6b. Forecasting as 1.\n",
      "Not enough data for product_id: 2794308672e65bc5a970a627ddb9b0f1. Forecasting as 1.\n",
      "Not enough data for product_id: 2797d3826d386bfda4f347a378b89f4d. Forecasting as 1.\n",
      "Not enough data for product_id: 279c4f688c1562c5f221f139179389c9. Forecasting as 1.\n",
      "Not enough data for product_id: 279d5c3589fceee2a1c236fbe5287975. Forecasting as 1.\n",
      "Not enough data for product_id: 27a0edbc33200d89dfc1276a729dd5d4. Forecasting as 1.\n"
     ]
    },
    {
     "name": "stderr",
     "output_type": "stream",
     "text": [
      "03:33:50 - cmdstanpy - INFO - Chain [1] start processing\n",
      "03:33:50 - cmdstanpy - INFO - Chain [1] done processing\n"
     ]
    },
    {
     "name": "stdout",
     "output_type": "stream",
     "text": [
      "Not enough data for product_id: 27af179c53bb244ebe3a62f66549beb3. Forecasting as 1.\n",
      "Not enough data for product_id: 27b2556bcb57fc7c3dcc241bde88c5e3. Forecasting as 1.\n",
      "Not enough data for product_id: 27b53acb5f37e2d79d49af25312096a5. Forecasting as 1.\n",
      "Not enough data for product_id: 27b63e625b46d9fa220450d4a204c0b8. Forecasting as 1.\n",
      "Not enough data for product_id: 27bd615168b15793cc060588b2aadd60. Forecasting as 1.\n",
      "Not enough data for product_id: 27c63413ca2806bcab40a31d0f862a59. Forecasting as 1.\n",
      "Not enough data for product_id: 27cdfae8c8c8a703a13663e4c629ef39. Forecasting as 1.\n",
      "Not enough data for product_id: 27ceea27f2ac01a3b74b92e5b0a72a29. Forecasting as 1.\n",
      "Not enough data for product_id: 27d38e5f89c1f61814444a5ac135b5a9. Forecasting as 1.\n",
      "Not enough data for product_id: 27d969fb4a1dd28cee64babd02493e39. Forecasting as 1.\n",
      "Not enough data for product_id: 27da598c46f42cc744ead106a289e677. Forecasting as 1.\n",
      "Not enough data for product_id: 27da9ff5303d900602623ce3b731e0bf. Forecasting as 1.\n",
      "Not enough data for product_id: 27e3854e1414d1775e2cf19047da0c55. Forecasting as 1.\n",
      "Not enough data for product_id: 27e7285754ae724e707141aa7e80ff69. Forecasting as 1.\n",
      "Not enough data for product_id: 27e90baf9d996277a5299e5d828be218. Forecasting as 1.\n",
      "Not enough data for product_id: 27e9b49fde45d10aeb0ec54968eff703. Forecasting as 1.\n",
      "Not enough data for product_id: 27ea0ddcb5e3a371b14a9ef16607676f. Forecasting as 1.\n"
     ]
    },
    {
     "name": "stderr",
     "output_type": "stream",
     "text": [
      "03:34:07 - cmdstanpy - INFO - Chain [1] start processing\n",
      "03:34:07 - cmdstanpy - INFO - Chain [1] done processing\n"
     ]
    },
    {
     "name": "stdout",
     "output_type": "stream",
     "text": [
      "Not enough data for product_id: 2800a94a39d630f1713089675b8350a9. Forecasting as 1.\n",
      "Not enough data for product_id: 2800ef620d36d17df9b1adb26cc56a9d. Forecasting as 1.\n",
      "Not enough data for product_id: 2804f6c4f96a5c917461534b63faf357. Forecasting as 1.\n",
      "Not enough data for product_id: 2805706c5fde90cdec740394a68ee707. Forecasting as 1.\n",
      "Not enough data for product_id: 280c05c66173c2b377f3e449e33abc6d. Forecasting as 1.\n",
      "Not enough data for product_id: 281905b21f01db1009fd7c01b10dd1d4. Forecasting as 1.\n",
      "Not enough data for product_id: 2819e0fe205e3a81329782eb5fb274db. Forecasting as 1.\n",
      "Not enough data for product_id: 281a353d0819c43883117f23a99a8410. Forecasting as 1.\n",
      "Not enough data for product_id: 281a67fd770c975ee1a7c842468fb3b5. Forecasting as 1.\n"
     ]
    },
    {
     "name": "stderr",
     "output_type": "stream",
     "text": [
      "03:34:11 - cmdstanpy - INFO - Chain [1] start processing\n",
      "03:34:12 - cmdstanpy - INFO - Chain [1] done processing\n"
     ]
    },
    {
     "name": "stdout",
     "output_type": "stream",
     "text": [
      "Not enough data for product_id: 28209b7aed95f7c0c9b9806f974a104e. Forecasting as 1.\n"
     ]
    },
    {
     "name": "stderr",
     "output_type": "stream",
     "text": [
      "03:34:12 - cmdstanpy - INFO - Chain [1] start processing\n",
      "03:34:12 - cmdstanpy - INFO - Chain [1] done processing\n"
     ]
    },
    {
     "name": "stdout",
     "output_type": "stream",
     "text": [
      "Not enough data for product_id: 2827075656967a213fe9f7484a7469f6. Forecasting as 1.\n"
     ]
    },
    {
     "name": "stderr",
     "output_type": "stream",
     "text": [
      "03:34:14 - cmdstanpy - INFO - Chain [1] start processing\n",
      "03:34:14 - cmdstanpy - INFO - Chain [1] done processing\n"
     ]
    },
    {
     "name": "stdout",
     "output_type": "stream",
     "text": [
      "Not enough data for product_id: 2829a5eb8a0ac813672891b4c91f7c65. Forecasting as 1.\n",
      "Not enough data for product_id: 282b126b2354516c5f400154398f616d. Forecasting as 1.\n",
      "Not enough data for product_id: 282c75088d0af52d3dfb32089759993d. Forecasting as 1.\n",
      "Not enough data for product_id: 282d681b3fdcb3f0a6da31a7339f48c2. Forecasting as 1.\n",
      "Not enough data for product_id: 282d6e7d6d123206300fc97fb779d569. Forecasting as 1.\n"
     ]
    },
    {
     "name": "stderr",
     "output_type": "stream",
     "text": [
      "03:34:16 - cmdstanpy - INFO - Chain [1] start processing\n",
      "03:34:16 - cmdstanpy - INFO - Chain [1] done processing\n"
     ]
    },
    {
     "name": "stdout",
     "output_type": "stream",
     "text": [
      "Not enough data for product_id: 2832d1160e92db454ee431f0d5250777. Forecasting as 1.\n",
      "Not enough data for product_id: 2839fc3ce459dcf23896d23113470284. Forecasting as 1.\n",
      "Not enough data for product_id: 283b761ae6738a52e9a64c4c6edb26d7. Forecasting as 1.\n"
     ]
    },
    {
     "name": "stderr",
     "output_type": "stream",
     "text": [
      "03:34:18 - cmdstanpy - INFO - Chain [1] start processing\n",
      "03:34:19 - cmdstanpy - INFO - Chain [1] done processing\n"
     ]
    },
    {
     "name": "stdout",
     "output_type": "stream",
     "text": [
      "Not enough data for product_id: 283fdfa75f7a2ae01b4dec87edd065eb. Forecasting as 1.\n",
      "Not enough data for product_id: 2844b71c076b32af55fbbf2eb7e0bd9e. Forecasting as 1.\n",
      "Not enough data for product_id: 28452e5e58eb9105476492224d573c43. Forecasting as 1.\n",
      "Not enough data for product_id: 28492192565141edad4251d6f32d1fe1. Forecasting as 1.\n",
      "Not enough data for product_id: 284baaa8749f5600668aa5e042689bfb. Forecasting as 1.\n",
      "Not enough data for product_id: 284ef4c556d79d838fd1970e26d14173. Forecasting as 1.\n",
      "Not enough data for product_id: 284f40734f93fd1e46430a7365d571a3. Forecasting as 1.\n"
     ]
    },
    {
     "name": "stderr",
     "output_type": "stream",
     "text": [
      "03:34:23 - cmdstanpy - INFO - Chain [1] start processing\n",
      "03:34:23 - cmdstanpy - INFO - Chain [1] done processing\n"
     ]
    },
    {
     "name": "stdout",
     "output_type": "stream",
     "text": [
      "Not enough data for product_id: 2852bc2e54973155081dc04bff585ac4. Forecasting as 1.\n"
     ]
    },
    {
     "name": "stderr",
     "output_type": "stream",
     "text": [
      "03:34:24 - cmdstanpy - INFO - Chain [1] start processing\n",
      "03:34:28 - cmdstanpy - INFO - Chain [1] done processing\n"
     ]
    },
    {
     "name": "stdout",
     "output_type": "stream",
     "text": [
      "Not enough data for product_id: 2858d6de97a772474d7ad96a894f7166. Forecasting as 1.\n",
      "Not enough data for product_id: 285c450e91b164b1586e1441413fbba5. Forecasting as 1.\n",
      "Not enough data for product_id: 28600a6299796e69bd5e7b4bbfc230d6. Forecasting as 1.\n",
      "Not enough data for product_id: 286095c794e49a9fe92fd5082c1360b1. Forecasting as 1.\n",
      "Not enough data for product_id: 286ae430a4ebbf9a6048a42f362fa322. Forecasting as 1.\n",
      "Not enough data for product_id: 286c96ba1dbc3222ecf3a683d6e0fb33. Forecasting as 1.\n",
      "Not enough data for product_id: 28703461662b53348b5e21716f02bcc0. Forecasting as 1.\n",
      "Not enough data for product_id: 287398c3a5da555d519e464b674c1955. Forecasting as 1.\n"
     ]
    },
    {
     "name": "stderr",
     "output_type": "stream",
     "text": [
      "03:34:33 - cmdstanpy - INFO - Chain [1] start processing\n",
      "03:34:40 - cmdstanpy - INFO - Chain [1] done processing\n"
     ]
    },
    {
     "name": "stdout",
     "output_type": "stream",
     "text": [
      "Not enough data for product_id: 28763a4fd1b597a9c4f31a9579e7d1b4. Forecasting as 1.\n",
      "Not enough data for product_id: 28779f909a42ab24127dd742496e00f8. Forecasting as 1.\n",
      "Not enough data for product_id: 287d083ef43e221d8558ac223556de34. Forecasting as 1.\n",
      "Not enough data for product_id: 2880c8710857e36b294c7b9380b2e6cd. Forecasting as 1.\n"
     ]
    },
    {
     "name": "stderr",
     "output_type": "stream",
     "text": [
      "03:34:42 - cmdstanpy - INFO - Chain [1] start processing\n",
      "03:34:43 - cmdstanpy - INFO - Chain [1] done processing\n"
     ]
    },
    {
     "name": "stdout",
     "output_type": "stream",
     "text": [
      "Not enough data for product_id: 28857b241545853875bda6661ccdf0f7. Forecasting as 1.\n",
      "Not enough data for product_id: 2885aad25d7d1963d3731a9a6ec86306. Forecasting as 1.\n",
      "Not enough data for product_id: 2885ab45425766e3ed00f482e247c336. Forecasting as 1.\n",
      "Not enough data for product_id: 288c3dc4b5fb8592ee07b0c495ab49cf. Forecasting as 1.\n",
      "Not enough data for product_id: 288d91794eb2b14fed9ed5e469cb87c3. Forecasting as 1.\n"
     ]
    },
    {
     "name": "stderr",
     "output_type": "stream",
     "text": [
      "03:34:45 - cmdstanpy - INFO - Chain [1] start processing\n",
      "03:34:45 - cmdstanpy - INFO - Chain [1] done processing\n"
     ]
    },
    {
     "name": "stdout",
     "output_type": "stream",
     "text": [
      "Not enough data for product_id: 2891311ed5a25e23aaaf5b12db9a8f83. Forecasting as 1.\n",
      "Not enough data for product_id: 289362177723f2505d906c104bb67de4. Forecasting as 1.\n",
      "Not enough data for product_id: 289b15aefdff679d218b286e195e8f22. Forecasting as 1.\n"
     ]
    },
    {
     "name": "stderr",
     "output_type": "stream",
     "text": [
      "03:34:46 - cmdstanpy - INFO - Chain [1] start processing\n",
      "03:34:47 - cmdstanpy - INFO - Chain [1] done processing\n",
      "03:34:48 - cmdstanpy - INFO - Chain [1] start processing\n",
      "03:34:48 - cmdstanpy - INFO - Chain [1] done processing\n"
     ]
    },
    {
     "name": "stdout",
     "output_type": "stream",
     "text": [
      "Not enough data for product_id: 289eec3989226cd68c6455416caaedc5. Forecasting as 1.\n"
     ]
    },
    {
     "name": "stderr",
     "output_type": "stream",
     "text": [
      "03:34:49 - cmdstanpy - INFO - Chain [1] start processing\n",
      "03:34:50 - cmdstanpy - INFO - Chain [1] done processing\n"
     ]
    },
    {
     "name": "stdout",
     "output_type": "stream",
     "text": [
      "Not enough data for product_id: 28a165dbe64110f22085544d7129480c. Forecasting as 1.\n",
      "Not enough data for product_id: 28a4dc65b49348e9de7f1aa7bfbabfd8. Forecasting as 1.\n"
     ]
    },
    {
     "name": "stderr",
     "output_type": "stream",
     "text": [
      "03:34:51 - cmdstanpy - INFO - Chain [1] start processing\n",
      "03:34:51 - cmdstanpy - INFO - Chain [1] done processing\n"
     ]
    },
    {
     "name": "stdout",
     "output_type": "stream",
     "text": [
      "Not enough data for product_id: 28a90fed013499ea1f96adb9c6f44e37. Forecasting as 1.\n",
      "Not enough data for product_id: 28ac6af4008a402e5039f3e042a36e13. Forecasting as 1.\n",
      "Not enough data for product_id: 28ac6d1bba15836f62a2a4a561aa89fb. Forecasting as 1.\n",
      "Not enough data for product_id: 28ac89c113ac960ad954042de30dd52f. Forecasting as 1.\n",
      "Not enough data for product_id: 28aebfb5b6fe5a18dfa14aff20868f5b. Forecasting as 1.\n",
      "Not enough data for product_id: 28b04f8634b7c9c6e3a41fbd0271e295. Forecasting as 1.\n",
      "Not enough data for product_id: 28b2775c30336108f0b6b4df4c7097cb. Forecasting as 1.\n"
     ]
    },
    {
     "name": "stderr",
     "output_type": "stream",
     "text": [
      "03:34:54 - cmdstanpy - INFO - Chain [1] start processing\n",
      "03:34:54 - cmdstanpy - INFO - Chain [1] done processing\n"
     ]
    },
    {
     "name": "stdout",
     "output_type": "stream",
     "text": [
      "Not enough data for product_id: 28b5eddd0f9eb2e6a7dd8a36e0a79828. Forecasting as 1.\n"
     ]
    },
    {
     "name": "stderr",
     "output_type": "stream",
     "text": [
      "03:34:54 - cmdstanpy - INFO - Chain [1] start processing\n",
      "03:34:55 - cmdstanpy - INFO - Chain [1] done processing\n",
      "03:34:55 - cmdstanpy - INFO - Chain [1] start processing\n",
      "03:34:55 - cmdstanpy - INFO - Chain [1] done processing\n",
      "03:34:55 - cmdstanpy - INFO - Chain [1] start processing\n",
      "03:34:56 - cmdstanpy - INFO - Chain [1] done processing\n"
     ]
    },
    {
     "name": "stdout",
     "output_type": "stream",
     "text": [
      "Not enough data for product_id: 28c4296ec4b55832ec863a3282708d5c. Forecasting as 1.\n",
      "Not enough data for product_id: 28c8150eb44ec8106c8f061afd9c3e9f. Forecasting as 1.\n",
      "Not enough data for product_id: 28c95d7653177449fd4b6fc7adb63ce9. Forecasting as 1.\n",
      "Not enough data for product_id: 28d6d6a10ceb0636ae572e7efafef612. Forecasting as 1.\n",
      "Not enough data for product_id: 28d7da9ebe96bfda54aed060b68b23a1. Forecasting as 1.\n"
     ]
    },
    {
     "name": "stderr",
     "output_type": "stream",
     "text": [
      "03:35:00 - cmdstanpy - INFO - Chain [1] start processing\n",
      "03:35:04 - cmdstanpy - INFO - Chain [1] done processing\n"
     ]
    },
    {
     "name": "stdout",
     "output_type": "stream",
     "text": [
      "Not enough data for product_id: 28e23776d8404a3c92ea8b79b5666229. Forecasting as 1.\n"
     ]
    },
    {
     "name": "stderr",
     "output_type": "stream",
     "text": [
      "03:35:05 - cmdstanpy - INFO - Chain [1] start processing\n",
      "03:35:05 - cmdstanpy - INFO - Chain [1] done processing\n"
     ]
    },
    {
     "name": "stdout",
     "output_type": "stream",
     "text": [
      "Not enough data for product_id: 28e2f0b2af65c93f3b38636759d81d98. Forecasting as 1.\n",
      "Not enough data for product_id: 28e410092e56a080e14595c053d0bbe8. Forecasting as 1.\n",
      "Not enough data for product_id: 28e4cc79e14821f63f876cb3b2f52eeb. Forecasting as 1.\n",
      "Not enough data for product_id: 28e5952cd1bf2d11f282fe5ab0c1e733. Forecasting as 1.\n",
      "Not enough data for product_id: 28e6a89f22da7a12c26de9eaac8631a2. Forecasting as 1.\n",
      "Not enough data for product_id: 28e734fac9ca5436945bb771fe50a35f. Forecasting as 1.\n",
      "Not enough data for product_id: 28e9b64b256f8081ceba628dac2ccca7. Forecasting as 1.\n",
      "Not enough data for product_id: 28eb0810de6fcd773c77f246f2291b14. Forecasting as 1.\n",
      "Not enough data for product_id: 28eb85d51fea7b4c3a49284f09a558bd. Forecasting as 1.\n",
      "Not enough data for product_id: 28ec94b0adef9c07f96a03ec8dacf6f6. Forecasting as 1.\n",
      "Not enough data for product_id: 28ef7ba5765422d40274d5ebeac97c9b. Forecasting as 1.\n",
      "Not enough data for product_id: 28f2e74ecd7f12eab02ca9b3c2bd9c5f. Forecasting as 1.\n",
      "Not enough data for product_id: 28f486789a96800dc97bb98e780e6d31. Forecasting as 1.\n"
     ]
    },
    {
     "name": "stderr",
     "output_type": "stream",
     "text": [
      "03:35:12 - cmdstanpy - INFO - Chain [1] start processing\n",
      "03:35:12 - cmdstanpy - INFO - Chain [1] done processing\n"
     ]
    },
    {
     "name": "stdout",
     "output_type": "stream",
     "text": [
      "Not enough data for product_id: 28fd1639ff52d870a3d2c38090d2d902. Forecasting as 1.\n"
     ]
    },
    {
     "name": "stderr",
     "output_type": "stream",
     "text": [
      "03:35:13 - cmdstanpy - INFO - Chain [1] start processing\n",
      "03:35:14 - cmdstanpy - INFO - Chain [1] done processing\n"
     ]
    },
    {
     "name": "stdout",
     "output_type": "stream",
     "text": [
      "Not enough data for product_id: 28fe66c8a81afe9be7829f40a5fae9ee. Forecasting as 1.\n",
      "Not enough data for product_id: 28fe7bc9b73556b0cee83320fcd2600e. Forecasting as 1.\n",
      "Not enough data for product_id: 28fff36d13d492328583ee2b1d72f78f. Forecasting as 1.\n",
      "Not enough data for product_id: 2903f5a4475454e513a2bdcad950b90f. Forecasting as 1.\n",
      "Not enough data for product_id: 2905bcccc19e845ff57663618d52febe. Forecasting as 1.\n",
      "Not enough data for product_id: 2907243f68e5e3eca9cea8276cc3fe04. Forecasting as 1.\n",
      "Not enough data for product_id: 290ba8a3d628822483a2b87cd122c739. Forecasting as 1.\n",
      "Not enough data for product_id: 290ee150f608e4391785e3ca842ed6d7. Forecasting as 1.\n",
      "Not enough data for product_id: 290fad36f37ac7cc7df0f8f7d9245f71. Forecasting as 1.\n",
      "Not enough data for product_id: 290fe6a59ac3768d3e263654cf43a3ef. Forecasting as 1.\n",
      "Not enough data for product_id: 2918336685cacbe8df9a66e4cad34cf1. Forecasting as 1.\n",
      "Not enough data for product_id: 291b39691d7d40a42f9e7d0920d9a21a. Forecasting as 1.\n",
      "Not enough data for product_id: 291c4eedfc6f236325724d88bb03101e. Forecasting as 1.\n"
     ]
    },
    {
     "name": "stderr",
     "output_type": "stream",
     "text": [
      "03:35:19 - cmdstanpy - INFO - Chain [1] start processing\n",
      "03:35:19 - cmdstanpy - INFO - Chain [1] done processing\n"
     ]
    },
    {
     "name": "stdout",
     "output_type": "stream",
     "text": [
      "Not enough data for product_id: 291c7fc5097e83062a4377ca30c6b834. Forecasting as 1.\n",
      "Not enough data for product_id: 291cb07ce0a3ea5eb460e950b8554909. Forecasting as 1.\n",
      "Not enough data for product_id: 292339442aafc77526bf025a199db898. Forecasting as 1.\n",
      "Not enough data for product_id: 29279408d40e4f6e9c9ad85e4e97d676. Forecasting as 1.\n",
      "Not enough data for product_id: 2929ca606d5307bc5c4867edd6875add. Forecasting as 1.\n",
      "Not enough data for product_id: 292fb25ba428fb067c8b7cf3f70b58be. Forecasting as 1.\n",
      "Not enough data for product_id: 29313c7daada9c7f09bed37fda499026. Forecasting as 1.\n",
      "Not enough data for product_id: 293539d4864917190e242c5c5372016d. Forecasting as 1.\n",
      "Not enough data for product_id: 29353bc591cb0f1a7cfa75382a0c6170. Forecasting as 1.\n",
      "Not enough data for product_id: 293547a991162d7b32c55a8482cccf1c. Forecasting as 1.\n",
      "Not enough data for product_id: 293637be1a5ab3bd138fb6b758100e7c. Forecasting as 1.\n"
     ]
    },
    {
     "name": "stderr",
     "output_type": "stream",
     "text": [
      "03:35:22 - cmdstanpy - INFO - Chain [1] start processing\n",
      "03:35:23 - cmdstanpy - INFO - Chain [1] done processing\n"
     ]
    },
    {
     "name": "stdout",
     "output_type": "stream",
     "text": [
      "Not enough data for product_id: 2942938c3d7cfb0161ad93b80cd60b01. Forecasting as 1.\n",
      "Not enough data for product_id: 2942a8c2c52f01cf90a2552946eb5383. Forecasting as 1.\n",
      "Not enough data for product_id: 29446ebec998a09982353d9d7628ac58. Forecasting as 1.\n"
     ]
    },
    {
     "name": "stderr",
     "output_type": "stream",
     "text": [
      "03:35:25 - cmdstanpy - INFO - Chain [1] start processing\n",
      "03:35:25 - cmdstanpy - INFO - Chain [1] done processing\n",
      "03:35:25 - cmdstanpy - INFO - Chain [1] start processing\n",
      "03:35:25 - cmdstanpy - INFO - Chain [1] done processing\n"
     ]
    },
    {
     "name": "stdout",
     "output_type": "stream",
     "text": [
      "Not enough data for product_id: 2954628cc646e129a849918ab2b366ee. Forecasting as 1.\n",
      "Not enough data for product_id: 29589c613b8c17e6fe91da9af08ed148. Forecasting as 1.\n",
      "Not enough data for product_id: 2959ca8d7fbed9fd95b119eb7171fbfc. Forecasting as 1.\n",
      "Not enough data for product_id: 29608c81e9f1be14503667ecd1d35c63. Forecasting as 1.\n",
      "Not enough data for product_id: 2960abe1e5e92f82f98f3358b7fc9a2e. Forecasting as 1.\n",
      "Not enough data for product_id: 296c8a36af881fa6e05b1266ed08b10c. Forecasting as 1.\n",
      "Not enough data for product_id: 29751fbee1bd3194046027f675cdb5ec. Forecasting as 1.\n",
      "Not enough data for product_id: 29781581fb82fe2389560a3a5331d0ee. Forecasting as 1.\n",
      "Not enough data for product_id: 297a5f6e0aaf7b32fb0fc7483944105d. Forecasting as 1.\n",
      "Not enough data for product_id: 297b1803f900002706c8de3e0a77d217. Forecasting as 1.\n"
     ]
    },
    {
     "name": "stderr",
     "output_type": "stream",
     "text": [
      "03:35:29 - cmdstanpy - INFO - Chain [1] start processing\n",
      "03:35:29 - cmdstanpy - INFO - Chain [1] done processing\n"
     ]
    },
    {
     "name": "stdout",
     "output_type": "stream",
     "text": [
      "Not enough data for product_id: 297dafe95cc452ec731fce535139cb4d. Forecasting as 1.\n",
      "Not enough data for product_id: 29826c8d154fe5d86bca522e3358675c. Forecasting as 1.\n",
      "Not enough data for product_id: 2983053977d2a69111a0a674fb7e5fab. Forecasting as 1.\n",
      "Not enough data for product_id: 298532d06986d6132e5222b9362ad942. Forecasting as 1.\n",
      "Not enough data for product_id: 298c21a512703083ec4bc4976ea99de8. Forecasting as 1.\n",
      "Not enough data for product_id: 298f838b1798d952580d034bf84bd33a. Forecasting as 1.\n",
      "Not enough data for product_id: 299273104a3a302b82ad5f9aa93d6d91. Forecasting as 1.\n",
      "Not enough data for product_id: 2992eb3b34fd8412691106df42afa6e1. Forecasting as 1.\n",
      "Not enough data for product_id: 299a30066c04cbcaa68a1c4271c87aaf. Forecasting as 1.\n",
      "Not enough data for product_id: 29a0f402bfb08e1e4602102eea060d04. Forecasting as 1.\n",
      "Not enough data for product_id: 29a27ff4b74b635465ad0131db56d8c9. Forecasting as 1.\n",
      "Not enough data for product_id: 29a6e18f17f36ac05a93d24c2c0e7146. Forecasting as 1.\n",
      "Not enough data for product_id: 29abbd57526dab494a667e62d361f6cf. Forecasting as 1.\n",
      "Not enough data for product_id: 29af47aaefb3a7a8bc5b00d008cdba89. Forecasting as 1.\n"
     ]
    },
    {
     "name": "stderr",
     "output_type": "stream",
     "text": [
      "03:35:35 - cmdstanpy - INFO - Chain [1] start processing\n",
      "03:35:35 - cmdstanpy - INFO - Chain [1] done processing\n",
      "03:35:35 - cmdstanpy - INFO - Chain [1] start processing\n",
      "03:35:35 - cmdstanpy - INFO - Chain [1] done processing\n"
     ]
    },
    {
     "name": "stdout",
     "output_type": "stream",
     "text": [
      "Not enough data for product_id: 29b65c78c1d8d70da25c6a553e1bfdb1. Forecasting as 1.\n"
     ]
    },
    {
     "name": "stderr",
     "output_type": "stream",
     "text": [
      "03:35:36 - cmdstanpy - INFO - Chain [1] start processing\n",
      "03:35:36 - cmdstanpy - INFO - Chain [1] done processing\n"
     ]
    },
    {
     "name": "stdout",
     "output_type": "stream",
     "text": [
      "Not enough data for product_id: 29bbb87627690b61c2ff12f406262dae. Forecasting as 1.\n",
      "Not enough data for product_id: 29bc923d3ecb389b5b1b6fe2a6e4799a. Forecasting as 1.\n",
      "Not enough data for product_id: 29bcb163d2d9fdda52f39e9b84f2eec7. Forecasting as 1.\n"
     ]
    },
    {
     "name": "stderr",
     "output_type": "stream",
     "text": [
      "03:35:38 - cmdstanpy - INFO - Chain [1] start processing\n",
      "03:35:40 - cmdstanpy - INFO - Chain [1] done processing\n"
     ]
    },
    {
     "name": "stdout",
     "output_type": "stream",
     "text": [
      "Not enough data for product_id: 29bf158cd50fc035e7443f1c04e8deaa. Forecasting as 1.\n"
     ]
    },
    {
     "name": "stderr",
     "output_type": "stream",
     "text": [
      "03:35:41 - cmdstanpy - INFO - Chain [1] start processing\n",
      "03:35:41 - cmdstanpy - INFO - Chain [1] done processing\n"
     ]
    },
    {
     "name": "stdout",
     "output_type": "stream",
     "text": [
      "Not enough data for product_id: 29c5f56bdaf7929e981f654f1a2f79ec. Forecasting as 1.\n",
      "Not enough data for product_id: 29d02bf288d4101006e5aaefe7f13250. Forecasting as 1.\n",
      "Not enough data for product_id: 29d2735be03e1169db0545c3741c74e5. Forecasting as 1.\n",
      "Not enough data for product_id: 29d405763934f77ce87d3cdad21b7805. Forecasting as 1.\n",
      "Not enough data for product_id: 29d5c2519a3dc99ad17aa6217b812335. Forecasting as 1.\n",
      "Not enough data for product_id: 29d7696e65020b6cf7846bc4d7668f65. Forecasting as 1.\n",
      "Not enough data for product_id: 29dcc20b00ccb0dd2136eb2f4c5f3847. Forecasting as 1.\n",
      "Not enough data for product_id: 29dde5020c59e8f8e8154cfc146a93d1. Forecasting as 1.\n",
      "Not enough data for product_id: 29df8bf0a6118b7b764e7b31987d4db7. Forecasting as 1.\n",
      "Not enough data for product_id: 29e12e9986898ede7b446f39cdaaa6de. Forecasting as 1.\n",
      "Not enough data for product_id: 29e322a868c120531516ca05238032f2. Forecasting as 1.\n",
      "Not enough data for product_id: 29e3ff0225dcccc5bce7606bdb6362ca. Forecasting as 1.\n"
     ]
    },
    {
     "name": "stderr",
     "output_type": "stream",
     "text": [
      "03:35:46 - cmdstanpy - INFO - Chain [1] start processing\n",
      "03:35:47 - cmdstanpy - INFO - Chain [1] done processing\n"
     ]
    },
    {
     "name": "stdout",
     "output_type": "stream",
     "text": [
      "Not enough data for product_id: 29e95a1298e19d0e48f89702c09c6ab5. Forecasting as 1.\n",
      "Not enough data for product_id: 29e9fe1d94a27d6f1ce03c157921964d. Forecasting as 1.\n",
      "Not enough data for product_id: 29ea1bc54f78267f6e85b9c99c93e12a. Forecasting as 1.\n"
     ]
    },
    {
     "name": "stderr",
     "output_type": "stream",
     "text": [
      "03:35:48 - cmdstanpy - INFO - Chain [1] start processing\n",
      "03:35:48 - cmdstanpy - INFO - Chain [1] done processing\n"
     ]
    },
    {
     "name": "stdout",
     "output_type": "stream",
     "text": [
      "Not enough data for product_id: 29ee9b71de5e569cdb8256ae5c854fd4. Forecasting as 1.\n",
      "Not enough data for product_id: 29f21b78dda7fd755d89ed7cb57ca813. Forecasting as 1.\n",
      "Not enough data for product_id: 29f44bef673bbef52b8c43bd2fe3242f. Forecasting as 1.\n",
      "Not enough data for product_id: 29f5540c79dd4bb8f156df4e1166b9f4. Forecasting as 1.\n",
      "Not enough data for product_id: 29f63bab786f598d17b6ebeec83e78d1. Forecasting as 1.\n",
      "Not enough data for product_id: 29ffae92a47bf21dd4c109d40b4de7f6. Forecasting as 1.\n",
      "Not enough data for product_id: 29fffacd0907d0944b7af35086efdb43. Forecasting as 1.\n",
      "Not enough data for product_id: 2a00350b02e85228f3a3749f39ede66c. Forecasting as 1.\n",
      "Not enough data for product_id: 2a04a72b11fceb1e99df5261fac8683f. Forecasting as 1.\n",
      "Not enough data for product_id: 2a05072f43935b7f3638a6c7d38d2278. Forecasting as 1.\n",
      "Not enough data for product_id: 2a08020aeef8daf72e270b53c860cb71. Forecasting as 1.\n",
      "Not enough data for product_id: 2a0c7978182ff664a3bc452b7e5f0b6f. Forecasting as 1.\n",
      "Not enough data for product_id: 2a0cbfbf0006e0d28dee8a5f20e1ebf2. Forecasting as 1.\n",
      "Not enough data for product_id: 2a0d1fb3e64019c7cf0e75d1cf336277. Forecasting as 1.\n",
      "Not enough data for product_id: 2a11460730aaa623c8897e343fe38cb3. Forecasting as 1.\n",
      "Not enough data for product_id: 2a149f2dc4ecc44e7e34f558886d59e4. Forecasting as 1.\n",
      "Not enough data for product_id: 2a1585645ae682d38280cbfb12ab8eca. Forecasting as 1.\n",
      "Not enough data for product_id: 2a1ac54a9b67c036945d5572a4300887. Forecasting as 1.\n",
      "Not enough data for product_id: 2a1dc7b4d777085804b1a6389639870c. Forecasting as 1.\n",
      "Not enough data for product_id: 2a203c7d3cf8a035ba90363e9a9f0810. Forecasting as 1.\n",
      "Not enough data for product_id: 2a211896ec7ab72cedc7939e9ffb01b4. Forecasting as 1.\n"
     ]
    },
    {
     "name": "stderr",
     "output_type": "stream",
     "text": [
      "03:35:56 - cmdstanpy - INFO - Chain [1] start processing\n",
      "03:35:56 - cmdstanpy - INFO - Chain [1] done processing\n"
     ]
    },
    {
     "name": "stdout",
     "output_type": "stream",
     "text": [
      "Not enough data for product_id: 2a256d1fd193c91de19036b7b9bde617. Forecasting as 1.\n"
     ]
    },
    {
     "name": "stderr",
     "output_type": "stream",
     "text": [
      "03:35:56 - cmdstanpy - INFO - Chain [1] start processing\n",
      "03:35:56 - cmdstanpy - INFO - Chain [1] done processing\n",
      "03:35:57 - cmdstanpy - INFO - Chain [1] start processing\n",
      "03:35:57 - cmdstanpy - INFO - Chain [1] done processing\n"
     ]
    },
    {
     "name": "stdout",
     "output_type": "stream",
     "text": [
      "Not enough data for product_id: 2a2d8268d68108112cc3e66fff9c6a7b. Forecasting as 1.\n",
      "Not enough data for product_id: 2a303002260ff8749ef2a438413895bf. Forecasting as 1.\n",
      "Not enough data for product_id: 2a3337404b573f113e7297f5c349db44. Forecasting as 1.\n",
      "Not enough data for product_id: 2a4147c2b7b63a57aba916e6a5a03493. Forecasting as 1.\n"
     ]
    },
    {
     "name": "stderr",
     "output_type": "stream",
     "text": [
      "03:35:59 - cmdstanpy - INFO - Chain [1] start processing\n",
      "03:36:03 - cmdstanpy - INFO - Chain [1] done processing\n"
     ]
    },
    {
     "name": "stdout",
     "output_type": "stream",
     "text": [
      "Not enough data for product_id: 2a478a360a293f087e352e88f10af8af. Forecasting as 1.\n",
      "Not enough data for product_id: 2a4cc5a2211eb5758a2dfbe772c91999. Forecasting as 1.\n",
      "Not enough data for product_id: 2a4cea102e8cd86bbff7d6c4f17a459a. Forecasting as 1.\n",
      "Not enough data for product_id: 2a4d7197cdde9396e685ed950985ae2f. Forecasting as 1.\n",
      "Not enough data for product_id: 2a511952313989fa097fb038cd758dc5. Forecasting as 1.\n",
      "Not enough data for product_id: 2a519472f15e92b4cbc8799faa5f491e. Forecasting as 1.\n",
      "Not enough data for product_id: 2a53631fc50358be1034699a658237d1. Forecasting as 1.\n",
      "Not enough data for product_id: 2a5431fbefaafd4adc1abc5f60a2ba31. Forecasting as 1.\n",
      "Not enough data for product_id: 2a556bc42ff4e86b3a1bb84ce6bdceee. Forecasting as 1.\n",
      "Not enough data for product_id: 2a565e1622c978b79bd6efc394ca6fee. Forecasting as 1.\n"
     ]
    },
    {
     "name": "stderr",
     "output_type": "stream",
     "text": [
      "03:36:06 - cmdstanpy - INFO - Chain [1] start processing\n",
      "03:36:06 - cmdstanpy - INFO - Chain [1] done processing\n"
     ]
    },
    {
     "name": "stdout",
     "output_type": "stream",
     "text": [
      "Not enough data for product_id: 2a58eaba034398b020fe690c6dbb4b92. Forecasting as 1.\n",
      "Not enough data for product_id: 2a592642399b33baf3a5729a6335b21c. Forecasting as 1.\n",
      "Not enough data for product_id: 2a5ce93df0dd4ec1b23ebc2e599d793e. Forecasting as 1.\n",
      "Not enough data for product_id: 2a5e8a686fea7f74cb246f729a53e650. Forecasting as 1.\n",
      "Not enough data for product_id: 2a5fa7b501557e971bf63ec336f67fa2. Forecasting as 1.\n",
      "Not enough data for product_id: 2a5fd02982127e736ae8f4d6d020fcc8. Forecasting as 1.\n",
      "Not enough data for product_id: 2a61ae7c276ed675a0289aee54e2c9b0. Forecasting as 1.\n",
      "Not enough data for product_id: 2a65f5c6c203f2e5079da9ac55814c61. Forecasting as 1.\n",
      "Not enough data for product_id: 2a66698f3c9f8708a0505b5ab2cb380d. Forecasting as 1.\n",
      "Not enough data for product_id: 2a6949b0a5f63681fccef03f5c628edd. Forecasting as 1.\n",
      "Not enough data for product_id: 2a699d35a87e92a01747297243bfc987. Forecasting as 1.\n"
     ]
    },
    {
     "name": "stderr",
     "output_type": "stream",
     "text": [
      "03:36:09 - cmdstanpy - INFO - Chain [1] start processing\n",
      "03:36:09 - cmdstanpy - INFO - Chain [1] done processing\n"
     ]
    },
    {
     "name": "stdout",
     "output_type": "stream",
     "text": [
      "Not enough data for product_id: 2a714dc40b27bbd0887215ed0cdc3bbe. Forecasting as 1.\n",
      "Not enough data for product_id: 2a763f02c6a7a8ab7c1be0460ff891d0. Forecasting as 1.\n",
      "Not enough data for product_id: 2a7835ac39ba7753ece75242d290f044. Forecasting as 1.\n",
      "Not enough data for product_id: 2a7906396f06c254b7b32a8ed3e45894. Forecasting as 1.\n",
      "Not enough data for product_id: 2a7d1be78b464ce799d177a408e327c0. Forecasting as 1.\n",
      "Not enough data for product_id: 2a7e9f98e73a335bbb0ba2253d0c9b40. Forecasting as 1.\n",
      "Not enough data for product_id: 2a8181f10547f2766c59997bbf9af643. Forecasting as 1.\n",
      "Not enough data for product_id: 2a88b20e4ce366edc5efac1c5764d808. Forecasting as 1.\n",
      "Not enough data for product_id: 2a8c2836c76d1810ac79e84bbdeff3a3. Forecasting as 1.\n",
      "Not enough data for product_id: 2a962e2b5e4955e5ed284f1cf46b5296. Forecasting as 1.\n",
      "Not enough data for product_id: 2a9b9ab4785e67b8ff4f1e6fcba1de7e. Forecasting as 1.\n",
      "Not enough data for product_id: 2a9e3d335bbb23ffee8c9da6cecb7bb8. Forecasting as 1.\n",
      "Not enough data for product_id: 2a9f8018ff134855b170aaa51a5bfd77. Forecasting as 1.\n",
      "Not enough data for product_id: 2aa23c51528b71a1c9f2ce72f4fc9ad8. Forecasting as 1.\n",
      "Not enough data for product_id: 2aa489c905e1d41d8c716a6d6912d8c2. Forecasting as 1.\n"
     ]
    },
    {
     "name": "stderr",
     "output_type": "stream",
     "text": [
      "03:36:14 - cmdstanpy - INFO - Chain [1] start processing\n",
      "03:36:17 - cmdstanpy - INFO - Chain [1] done processing\n"
     ]
    },
    {
     "name": "stdout",
     "output_type": "stream",
     "text": [
      "Not enough data for product_id: 2aaaa41fb5edc85f4814c73106f27d64. Forecasting as 1.\n",
      "Not enough data for product_id: 2aae44062520332404c7c026b7cb03c1. Forecasting as 1.\n",
      "Not enough data for product_id: 2aafde3b2df26664216fa72787b7dda0. Forecasting as 1.\n",
      "Not enough data for product_id: 2ab31f78e069ddb51930c6ace3759e45. Forecasting as 1.\n",
      "Not enough data for product_id: 2ab38f02a646dc3972785867d5234306. Forecasting as 1.\n",
      "Not enough data for product_id: 2ab3937e84ae4f7c4b6549b05c95df0b. Forecasting as 1.\n"
     ]
    }
   ],
   "source": [
    "import pandas as pd\n",
    "from prophet import Prophet\n",
    "\n",
    "# Step 1: Load data\n",
    "orders = pd.read_csv('./S_Data/orders.csv')\n",
    "order_items = pd.read_csv('./S_Data/order_items.csv')\n",
    "\n",
    "# Step 2: Merge relevant columns\n",
    "merged_df = pd.merge(orders[['order_id', 'order_purchase_timestamp']], order_items[['order_id', 'product_id']], on='order_id')\n",
    "\n",
    "# Convert purchase timestamp to datetime\n",
    "merged_df['order_purchase_timestamp'] = pd.to_datetime(merged_df['order_purchase_timestamp'])\n",
    "\n",
    "# Step 3: Aggregate data by product_id and date\n",
    "daily_demand = merged_df.groupby(['product_id', pd.Grouper(key='order_purchase_timestamp', freq='D')]).size().reset_index(name='demand')\n",
    "\n",
    "# Step 4: Train a time series model for each product_id\n",
    "product_ids = daily_demand['product_id'].unique()\n",
    "forecast_data = pd.DataFrame()\n",
    "\n",
    "for product_id in product_ids:\n",
    "    # Filter data for the current product_id\n",
    "    product_data = daily_demand[daily_demand['product_id'] == product_id]\n",
    "    \n",
    "    # Rename columns for Prophet\n",
    "    product_data.rename(columns={'order_purchase_timestamp': 'ds', 'demand': 'y'}, inplace=True)\n",
    "    \n",
    "    # Initialize Prophet model\n",
    "    model = Prophet()\n",
    "    \n",
    "    # Check if the product has less than 2 data points\n",
    "    if len(product_data) < 2:\n",
    "        print(f\"Not enough data for product_id: {product_id}. Forecasting as 1.\")\n",
    "        # Create a forecast with constant value 1\n",
    "        forecast = pd.DataFrame({'ds': pd.date_range(start=product_data['ds'].max(), periods=7, freq='D'), 'yhat': 1})\n",
    "    else:\n",
    "        # Fit the model\n",
    "        model.fit(product_data)\n",
    "        \n",
    "        # Make future dataframe for 7 days forecast\n",
    "        future = model.make_future_dataframe(periods=7)\n",
    "        \n",
    "        # Forecast\n",
    "        forecast = model.predict(future)\n",
    "    \n",
    "    # Add product_id column\n",
    "    forecast['product_id'] = product_id\n",
    "    \n",
    "    # Concatenate forecast to forecast_data\n",
    "    forecast_data = pd.concat([forecast_data, forecast], ignore_index=True)\n",
    "\n",
    "# Output the forecasts for the next 7 days for each product_id\n",
    "print(forecast_data[['ds', 'product_id', 'yhat', 'yhat_lower', 'yhat_upper']].tail(7))\n"
   ]
  },
  {
   "cell_type": "code",
   "execution_count": null,
   "metadata": {},
   "outputs": [],
   "source": [
    "forecast_data.to_csv('forecasts.csv')"
   ]
  },
  {
   "cell_type": "code",
   "execution_count": 5,
   "metadata": {},
   "outputs": [
    {
     "data": {
      "text/html": [
       "<div>\n",
       "<style scoped>\n",
       "    .dataframe tbody tr th:only-of-type {\n",
       "        vertical-align: middle;\n",
       "    }\n",
       "\n",
       "    .dataframe tbody tr th {\n",
       "        vertical-align: top;\n",
       "    }\n",
       "\n",
       "    .dataframe thead th {\n",
       "        text-align: right;\n",
       "    }\n",
       "</style>\n",
       "<table border=\"1\" class=\"dataframe\">\n",
       "  <thead>\n",
       "    <tr style=\"text-align: right;\">\n",
       "      <th></th>\n",
       "      <th>ds</th>\n",
       "      <th>product_id</th>\n",
       "      <th>yhat</th>\n",
       "    </tr>\n",
       "  </thead>\n",
       "  <tbody>\n",
       "    <tr>\n",
       "      <th>0</th>\n",
       "      <td>2018-05-20</td>\n",
       "      <td>00066f42aeeb9f3007548bb9d3f33c38</td>\n",
       "      <td>1.0</td>\n",
       "    </tr>\n",
       "    <tr>\n",
       "      <th>1</th>\n",
       "      <td>2018-05-21</td>\n",
       "      <td>00066f42aeeb9f3007548bb9d3f33c38</td>\n",
       "      <td>1.0</td>\n",
       "    </tr>\n",
       "    <tr>\n",
       "      <th>2</th>\n",
       "      <td>2018-05-22</td>\n",
       "      <td>00066f42aeeb9f3007548bb9d3f33c38</td>\n",
       "      <td>1.0</td>\n",
       "    </tr>\n",
       "    <tr>\n",
       "      <th>3</th>\n",
       "      <td>2018-05-23</td>\n",
       "      <td>00066f42aeeb9f3007548bb9d3f33c38</td>\n",
       "      <td>1.0</td>\n",
       "    </tr>\n",
       "    <tr>\n",
       "      <th>4</th>\n",
       "      <td>2018-05-24</td>\n",
       "      <td>00066f42aeeb9f3007548bb9d3f33c38</td>\n",
       "      <td>1.0</td>\n",
       "    </tr>\n",
       "  </tbody>\n",
       "</table>\n",
       "</div>"
      ],
      "text/plain": [
       "           ds                        product_id  yhat\n",
       "0  2018-05-20  00066f42aeeb9f3007548bb9d3f33c38   1.0\n",
       "1  2018-05-21  00066f42aeeb9f3007548bb9d3f33c38   1.0\n",
       "2  2018-05-22  00066f42aeeb9f3007548bb9d3f33c38   1.0\n",
       "3  2018-05-23  00066f42aeeb9f3007548bb9d3f33c38   1.0\n",
       "4  2018-05-24  00066f42aeeb9f3007548bb9d3f33c38   1.0"
      ]
     },
     "execution_count": 5,
     "metadata": {},
     "output_type": "execute_result"
    }
   ],
   "source": [
    "forecast_data = pd.read_csv('forecasts.csv')\n",
    "forecast_data[['ds', 'product_id', 'yhat']].head()"
   ]
  }
 ],
 "metadata": {
  "kernelspec": {
   "display_name": "Python 3",
   "language": "python",
   "name": "python3"
  },
  "language_info": {
   "codemirror_mode": {
    "name": "ipython",
    "version": 3
   },
   "file_extension": ".py",
   "mimetype": "text/x-python",
   "name": "python",
   "nbconvert_exporter": "python",
   "pygments_lexer": "ipython3",
   "version": "3.11.5"
  }
 },
 "nbformat": 4,
 "nbformat_minor": 2
}
