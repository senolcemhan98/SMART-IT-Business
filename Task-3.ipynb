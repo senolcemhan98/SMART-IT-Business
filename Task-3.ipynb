{
 "cells": [
  {
   "cell_type": "markdown",
   "metadata": {},
   "source": [
    "# Sentiment Analysis"
   ]
  },
  {
   "cell_type": "markdown",
   "metadata": {},
   "source": [
    "![Sonny and Mariel high fiving.](https://github.com/senolcemhan98/templates/blob/main/sentiment.png?raw=true)"
   ]
  },
  {
   "cell_type": "markdown",
   "metadata": {},
   "source": [
    "Model (HuggingFace) : https://huggingface.co/pysentimiento/robertuito-sentiment-analysis\n",
    "- The model has several different language options (es, en, it, pt). (pt:Portuguese)\n",
    "- Base model : BERT\n",
    "- pysentimiento is an **open-source** library"
   ]
  },
  {
   "cell_type": "code",
   "execution_count": 5,
   "metadata": {},
   "outputs": [
    {
     "name": "stderr",
     "output_type": "stream",
     "text": [
      "d:\\calisma_D\\SMART-IT-Business\\.venv\\Lib\\site-packages\\huggingface_hub\\file_download.py:1132: FutureWarning: `resume_download` is deprecated and will be removed in version 1.0.0. Downloads always resume when possible. If you want to force a new download, use `force_download=True`.\n",
      "  warnings.warn(\n"
     ]
    }
   ],
   "source": [
    "from pysentimiento import create_analyzer\n",
    "analyzer = create_analyzer(task=\"sentiment\", lang=\"pt\") \n",
    "\n",
    "def analyze_sentiment(text:str):\n",
    "\n",
    "    probs = analyzer.predict(text).probas\n",
    "    # Calculate the weighted average for sentiment_score\n",
    "    return (probs['POS'] * 1 + probs['NEU'] * 0 + probs['NEG'] * -1)\n",
    "\n"
   ]
  },
  {
   "cell_type": "code",
   "execution_count": 25,
   "metadata": {},
   "outputs": [],
   "source": [
    "import pandas as pd\n",
    "data = pd.read_csv('./S_Data/order_reviews.csv')\n",
    "from scipy.stats import spearmanr\n",
    "data = data[data['review_comment_message'].isna() == False]\n",
    "data = data[['review_score','review_comment_message']]"
   ]
  },
  {
   "cell_type": "code",
   "execution_count": 26,
   "metadata": {},
   "outputs": [],
   "source": [
    "data['sentiment_score'] = data['review_comment_message'].apply(analyze_sentiment)"
   ]
  },
  {
   "cell_type": "code",
   "execution_count": 27,
   "metadata": {},
   "outputs": [
    {
     "data": {
      "text/html": [
       "<div>\n",
       "<style scoped>\n",
       "    .dataframe tbody tr th:only-of-type {\n",
       "        vertical-align: middle;\n",
       "    }\n",
       "\n",
       "    .dataframe tbody tr th {\n",
       "        vertical-align: top;\n",
       "    }\n",
       "\n",
       "    .dataframe thead th {\n",
       "        text-align: right;\n",
       "    }\n",
       "</style>\n",
       "<table border=\"1\" class=\"dataframe\">\n",
       "  <thead>\n",
       "    <tr style=\"text-align: right;\">\n",
       "      <th></th>\n",
       "      <th>review_score</th>\n",
       "      <th>review_comment_message</th>\n",
       "      <th>sentiment_score</th>\n",
       "    </tr>\n",
       "  </thead>\n",
       "  <tbody>\n",
       "    <tr>\n",
       "      <th>3</th>\n",
       "      <td>5</td>\n",
       "      <td>Recebi bem antes do prazo estipulado.</td>\n",
       "      <td>0.031753</td>\n",
       "    </tr>\n",
       "    <tr>\n",
       "      <th>4</th>\n",
       "      <td>5</td>\n",
       "      <td>Parabéns lojas lannister adorei comprar pela I...</td>\n",
       "      <td>0.986891</td>\n",
       "    </tr>\n",
       "    <tr>\n",
       "      <th>9</th>\n",
       "      <td>4</td>\n",
       "      <td>aparelho eficiente. no site a marca do aparelh...</td>\n",
       "      <td>-0.597534</td>\n",
       "    </tr>\n",
       "    <tr>\n",
       "      <th>12</th>\n",
       "      <td>4</td>\n",
       "      <td>Mas um pouco ,travando...pelo valor ta Boa.\\r\\n</td>\n",
       "      <td>-0.578317</td>\n",
       "    </tr>\n",
       "    <tr>\n",
       "      <th>15</th>\n",
       "      <td>5</td>\n",
       "      <td>Vendedor confiável, produto ok e entrega antes...</td>\n",
       "      <td>0.056698</td>\n",
       "    </tr>\n",
       "  </tbody>\n",
       "</table>\n",
       "</div>"
      ],
      "text/plain": [
       "    review_score                             review_comment_message  \\\n",
       "3              5              Recebi bem antes do prazo estipulado.   \n",
       "4              5  Parabéns lojas lannister adorei comprar pela I...   \n",
       "9              4  aparelho eficiente. no site a marca do aparelh...   \n",
       "12             4    Mas um pouco ,travando...pelo valor ta Boa.\\r\\n   \n",
       "15             5  Vendedor confiável, produto ok e entrega antes...   \n",
       "\n",
       "    sentiment_score  \n",
       "3          0.031753  \n",
       "4          0.986891  \n",
       "9         -0.597534  \n",
       "12        -0.578317  \n",
       "15         0.056698  "
      ]
     },
     "execution_count": 27,
     "metadata": {},
     "output_type": "execute_result"
    }
   ],
   "source": [
    "data.head()"
   ]
  },
  {
   "cell_type": "code",
   "execution_count": 28,
   "metadata": {},
   "outputs": [
    {
     "data": {
      "text/html": [
       "<div>\n",
       "<style scoped>\n",
       "    .dataframe tbody tr th:only-of-type {\n",
       "        vertical-align: middle;\n",
       "    }\n",
       "\n",
       "    .dataframe tbody tr th {\n",
       "        vertical-align: top;\n",
       "    }\n",
       "\n",
       "    .dataframe thead th {\n",
       "        text-align: right;\n",
       "    }\n",
       "</style>\n",
       "<table border=\"1\" class=\"dataframe\">\n",
       "  <thead>\n",
       "    <tr style=\"text-align: right;\">\n",
       "      <th></th>\n",
       "      <th>review_score</th>\n",
       "      <th>sentiment_score</th>\n",
       "    </tr>\n",
       "  </thead>\n",
       "  <tbody>\n",
       "    <tr>\n",
       "      <th>count</th>\n",
       "      <td>41753.000000</td>\n",
       "      <td>41753.000000</td>\n",
       "    </tr>\n",
       "    <tr>\n",
       "      <th>mean</th>\n",
       "      <td>3.640409</td>\n",
       "      <td>0.253674</td>\n",
       "    </tr>\n",
       "    <tr>\n",
       "      <th>std</th>\n",
       "      <td>1.626383</td>\n",
       "      <td>0.700631</td>\n",
       "    </tr>\n",
       "    <tr>\n",
       "      <th>min</th>\n",
       "      <td>1.000000</td>\n",
       "      <td>-0.991368</td>\n",
       "    </tr>\n",
       "    <tr>\n",
       "      <th>25%</th>\n",
       "      <td>2.000000</td>\n",
       "      <td>-0.260423</td>\n",
       "    </tr>\n",
       "    <tr>\n",
       "      <th>50%</th>\n",
       "      <td>4.000000</td>\n",
       "      <td>0.260692</td>\n",
       "    </tr>\n",
       "    <tr>\n",
       "      <th>75%</th>\n",
       "      <td>5.000000</td>\n",
       "      <td>0.977939</td>\n",
       "    </tr>\n",
       "    <tr>\n",
       "      <th>max</th>\n",
       "      <td>5.000000</td>\n",
       "      <td>0.992501</td>\n",
       "    </tr>\n",
       "  </tbody>\n",
       "</table>\n",
       "</div>"
      ],
      "text/plain": [
       "       review_score  sentiment_score\n",
       "count  41753.000000     41753.000000\n",
       "mean       3.640409         0.253674\n",
       "std        1.626383         0.700631\n",
       "min        1.000000        -0.991368\n",
       "25%        2.000000        -0.260423\n",
       "50%        4.000000         0.260692\n",
       "75%        5.000000         0.977939\n",
       "max        5.000000         0.992501"
      ]
     },
     "execution_count": 28,
     "metadata": {},
     "output_type": "execute_result"
    }
   ],
   "source": [
    "data.describe()"
   ]
  },
  {
   "cell_type": "code",
   "execution_count": 44,
   "metadata": {},
   "outputs": [
    {
     "name": "stdout",
     "output_type": "stream",
     "text": [
      "Comment : 41817    Saca rolhas de plástico, EXTREMAMENTE FRACO, que não seria capaz de abrir nem uma mamadeira, quanto mais uma garrafa de vinho. Quebrou no 1° uso! DINHEIRO TOTALMENTE JOGADO FORA! PÉSSIMO! Loja targaryen.\n",
      "Name: review_comment_message, dtype: object\n",
      "Review Score : 41817    1\n",
      "Name: review_score, dtype: int64\n",
      "Sentiment Score : 41817   -0.991368\n",
      "Name: sentiment_score, dtype: float64\n"
     ]
    }
   ],
   "source": [
    "# Filter minimum sentiment_score\n",
    "pd.set_option('display.max_colwidth', None)\n",
    "min_sentiment_score = data['sentiment_score'].min()\n",
    "\n",
    "print(f\"Comment : {data.loc[data[data['sentiment_score'] == min_sentiment_score].index, 'review_comment_message']}\")\n",
    "print(f\"Review Score : {data.loc[data[data['sentiment_score'] == min_sentiment_score].index, 'review_score']}\")\n",
    "print(f\"Sentiment Score : {data.loc[data[data['sentiment_score'] == min_sentiment_score].index, 'sentiment_score']}\")"
   ]
  },
  {
   "cell_type": "code",
   "execution_count": 45,
   "metadata": {},
   "outputs": [
    {
     "name": "stdout",
     "output_type": "stream",
     "text": [
      "Comment : 8425    Adorei a cauterização da trivitt quero pra vida inteira😍😍\n",
      "Name: review_comment_message, dtype: object\n",
      "Review Score : 8425    4\n",
      "Name: review_score, dtype: int64\n",
      "Sentiment Score : 8425    0.992501\n",
      "Name: sentiment_score, dtype: float64\n"
     ]
    }
   ],
   "source": [
    "# Filter maximum sentiment_score\n",
    "max_sentiment_score = data['sentiment_score'].max()\n",
    "\n",
    "print(f\"Comment : {data.loc[data[data['sentiment_score'] == max_sentiment_score].index, 'review_comment_message']}\")\n",
    "print(f\"Review Score : {data.loc[data[data['sentiment_score'] == max_sentiment_score].index, 'review_score']}\")\n",
    "print(f\"Sentiment Score : {data.loc[data[data['sentiment_score'] == max_sentiment_score].index, 'sentiment_score']}\")"
   ]
  },
  {
   "cell_type": "markdown",
   "metadata": {},
   "source": [
    "<img src=\"https://github.com/senolcemhan98/templates/blob/main/reviews.gif?raw=true\" width=\"800\" />"
   ]
  },
  {
   "cell_type": "markdown",
   "metadata": {},
   "source": [
    "# Calculate Correlation"
   ]
  },
  {
   "cell_type": "markdown",
   "metadata": {},
   "source": [
    "The **Spearman rank-order correlation coefficient** is a nonparametric measure of the monotonicity of the relationship between two datasets. Like other correlation coefficients, this one varies between -1 and +1 with **0 implying no correlation**. Correlations of **-1 or +1 imply an exact monotonic relationship**. Positive correlations imply that as x increases, so does y. Negative correlations imply that as x increases, y decreases."
   ]
  },
  {
   "cell_type": "code",
   "execution_count": 47,
   "metadata": {},
   "outputs": [
    {
     "name": "stdout",
     "output_type": "stream",
     "text": [
      "Spearman's correlation coefficient: 0.7283938241629598\n"
     ]
    }
   ],
   "source": [
    "correlation, _ = spearmanr(data['sentiment_score'], data['review_score'])\n",
    "print(f\"Spearman's correlation coefficient: {correlation}\")"
   ]
  },
  {
   "cell_type": "markdown",
   "metadata": {},
   "source": [
    "# Conclusion\n",
    "\n",
    "We can say that there is a positive correlation between our sentiment scores and review scores(data)!"
   ]
  },
  {
   "cell_type": "markdown",
   "metadata": {},
   "source": [
    "Note: Model need further train. It sometimes cannot distinguish either positive or negative. Ie. \"The model sometimes cannot distinguish between good and bad\". Model predict as notr however it might positive because it's actually positive for receiver(customer).  "
   ]
  }
 ],
 "metadata": {
  "kernelspec": {
   "display_name": ".venv",
   "language": "python",
   "name": "python3"
  },
  "language_info": {
   "codemirror_mode": {
    "name": "ipython",
    "version": 3
   },
   "file_extension": ".py",
   "mimetype": "text/x-python",
   "name": "python",
   "nbconvert_exporter": "python",
   "pygments_lexer": "ipython3",
   "version": "3.11.5"
  }
 },
 "nbformat": 4,
 "nbformat_minor": 2
}
