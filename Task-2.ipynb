{
 "cells": [
  {
   "cell_type": "markdown",
   "metadata": {},
   "source": [
    "# Import Libs"
   ]
  },
  {
   "cell_type": "markdown",
   "metadata": {},
   "source": [
    "- Sellers\n",
    "- - Global Leaders, Turnovers\n",
    "- - Local  Leaders, Turnovers\n",
    "\n",
    "\n",
    "- Products\n",
    "- - Global Turnover(any case, weight), Best Products(each category) \n",
    "- - Global Turnover(any case, weight), Best Products(each category)\n",
    "\n"
   ]
  },
  {
   "cell_type": "markdown",
   "metadata": {},
   "source": [
    "- Segmentation"
   ]
  },
  {
   "cell_type": "code",
   "execution_count": 2,
   "metadata": {},
   "outputs": [],
   "source": [
    "import pandas as pd\n",
    "import numpy as np"
   ]
  },
  {
   "cell_type": "code",
   "execution_count": 3,
   "metadata": {},
   "outputs": [],
   "source": [
    "orders = pd.read_csv('./S_Data/orders.csv')\n",
    "products = pd.read_csv('./S_Data/products.csv')\n",
    "product_categories = pd.read_csv('./S_Data/product_category_name_translation.csv')\n",
    "order_items = pd.read_csv('./S_Data/order_items.csv')\n",
    "sellers = pd.read_csv('./S_Data/sellers.csv')\n",
    "geolocations = pd.read_csv('./S_Data/geolocation.csv')"
   ]
  },
  {
   "cell_type": "code",
   "execution_count": 7,
   "metadata": {},
   "outputs": [
    {
     "name": "stderr",
     "output_type": "stream",
     "text": [
      "d:\\calisma_D\\SMART-IT-Business\\.venv\\Lib\\site-packages\\huggingface_hub\\file_download.py:1132: FutureWarning: `resume_download` is deprecated and will be removed in version 1.0.0. Downloads always resume when possible. If you want to force a new download, use `force_download=True`.\n",
      "  warnings.warn(\n"
     ]
    },
    {
     "name": "stdout",
     "output_type": "stream",
     "text": [
      "{'NEG': 0.0030227554962038994, 'NEU': 0.03601207211613655, 'POS': 0.9609651565551758}\n",
      "0.9579424010589719\n"
     ]
    }
   ],
   "source": [
    "from pysentimiento import create_analyzer\n",
    "analyzer = create_analyzer(task=\"sentiment\", lang=\"pt\")\n",
    "\n",
    "probas = analyzer.predict(\"oh estou muito feliz porque é verão\").probas\n",
    "sentiment_score = (probas['POS'] * 1 + probas['NEU'] * 0 + probas['NEG'] * -1)\n",
    " \n",
    "print(probas)\n",
    "print(sentiment_score)"
   ]
  },
  {
   "cell_type": "code",
   "execution_count": 6,
   "metadata": {},
   "outputs": [
    {
     "data": {
      "text/plain": [
       "{'NEG': 0.0030227554962038994,\n",
       " 'NEU': 0.03601207211613655,\n",
       " 'POS': 0.9609651565551758}"
      ]
     },
     "execution_count": 6,
     "metadata": {},
     "output_type": "execute_result"
    }
   ],
   "source": [
    "out.probas\n"
   ]
  }
 ],
 "metadata": {
  "kernelspec": {
   "display_name": ".venv",
   "language": "python",
   "name": "python3"
  },
  "language_info": {
   "codemirror_mode": {
    "name": "ipython",
    "version": 3
   },
   "file_extension": ".py",
   "mimetype": "text/x-python",
   "name": "python",
   "nbconvert_exporter": "python",
   "pygments_lexer": "ipython3",
   "version": "3.11.5"
  }
 },
 "nbformat": 4,
 "nbformat_minor": 2
}
